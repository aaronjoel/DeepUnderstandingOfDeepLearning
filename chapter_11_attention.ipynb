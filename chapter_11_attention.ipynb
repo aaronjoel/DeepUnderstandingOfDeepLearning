{
  "nbformat": 4,
  "nbformat_minor": 0,
  "metadata": {
    "colab": {
      "provenance": [],
      "authorship_tag": "ABX9TyNfGlUKGHYdjBCLAOTclzTQ",
      "include_colab_link": true
    },
    "kernelspec": {
      "name": "python3",
      "display_name": "Python 3"
    },
    "language_info": {
      "name": "python"
    },
    "widgets": {
      "application/vnd.jupyter.widget-state+json": {
        "688fd49f509842c990efc04c76c5559b": {
          "model_module": "@jupyter-widgets/controls",
          "model_name": "HBoxModel",
          "model_module_version": "1.5.0",
          "state": {
            "_dom_classes": [],
            "_model_module": "@jupyter-widgets/controls",
            "_model_module_version": "1.5.0",
            "_model_name": "HBoxModel",
            "_view_count": null,
            "_view_module": "@jupyter-widgets/controls",
            "_view_module_version": "1.5.0",
            "_view_name": "HBoxView",
            "box_style": "",
            "children": [
              "IPY_MODEL_15146799e22d48709afa5606233842e4",
              "IPY_MODEL_4b26ac1b0d30437f994318b789f5ad8e",
              "IPY_MODEL_d9a7868af05c456a8f398b0b2fc0bd53"
            ],
            "layout": "IPY_MODEL_a96b4a412d654c30b85b6d797acf4b0d"
          }
        },
        "15146799e22d48709afa5606233842e4": {
          "model_module": "@jupyter-widgets/controls",
          "model_name": "HTMLModel",
          "model_module_version": "1.5.0",
          "state": {
            "_dom_classes": [],
            "_model_module": "@jupyter-widgets/controls",
            "_model_module_version": "1.5.0",
            "_model_name": "HTMLModel",
            "_view_count": null,
            "_view_module": "@jupyter-widgets/controls",
            "_view_module_version": "1.5.0",
            "_view_name": "HTMLView",
            "description": "",
            "description_tooltip": null,
            "layout": "IPY_MODEL_3f6a5296a4be4ec394c993ca79ecac82",
            "placeholder": "​",
            "style": "IPY_MODEL_756ae5c319be46a8b6942d81c561d6fd",
            "value": "Epoch 19: 100%"
          }
        },
        "4b26ac1b0d30437f994318b789f5ad8e": {
          "model_module": "@jupyter-widgets/controls",
          "model_name": "FloatProgressModel",
          "model_module_version": "1.5.0",
          "state": {
            "_dom_classes": [],
            "_model_module": "@jupyter-widgets/controls",
            "_model_module_version": "1.5.0",
            "_model_name": "FloatProgressModel",
            "_view_count": null,
            "_view_module": "@jupyter-widgets/controls",
            "_view_module_version": "1.5.0",
            "_view_name": "ProgressView",
            "bar_style": "success",
            "description": "",
            "description_tooltip": null,
            "layout": "IPY_MODEL_ce810afc73934210b6fe68900fd5cb6f",
            "max": 2,
            "min": 0,
            "orientation": "horizontal",
            "style": "IPY_MODEL_a7afd52c4d4a497cb29f3f5937daadc1",
            "value": 2
          }
        },
        "d9a7868af05c456a8f398b0b2fc0bd53": {
          "model_module": "@jupyter-widgets/controls",
          "model_name": "HTMLModel",
          "model_module_version": "1.5.0",
          "state": {
            "_dom_classes": [],
            "_model_module": "@jupyter-widgets/controls",
            "_model_module_version": "1.5.0",
            "_model_name": "HTMLModel",
            "_view_count": null,
            "_view_module": "@jupyter-widgets/controls",
            "_view_module_version": "1.5.0",
            "_view_name": "HTMLView",
            "description": "",
            "description_tooltip": null,
            "layout": "IPY_MODEL_fc38c81372d549debc6f4efa629827d1",
            "placeholder": "​",
            "style": "IPY_MODEL_7963cf7e7f5f4c998908cfc81ce1c99a",
            "value": " 2/2 [00:00&lt;00:00, 53.81it/s, v_num=0]"
          }
        },
        "a96b4a412d654c30b85b6d797acf4b0d": {
          "model_module": "@jupyter-widgets/base",
          "model_name": "LayoutModel",
          "model_module_version": "1.2.0",
          "state": {
            "_model_module": "@jupyter-widgets/base",
            "_model_module_version": "1.2.0",
            "_model_name": "LayoutModel",
            "_view_count": null,
            "_view_module": "@jupyter-widgets/base",
            "_view_module_version": "1.2.0",
            "_view_name": "LayoutView",
            "align_content": null,
            "align_items": null,
            "align_self": null,
            "border": null,
            "bottom": null,
            "display": "inline-flex",
            "flex": null,
            "flex_flow": "row wrap",
            "grid_area": null,
            "grid_auto_columns": null,
            "grid_auto_flow": null,
            "grid_auto_rows": null,
            "grid_column": null,
            "grid_gap": null,
            "grid_row": null,
            "grid_template_areas": null,
            "grid_template_columns": null,
            "grid_template_rows": null,
            "height": null,
            "justify_content": null,
            "justify_items": null,
            "left": null,
            "margin": null,
            "max_height": null,
            "max_width": null,
            "min_height": null,
            "min_width": null,
            "object_fit": null,
            "object_position": null,
            "order": null,
            "overflow": null,
            "overflow_x": null,
            "overflow_y": null,
            "padding": null,
            "right": null,
            "top": null,
            "visibility": null,
            "width": "100%"
          }
        },
        "3f6a5296a4be4ec394c993ca79ecac82": {
          "model_module": "@jupyter-widgets/base",
          "model_name": "LayoutModel",
          "model_module_version": "1.2.0",
          "state": {
            "_model_module": "@jupyter-widgets/base",
            "_model_module_version": "1.2.0",
            "_model_name": "LayoutModel",
            "_view_count": null,
            "_view_module": "@jupyter-widgets/base",
            "_view_module_version": "1.2.0",
            "_view_name": "LayoutView",
            "align_content": null,
            "align_items": null,
            "align_self": null,
            "border": null,
            "bottom": null,
            "display": null,
            "flex": null,
            "flex_flow": null,
            "grid_area": null,
            "grid_auto_columns": null,
            "grid_auto_flow": null,
            "grid_auto_rows": null,
            "grid_column": null,
            "grid_gap": null,
            "grid_row": null,
            "grid_template_areas": null,
            "grid_template_columns": null,
            "grid_template_rows": null,
            "height": null,
            "justify_content": null,
            "justify_items": null,
            "left": null,
            "margin": null,
            "max_height": null,
            "max_width": null,
            "min_height": null,
            "min_width": null,
            "object_fit": null,
            "object_position": null,
            "order": null,
            "overflow": null,
            "overflow_x": null,
            "overflow_y": null,
            "padding": null,
            "right": null,
            "top": null,
            "visibility": null,
            "width": null
          }
        },
        "756ae5c319be46a8b6942d81c561d6fd": {
          "model_module": "@jupyter-widgets/controls",
          "model_name": "DescriptionStyleModel",
          "model_module_version": "1.5.0",
          "state": {
            "_model_module": "@jupyter-widgets/controls",
            "_model_module_version": "1.5.0",
            "_model_name": "DescriptionStyleModel",
            "_view_count": null,
            "_view_module": "@jupyter-widgets/base",
            "_view_module_version": "1.2.0",
            "_view_name": "StyleView",
            "description_width": ""
          }
        },
        "ce810afc73934210b6fe68900fd5cb6f": {
          "model_module": "@jupyter-widgets/base",
          "model_name": "LayoutModel",
          "model_module_version": "1.2.0",
          "state": {
            "_model_module": "@jupyter-widgets/base",
            "_model_module_version": "1.2.0",
            "_model_name": "LayoutModel",
            "_view_count": null,
            "_view_module": "@jupyter-widgets/base",
            "_view_module_version": "1.2.0",
            "_view_name": "LayoutView",
            "align_content": null,
            "align_items": null,
            "align_self": null,
            "border": null,
            "bottom": null,
            "display": null,
            "flex": "2",
            "flex_flow": null,
            "grid_area": null,
            "grid_auto_columns": null,
            "grid_auto_flow": null,
            "grid_auto_rows": null,
            "grid_column": null,
            "grid_gap": null,
            "grid_row": null,
            "grid_template_areas": null,
            "grid_template_columns": null,
            "grid_template_rows": null,
            "height": null,
            "justify_content": null,
            "justify_items": null,
            "left": null,
            "margin": null,
            "max_height": null,
            "max_width": null,
            "min_height": null,
            "min_width": null,
            "object_fit": null,
            "object_position": null,
            "order": null,
            "overflow": null,
            "overflow_x": null,
            "overflow_y": null,
            "padding": null,
            "right": null,
            "top": null,
            "visibility": null,
            "width": null
          }
        },
        "a7afd52c4d4a497cb29f3f5937daadc1": {
          "model_module": "@jupyter-widgets/controls",
          "model_name": "ProgressStyleModel",
          "model_module_version": "1.5.0",
          "state": {
            "_model_module": "@jupyter-widgets/controls",
            "_model_module_version": "1.5.0",
            "_model_name": "ProgressStyleModel",
            "_view_count": null,
            "_view_module": "@jupyter-widgets/base",
            "_view_module_version": "1.2.0",
            "_view_name": "StyleView",
            "bar_color": null,
            "description_width": ""
          }
        },
        "fc38c81372d549debc6f4efa629827d1": {
          "model_module": "@jupyter-widgets/base",
          "model_name": "LayoutModel",
          "model_module_version": "1.2.0",
          "state": {
            "_model_module": "@jupyter-widgets/base",
            "_model_module_version": "1.2.0",
            "_model_name": "LayoutModel",
            "_view_count": null,
            "_view_module": "@jupyter-widgets/base",
            "_view_module_version": "1.2.0",
            "_view_name": "LayoutView",
            "align_content": null,
            "align_items": null,
            "align_self": null,
            "border": null,
            "bottom": null,
            "display": null,
            "flex": null,
            "flex_flow": null,
            "grid_area": null,
            "grid_auto_columns": null,
            "grid_auto_flow": null,
            "grid_auto_rows": null,
            "grid_column": null,
            "grid_gap": null,
            "grid_row": null,
            "grid_template_areas": null,
            "grid_template_columns": null,
            "grid_template_rows": null,
            "height": null,
            "justify_content": null,
            "justify_items": null,
            "left": null,
            "margin": null,
            "max_height": null,
            "max_width": null,
            "min_height": null,
            "min_width": null,
            "object_fit": null,
            "object_position": null,
            "order": null,
            "overflow": null,
            "overflow_x": null,
            "overflow_y": null,
            "padding": null,
            "right": null,
            "top": null,
            "visibility": null,
            "width": null
          }
        },
        "7963cf7e7f5f4c998908cfc81ce1c99a": {
          "model_module": "@jupyter-widgets/controls",
          "model_name": "DescriptionStyleModel",
          "model_module_version": "1.5.0",
          "state": {
            "_model_module": "@jupyter-widgets/controls",
            "_model_module_version": "1.5.0",
            "_model_name": "DescriptionStyleModel",
            "_view_count": null,
            "_view_module": "@jupyter-widgets/base",
            "_view_module_version": "1.2.0",
            "_view_name": "StyleView",
            "description_width": ""
          }
        }
      }
    }
  },
  "cells": [
    {
      "cell_type": "markdown",
      "metadata": {
        "id": "view-in-github",
        "colab_type": "text"
      },
      "source": [
        "<a href=\"https://colab.research.google.com/github/aaronjoel/DeepUnderstandingOfDeepLearning/blob/main/chapter_11_attention.ipynb\" target=\"_parent\"><img src=\"https://colab.research.google.com/assets/colab-badge.svg\" alt=\"Open In Colab\"/></a>"
      ]
    },
    {
      "cell_type": "code",
      "execution_count": 1,
      "metadata": {
        "id": "JKtrO0-4M653"
      },
      "outputs": [],
      "source": [
        "%%capture\n",
        "!pip install lightning"
      ]
    },
    {
      "cell_type": "code",
      "source": [
        "import torch ## torch let's us create tensors and also provides helper functions\n",
        "import torch.nn as nn ## torch.nn gives us nn.Module(), nn.Embedding() and nn.Linear()\n",
        "import torch.nn.functional as F # This gives us the softmax() and argmax()\n",
        "from torch.optim import Adam ## We will use the Adam optimizer, which is essentially\n",
        "                             ## a slightly less stochastic version of stochastic gradient descent.\n",
        "\n",
        "from torch.utils.data import TensorDataset, DataLoader ## We'll store our data in DataLoaders\n",
        "import lightning as L"
      ],
      "metadata": {
        "id": "dx3h7JhANeCV"
      },
      "execution_count": 2,
      "outputs": []
    },
    {
      "cell_type": "markdown",
      "source": [
        "# Create the datasets that we will use for training Encoder-Decoder model\n",
        "\n",
        "To make the model at least a little bit interesting, we will translate two english phrases, __Let's go__ and __to go__ into spanish. __Let's go__ should translate to __vamos <EOS>__ and __to go__ should translate to __ir <EOS>__."
      ],
      "metadata": {
        "id": "dID94QUEOB7m"
      }
    },
    {
      "cell_type": "code",
      "source": [
        "## first, we create a dictionary that maps vocabulary tokens to id numbers...\n",
        "english_token_to_id = {\n",
        "    'lets': 0,\n",
        "    'to': 1,\n",
        "    'go': 2,\n",
        "    '<EOS>': 3   ## <EOS> = end of sequence\n",
        "}\n",
        "\n",
        "## ...then we create a dictionary that maps the ids to tokens. This will help us interpret the out\n",
        "## We use the \"map()\" function to apply the \"reversed()\" function to each tuple (i.e. ('lets', 0)) stored\n",
        "## in the token_to_id dictionary. We then use dict() to make a new dictionary from the reversed tuples.\n",
        "english_id_to_token = dict(map(reversed, english_token_to_id.items()))\n",
        "\n",
        "spanish_token_to_id = {\n",
        "    'ir': 0,\n",
        "    'vamos': 1,\n",
        "    'y': 2,\n",
        "    '<EOS>': 3\n",
        "}\n",
        "\n",
        "spanish_id_to_token = dict(map(reversed, spanish_token_to_id.items()))\n",
        "\n",
        "inputs = torch.tensor([[english_token_to_id[\"lets\"],\n",
        "                        english_token_to_id[\"go\"]],\n",
        "\n",
        "                       [english_token_to_id[\"to\"],\n",
        "                        english_token_to_id[\"go\"]]])\n",
        "\n",
        "labels = torch.tensor([[spanish_token_to_id[\"vamos\"],\n",
        "                        spanish_token_to_id[\"<EOS>\"]],\n",
        "\n",
        "                       [spanish_token_to_id[\"ir\"],\n",
        "                        spanish_token_to_id[\"<EOS>\"]]])"
      ],
      "metadata": {
        "id": "_ArXrXcBN_hT"
      },
      "execution_count": 3,
      "outputs": []
    },
    {
      "cell_type": "code",
      "source": [
        "english_token_to_id"
      ],
      "metadata": {
        "colab": {
          "base_uri": "https://localhost:8080/"
        },
        "id": "yt7SeVZEPVLN",
        "outputId": "a656c087-5c33-41f0-9745-96b67b546f4b"
      },
      "execution_count": 4,
      "outputs": [
        {
          "output_type": "execute_result",
          "data": {
            "text/plain": [
              "{'lets': 0, 'to': 1, 'go': 2, '<EOS>': 3}"
            ]
          },
          "metadata": {},
          "execution_count": 4
        }
      ]
    },
    {
      "cell_type": "code",
      "source": [
        "english_id_to_token"
      ],
      "metadata": {
        "colab": {
          "base_uri": "https://localhost:8080/"
        },
        "id": "j3tsbobXPWYC",
        "outputId": "24dffd5a-89c2-49a1-9e48-3b4785478b81"
      },
      "execution_count": 5,
      "outputs": [
        {
          "output_type": "execute_result",
          "data": {
            "text/plain": [
              "{0: 'lets', 1: 'to', 2: 'go', 3: '<EOS>'}"
            ]
          },
          "metadata": {},
          "execution_count": 5
        }
      ]
    },
    {
      "cell_type": "code",
      "source": [
        "spanish_id_to_token"
      ],
      "metadata": {
        "colab": {
          "base_uri": "https://localhost:8080/"
        },
        "id": "KDi_EoEWPXYS",
        "outputId": "6fb61a27-b947-4f27-f04a-ca004f29ec89"
      },
      "execution_count": 6,
      "outputs": [
        {
          "output_type": "execute_result",
          "data": {
            "text/plain": [
              "{0: 'ir', 1: 'vamos', 2: 'y', 3: '<EOS>'}"
            ]
          },
          "metadata": {},
          "execution_count": 6
        }
      ]
    },
    {
      "cell_type": "code",
      "source": [
        "spanish_token_to_id"
      ],
      "metadata": {
        "colab": {
          "base_uri": "https://localhost:8080/"
        },
        "id": "SRpu6iBOPaCb",
        "outputId": "bf7afcbf-8a06-43b2-e793-b291ddae4b5c"
      },
      "execution_count": 7,
      "outputs": [
        {
          "output_type": "execute_result",
          "data": {
            "text/plain": [
              "{'ir': 0, 'vamos': 1, 'y': 2, '<EOS>': 3}"
            ]
          },
          "metadata": {},
          "execution_count": 7
        }
      ]
    },
    {
      "cell_type": "code",
      "source": [
        "inputs"
      ],
      "metadata": {
        "colab": {
          "base_uri": "https://localhost:8080/"
        },
        "id": "ptMzaCO8Pa87",
        "outputId": "11b7335d-8004-403a-f90f-06c6f83cc0b3"
      },
      "execution_count": 8,
      "outputs": [
        {
          "output_type": "execute_result",
          "data": {
            "text/plain": [
              "tensor([[0, 2],\n",
              "        [1, 2]])"
            ]
          },
          "metadata": {},
          "execution_count": 8
        }
      ]
    },
    {
      "cell_type": "code",
      "source": [
        "labels"
      ],
      "metadata": {
        "colab": {
          "base_uri": "https://localhost:8080/"
        },
        "id": "RR1tT1bjPcmD",
        "outputId": "112c548a-1483-424f-dce6-6bbec59638b3"
      },
      "execution_count": 9,
      "outputs": [
        {
          "output_type": "execute_result",
          "data": {
            "text/plain": [
              "tensor([[1, 3],\n",
              "        [0, 3]])"
            ]
          },
          "metadata": {},
          "execution_count": 9
        }
      ]
    },
    {
      "cell_type": "markdown",
      "source": [
        "Now that we have created the data that we want to train the embeddings with, we'll store it in a `DataLoader`. Since our dataset is so small, using a `DataLoader` is a little bit of an overkill, but it's easy to do, and it will allow us to easily scale up to a much larger vocabulary when the time comes."
      ],
      "metadata": {
        "id": "kw-H6IA7Pjbk"
      }
    },
    {
      "cell_type": "code",
      "source": [
        "## Now let's package everything up into a DataLoader...\n",
        "dataset = TensorDataset(inputs, labels)\n",
        "dataloader = DataLoader(dataset)"
      ],
      "metadata": {
        "id": "y4qULqlgPh7Z"
      },
      "execution_count": 10,
      "outputs": []
    },
    {
      "cell_type": "code",
      "source": [
        "class seq2seq_attention(L.LightningModule):\n",
        "\n",
        "  def __init__(self, max_len=2):\n",
        "    super().__init__()\n",
        "    self.max_decoder_length = max_len\n",
        "    L.seed_everything(seed=42)\n",
        "\n",
        "    ## ENCODING\n",
        "    self.encoder_we = nn.Embedding(num_embeddings=4, # num_embeddings = # of tokens in input vocabulary\n",
        "                                   embedding_dim=1)  # embedding_dim = # of embedding values per token\n",
        "\n",
        "    self.encoder_lstm = nn.LSTM(input_size=1, # encoder_size = number of inputs\n",
        "                                hidden_size=1, # hidden_size = number of outputs\n",
        "                                num_layers=1)  # num_layers = how many lstm's to stack\n",
        "\n",
        "    ## DECODING\n",
        "    self.decoder_we = nn.Embedding(num_embeddings=4, embedding_dim=1)\n",
        "\n",
        "    self.decoder_lstm = nn.LSTM(input_size=1, hidden_size=1, num_layers=1)\n",
        "\n",
        "    self.decoder_fc = nn.Linear(in_features=2, # in_features = number of outputs per lstm * 2 (encoder + decoder)\n",
        "                                out_features=4) # out_features = number of words in the output vocabulary\n",
        "\n",
        "    self.loss = nn.CrossEntropyLoss()\n",
        "\n",
        "  def forward(self, input, output=None):\n",
        "    #outputs = torch.zeros(self.max_decoder_length, 4)\n",
        "\n",
        "    ## ENCODING\n",
        "\n",
        "    ## first, use the encoder stage to create an intermediate encoding of the input text\n",
        "    encoder_embeddings = self.encoder_we(input)\n",
        "    encoder_lstm_output, (encoder_lstm_hidden, encoder_lstm_cell) = self.encoder_lstm(encoder_embeddings)\n",
        "\n",
        "    ## DECODING\n",
        "\n",
        "    ## We start by initializing the decoder with the <EOS> token...\n",
        "    decoder_token_id = torch.tensor([spanish_token_to_id[\"<EOS>\"]])\n",
        "    decoder_embeddings = self.decoder_we(decoder_token_id)\n",
        "    decoder_lstm_output, (decoder_lstm_hidden, decoder_lstm_cell) = self.decoder_lstm(decoder_embeddings,\n",
        "                                                                                      (encoder_lstm_hidden,\n",
        "                                                                                       encoder_lstm_cell))\n",
        "\n",
        "    ## Calculate attention here (using unnormalised cosine similarity, aka, dot product, to score the alignment)\n",
        "    ## In other words, we're trying to find words in theinput that are used in the same context as those\n",
        "    ## proposed by the lstm.\n",
        "    sims = torch.matmul(decoder_lstm_output, encoder_lstm_output.transpose(dim0=0, dim1=1))\n",
        "\n",
        "    ## Apply softmax to determine what percent of each token's value to use in the final attention values.\n",
        "    attention_percents = F.softmax(sims, dim=1)\n",
        "\n",
        "    ## Scale the values by their associated percentages and add them up.\n",
        "    attention_values = torch.matmul(attention_percents, encoder_lstm_output)\n",
        "\n",
        "    ## Lastly, we need to concatenate the attention values with the short term\n",
        "    ## memories from the first decoder lstm\n",
        "    values_to_fc_layer = torch.cat((attention_values, decoder_lstm_output), 1)\n",
        "\n",
        "    output_values = self.decoder_fc(values_to_fc_layer)\n",
        "\n",
        "    outputs = output_values\n",
        "    predicted_id = torch.tensor([torch.argmax(output_values)])\n",
        "    predicted_ids = predicted_id\n",
        "\n",
        "    for i in range(1, self.max_decoder_length):\n",
        "      if output == None:\n",
        "        if predicted_id == spanish_token_to_id[\"<EOS>\"]:\n",
        "          break\n",
        "        decoder_embeddings = self.decoder_we(predicted_id)\n",
        "      else:\n",
        "        decoder_embeddings = self.decoder_we(torch.tensor([output[i-1]]))\n",
        "\n",
        "      decoder_lstm_output, (decoder_lstm_hidden, decoder_lstm_cell) = self.decoder_lstm(decoder_embeddings,\n",
        "                                                                                        (decoder_lstm_hidden, decoder_lstm_cell))\n",
        "\n",
        "      sims = torch.matmul(decoder_lstm_output, encoder_lstm_output.transpose(dim0=0, dim1=1))\n",
        "      ## Apply softmax to determine what percent of each token's value\n",
        "      ## to use in the final attention values.\n",
        "      attention_percents = F.softmax(sims, dim=1)\n",
        "\n",
        "      ## Scale the values by their associated percentages and add them up\n",
        "      attention_values = torch.matmul(attention_percents, encoder_lstm_output)\n",
        "\n",
        "      values_to_fc_layer = torch.cat((attention_values, decoder_lstm_output), 1)\n",
        "\n",
        "      output_values = self.decoder_fc(values_to_fc_layer)\n",
        "      #outputs[i] = output_values\n",
        "      outputs = torch.cat((outputs, output_values), 0)\n",
        "      predicted_id = torch.tensor([torch.argmax(output_values)])\n",
        "      predicted_ids = torch.cat((predicted_ids, predicted_id))\n",
        "\n",
        "    return outputs\n",
        "\n",
        "  def configure_optimizers(self):\n",
        "    return Adam(self.parameters(), lr=0.1)\n",
        "\n",
        "  def training_step(self, batch, batch_idx):\n",
        "    input_tokens, labels = batch # collect input\n",
        "    output = self.forward(input_tokens[0], labels[0])\n",
        "    loss = self.loss(output, labels[0])\n",
        "\n",
        "    ## Logging the loss\n",
        "    # self.log(\"train_loss\", loss)\n",
        "\n",
        "    return loss"
      ],
      "metadata": {
        "id": "NkpzzCX7QDeD"
      },
      "execution_count": 11,
      "outputs": []
    },
    {
      "cell_type": "code",
      "source": [
        "model = seq2seq_attention()\n",
        "outputs = model.forward(input=torch.tensor([english_token_to_id[\"lets\"],\n",
        "                                            english_token_to_id[\"go\"]]), ## translate \"lets go\", we should get \"vamos <EOS>\"\n",
        "                        output=None)\n",
        "\n",
        "print(\"Translated text:\")\n",
        "predicted_ids = torch.argmax(outputs, dim=1)\n",
        "for id in predicted_ids:\n",
        "  print(\"\\t\", spanish_id_to_token[id.item()])"
      ],
      "metadata": {
        "colab": {
          "base_uri": "https://localhost:8080/"
        },
        "id": "c08FlQiFWSm_",
        "outputId": "c82428b0-2b96-4258-ee40-9d3fa9bb7253"
      },
      "execution_count": 12,
      "outputs": [
        {
          "output_type": "stream",
          "name": "stderr",
          "text": [
            "INFO: Seed set to 42\n",
            "INFO:lightning.fabric.utilities.seed:Seed set to 42\n"
          ]
        },
        {
          "output_type": "stream",
          "name": "stdout",
          "text": [
            "Translated text:\n",
            "\t y\n",
            "\t y\n"
          ]
        }
      ]
    },
    {
      "cell_type": "code",
      "source": [
        "trainer = L.Trainer(max_epochs=20, accelerator='cpu')\n",
        "trainer.fit(model, train_dataloaders=dataloader)"
      ],
      "metadata": {
        "colab": {
          "base_uri": "https://localhost:8080/",
          "height": 815,
          "referenced_widgets": [
            "688fd49f509842c990efc04c76c5559b",
            "15146799e22d48709afa5606233842e4",
            "4b26ac1b0d30437f994318b789f5ad8e",
            "d9a7868af05c456a8f398b0b2fc0bd53",
            "a96b4a412d654c30b85b6d797acf4b0d",
            "3f6a5296a4be4ec394c993ca79ecac82",
            "756ae5c319be46a8b6942d81c561d6fd",
            "ce810afc73934210b6fe68900fd5cb6f",
            "a7afd52c4d4a497cb29f3f5937daadc1",
            "fc38c81372d549debc6f4efa629827d1",
            "7963cf7e7f5f4c998908cfc81ce1c99a"
          ]
        },
        "id": "grtV-FduWmH7",
        "outputId": "84360f77-eaa2-4531-8c3c-1c976344529b"
      },
      "execution_count": 13,
      "outputs": [
        {
          "output_type": "stream",
          "name": "stderr",
          "text": [
            "INFO: Using default `ModelCheckpoint`. Consider installing `litmodels` package to enable `LitModelCheckpoint` for automatic upload to the Lightning model registry.\n",
            "INFO:lightning.pytorch.utilities.rank_zero:Using default `ModelCheckpoint`. Consider installing `litmodels` package to enable `LitModelCheckpoint` for automatic upload to the Lightning model registry.\n",
            "INFO: GPU available: False, used: False\n",
            "INFO:lightning.pytorch.utilities.rank_zero:GPU available: False, used: False\n",
            "INFO: TPU available: False, using: 0 TPU cores\n",
            "INFO:lightning.pytorch.utilities.rank_zero:TPU available: False, using: 0 TPU cores\n",
            "INFO: HPU available: False, using: 0 HPUs\n",
            "INFO:lightning.pytorch.utilities.rank_zero:HPU available: False, using: 0 HPUs\n",
            "INFO: \n",
            "  | Name         | Type             | Params | Mode \n",
            "----------------------------------------------------------\n",
            "0 | encoder_we   | Embedding        | 4      | train\n",
            "1 | encoder_lstm | LSTM             | 16     | train\n",
            "2 | decoder_we   | Embedding        | 4      | train\n",
            "3 | decoder_lstm | LSTM             | 16     | train\n",
            "4 | decoder_fc   | Linear           | 12     | train\n",
            "5 | loss         | CrossEntropyLoss | 0      | train\n",
            "----------------------------------------------------------\n",
            "52        Trainable params\n",
            "0         Non-trainable params\n",
            "52        Total params\n",
            "0.000     Total estimated model params size (MB)\n",
            "6         Modules in train mode\n",
            "0         Modules in eval mode\n",
            "INFO:lightning.pytorch.callbacks.model_summary:\n",
            "  | Name         | Type             | Params | Mode \n",
            "----------------------------------------------------------\n",
            "0 | encoder_we   | Embedding        | 4      | train\n",
            "1 | encoder_lstm | LSTM             | 16     | train\n",
            "2 | decoder_we   | Embedding        | 4      | train\n",
            "3 | decoder_lstm | LSTM             | 16     | train\n",
            "4 | decoder_fc   | Linear           | 12     | train\n",
            "5 | loss         | CrossEntropyLoss | 0      | train\n",
            "----------------------------------------------------------\n",
            "52        Trainable params\n",
            "0         Non-trainable params\n",
            "52        Total params\n",
            "0.000     Total estimated model params size (MB)\n",
            "6         Modules in train mode\n",
            "0         Modules in eval mode\n",
            "/usr/local/lib/python3.11/dist-packages/lightning/pytorch/loops/fit_loop.py:310: The number of training batches (2) is smaller than the logging interval Trainer(log_every_n_steps=50). Set a lower value for log_every_n_steps if you want to see logs for the training epoch.\n"
          ]
        },
        {
          "output_type": "display_data",
          "data": {
            "text/plain": [
              "Training: |          | 0/? [00:00<?, ?it/s]"
            ],
            "application/vnd.jupyter.widget-view+json": {
              "version_major": 2,
              "version_minor": 0,
              "model_id": "688fd49f509842c990efc04c76c5559b"
            }
          },
          "metadata": {}
        },
        {
          "output_type": "stream",
          "name": "stderr",
          "text": [
            "INFO: `Trainer.fit` stopped: `max_epochs=20` reached.\n",
            "INFO:lightning.pytorch.utilities.rank_zero:`Trainer.fit` stopped: `max_epochs=20` reached.\n"
          ]
        }
      ]
    },
    {
      "cell_type": "code",
      "source": [
        "outputs = model.forward(input=torch.tensor([english_token_to_id[\"lets\"],\n",
        "                                            english_token_to_id[\"go\"]]), ## translate \"lets go\", we should get \"vamos <EOS>\"\n",
        "                        output=None)\n",
        "\n",
        "print(\"Translated text:\")\n",
        "predicted_ids = torch.argmax(outputs, dim=1)\n",
        "for id in predicted_ids:\n",
        "    print(\"\\t\", spanish_id_to_token[id.item()])"
      ],
      "metadata": {
        "colab": {
          "base_uri": "https://localhost:8080/"
        },
        "id": "IBJDNTosWrwy",
        "outputId": "1b4cd7b6-33e6-4768-8b6e-e0262fb0f42c"
      },
      "execution_count": 14,
      "outputs": [
        {
          "output_type": "stream",
          "name": "stdout",
          "text": [
            "Translated text:\n",
            "\t vamos\n",
            "\t <EOS>\n"
          ]
        }
      ]
    },
    {
      "cell_type": "code",
      "source": [
        "outputs = model.forward(input=torch.tensor([english_token_to_id[\"to\"],\n",
        "                                            english_token_to_id[\"go\"]]), ## translate \"to go\", we should get \"ir <EOS>\"\n",
        "                        output=None)\n",
        "\n",
        "print(\"Translated text:\")\n",
        "predicted_ids = torch.argmax(outputs, dim=1)\n",
        "for id in predicted_ids:\n",
        "    print(\"\\t\", spanish_id_to_token[id.item()])"
      ],
      "metadata": {
        "colab": {
          "base_uri": "https://localhost:8080/"
        },
        "id": "5QuXHF0mWujL",
        "outputId": "e27610a4-c6b8-4ae1-b08e-0941d920e4aa"
      },
      "execution_count": 15,
      "outputs": [
        {
          "output_type": "stream",
          "name": "stdout",
          "text": [
            "Translated text:\n",
            "\t ir\n",
            "\t <EOS>\n"
          ]
        }
      ]
    },
    {
      "cell_type": "code",
      "source": [
        "print(\"After optimization, the parameters are...\")\n",
        "for name, param in model.named_parameters():\n",
        "    print(name, param.data)"
      ],
      "metadata": {
        "colab": {
          "base_uri": "https://localhost:8080/"
        },
        "id": "sjg1BjOMWxLa",
        "outputId": "29a95189-7b21-4bdc-cc57-623dbb8688d5"
      },
      "execution_count": 16,
      "outputs": [
        {
          "output_type": "stream",
          "name": "stdout",
          "text": [
            "After optimization, the parameters are...\n",
            "encoder_we.weight tensor([[-1.7787],\n",
            "        [ 2.0923],\n",
            "        [-0.1636],\n",
            "        [ 0.2303]])\n",
            "encoder_lstm.weight_ih_l0 tensor([[-1.6984],\n",
            "        [-2.2462],\n",
            "        [ 1.4013],\n",
            "        [-1.5993]])\n",
            "encoder_lstm.weight_hh_l0 tensor([[-0.7744],\n",
            "        [-1.1266],\n",
            "        [ 1.5920],\n",
            "        [-0.4829]])\n",
            "encoder_lstm.bias_ih_l0 tensor([ 1.8437,  1.4772, -1.0555, -0.0629])\n",
            "encoder_lstm.bias_hh_l0 tensor([ 0.6121,  1.2121, -0.9948,  0.3456])\n",
            "decoder_we.weight tensor([[-0.8066],\n",
            "        [-2.2045],\n",
            "        [-0.9890],\n",
            "        [ 2.8455]])\n",
            "decoder_lstm.weight_ih_l0 tensor([[-0.4647],\n",
            "        [ 2.1268],\n",
            "        [-1.5542],\n",
            "        [ 0.4553]])\n",
            "decoder_lstm.weight_hh_l0 tensor([[-1.3270],\n",
            "        [ 1.8276],\n",
            "        [-0.5032],\n",
            "        [-1.9216]])\n",
            "decoder_lstm.bias_ih_l0 tensor([ 1.8560, -0.7807,  0.7111,  3.0293])\n",
            "decoder_lstm.bias_hh_l0 tensor([ 2.1653, -0.9467,  0.8675,  2.3154])\n",
            "decoder_fc.weight tensor([[ 0.4913, -1.7664],\n",
            "        [-1.1043, -1.1885],\n",
            "        [ 1.4996,  0.7445],\n",
            "        [-1.1738,  3.0864]])\n",
            "decoder_fc.bias tensor([ 0.2659,  0.0945, -1.5209,  1.2383])\n"
          ]
        }
      ]
    },
    {
      "cell_type": "code",
      "source": [],
      "metadata": {
        "id": "vHV5ddqzWz4-"
      },
      "execution_count": null,
      "outputs": []
    }
  ]
}