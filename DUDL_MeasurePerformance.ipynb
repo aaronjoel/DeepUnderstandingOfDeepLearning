{
  "nbformat": 4,
  "nbformat_minor": 0,
  "metadata": {
    "colab": {
      "provenance": [],
      "authorship_tag": "ABX9TyONFV503cUBGAEjX67JtbTg",
      "include_colab_link": true
    },
    "kernelspec": {
      "name": "python3",
      "display_name": "Python 3"
    },
    "language_info": {
      "name": "python"
    }
  },
  "cells": [
    {
      "cell_type": "markdown",
      "metadata": {
        "id": "view-in-github",
        "colab_type": "text"
      },
      "source": [
        "<a href=\"https://colab.research.google.com/github/aaronjoel/DeepUnderstandingOfDeepLearning/blob/main/DUDL_MeasurePerformance.ipynb\" target=\"_parent\"><img src=\"https://colab.research.google.com/assets/colab-badge.svg\" alt=\"Open In Colab\"/></a>"
      ]
    },
    {
      "cell_type": "code",
      "execution_count": 2,
      "metadata": {
        "id": "rD22MTBMkzmf"
      },
      "outputs": [],
      "source": [
        "# import libraries\n",
        "import numpy as np\n",
        "\n",
        "import torch\n",
        "import torch.nn as nn\n",
        "import torch.nn.functional as F\n",
        "from torch.utils.data import DataLoader\n",
        "from sklearn.model_selection import train_test_split\n",
        "\n",
        "# New!\n",
        "import time\n",
        "\n",
        "import matplotlib.pyplot as plt\n",
        "import matplotlib_inline.backend_inline as mb\n",
        "mb.set_matplotlib_formats('svg')"
      ]
    },
    {
      "cell_type": "markdown",
      "source": [
        "## Import and process the data"
      ],
      "metadata": {
        "id": "bR4icXrSl2ux"
      }
    },
    {
      "cell_type": "code",
      "source": [
        "# import dataset (comes with colab!)\n",
        "data = np.loadtxt(open('sample_data/mnist_train_small.csv', 'rb'), delimiter=',')\n",
        "\n",
        "# extract labels (number IDs) and remove from data\n",
        "data"
      ],
      "metadata": {
        "colab": {
          "base_uri": "https://localhost:8080/"
        },
        "id": "RnkvgtxslsoY",
        "outputId": "c1bd07ee-9da3-4169-e06b-9f170f1942a0"
      },
      "execution_count": 3,
      "outputs": [
        {
          "output_type": "execute_result",
          "data": {
            "text/plain": [
              "array([[6., 0., 0., ..., 0., 0., 0.],\n",
              "       [5., 0., 0., ..., 0., 0., 0.],\n",
              "       [7., 0., 0., ..., 0., 0., 0.],\n",
              "       ...,\n",
              "       [2., 0., 0., ..., 0., 0., 0.],\n",
              "       [9., 0., 0., ..., 0., 0., 0.],\n",
              "       [5., 0., 0., ..., 0., 0., 0.]])"
            ]
          },
          "metadata": {},
          "execution_count": 3
        }
      ]
    },
    {
      "cell_type": "code",
      "source": [
        "labels = data[:, 0]\n",
        "data = data[:, 1:]\n",
        "\n",
        "# normalize the data to a range of [0 1]\n",
        "dataNorm = (data - data.min()) / (data.max() - data.min())\n",
        "\n",
        "dataNorm"
      ],
      "metadata": {
        "colab": {
          "base_uri": "https://localhost:8080/"
        },
        "id": "gx23cMkWmJCA",
        "outputId": "0c5f5d3e-dd15-421b-f114-f5487719419f"
      },
      "execution_count": 4,
      "outputs": [
        {
          "output_type": "execute_result",
          "data": {
            "text/plain": [
              "array([[0., 0., 0., ..., 0., 0., 0.],\n",
              "       [0., 0., 0., ..., 0., 0., 0.],\n",
              "       [0., 0., 0., ..., 0., 0., 0.],\n",
              "       ...,\n",
              "       [0., 0., 0., ..., 0., 0., 0.],\n",
              "       [0., 0., 0., ..., 0., 0., 0.],\n",
              "       [0., 0., 0., ..., 0., 0., 0.]])"
            ]
          },
          "metadata": {},
          "execution_count": 4
        }
      ]
    },
    {
      "cell_type": "code",
      "source": [
        "dataNorm2 = data / data.max()\n",
        "dataNorm2"
      ],
      "metadata": {
        "colab": {
          "base_uri": "https://localhost:8080/"
        },
        "id": "oBu8begTmbar",
        "outputId": "42f5831a-2d10-4010-fdb1-e926852bb0bc"
      },
      "execution_count": 5,
      "outputs": [
        {
          "output_type": "execute_result",
          "data": {
            "text/plain": [
              "array([[0., 0., 0., ..., 0., 0., 0.],\n",
              "       [0., 0., 0., ..., 0., 0., 0.],\n",
              "       [0., 0., 0., ..., 0., 0., 0.],\n",
              "       ...,\n",
              "       [0., 0., 0., ..., 0., 0., 0.],\n",
              "       [0., 0., 0., ..., 0., 0., 0.],\n",
              "       [0., 0., 0., ..., 0., 0., 0.]])"
            ]
          },
          "metadata": {},
          "execution_count": 5
        }
      ]
    },
    {
      "cell_type": "code",
      "source": [
        "dataNorm.all() == dataNorm2.all()"
      ],
      "metadata": {
        "colab": {
          "base_uri": "https://localhost:8080/"
        },
        "id": "VKyrIBWEmhig",
        "outputId": "2b3f5588-5908-45b8-c4ed-4d36d1bc2165"
      },
      "execution_count": 7,
      "outputs": [
        {
          "output_type": "execute_result",
          "data": {
            "text/plain": [
              "np.True_"
            ]
          },
          "metadata": {},
          "execution_count": 7
        }
      ]
    },
    {
      "cell_type": "markdown",
      "source": [
        "## Create train/test groups using DataLoader"
      ],
      "metadata": {
        "id": "Fhwl-UY4n14n"
      }
    },
    {
      "cell_type": "code",
      "source": [
        "# Step 1: convert to tensor\n",
        "dataT = torch.tensor( dataNorm ).float()\n",
        "labelsT = torch.tensor( labels ).long()"
      ],
      "metadata": {
        "id": "QXuBwglmmlC1"
      },
      "execution_count": 8,
      "outputs": []
    },
    {
      "cell_type": "code",
      "source": [
        "# Step 2: use scikit-learn to split the data\n",
        "train_data, test_data, train_labels, test_labels = train_test_split(dataT, labelsT, test_size=0.15, random_state=42)"
      ],
      "metadata": {
        "id": "DfyC8lQWoJLu"
      },
      "execution_count": 10,
      "outputs": []
    },
    {
      "cell_type": "code",
      "source": [
        "train_data.shape, test_data.shape"
      ],
      "metadata": {
        "colab": {
          "base_uri": "https://localhost:8080/"
        },
        "id": "aKQNPPQGoU3Y",
        "outputId": "996ea193-6a0f-4738-8c06-87f5c33c531a"
      },
      "execution_count": 11,
      "outputs": [
        {
          "output_type": "execute_result",
          "data": {
            "text/plain": [
              "(torch.Size([17000, 784]), torch.Size([3000, 784]))"
            ]
          },
          "metadata": {},
          "execution_count": 11
        }
      ]
    },
    {
      "cell_type": "code",
      "source": [
        "# Step 3: convert into PyTorch datasets\n",
        "train_data = torch.utils.data.TensorDataset(train_data, train_labels)\n",
        "test_data  = torch.utils.data.TensorDataset(test_data, test_labels)"
      ],
      "metadata": {
        "id": "1GTFrwm_obrs"
      },
      "execution_count": 12,
      "outputs": []
    },
    {
      "cell_type": "code",
      "source": [
        "# Step 4: translate into dataloader objects\n",
        "batch_size = 32\n",
        "train_loader = DataLoader(dataset=train_data, batch_size=batch_size, shuffle=True, drop_last=True)\n",
        "test_loader = DataLoader(dataset=test_data, batch_size=test_data.tensors[0].shape[0])"
      ],
      "metadata": {
        "id": "kmWl_KBsoyFz"
      },
      "execution_count": 13,
      "outputs": []
    },
    {
      "cell_type": "code",
      "source": [
        "train_loader.dataset.tensors"
      ],
      "metadata": {
        "colab": {
          "base_uri": "https://localhost:8080/"
        },
        "id": "X7IB8vS4pXIx",
        "outputId": "99427b69-5966-43fd-c4d7-6fc004fb203c"
      },
      "execution_count": 15,
      "outputs": [
        {
          "output_type": "execute_result",
          "data": {
            "text/plain": [
              "(tensor([[0., 0., 0.,  ..., 0., 0., 0.],\n",
              "         [0., 0., 0.,  ..., 0., 0., 0.],\n",
              "         [0., 0., 0.,  ..., 0., 0., 0.],\n",
              "         ...,\n",
              "         [0., 0., 0.,  ..., 0., 0., 0.],\n",
              "         [0., 0., 0.,  ..., 0., 0., 0.],\n",
              "         [0., 0., 0.,  ..., 0., 0., 0.]]),\n",
              " tensor([2, 6, 0,  ..., 9, 2, 7]))"
            ]
          },
          "metadata": {},
          "execution_count": 15
        }
      ]
    },
    {
      "cell_type": "code",
      "source": [
        "test_loader.dataset.tensors"
      ],
      "metadata": {
        "colab": {
          "base_uri": "https://localhost:8080/"
        },
        "id": "F2FxeUugpm1L",
        "outputId": "13273d00-835f-4141-d120-e531aab9b4e6"
      },
      "execution_count": 16,
      "outputs": [
        {
          "output_type": "execute_result",
          "data": {
            "text/plain": [
              "(tensor([[0., 0., 0.,  ..., 0., 0., 0.],\n",
              "         [0., 0., 0.,  ..., 0., 0., 0.],\n",
              "         [0., 0., 0.,  ..., 0., 0., 0.],\n",
              "         ...,\n",
              "         [0., 0., 0.,  ..., 0., 0., 0.],\n",
              "         [0., 0., 0.,  ..., 0., 0., 0.],\n",
              "         [0., 0., 0.,  ..., 0., 0., 0.]]),\n",
              " tensor([9, 5, 2,  ..., 5, 7, 4]))"
            ]
          },
          "metadata": {},
          "execution_count": 16
        }
      ]
    },
    {
      "cell_type": "code",
      "source": [
        "test_data.tensors[0].shape[0]"
      ],
      "metadata": {
        "colab": {
          "base_uri": "https://localhost:8080/"
        },
        "id": "PDzqh5oEpqgJ",
        "outputId": "0a47a080-f0ba-4f0e-cd3e-262e2912345f"
      },
      "execution_count": 19,
      "outputs": [
        {
          "output_type": "execute_result",
          "data": {
            "text/plain": [
              "3000"
            ]
          },
          "metadata": {},
          "execution_count": 19
        }
      ]
    },
    {
      "cell_type": "code",
      "source": [
        "test_loader.dataset.tensors[0].shape[0]"
      ],
      "metadata": {
        "colab": {
          "base_uri": "https://localhost:8080/"
        },
        "id": "jj2LMqhSpvlt",
        "outputId": "6ff600b9-6fb3-4082-b0a9-7905dedba0f3"
      },
      "execution_count": 21,
      "outputs": [
        {
          "output_type": "execute_result",
          "data": {
            "text/plain": [
              "3000"
            ]
          },
          "metadata": {},
          "execution_count": 21
        }
      ]
    },
    {
      "cell_type": "markdown",
      "source": [
        "## Create the DL model"
      ],
      "metadata": {
        "id": "h8cYq-0-p897"
      }
    },
    {
      "cell_type": "code",
      "source": [
        "# create a class for the model\n",
        "def createTheMNISTNet():\n",
        "\n",
        "  class mnistNet(nn.Module):\n",
        "\n",
        "    def __init__(self):\n",
        "      super().__init__()\n",
        "\n",
        "      # input layer\n",
        "      self.input = nn.Linear(784, 64)\n",
        "\n",
        "      # hidden layer\n",
        "      self.fc1 = nn.Linear(64, 32)\n",
        "      self.fc2 = nn.Linear(32, 32)\n",
        "\n",
        "      # output layer\n",
        "      self.output = nn.Linear(32, 10)\n",
        "\n",
        "    def forward(self, x):\n",
        "      x = F.relu( self.input(x) )\n",
        "      x = F.relu( self.fc1(x) )\n",
        "      x = F.relu( self.fc2(x) )\n",
        "      return self.output(x)\n",
        "\n",
        "  # create the model instance\n",
        "  net = mnistNet()\n",
        "\n",
        "  # loss function\n",
        "  loss_fun = nn.CrossEntropyLoss()\n",
        "\n",
        "  # optimizer\n",
        "  optimizer = torch.optim.Adam(params=net.parameters(), lr=0.01)\n",
        "\n",
        "  return net, loss_fun, optimizer"
      ],
      "metadata": {
        "id": "OWRU9fW7p45n"
      },
      "execution_count": 27,
      "outputs": []
    },
    {
      "cell_type": "markdown",
      "source": [
        "## Create a function that trains the model"
      ],
      "metadata": {
        "id": "nxQM_s4Orc6o"
      }
    },
    {
      "cell_type": "code",
      "source": [
        "def function2trainTheModel():\n",
        "\n",
        "  # Start the timer!\n",
        "  timerInFunction = time.process_time()\n",
        "\n",
        "  # number of epochs\n",
        "  num_epochs = 10\n",
        "\n",
        "  # create a new model\n",
        "  net, loss_fun, optimizer = createTheMNISTNet()\n",
        "\n",
        "  # initialise losses\n",
        "  losses = torch.zeros(num_epochs)\n",
        "  trainAcc = []\n",
        "  testAcc = []\n",
        "\n",
        "  # loop over epochs\n",
        "  for epoch in range(num_epochs):\n",
        "    # loop over training data batches\n",
        "    batchAcc = []\n",
        "    batchLoss = []\n",
        "    for X, y in train_loader:\n",
        "      # forward pass and loss\n",
        "      yhat = net(X)\n",
        "      loss = loss_fun(yhat, y)\n",
        "\n",
        "      # backprop\n",
        "      optimizer.zero_grad()\n",
        "      loss.backward()\n",
        "      optimizer.step()\n",
        "\n",
        "      # loss from this batch\n",
        "      batchLoss.append(loss.item())\n",
        "\n",
        "      # compute accuracy\n",
        "      matches = torch.argmax(yhat, axis=1) == y    # booleans (false/true)\n",
        "      matchesNumeric = matches.float()              # convert to numbers (0/1)\n",
        "      accuracyPct = 100 * torch.mean(matchesNumeric) # average and x100\n",
        "      batchAcc.append( accuracyPct )             # add to list of accuracies\n",
        "    # end of batch loop...\n",
        "\n",
        "    # now that we've trained through the batches, get their average training accuracy\n",
        "    trainAcc.append( np.mean(batchAcc) )\n",
        "\n",
        "    # and get average losses across the batches\n",
        "    losses[epoch] = np.mean(batchLoss)\n",
        "\n",
        "    # test accuracy\n",
        "    X, y = next(iter(test_loader))  # extract X, y from test dataloader\n",
        "    with torch.no_grad(): # deactivates autograd\n",
        "      yhat = net(X)\n",
        "\n",
        "    # Compare the following really long line of code to the training accuracy lines\n",
        "    testAcc.append( 100*torch.mean( (torch.argmax(yhat, axis=1) == y).float() ) )\n",
        "\n",
        "    # Finally, report the epoch number, computation time, and accuracy\n",
        "    comp_time = time.process_time() - timerInFunction\n",
        "    print(f\"Epoch {epoch+1}/{num_epochs}, elapsed time: {comp_time:.2f} sec, test accuracy: {testAcc[-1]:.0f}%\")\n",
        "\n",
        "  # end epochs\n",
        "\n",
        "  # function output\n",
        "  return trainAcc, testAcc, losses, net"
      ],
      "metadata": {
        "id": "voOFgqz9rang"
      },
      "execution_count": 32,
      "outputs": []
    },
    {
      "cell_type": "markdown",
      "source": [
        "## Run the model and show the results"
      ],
      "metadata": {
        "id": "bWAmQJNivFVD"
      }
    },
    {
      "cell_type": "code",
      "source": [
        "# now run a second timer over repeated iterations\n",
        "\n",
        "# Start the timer! (note the different variable name)\n",
        "timerOutsideFunction = time.process_time()\n",
        "\n",
        "for i in range(10):\n",
        "  function2trainTheModel()\n",
        "\n",
        "TotalExperimentTime = time.process_time() - timerOutsideFunction\n",
        "TotalMinutes = TotalExperimentTime // 60\n",
        "TotalSeconds = TotalExperimentTime - (TotalMinutes * 60)\n",
        "\n",
        "print(f\"\\n\\nTotal elapsed experiment time: {TotalMinutes} minutes and {TotalSeconds} seconds.\")"
      ],
      "metadata": {
        "colab": {
          "base_uri": "https://localhost:8080/"
        },
        "id": "xWbLYqB6tBhv",
        "outputId": "bedc650e-9e30-4ad5-f4a3-2c642e0c9600"
      },
      "execution_count": 36,
      "outputs": [
        {
          "output_type": "stream",
          "name": "stdout",
          "text": [
            "Epoch 1/10, elapsed time: 1.69 sec, test accuracy: 91%\n",
            "Epoch 2/10, elapsed time: 3.25 sec, test accuracy: 93%\n",
            "Epoch 3/10, elapsed time: 4.83 sec, test accuracy: 92%\n",
            "Epoch 4/10, elapsed time: 6.34 sec, test accuracy: 95%\n",
            "Epoch 5/10, elapsed time: 8.35 sec, test accuracy: 94%\n",
            "Epoch 6/10, elapsed time: 10.19 sec, test accuracy: 94%\n",
            "Epoch 7/10, elapsed time: 11.77 sec, test accuracy: 94%\n",
            "Epoch 8/10, elapsed time: 13.33 sec, test accuracy: 95%\n",
            "Epoch 9/10, elapsed time: 14.89 sec, test accuracy: 95%\n",
            "Epoch 10/10, elapsed time: 16.57 sec, test accuracy: 95%\n",
            "Epoch 1/10, elapsed time: 1.34 sec, test accuracy: 92%\n",
            "Epoch 2/10, elapsed time: 3.03 sec, test accuracy: 94%\n",
            "Epoch 3/10, elapsed time: 5.14 sec, test accuracy: 94%\n",
            "Epoch 4/10, elapsed time: 6.74 sec, test accuracy: 93%\n",
            "Epoch 5/10, elapsed time: 8.57 sec, test accuracy: 94%\n",
            "Epoch 6/10, elapsed time: 10.19 sec, test accuracy: 93%\n",
            "Epoch 7/10, elapsed time: 12.28 sec, test accuracy: 94%\n",
            "Epoch 8/10, elapsed time: 13.82 sec, test accuracy: 95%\n",
            "Epoch 9/10, elapsed time: 15.84 sec, test accuracy: 95%\n",
            "Epoch 10/10, elapsed time: 17.70 sec, test accuracy: 95%\n",
            "Epoch 1/10, elapsed time: 1.39 sec, test accuracy: 91%\n",
            "Epoch 2/10, elapsed time: 2.85 sec, test accuracy: 92%\n",
            "Epoch 3/10, elapsed time: 4.41 sec, test accuracy: 92%\n",
            "Epoch 4/10, elapsed time: 5.96 sec, test accuracy: 94%\n",
            "Epoch 5/10, elapsed time: 7.49 sec, test accuracy: 94%\n",
            "Epoch 6/10, elapsed time: 9.11 sec, test accuracy: 93%\n",
            "Epoch 7/10, elapsed time: 11.30 sec, test accuracy: 93%\n",
            "Epoch 8/10, elapsed time: 12.96 sec, test accuracy: 94%\n",
            "Epoch 9/10, elapsed time: 14.49 sec, test accuracy: 95%\n",
            "Epoch 10/10, elapsed time: 16.12 sec, test accuracy: 94%\n",
            "Epoch 1/10, elapsed time: 1.30 sec, test accuracy: 92%\n",
            "Epoch 2/10, elapsed time: 2.92 sec, test accuracy: 92%\n",
            "Epoch 3/10, elapsed time: 4.74 sec, test accuracy: 93%\n",
            "Epoch 4/10, elapsed time: 6.64 sec, test accuracy: 94%\n",
            "Epoch 5/10, elapsed time: 8.53 sec, test accuracy: 94%\n",
            "Epoch 6/10, elapsed time: 10.15 sec, test accuracy: 94%\n",
            "Epoch 7/10, elapsed time: 11.72 sec, test accuracy: 94%\n",
            "Epoch 8/10, elapsed time: 13.32 sec, test accuracy: 95%\n",
            "Epoch 9/10, elapsed time: 14.86 sec, test accuracy: 95%\n",
            "Epoch 10/10, elapsed time: 16.44 sec, test accuracy: 94%\n",
            "Epoch 1/10, elapsed time: 1.33 sec, test accuracy: 91%\n",
            "Epoch 2/10, elapsed time: 3.38 sec, test accuracy: 93%\n",
            "Epoch 3/10, elapsed time: 5.05 sec, test accuracy: 95%\n",
            "Epoch 4/10, elapsed time: 6.65 sec, test accuracy: 93%\n",
            "Epoch 5/10, elapsed time: 8.23 sec, test accuracy: 94%\n",
            "Epoch 6/10, elapsed time: 9.79 sec, test accuracy: 94%\n",
            "Epoch 7/10, elapsed time: 11.32 sec, test accuracy: 94%\n",
            "Epoch 8/10, elapsed time: 12.92 sec, test accuracy: 95%\n",
            "Epoch 9/10, elapsed time: 15.02 sec, test accuracy: 95%\n",
            "Epoch 10/10, elapsed time: 16.98 sec, test accuracy: 94%\n",
            "Epoch 1/10, elapsed time: 1.51 sec, test accuracy: 92%\n",
            "Epoch 2/10, elapsed time: 3.01 sec, test accuracy: 93%\n",
            "Epoch 3/10, elapsed time: 4.63 sec, test accuracy: 93%\n",
            "Epoch 4/10, elapsed time: 6.17 sec, test accuracy: 94%\n",
            "Epoch 5/10, elapsed time: 7.78 sec, test accuracy: 94%\n",
            "Epoch 6/10, elapsed time: 9.32 sec, test accuracy: 94%\n",
            "Epoch 7/10, elapsed time: 11.57 sec, test accuracy: 95%\n",
            "Epoch 8/10, elapsed time: 13.15 sec, test accuracy: 95%\n",
            "Epoch 9/10, elapsed time: 14.72 sec, test accuracy: 94%\n",
            "Epoch 10/10, elapsed time: 16.46 sec, test accuracy: 95%\n",
            "Epoch 1/10, elapsed time: 1.31 sec, test accuracy: 91%\n",
            "Epoch 2/10, elapsed time: 2.89 sec, test accuracy: 93%\n",
            "Epoch 3/10, elapsed time: 4.41 sec, test accuracy: 91%\n",
            "Epoch 4/10, elapsed time: 6.37 sec, test accuracy: 93%\n",
            "Epoch 5/10, elapsed time: 8.30 sec, test accuracy: 93%\n",
            "Epoch 6/10, elapsed time: 10.11 sec, test accuracy: 94%\n",
            "Epoch 7/10, elapsed time: 11.64 sec, test accuracy: 94%\n",
            "Epoch 8/10, elapsed time: 13.22 sec, test accuracy: 93%\n",
            "Epoch 9/10, elapsed time: 14.88 sec, test accuracy: 92%\n",
            "Epoch 10/10, elapsed time: 16.43 sec, test accuracy: 95%\n",
            "Epoch 1/10, elapsed time: 1.54 sec, test accuracy: 91%\n",
            "Epoch 2/10, elapsed time: 3.54 sec, test accuracy: 94%\n",
            "Epoch 3/10, elapsed time: 5.08 sec, test accuracy: 92%\n",
            "Epoch 4/10, elapsed time: 6.60 sec, test accuracy: 93%\n",
            "Epoch 5/10, elapsed time: 8.09 sec, test accuracy: 94%\n",
            "Epoch 6/10, elapsed time: 9.60 sec, test accuracy: 94%\n",
            "Epoch 7/10, elapsed time: 11.17 sec, test accuracy: 94%\n",
            "Epoch 8/10, elapsed time: 12.77 sec, test accuracy: 95%\n",
            "Epoch 9/10, elapsed time: 14.68 sec, test accuracy: 93%\n",
            "Epoch 10/10, elapsed time: 16.61 sec, test accuracy: 94%\n",
            "Epoch 1/10, elapsed time: 1.32 sec, test accuracy: 92%\n",
            "Epoch 2/10, elapsed time: 2.88 sec, test accuracy: 94%\n",
            "Epoch 3/10, elapsed time: 4.73 sec, test accuracy: 94%\n",
            "Epoch 4/10, elapsed time: 6.31 sec, test accuracy: 93%\n",
            "Epoch 5/10, elapsed time: 7.91 sec, test accuracy: 94%\n",
            "Epoch 6/10, elapsed time: 9.66 sec, test accuracy: 93%\n",
            "Epoch 7/10, elapsed time: 11.81 sec, test accuracy: 95%\n",
            "Epoch 8/10, elapsed time: 13.42 sec, test accuracy: 95%\n",
            "Epoch 9/10, elapsed time: 15.07 sec, test accuracy: 95%\n",
            "Epoch 10/10, elapsed time: 16.60 sec, test accuracy: 95%\n",
            "Epoch 1/10, elapsed time: 1.38 sec, test accuracy: 92%\n",
            "Epoch 2/10, elapsed time: 2.93 sec, test accuracy: 92%\n",
            "Epoch 3/10, elapsed time: 4.56 sec, test accuracy: 93%\n",
            "Epoch 4/10, elapsed time: 6.52 sec, test accuracy: 94%\n",
            "Epoch 5/10, elapsed time: 8.42 sec, test accuracy: 94%\n",
            "Epoch 6/10, elapsed time: 10.03 sec, test accuracy: 93%\n",
            "Epoch 7/10, elapsed time: 11.62 sec, test accuracy: 94%\n",
            "Epoch 8/10, elapsed time: 13.20 sec, test accuracy: 95%\n",
            "Epoch 9/10, elapsed time: 15.14 sec, test accuracy: 93%\n",
            "Epoch 10/10, elapsed time: 16.80 sec, test accuracy: 94%\n",
            "\n",
            "\n",
            "Total elapsed experiment time: 2.0 minutes and 46.71123727799994 seconds.\n"
          ]
        }
      ]
    },
    {
      "cell_type": "code",
      "source": [
        "def function2trainTheModel2():\n",
        "\n",
        "  # Start the timer!\n",
        "  timerInFunction = time.process_time()\n",
        "\n",
        "  # number of epochs\n",
        "  num_epochs = 10\n",
        "\n",
        "  # create a new model\n",
        "  net, loss_fun, optimizer = createTheMNISTNet()\n",
        "\n",
        "  # initialise losses\n",
        "  losses = torch.zeros(num_epochs)\n",
        "  trainAcc = []\n",
        "  testAcc = []\n",
        "\n",
        "  # loop over epochs\n",
        "  for epoch in range(num_epochs):\n",
        "    # loop over training data batches\n",
        "    batchAcc = []\n",
        "    batchLoss = []\n",
        "    for X, y in train_loader:\n",
        "      # forward pass and loss\n",
        "      yhat = net(X)\n",
        "      loss = loss_fun(yhat, y)\n",
        "\n",
        "      # backprop\n",
        "      optimizer.zero_grad()\n",
        "      loss.backward()\n",
        "      optimizer.step()\n",
        "\n",
        "      # loss from this batch\n",
        "      batchLoss.append(loss.item())\n",
        "\n",
        "      # compute accuracy\n",
        "      matches = torch.argmax(yhat, axis=1) == y    # booleans (false/true)\n",
        "      matchesNumeric = matches.float()              # convert to numbers (0/1)\n",
        "      accuracyPct = 100 * torch.mean(matchesNumeric) # average and x100\n",
        "      batchAcc.append( accuracyPct )             # add to list of accuracies\n",
        "    # end of batch loop...\n",
        "\n",
        "    # now that we've trained through the batches, get their average training accuracy\n",
        "    trainAcc.append( np.mean(batchAcc) )\n",
        "\n",
        "    # and get average losses across the batches\n",
        "    losses[epoch] = np.mean(batchLoss)\n",
        "\n",
        "    # test accuracy\n",
        "    X, y = next(iter(test_loader))  # extract X, y from test dataloader\n",
        "    with torch.no_grad(): # deactivates autograd\n",
        "      yhat = net(X)\n",
        "\n",
        "    # Compare the following really long line of code to the training accuracy lines\n",
        "    testAcc.append( 100*torch.mean( (torch.argmax(yhat, axis=1) == y).float() ) )\n",
        "\n",
        "    # Finally, report the epoch number, computation time, and accuracy\n",
        "    comp_time = time.process_time() - timerInFunction\n",
        "    if epoch == 4:\n",
        "      print(f\"Epoch {epoch+1}/{num_epochs}, elapsed time: {comp_time:.2f} sec, test accuracy: {testAcc[-1]:.0f}%\")\n",
        "\n",
        "  # end epochs\n",
        "\n",
        "  # function output\n",
        "  return trainAcc, testAcc, losses, net"
      ],
      "metadata": {
        "id": "XE2SIqHItCYA"
      },
      "execution_count": 38,
      "outputs": []
    },
    {
      "cell_type": "code",
      "source": [
        "# now run a second timer over repeated iterations\n",
        "\n",
        "# Start the timer! (note the different variable name)\n",
        "timerOutsideFunction = time.process_time()\n",
        "\n",
        "for i in range(10):\n",
        "  function2trainTheModel2()\n",
        "\n",
        "TotalExperimentTime = time.process_time() - timerOutsideFunction\n",
        "TotalMinutes = TotalExperimentTime // 60\n",
        "TotalSeconds = TotalExperimentTime - (TotalMinutes * 60)\n",
        "\n",
        "print(f\"\\n\\nTotal elapsed experiment time: {TotalMinutes:.0f} minutes and {TotalSeconds:.0f} seconds.\")"
      ],
      "metadata": {
        "colab": {
          "base_uri": "https://localhost:8080/"
        },
        "id": "kraiSbrgx4G2",
        "outputId": "bfdcc994-a034-4945-cc33-ec1226d7a473"
      },
      "execution_count": 39,
      "outputs": [
        {
          "output_type": "stream",
          "name": "stdout",
          "text": [
            "Epoch 5/10, elapsed time: 8.15 sec, test accuracy: 93%\n",
            "Epoch 5/10, elapsed time: 8.25 sec, test accuracy: 95%\n",
            "Epoch 5/10, elapsed time: 7.75 sec, test accuracy: 94%\n",
            "Epoch 5/10, elapsed time: 8.17 sec, test accuracy: 94%\n",
            "Epoch 5/10, elapsed time: 8.30 sec, test accuracy: 94%\n",
            "Epoch 5/10, elapsed time: 7.86 sec, test accuracy: 94%\n",
            "Epoch 5/10, elapsed time: 8.49 sec, test accuracy: 95%\n",
            "Epoch 5/10, elapsed time: 7.96 sec, test accuracy: 94%\n",
            "Epoch 5/10, elapsed time: 7.92 sec, test accuracy: 94%\n",
            "Epoch 5/10, elapsed time: 8.75 sec, test accuracy: 94%\n",
            "\n",
            "\n",
            "Total elapsed experiment time: 2.0 minutes and 46 seconds.\n"
          ]
        }
      ]
    }
  ]
}