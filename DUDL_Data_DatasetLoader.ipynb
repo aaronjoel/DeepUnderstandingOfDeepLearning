{
  "nbformat": 4,
  "nbformat_minor": 0,
  "metadata": {
    "colab": {
      "provenance": [],
      "authorship_tag": "ABX9TyNqsh3hejlpbIJqx2RIxstl",
      "include_colab_link": true
    },
    "kernelspec": {
      "name": "python3",
      "display_name": "Python 3"
    },
    "language_info": {
      "name": "python"
    }
  },
  "cells": [
    {
      "cell_type": "markdown",
      "metadata": {
        "id": "view-in-github",
        "colab_type": "text"
      },
      "source": [
        "<a href=\"https://colab.research.google.com/github/aaronjoel/DeepUnderstandingOfDeepLearning/blob/main/DUDL_Data_DatasetLoader.ipynb\" target=\"_parent\"><img src=\"https://colab.research.google.com/assets/colab-badge.svg\" alt=\"Open In Colab\"/></a>"
      ]
    },
    {
      "cell_type": "code",
      "execution_count": 1,
      "metadata": {
        "id": "4x7bgYP6NIlx"
      },
      "outputs": [],
      "source": [
        "# import libraries\n",
        "import numpy as np\n",
        "import torch\n",
        "from torch.utils.data import DataLoader, TensorDataset"
      ]
    },
    {
      "cell_type": "code",
      "source": [
        "# Create some data in numpy\n",
        "nObservations = 100\n",
        "nFeatures= 20\n",
        "\n",
        "data = np.random.randn(nObservations, nFeatures)"
      ],
      "metadata": {
        "id": "q07vSAZYOPfE"
      },
      "execution_count": 2,
      "outputs": []
    },
    {
      "cell_type": "code",
      "source": [
        "data.shape"
      ],
      "metadata": {
        "colab": {
          "base_uri": "https://localhost:8080/"
        },
        "id": "RGLYcuGQOYJs",
        "outputId": "e53541be-f28a-41fe-af35-4a7d01f5a0d7"
      },
      "execution_count": 3,
      "outputs": [
        {
          "output_type": "execute_result",
          "data": {
            "text/plain": [
              "(100, 20)"
            ]
          },
          "metadata": {},
          "execution_count": 3
        }
      ]
    },
    {
      "cell_type": "code",
      "source": [
        "data[0].shape"
      ],
      "metadata": {
        "colab": {
          "base_uri": "https://localhost:8080/"
        },
        "id": "3NITFAnvOY_V",
        "outputId": "168382b5-36ce-4d09-c3f4-cd99d02485b3"
      },
      "execution_count": 4,
      "outputs": [
        {
          "output_type": "execute_result",
          "data": {
            "text/plain": [
              "(20,)"
            ]
          },
          "metadata": {},
          "execution_count": 4
        }
      ]
    },
    {
      "cell_type": "code",
      "source": [
        "data[0]"
      ],
      "metadata": {
        "colab": {
          "base_uri": "https://localhost:8080/"
        },
        "id": "wWMlwnqzOand",
        "outputId": "1987648d-6f11-4a60-9138-b1a8cb591d6a"
      },
      "execution_count": 5,
      "outputs": [
        {
          "output_type": "execute_result",
          "data": {
            "text/plain": [
              "array([ 1.64033716e-03,  8.53876275e-01,  8.77563430e-01, -1.11264898e+00,\n",
              "       -6.13146261e-01, -5.40733959e-02,  2.14285854e-01, -9.99703703e-01,\n",
              "       -5.24580817e-01, -1.02277193e+00, -1.08845805e+00,  1.32127034e+00,\n",
              "        8.53866178e-01, -1.75535166e+00, -1.31413407e+00,  6.43028731e-01,\n",
              "        2.84325366e+00, -1.11058455e+00, -1.19829027e+00, -1.06776911e+00])"
            ]
          },
          "metadata": {},
          "execution_count": 5
        }
      ]
    },
    {
      "cell_type": "code",
      "source": [
        "# Convert to pytorch tensor\n",
        "dataT = torch.tensor(data)\n",
        "dataT.shape"
      ],
      "metadata": {
        "colab": {
          "base_uri": "https://localhost:8080/"
        },
        "id": "vu_CXUTIOcnK",
        "outputId": "9f99e9ba-a848-4583-a01a-0d7e247ca902"
      },
      "execution_count": 6,
      "outputs": [
        {
          "output_type": "execute_result",
          "data": {
            "text/plain": [
              "torch.Size([100, 20])"
            ]
          },
          "metadata": {},
          "execution_count": 6
        }
      ]
    },
    {
      "cell_type": "code",
      "source": [
        "dataT[0]"
      ],
      "metadata": {
        "colab": {
          "base_uri": "https://localhost:8080/"
        },
        "id": "ELutklqxOmZQ",
        "outputId": "ca94f2ab-629e-4665-95f3-7d5be8a02c6a"
      },
      "execution_count": 7,
      "outputs": [
        {
          "output_type": "execute_result",
          "data": {
            "text/plain": [
              "tensor([ 1.6403e-03,  8.5388e-01,  8.7756e-01, -1.1126e+00, -6.1315e-01,\n",
              "        -5.4073e-02,  2.1429e-01, -9.9970e-01, -5.2458e-01, -1.0228e+00,\n",
              "        -1.0885e+00,  1.3213e+00,  8.5387e-01, -1.7554e+00, -1.3141e+00,\n",
              "         6.4303e-01,  2.8433e+00, -1.1106e+00, -1.1983e+00, -1.0678e+00],\n",
              "       dtype=torch.float64)"
            ]
          },
          "metadata": {},
          "execution_count": 7
        }
      ]
    },
    {
      "cell_type": "code",
      "source": [
        "# print out some information\n",
        "print('NumPy data:')\n",
        "print(type(data))\n",
        "print(data.shape)\n",
        "print(data.dtype)"
      ],
      "metadata": {
        "colab": {
          "base_uri": "https://localhost:8080/"
        },
        "id": "QIwTNd81OnQd",
        "outputId": "74b0d526-eb3d-4081-889b-a63ed586dc2b"
      },
      "execution_count": 8,
      "outputs": [
        {
          "output_type": "stream",
          "name": "stdout",
          "text": [
            "NumPy data:\n",
            "<class 'numpy.ndarray'>\n",
            "(100, 20)\n",
            "float64\n"
          ]
        }
      ]
    },
    {
      "cell_type": "code",
      "source": [
        "print('Tensor data:')\n",
        "print(type(dataT))\n",
        "print(dataT.size()) # torch -> .size()\n",
        "print(dataT.dtype)"
      ],
      "metadata": {
        "colab": {
          "base_uri": "https://localhost:8080/"
        },
        "id": "iapeKd2_OvlE",
        "outputId": "3fe009db-c3ec-411f-b09b-1ac2daac5f3e"
      },
      "execution_count": 9,
      "outputs": [
        {
          "output_type": "stream",
          "name": "stdout",
          "text": [
            "Tensor data:\n",
            "<class 'torch.Tensor'>\n",
            "torch.Size([100, 20])\n",
            "torch.float64\n"
          ]
        }
      ]
    },
    {
      "cell_type": "code",
      "source": [
        "# Sometimes you need to convert data types\n",
        "dataT2 = torch.Tensor( data ).float()\n",
        "print(dataT2.dtype)"
      ],
      "metadata": {
        "colab": {
          "base_uri": "https://localhost:8080/"
        },
        "id": "2LY_me5nO-YJ",
        "outputId": "61db75c9-96c2-4448-953c-878783d1fd87"
      },
      "execution_count": 10,
      "outputs": [
        {
          "output_type": "stream",
          "name": "stdout",
          "text": [
            "torch.float32\n"
          ]
        }
      ]
    },
    {
      "cell_type": "code",
      "source": [
        "dataT3 = torch.tensor( data ).long()\n",
        "print(dataT3.dtype)"
      ],
      "metadata": {
        "colab": {
          "base_uri": "https://localhost:8080/"
        },
        "id": "Ong2hRqnPQwS",
        "outputId": "c99e8674-0848-40e7-fe41-ca9a85db61cc"
      },
      "execution_count": 11,
      "outputs": [
        {
          "output_type": "stream",
          "name": "stdout",
          "text": [
            "torch.int64\n"
          ]
        }
      ]
    },
    {
      "cell_type": "code",
      "source": [
        "# Convert tensor into PyTorch datasets\n",
        "dataset = TensorDataset(data)"
      ],
      "metadata": {
        "colab": {
          "base_uri": "https://localhost:8080/",
          "height": 314
        },
        "id": "1hxd-4zxPZ2u",
        "outputId": "81021592-04b0-4186-fb92-f97850f00650"
      },
      "execution_count": 12,
      "outputs": [
        {
          "output_type": "error",
          "ename": "TypeError",
          "evalue": "'int' object is not callable",
          "traceback": [
            "\u001b[0;31m---------------------------------------------------------------------------\u001b[0m",
            "\u001b[0;31mTypeError\u001b[0m                                 Traceback (most recent call last)",
            "\u001b[0;32m<ipython-input-12-f1249240b7ec>\u001b[0m in \u001b[0;36m<cell line: 0>\u001b[0;34m()\u001b[0m\n\u001b[1;32m      1\u001b[0m \u001b[0;31m# Convert tensor into PyTorch datasets\u001b[0m\u001b[0;34m\u001b[0m\u001b[0;34m\u001b[0m\u001b[0m\n\u001b[0;32m----> 2\u001b[0;31m \u001b[0mdataset\u001b[0m \u001b[0;34m=\u001b[0m \u001b[0mTensorDataset\u001b[0m\u001b[0;34m(\u001b[0m\u001b[0mdata\u001b[0m\u001b[0;34m)\u001b[0m\u001b[0;34m\u001b[0m\u001b[0;34m\u001b[0m\u001b[0m\n\u001b[0m",
            "\u001b[0;32m/usr/local/lib/python3.11/dist-packages/torch/utils/data/dataset.py\u001b[0m in \u001b[0;36m__init__\u001b[0;34m(self, *tensors)\u001b[0m\n\u001b[1;32m    203\u001b[0m \u001b[0;34m\u001b[0m\u001b[0m\n\u001b[1;32m    204\u001b[0m     \u001b[0;32mdef\u001b[0m \u001b[0m__init__\u001b[0m\u001b[0;34m(\u001b[0m\u001b[0mself\u001b[0m\u001b[0;34m,\u001b[0m \u001b[0;34m*\u001b[0m\u001b[0mtensors\u001b[0m\u001b[0;34m:\u001b[0m \u001b[0mTensor\u001b[0m\u001b[0;34m)\u001b[0m \u001b[0;34m->\u001b[0m \u001b[0;32mNone\u001b[0m\u001b[0;34m:\u001b[0m\u001b[0;34m\u001b[0m\u001b[0;34m\u001b[0m\u001b[0m\n\u001b[0;32m--> 205\u001b[0;31m         assert all(\n\u001b[0m\u001b[1;32m    206\u001b[0m             \u001b[0mtensors\u001b[0m\u001b[0;34m[\u001b[0m\u001b[0;36m0\u001b[0m\u001b[0;34m]\u001b[0m\u001b[0;34m.\u001b[0m\u001b[0msize\u001b[0m\u001b[0;34m(\u001b[0m\u001b[0;36m0\u001b[0m\u001b[0;34m)\u001b[0m \u001b[0;34m==\u001b[0m \u001b[0mtensor\u001b[0m\u001b[0;34m.\u001b[0m\u001b[0msize\u001b[0m\u001b[0;34m(\u001b[0m\u001b[0;36m0\u001b[0m\u001b[0;34m)\u001b[0m \u001b[0;32mfor\u001b[0m \u001b[0mtensor\u001b[0m \u001b[0;32min\u001b[0m \u001b[0mtensors\u001b[0m\u001b[0;34m\u001b[0m\u001b[0;34m\u001b[0m\u001b[0m\n\u001b[1;32m    207\u001b[0m         ), \"Size mismatch between tensors\"\n",
            "\u001b[0;32m/usr/local/lib/python3.11/dist-packages/torch/utils/data/dataset.py\u001b[0m in \u001b[0;36m<genexpr>\u001b[0;34m(.0)\u001b[0m\n\u001b[1;32m    204\u001b[0m     \u001b[0;32mdef\u001b[0m \u001b[0m__init__\u001b[0m\u001b[0;34m(\u001b[0m\u001b[0mself\u001b[0m\u001b[0;34m,\u001b[0m \u001b[0;34m*\u001b[0m\u001b[0mtensors\u001b[0m\u001b[0;34m:\u001b[0m \u001b[0mTensor\u001b[0m\u001b[0;34m)\u001b[0m \u001b[0;34m->\u001b[0m \u001b[0;32mNone\u001b[0m\u001b[0;34m:\u001b[0m\u001b[0;34m\u001b[0m\u001b[0;34m\u001b[0m\u001b[0m\n\u001b[1;32m    205\u001b[0m         assert all(\n\u001b[0;32m--> 206\u001b[0;31m             \u001b[0mtensors\u001b[0m\u001b[0;34m[\u001b[0m\u001b[0;36m0\u001b[0m\u001b[0;34m]\u001b[0m\u001b[0;34m.\u001b[0m\u001b[0msize\u001b[0m\u001b[0;34m(\u001b[0m\u001b[0;36m0\u001b[0m\u001b[0;34m)\u001b[0m \u001b[0;34m==\u001b[0m \u001b[0mtensor\u001b[0m\u001b[0;34m.\u001b[0m\u001b[0msize\u001b[0m\u001b[0;34m(\u001b[0m\u001b[0;36m0\u001b[0m\u001b[0;34m)\u001b[0m \u001b[0;32mfor\u001b[0m \u001b[0mtensor\u001b[0m \u001b[0;32min\u001b[0m \u001b[0mtensors\u001b[0m\u001b[0;34m\u001b[0m\u001b[0;34m\u001b[0m\u001b[0m\n\u001b[0m\u001b[1;32m    207\u001b[0m         ), \"Size mismatch between tensors\"\n\u001b[1;32m    208\u001b[0m         \u001b[0mself\u001b[0m\u001b[0;34m.\u001b[0m\u001b[0mtensors\u001b[0m \u001b[0;34m=\u001b[0m \u001b[0mtensors\u001b[0m\u001b[0;34m\u001b[0m\u001b[0;34m\u001b[0m\u001b[0m\n",
            "\u001b[0;31mTypeError\u001b[0m: 'int' object is not callable"
          ]
        }
      ]
    },
    {
      "cell_type": "code",
      "source": [
        "dataset = TensorDataset(dataT)"
      ],
      "metadata": {
        "id": "hugXJMNhPkae"
      },
      "execution_count": 13,
      "outputs": []
    },
    {
      "cell_type": "code",
      "source": [
        "dir(dataset)"
      ],
      "metadata": {
        "colab": {
          "base_uri": "https://localhost:8080/"
        },
        "id": "2jceiLjVPqQz",
        "outputId": "d80b12a5-6a04-4412-f4ce-72b87725abfb"
      },
      "execution_count": 14,
      "outputs": [
        {
          "output_type": "execute_result",
          "data": {
            "text/plain": [
              "['__add__',\n",
              " '__annotations__',\n",
              " '__class__',\n",
              " '__class_getitem__',\n",
              " '__delattr__',\n",
              " '__dict__',\n",
              " '__dir__',\n",
              " '__doc__',\n",
              " '__eq__',\n",
              " '__format__',\n",
              " '__ge__',\n",
              " '__getattribute__',\n",
              " '__getitem__',\n",
              " '__getstate__',\n",
              " '__gt__',\n",
              " '__hash__',\n",
              " '__init__',\n",
              " '__init_subclass__',\n",
              " '__le__',\n",
              " '__len__',\n",
              " '__lt__',\n",
              " '__module__',\n",
              " '__ne__',\n",
              " '__new__',\n",
              " '__orig_bases__',\n",
              " '__parameters__',\n",
              " '__reduce__',\n",
              " '__reduce_ex__',\n",
              " '__repr__',\n",
              " '__setattr__',\n",
              " '__sizeof__',\n",
              " '__slots__',\n",
              " '__str__',\n",
              " '__subclasshook__',\n",
              " '__weakref__',\n",
              " '_is_protocol',\n",
              " 'tensors']"
            ]
          },
          "metadata": {},
          "execution_count": 14
        }
      ]
    },
    {
      "cell_type": "code",
      "source": [
        "dataset.tensors"
      ],
      "metadata": {
        "colab": {
          "base_uri": "https://localhost:8080/"
        },
        "id": "YWhDELS5Prq-",
        "outputId": "628a26ec-5d13-48b2-b7a7-56963f1341bb"
      },
      "execution_count": 15,
      "outputs": [
        {
          "output_type": "execute_result",
          "data": {
            "text/plain": [
              "(tensor([[ 1.6403e-03,  8.5388e-01,  8.7756e-01,  ..., -1.1106e+00,\n",
              "          -1.1983e+00, -1.0678e+00],\n",
              "         [ 5.3528e-01,  1.2617e+00, -2.2205e+00,  ..., -1.5594e+00,\n",
              "          -1.8863e+00, -3.6895e-01],\n",
              "         [ 4.5088e-01,  7.8107e-01, -3.1973e-01,  ..., -3.7594e-01,\n",
              "           1.4896e-01, -1.1421e-01],\n",
              "         ...,\n",
              "         [-3.4906e-01, -1.7391e-01, -4.9024e-01,  ...,  1.0912e+00,\n",
              "           8.4654e-01,  7.9275e-01],\n",
              "         [-2.3434e-01,  2.6258e-01, -1.4495e+00,  ..., -2.1065e-01,\n",
              "           2.0551e+00,  9.5737e-01],\n",
              "         [ 9.2015e-01, -2.7483e-01,  1.5946e+00,  ...,  3.3417e-01,\n",
              "          -8.7692e-01,  8.0415e-01]], dtype=torch.float64),)"
            ]
          },
          "metadata": {},
          "execution_count": 15
        }
      ]
    },
    {
      "cell_type": "code",
      "source": [
        "type(dataset.tensors)"
      ],
      "metadata": {
        "colab": {
          "base_uri": "https://localhost:8080/"
        },
        "id": "Fbo2xWDKPu1H",
        "outputId": "4d5d2867-edd1-4b3a-c4fd-69ce87897e0d"
      },
      "execution_count": 16,
      "outputs": [
        {
          "output_type": "execute_result",
          "data": {
            "text/plain": [
              "tuple"
            ]
          },
          "metadata": {},
          "execution_count": 16
        }
      ]
    },
    {
      "cell_type": "code",
      "source": [
        "dataset.tensors[0]"
      ],
      "metadata": {
        "colab": {
          "base_uri": "https://localhost:8080/"
        },
        "id": "ouWiOZkYPxum",
        "outputId": "fce327e1-6c20-462a-a0e7-e2049ee6a212"
      },
      "execution_count": 17,
      "outputs": [
        {
          "output_type": "execute_result",
          "data": {
            "text/plain": [
              "tensor([[ 1.6403e-03,  8.5388e-01,  8.7756e-01,  ..., -1.1106e+00,\n",
              "         -1.1983e+00, -1.0678e+00],\n",
              "        [ 5.3528e-01,  1.2617e+00, -2.2205e+00,  ..., -1.5594e+00,\n",
              "         -1.8863e+00, -3.6895e-01],\n",
              "        [ 4.5088e-01,  7.8107e-01, -3.1973e-01,  ..., -3.7594e-01,\n",
              "          1.4896e-01, -1.1421e-01],\n",
              "        ...,\n",
              "        [-3.4906e-01, -1.7391e-01, -4.9024e-01,  ...,  1.0912e+00,\n",
              "          8.4654e-01,  7.9275e-01],\n",
              "        [-2.3434e-01,  2.6258e-01, -1.4495e+00,  ..., -2.1065e-01,\n",
              "          2.0551e+00,  9.5737e-01],\n",
              "        [ 9.2015e-01, -2.7483e-01,  1.5946e+00,  ...,  3.3417e-01,\n",
              "         -8.7692e-01,  8.0415e-01]], dtype=torch.float64)"
            ]
          },
          "metadata": {},
          "execution_count": 17
        }
      ]
    },
    {
      "cell_type": "code",
      "source": [
        "dataset.tensors[0].shape"
      ],
      "metadata": {
        "colab": {
          "base_uri": "https://localhost:8080/"
        },
        "id": "PhSS9fhCP0OJ",
        "outputId": "79766b58-c834-4634-e7c7-c2cbd4ebbd9f"
      },
      "execution_count": 19,
      "outputs": [
        {
          "output_type": "execute_result",
          "data": {
            "text/plain": [
              "torch.Size([100, 20])"
            ]
          },
          "metadata": {},
          "execution_count": 19
        }
      ]
    },
    {
      "cell_type": "code",
      "source": [
        "# Let's try again with labels\n",
        "labels = torch.ceil( torch.linspace(.01, 4, nObservations) )\n",
        "labels.shape"
      ],
      "metadata": {
        "colab": {
          "base_uri": "https://localhost:8080/"
        },
        "id": "ZKB4lCRmP2jd",
        "outputId": "c80fc2c2-c973-4521-d17a-3556543f35c7"
      },
      "execution_count": 20,
      "outputs": [
        {
          "output_type": "execute_result",
          "data": {
            "text/plain": [
              "torch.Size([100])"
            ]
          },
          "metadata": {},
          "execution_count": 20
        }
      ]
    },
    {
      "cell_type": "code",
      "source": [
        "# transform to an actual matrix (column vector)\n",
        "labels = labels.reshape(shape=(len(labels), 1))\n",
        "labels.shape"
      ],
      "metadata": {
        "colab": {
          "base_uri": "https://localhost:8080/"
        },
        "id": "19_twV0hQIQK",
        "outputId": "ae13a214-5342-41fa-df2a-516e1b925723"
      },
      "execution_count": 21,
      "outputs": [
        {
          "output_type": "execute_result",
          "data": {
            "text/plain": [
              "torch.Size([100, 1])"
            ]
          },
          "metadata": {},
          "execution_count": 21
        }
      ]
    },
    {
      "cell_type": "code",
      "source": [
        "# now another dataset\n",
        "dataset = TensorDataset(dataT, labels)\n",
        "dataset"
      ],
      "metadata": {
        "colab": {
          "base_uri": "https://localhost:8080/"
        },
        "id": "MRgmEUanQVQa",
        "outputId": "c43b25fa-3e46-41a3-be30-917dc510b7cf"
      },
      "execution_count": 23,
      "outputs": [
        {
          "output_type": "execute_result",
          "data": {
            "text/plain": [
              "<torch.utils.data.dataset.TensorDataset at 0x7c6b616d4410>"
            ]
          },
          "metadata": {},
          "execution_count": 23
        }
      ]
    },
    {
      "cell_type": "code",
      "source": [
        "type(dataset.tensors)"
      ],
      "metadata": {
        "colab": {
          "base_uri": "https://localhost:8080/"
        },
        "id": "OBmB7CIeQkjO",
        "outputId": "bc8de0e0-ebcf-4d4f-e677-35d1a2daa249"
      },
      "execution_count": 26,
      "outputs": [
        {
          "output_type": "execute_result",
          "data": {
            "text/plain": [
              "tuple"
            ]
          },
          "metadata": {},
          "execution_count": 26
        }
      ]
    },
    {
      "cell_type": "code",
      "source": [
        "dataset.tensors[0].shape"
      ],
      "metadata": {
        "colab": {
          "base_uri": "https://localhost:8080/"
        },
        "id": "RVRYCQctQryd",
        "outputId": "258de38d-9de3-4b51-84c3-91427693df9c"
      },
      "execution_count": 27,
      "outputs": [
        {
          "output_type": "execute_result",
          "data": {
            "text/plain": [
              "torch.Size([100, 20])"
            ]
          },
          "metadata": {},
          "execution_count": 27
        }
      ]
    },
    {
      "cell_type": "code",
      "source": [
        "dataset.tensors[1].shape"
      ],
      "metadata": {
        "colab": {
          "base_uri": "https://localhost:8080/"
        },
        "id": "2Ac3MasHQ0SX",
        "outputId": "ca43d89f-d784-4cde-a48c-48f801f26631"
      },
      "execution_count": 28,
      "outputs": [
        {
          "output_type": "execute_result",
          "data": {
            "text/plain": [
              "torch.Size([100, 1])"
            ]
          },
          "metadata": {},
          "execution_count": 28
        }
      ]
    },
    {
      "cell_type": "code",
      "source": [
        "dataset.tensors[0].size()"
      ],
      "metadata": {
        "colab": {
          "base_uri": "https://localhost:8080/"
        },
        "id": "b0jzZlhLQ2aF",
        "outputId": "4fdc059e-1501-4292-c086-79016e20e673"
      },
      "execution_count": 29,
      "outputs": [
        {
          "output_type": "execute_result",
          "data": {
            "text/plain": [
              "torch.Size([100, 20])"
            ]
          },
          "metadata": {},
          "execution_count": 29
        }
      ]
    },
    {
      "cell_type": "code",
      "source": [
        "dataset.tensors[1].size()"
      ],
      "metadata": {
        "colab": {
          "base_uri": "https://localhost:8080/"
        },
        "id": "su4qBS-SQ7Od",
        "outputId": "06f13fb5-2ddb-4cfd-c5e0-621198bb19ce"
      },
      "execution_count": 30,
      "outputs": [
        {
          "output_type": "execute_result",
          "data": {
            "text/plain": [
              "torch.Size([100, 1])"
            ]
          },
          "metadata": {},
          "execution_count": 30
        }
      ]
    },
    {
      "cell_type": "code",
      "source": [
        "np.shape( np.random.randint(5,size=nObservations) )"
      ],
      "metadata": {
        "colab": {
          "base_uri": "https://localhost:8080/"
        },
        "id": "gkeS7kO2Q-Xg",
        "outputId": "02c46267-cdbe-49be-bf93-09ee88bbd475"
      },
      "execution_count": 31,
      "outputs": [
        {
          "output_type": "execute_result",
          "data": {
            "text/plain": [
              "(100,)"
            ]
          },
          "metadata": {},
          "execution_count": 31
        }
      ]
    },
    {
      "cell_type": "code",
      "source": [
        "# create a dataloader object\n",
        "batchsize = 25\n",
        "dataloader = DataLoader(dataset=dataset, batch_size=batchsize)\n",
        "dir(dataloader)"
      ],
      "metadata": {
        "colab": {
          "base_uri": "https://localhost:8080/"
        },
        "id": "ptLFliYPRJyC",
        "outputId": "ccc1ee47-60de-44ce-e7ad-21f0800a82e7"
      },
      "execution_count": 32,
      "outputs": [
        {
          "output_type": "execute_result",
          "data": {
            "text/plain": [
              "['_DataLoader__initialized',\n",
              " '_DataLoader__multiprocessing_context',\n",
              " '_IterableDataset_len_called',\n",
              " '__annotations__',\n",
              " '__class__',\n",
              " '__class_getitem__',\n",
              " '__delattr__',\n",
              " '__dict__',\n",
              " '__dir__',\n",
              " '__doc__',\n",
              " '__eq__',\n",
              " '__format__',\n",
              " '__ge__',\n",
              " '__getattribute__',\n",
              " '__getstate__',\n",
              " '__gt__',\n",
              " '__hash__',\n",
              " '__init__',\n",
              " '__init_subclass__',\n",
              " '__iter__',\n",
              " '__le__',\n",
              " '__len__',\n",
              " '__lt__',\n",
              " '__module__',\n",
              " '__ne__',\n",
              " '__new__',\n",
              " '__orig_bases__',\n",
              " '__parameters__',\n",
              " '__reduce__',\n",
              " '__reduce_ex__',\n",
              " '__repr__',\n",
              " '__setattr__',\n",
              " '__sizeof__',\n",
              " '__slots__',\n",
              " '__str__',\n",
              " '__subclasshook__',\n",
              " '__weakref__',\n",
              " '_auto_collation',\n",
              " '_dataset_kind',\n",
              " '_get_iterator',\n",
              " '_index_sampler',\n",
              " '_is_protocol',\n",
              " '_iterator',\n",
              " 'batch_sampler',\n",
              " 'batch_size',\n",
              " 'check_worker_number_rationality',\n",
              " 'collate_fn',\n",
              " 'dataset',\n",
              " 'drop_last',\n",
              " 'generator',\n",
              " 'in_order',\n",
              " 'multiprocessing_context',\n",
              " 'num_workers',\n",
              " 'persistent_workers',\n",
              " 'pin_memory',\n",
              " 'pin_memory_device',\n",
              " 'prefetch_factor',\n",
              " 'sampler',\n",
              " 'timeout',\n",
              " 'worker_init_fn']"
            ]
          },
          "metadata": {},
          "execution_count": 32
        }
      ]
    },
    {
      "cell_type": "code",
      "source": [
        "dataloader.dataset.tensors[0]"
      ],
      "metadata": {
        "colab": {
          "base_uri": "https://localhost:8080/"
        },
        "id": "u8MoRd0lRbpU",
        "outputId": "aa3cfa00-550a-4d66-b62b-f3296f23f9b7"
      },
      "execution_count": 33,
      "outputs": [
        {
          "output_type": "execute_result",
          "data": {
            "text/plain": [
              "tensor([[ 1.6403e-03,  8.5388e-01,  8.7756e-01,  ..., -1.1106e+00,\n",
              "         -1.1983e+00, -1.0678e+00],\n",
              "        [ 5.3528e-01,  1.2617e+00, -2.2205e+00,  ..., -1.5594e+00,\n",
              "         -1.8863e+00, -3.6895e-01],\n",
              "        [ 4.5088e-01,  7.8107e-01, -3.1973e-01,  ..., -3.7594e-01,\n",
              "          1.4896e-01, -1.1421e-01],\n",
              "        ...,\n",
              "        [-3.4906e-01, -1.7391e-01, -4.9024e-01,  ...,  1.0912e+00,\n",
              "          8.4654e-01,  7.9275e-01],\n",
              "        [-2.3434e-01,  2.6258e-01, -1.4495e+00,  ..., -2.1065e-01,\n",
              "          2.0551e+00,  9.5737e-01],\n",
              "        [ 9.2015e-01, -2.7483e-01,  1.5946e+00,  ...,  3.3417e-01,\n",
              "         -8.7692e-01,  8.0415e-01]], dtype=torch.float64)"
            ]
          },
          "metadata": {},
          "execution_count": 33
        }
      ]
    },
    {
      "cell_type": "code",
      "source": [
        "dataloader.dataset.tensors[1]"
      ],
      "metadata": {
        "colab": {
          "base_uri": "https://localhost:8080/"
        },
        "id": "S3TMU6WbRgrl",
        "outputId": "7d4911c6-b6d9-4a03-927e-9dd45ba6b8b2"
      },
      "execution_count": 34,
      "outputs": [
        {
          "output_type": "execute_result",
          "data": {
            "text/plain": [
              "tensor([[1.],\n",
              "        [1.],\n",
              "        [1.],\n",
              "        [1.],\n",
              "        [1.],\n",
              "        [1.],\n",
              "        [1.],\n",
              "        [1.],\n",
              "        [1.],\n",
              "        [1.],\n",
              "        [1.],\n",
              "        [1.],\n",
              "        [1.],\n",
              "        [1.],\n",
              "        [1.],\n",
              "        [1.],\n",
              "        [1.],\n",
              "        [1.],\n",
              "        [1.],\n",
              "        [1.],\n",
              "        [1.],\n",
              "        [1.],\n",
              "        [1.],\n",
              "        [1.],\n",
              "        [1.],\n",
              "        [2.],\n",
              "        [2.],\n",
              "        [2.],\n",
              "        [2.],\n",
              "        [2.],\n",
              "        [2.],\n",
              "        [2.],\n",
              "        [2.],\n",
              "        [2.],\n",
              "        [2.],\n",
              "        [2.],\n",
              "        [2.],\n",
              "        [2.],\n",
              "        [2.],\n",
              "        [2.],\n",
              "        [2.],\n",
              "        [2.],\n",
              "        [2.],\n",
              "        [2.],\n",
              "        [2.],\n",
              "        [2.],\n",
              "        [2.],\n",
              "        [2.],\n",
              "        [2.],\n",
              "        [2.],\n",
              "        [3.],\n",
              "        [3.],\n",
              "        [3.],\n",
              "        [3.],\n",
              "        [3.],\n",
              "        [3.],\n",
              "        [3.],\n",
              "        [3.],\n",
              "        [3.],\n",
              "        [3.],\n",
              "        [3.],\n",
              "        [3.],\n",
              "        [3.],\n",
              "        [3.],\n",
              "        [3.],\n",
              "        [3.],\n",
              "        [3.],\n",
              "        [3.],\n",
              "        [3.],\n",
              "        [3.],\n",
              "        [3.],\n",
              "        [3.],\n",
              "        [3.],\n",
              "        [3.],\n",
              "        [3.],\n",
              "        [4.],\n",
              "        [4.],\n",
              "        [4.],\n",
              "        [4.],\n",
              "        [4.],\n",
              "        [4.],\n",
              "        [4.],\n",
              "        [4.],\n",
              "        [4.],\n",
              "        [4.],\n",
              "        [4.],\n",
              "        [4.],\n",
              "        [4.],\n",
              "        [4.],\n",
              "        [4.],\n",
              "        [4.],\n",
              "        [4.],\n",
              "        [4.],\n",
              "        [4.],\n",
              "        [4.],\n",
              "        [4.],\n",
              "        [4.],\n",
              "        [4.],\n",
              "        [4.],\n",
              "        [4.]])"
            ]
          },
          "metadata": {},
          "execution_count": 34
        }
      ]
    },
    {
      "cell_type": "code",
      "source": [
        "dataloader.dataset.tensors[0].size()"
      ],
      "metadata": {
        "colab": {
          "base_uri": "https://localhost:8080/"
        },
        "id": "EZFCWNHBRj3O",
        "outputId": "69a22a43-7df6-42c8-84ba-6fb729d0ec99"
      },
      "execution_count": 35,
      "outputs": [
        {
          "output_type": "execute_result",
          "data": {
            "text/plain": [
              "torch.Size([100, 20])"
            ]
          },
          "metadata": {},
          "execution_count": 35
        }
      ]
    },
    {
      "cell_type": "code",
      "source": [
        "dataloader.dataset.tensors[1].size()"
      ],
      "metadata": {
        "colab": {
          "base_uri": "https://localhost:8080/"
        },
        "id": "OV7KkV4FRobH",
        "outputId": "eac7af42-bae6-4e60-caf6-24b828c1a461"
      },
      "execution_count": 36,
      "outputs": [
        {
          "output_type": "execute_result",
          "data": {
            "text/plain": [
              "torch.Size([100, 1])"
            ]
          },
          "metadata": {},
          "execution_count": 36
        }
      ]
    },
    {
      "cell_type": "code",
      "source": [
        "# sizes of each batch\n",
        "for dat, labs in dataloader:\n",
        "  print('BATCH INFO:')\n",
        "  print(dat.size())\n",
        "  print(labs.size())\n",
        "  print(' ')"
      ],
      "metadata": {
        "colab": {
          "base_uri": "https://localhost:8080/"
        },
        "id": "zfhwcWDkRseN",
        "outputId": "2e686d09-f233-4ff2-ba95-61c647a085cc"
      },
      "execution_count": 37,
      "outputs": [
        {
          "output_type": "stream",
          "name": "stdout",
          "text": [
            "BATCH INFO:\n",
            "torch.Size([25, 20])\n",
            "torch.Size([25, 1])\n",
            " \n",
            "BATCH INFO:\n",
            "torch.Size([25, 20])\n",
            "torch.Size([25, 1])\n",
            " \n",
            "BATCH INFO:\n",
            "torch.Size([25, 20])\n",
            "torch.Size([25, 1])\n",
            " \n",
            "BATCH INFO:\n",
            "torch.Size([25, 20])\n",
            "torch.Size([25, 1])\n",
            " \n"
          ]
        }
      ]
    },
    {
      "cell_type": "code",
      "source": [
        "# inspect the labels\n",
        "for dat, labs in dataloader:\n",
        "  print(labs.T)\n",
        "  print(' ')"
      ],
      "metadata": {
        "colab": {
          "base_uri": "https://localhost:8080/"
        },
        "id": "2EevFOyJR8CE",
        "outputId": "9ed27b3e-b9a0-4d40-ab57-1120fde235ab"
      },
      "execution_count": 38,
      "outputs": [
        {
          "output_type": "stream",
          "name": "stdout",
          "text": [
            "tensor([[1., 1., 1., 1., 1., 1., 1., 1., 1., 1., 1., 1., 1., 1., 1., 1., 1., 1.,\n",
            "         1., 1., 1., 1., 1., 1., 1.]])\n",
            " \n",
            "tensor([[2., 2., 2., 2., 2., 2., 2., 2., 2., 2., 2., 2., 2., 2., 2., 2., 2., 2.,\n",
            "         2., 2., 2., 2., 2., 2., 2.]])\n",
            " \n",
            "tensor([[3., 3., 3., 3., 3., 3., 3., 3., 3., 3., 3., 3., 3., 3., 3., 3., 3., 3.,\n",
            "         3., 3., 3., 3., 3., 3., 3.]])\n",
            " \n",
            "tensor([[4., 4., 4., 4., 4., 4., 4., 4., 4., 4., 4., 4., 4., 4., 4., 4., 4., 4.,\n",
            "         4., 4., 4., 4., 4., 4., 4.]])\n",
            " \n"
          ]
        }
      ]
    },
    {
      "cell_type": "code",
      "source": [
        "# Try again with shuffling (shuffling happens during iterations)\n",
        "dataloader = DataLoader(dataset=dataset, batch_size=batchsize, shuffle=True)\n",
        "\n",
        "for dat, labs in dataloader:\n",
        "  print(labs.T)\n",
        "  print(' ')"
      ],
      "metadata": {
        "colab": {
          "base_uri": "https://localhost:8080/"
        },
        "id": "jpOLLgCFSNtT",
        "outputId": "a9f5712e-cd11-4b7e-87c9-20571821cbe7"
      },
      "execution_count": 42,
      "outputs": [
        {
          "output_type": "stream",
          "name": "stdout",
          "text": [
            "tensor([[4., 1., 4., 3., 3., 3., 1., 2., 1., 1., 2., 4., 1., 1., 3., 2., 1., 4.,\n",
            "         2., 1., 3., 4., 2., 2., 4.]])\n",
            " \n",
            "tensor([[1., 2., 1., 4., 1., 2., 2., 2., 2., 1., 4., 2., 3., 2., 3., 3., 4., 2.,\n",
            "         1., 2., 3., 4., 3., 1., 4.]])\n",
            " \n",
            "tensor([[1., 4., 3., 3., 4., 3., 3., 1., 4., 3., 1., 3., 2., 2., 2., 2., 3., 4.,\n",
            "         3., 4., 1., 3., 1., 2., 4.]])\n",
            " \n",
            "tensor([[1., 4., 4., 3., 4., 3., 1., 1., 4., 4., 4., 1., 2., 2., 3., 1., 3., 3.,\n",
            "         2., 2., 4., 3., 2., 4., 1.]])\n",
            " \n"
          ]
        }
      ]
    },
    {
      "cell_type": "code",
      "source": [
        "#dataloader = DataLoader(dataset=dataset, batch_size=batchsize, shuffle=True)\n",
        "\n",
        "for dat, labs in dataloader:\n",
        "  print(labs.T)\n",
        "  print(' ')"
      ],
      "metadata": {
        "colab": {
          "base_uri": "https://localhost:8080/"
        },
        "id": "f1RJLolwSfYF",
        "outputId": "a844fc73-c0a2-45b6-c1d7-8df2921411a7"
      },
      "execution_count": 51,
      "outputs": [
        {
          "output_type": "stream",
          "name": "stdout",
          "text": [
            "tensor([[2., 2., 1., 4., 3., 1., 3., 3., 1., 1., 3., 4., 2., 1., 4., 2., 3., 3.,\n",
            "         1., 4., 2., 4., 4., 3., 1.]])\n",
            " \n",
            "tensor([[3., 2., 3., 3., 1., 3., 4., 4., 1., 2., 4., 2., 2., 1., 3., 4., 3., 4.,\n",
            "         4., 2., 2., 1., 4., 3., 2.]])\n",
            " \n",
            "tensor([[3., 3., 3., 2., 2., 1., 2., 3., 4., 2., 1., 1., 4., 4., 2., 3., 3., 1.,\n",
            "         4., 1., 1., 2., 1., 4., 4.]])\n",
            " \n",
            "tensor([[2., 1., 4., 3., 4., 3., 4., 1., 4., 2., 2., 2., 4., 1., 3., 3., 2., 2.,\n",
            "         1., 3., 1., 1., 4., 1., 2.]])\n",
            " \n"
          ]
        }
      ]
    },
    {
      "cell_type": "code",
      "source": [
        "# To get only one batch(e.g., for testing)\n",
        "dat, labs = next(iter(dataloader))\n",
        "labs"
      ],
      "metadata": {
        "colab": {
          "base_uri": "https://localhost:8080/"
        },
        "id": "zoLmKbf7Spz6",
        "outputId": "34c371d5-7f04-4e07-8641-a494610237dc"
      },
      "execution_count": 52,
      "outputs": [
        {
          "output_type": "execute_result",
          "data": {
            "text/plain": [
              "tensor([[3.],\n",
              "        [4.],\n",
              "        [3.],\n",
              "        [3.],\n",
              "        [4.],\n",
              "        [2.],\n",
              "        [1.],\n",
              "        [1.],\n",
              "        [1.],\n",
              "        [3.],\n",
              "        [4.],\n",
              "        [4.],\n",
              "        [2.],\n",
              "        [1.],\n",
              "        [4.],\n",
              "        [4.],\n",
              "        [1.],\n",
              "        [3.],\n",
              "        [2.],\n",
              "        [2.],\n",
              "        [3.],\n",
              "        [2.],\n",
              "        [3.],\n",
              "        [1.],\n",
              "        [2.]])"
            ]
          },
          "metadata": {},
          "execution_count": 52
        }
      ]
    },
    {
      "cell_type": "code",
      "source": [
        "dataloader"
      ],
      "metadata": {
        "colab": {
          "base_uri": "https://localhost:8080/"
        },
        "id": "I5aRPDkeSxWB",
        "outputId": "b26a73c6-49f4-42b2-9735-f92f20bab26a"
      },
      "execution_count": 54,
      "outputs": [
        {
          "output_type": "execute_result",
          "data": {
            "text/plain": [
              "<torch.utils.data.dataloader.DataLoader at 0x7c6b3ddc5990>"
            ]
          },
          "metadata": {},
          "execution_count": 54
        }
      ]
    },
    {
      "cell_type": "code",
      "source": [
        "iter(dataloader)"
      ],
      "metadata": {
        "colab": {
          "base_uri": "https://localhost:8080/"
        },
        "id": "kDX1f2KRSzq9",
        "outputId": "671e2af3-a1ed-4e19-b8e6-4ca00221d5fa"
      },
      "execution_count": 55,
      "outputs": [
        {
          "output_type": "execute_result",
          "data": {
            "text/plain": [
              "<torch.utils.data.dataloader._SingleProcessDataLoaderIter at 0x7c6b3e18c610>"
            ]
          },
          "metadata": {},
          "execution_count": 55
        }
      ]
    },
    {
      "cell_type": "code",
      "source": [
        "next(_)"
      ],
      "metadata": {
        "colab": {
          "base_uri": "https://localhost:8080/"
        },
        "id": "EASYAiXaS257",
        "outputId": "baa9e0ff-b195-41d7-be2b-971c186c04f1"
      },
      "execution_count": 56,
      "outputs": [
        {
          "output_type": "execute_result",
          "data": {
            "text/plain": [
              "[tensor([[ 1.2329e+00, -5.5680e-01, -1.1515e+00,  1.9037e-01,  3.9972e-01,\n",
              "           2.7523e-01,  9.3487e-01, -1.3376e+00, -1.2866e+00, -9.8949e-01,\n",
              "          -2.4466e-01,  5.5947e-01,  1.7675e-01, -2.6617e-01, -1.0712e-01,\n",
              "           1.1420e+00,  3.1702e-01,  8.6744e-01, -1.2531e+00,  1.4057e+00],\n",
              "         [ 1.7733e-01, -1.1362e+00, -6.2604e-01, -5.7990e-01, -2.2177e-01,\n",
              "           1.3225e+00,  8.2412e-01, -1.2680e-01, -5.8698e-01, -2.9902e-02,\n",
              "          -1.4443e-01, -7.5330e-01, -6.9162e-01, -7.6353e-01,  3.6687e-01,\n",
              "          -2.1813e+00,  3.1268e-01,  1.5809e+00,  2.2610e+00, -1.5746e-03],\n",
              "         [ 8.6906e-01,  1.0354e+00,  2.3224e+00,  1.5224e+00,  1.1855e+00,\n",
              "          -8.2245e-01,  8.6381e-01,  1.5907e+00,  1.0913e+00,  1.4903e-01,\n",
              "           1.1942e+00, -1.0637e-01,  2.4053e+00, -2.3521e-01, -3.3876e-01,\n",
              "          -4.8154e-01,  1.3918e+00, -2.0129e+00,  4.4431e-01, -1.1097e+00],\n",
              "         [ 6.0000e-02,  8.8044e-01, -1.1511e+00, -4.6729e-01, -1.9832e+00,\n",
              "           2.0805e-01,  2.0146e+00,  1.3477e+00, -4.2424e-01,  8.3259e-01,\n",
              "           1.4622e+00, -8.8345e-01, -4.8024e-01, -2.2502e-01, -4.5290e-01,\n",
              "           6.0565e-01, -1.0240e+00,  1.7321e-02, -7.8130e-01, -5.7170e-01],\n",
              "         [ 1.5366e+00,  1.4388e+00,  8.3628e-01, -8.5781e-01, -8.5577e-01,\n",
              "          -1.1171e-02,  1.5539e-01, -3.0173e-01,  1.9439e-01, -4.0291e-01,\n",
              "          -9.5503e-02,  1.6383e+00,  1.0374e+00,  6.0980e-02,  1.1312e+00,\n",
              "          -1.0862e-01, -6.0665e-01, -3.8810e-01,  2.2255e-01, -1.0945e+00],\n",
              "         [ 7.9270e-02, -1.2954e-01,  1.1312e+00,  2.5056e-01,  1.3095e+00,\n",
              "           1.2737e+00, -8.5574e-01,  1.1124e+00, -1.2432e+00, -5.2505e-01,\n",
              "          -3.2488e-01, -5.5183e-01,  5.1466e-01, -5.4363e-03,  1.1862e+00,\n",
              "          -1.8970e+00,  2.5911e-01,  1.4685e+00,  3.0920e-01, -3.2460e-01],\n",
              "         [-4.3526e-01, -8.1964e-01,  3.9000e-01,  2.6046e+00,  5.1441e-01,\n",
              "          -3.9813e-01,  5.7353e-01,  3.5147e-01,  3.6812e-01,  1.8457e+00,\n",
              "           1.6880e-01, -2.4214e+00, -4.3544e-01, -8.3828e-01,  1.4579e+00,\n",
              "          -4.1662e-01,  1.9904e+00,  9.5733e-01, -9.9558e-01, -2.0419e+00],\n",
              "         [-1.7241e+00,  4.8126e-01,  8.9398e-01, -1.0196e+00, -5.7422e-01,\n",
              "          -4.2394e-01,  2.0760e+00, -8.0585e-01, -1.2811e+00, -1.7438e-01,\n",
              "           5.5120e-01,  4.9148e-01,  1.5144e+00,  3.6716e-01, -4.5066e-01,\n",
              "           3.0802e-01,  3.6539e-01,  6.4929e-01,  1.8199e+00, -1.5467e+00],\n",
              "         [ 4.7180e-01, -1.5099e+00,  7.5996e-01, -2.7453e-02, -1.4264e-01,\n",
              "          -8.4107e-01, -4.7680e-01,  6.8297e-01,  5.1467e-01, -4.9389e-01,\n",
              "           2.2175e+00, -9.1368e-02,  4.1596e-01,  8.0278e-01,  3.7590e-01,\n",
              "          -1.5088e+00,  5.0464e-01, -2.5828e-01, -1.3869e+00, -1.0045e+00],\n",
              "         [ 1.6734e+00, -3.7807e-01, -1.1423e+00,  6.6425e-01, -1.9752e-01,\n",
              "          -2.1329e+00,  7.3451e-01, -1.2353e+00, -1.6726e+00,  8.8751e-01,\n",
              "          -1.1828e+00,  7.6790e-01,  7.0133e-03, -1.1141e+00, -1.9453e+00,\n",
              "          -2.5086e-01, -1.3844e-02, -5.5261e-01, -1.4939e+00, -3.0755e-01],\n",
              "         [ 9.4822e-01, -8.0159e-01,  1.8281e-01, -2.9317e-01,  5.3004e-01,\n",
              "           4.9872e-01, -1.3877e-01, -5.5348e-01, -1.3149e+00,  7.2615e-01,\n",
              "           2.6638e-01,  1.3902e-01, -8.7986e-01, -1.3791e+00, -2.3234e-01,\n",
              "          -4.4588e-02, -1.0216e+00, -9.0221e-01,  2.2760e+00, -2.4054e-01],\n",
              "         [-1.9077e+00, -1.2349e-01,  7.6611e-01, -9.2483e-01,  1.1375e+00,\n",
              "          -4.1062e-01,  6.8288e-01,  1.1464e+00,  8.0253e-01, -7.7095e-01,\n",
              "          -1.1801e+00, -1.6156e+00,  3.4796e-01, -8.3249e-01,  3.2121e-01,\n",
              "          -1.6039e+00,  8.7858e-01,  5.1211e-01, -1.7711e-02, -2.6175e-02],\n",
              "         [ 1.1951e+00,  6.3127e-02, -1.6290e+00, -1.8725e+00,  8.0779e-01,\n",
              "           1.0188e+00, -4.9699e-01, -9.4154e-01, -8.1599e-01,  1.1896e+00,\n",
              "          -1.2624e+00,  1.5189e+00, -6.5855e-01, -1.2299e+00,  8.6743e-01,\n",
              "          -1.0102e+00,  3.9682e-01, -1.0372e+00, -1.5791e+00,  6.1111e-01],\n",
              "         [ 4.7941e-01,  5.1368e-01,  4.1316e-01,  5.6482e-01,  1.3536e+00,\n",
              "           7.2543e-01, -1.2848e+00, -1.3815e-01, -1.4729e-01,  1.9183e+00,\n",
              "           1.9809e-01, -2.4130e+00,  4.8335e-01,  8.7570e-02,  8.2982e-01,\n",
              "           3.3740e-01, -3.0079e-01,  4.7504e-01, -1.9912e-01, -1.1195e+00],\n",
              "         [-1.5894e+00, -6.3033e-01,  2.4174e-01,  1.7644e+00, -1.3829e+00,\n",
              "          -7.1800e-01,  5.0148e-01, -6.8722e-01,  6.6239e-01, -9.7149e-01,\n",
              "           3.8399e-01, -9.6787e-01, -6.9614e-01,  3.6537e-01, -1.2654e-01,\n",
              "          -1.1901e+00,  1.6571e+00, -2.3213e-01,  6.4113e-01,  5.7699e-01],\n",
              "         [ 5.6585e-01, -1.2486e-01,  2.0495e-01, -1.6930e+00,  1.3437e+00,\n",
              "           5.3378e-01, -1.1858e+00, -3.5056e-01,  8.3530e-01, -6.6768e-01,\n",
              "           1.2820e+00, -1.9529e+00, -6.6019e-01, -1.1262e+00, -6.4505e-01,\n",
              "          -4.1018e-01,  4.5700e-01, -1.6349e-01, -2.8985e-01,  6.3795e-02],\n",
              "         [ 4.2595e-01,  1.9701e-01, -5.7535e-01,  7.7481e-01, -1.4999e+00,\n",
              "          -4.4561e-01, -5.8128e-01,  1.0166e+00,  1.2049e+00,  1.6806e+00,\n",
              "           1.6044e-01, -1.2510e+00, -9.1153e-01,  1.1323e+00, -6.2343e-02,\n",
              "           7.5989e-02, -4.9740e-02,  2.1845e+00,  1.0325e-01,  2.2700e-01],\n",
              "         [-9.8599e-01, -1.4842e+00, -9.5588e-01, -8.6897e-01, -4.1998e-01,\n",
              "          -3.4876e-01, -2.4094e-01,  5.7930e-01, -1.5114e+00,  9.9056e-01,\n",
              "           6.6218e-01,  1.3213e+00, -8.9893e-01,  4.9309e-01,  1.4784e+00,\n",
              "          -1.3843e+00,  1.7958e-01,  1.6139e+00,  1.5388e-01,  1.0572e-01],\n",
              "         [ 3.4827e-01,  4.4572e-01,  1.5380e+00, -1.0361e+00, -8.2634e-01,\n",
              "           6.0904e-01, -2.0512e+00,  1.5718e+00,  9.4686e-01, -2.1358e-01,\n",
              "           4.7835e-01,  1.1561e+00, -3.6611e-02,  6.4865e-01,  5.6930e-01,\n",
              "           1.6585e+00,  1.8854e-01, -7.4112e-01, -2.8846e-01, -1.0051e+00],\n",
              "         [-1.6338e+00,  1.9155e+00,  8.1124e-01, -8.0646e-01,  1.1916e+00,\n",
              "           1.2138e+00, -4.4260e-02,  3.3568e-01, -1.2377e+00, -4.6078e-01,\n",
              "           1.8530e+00,  1.2454e-02, -1.4732e+00, -8.5327e-01,  4.6236e-01,\n",
              "          -5.3205e-01, -1.7192e+00, -8.1888e-01,  4.6732e-01,  1.5141e+00],\n",
              "         [-3.5090e-01, -5.1667e-01, -2.2579e-01, -1.0175e-01, -1.3482e+00,\n",
              "          -1.7426e-01,  4.0563e-01,  4.3876e-01,  3.0038e-01, -1.1902e+00,\n",
              "           5.5772e-01, -7.1700e-01,  1.0815e+00,  7.0184e-01, -5.5407e-01,\n",
              "          -3.2220e-02,  2.8528e+00,  2.3610e+00,  3.6110e-01, -1.8316e+00],\n",
              "         [ 1.1408e+00,  6.5664e-01,  1.1761e+00,  1.2361e+00,  2.0627e+00,\n",
              "           3.1116e-02,  2.6758e-01,  3.8685e-01, -3.9936e-02,  2.7383e+00,\n",
              "           6.8056e-02,  2.3474e-01,  1.9049e-01,  2.3250e+00,  2.7701e+00,\n",
              "           3.0776e-01,  4.8868e-01,  1.2001e-01,  4.4501e-01, -1.7046e+00],\n",
              "         [-1.4326e-01,  1.7070e+00,  1.0271e-01, -7.8586e-02, -1.2043e+00,\n",
              "          -2.4991e-01, -2.2929e-01, -4.8228e-01,  1.1537e+00,  1.2667e+00,\n",
              "           3.5022e-01,  1.2589e+00,  6.9722e-01,  1.2861e+00,  8.4522e-01,\n",
              "          -4.5014e-01,  9.8022e-01, -9.4054e-03, -5.8727e-01,  4.6658e-01],\n",
              "         [-1.4977e-01, -1.7581e+00, -1.2040e+00, -5.3029e-01, -6.9267e-01,\n",
              "          -1.1599e+00, -1.5523e-01,  7.3928e-03,  3.9163e-01, -1.9901e-01,\n",
              "          -1.0125e-02,  1.3952e+00,  4.9982e-01,  1.7934e+00,  1.3868e+00,\n",
              "           1.3233e+00, -1.2490e+00,  1.7097e+00,  7.9790e-01,  1.0980e+00],\n",
              "         [-5.3078e-01, -9.1114e-01,  9.9234e-01, -1.9971e+00, -9.2504e-01,\n",
              "          -1.0765e+00,  1.5687e-01,  6.4693e-01,  5.7350e-01, -6.1122e-01,\n",
              "          -9.1350e-01, -2.1451e+00,  1.5962e+00, -1.3228e+00,  2.8198e-01,\n",
              "          -7.1363e-01,  1.1236e+00,  5.1010e-01, -7.0428e-01, -4.2521e-01]],\n",
              "        dtype=torch.float64),\n",
              " tensor([[1.],\n",
              "         [1.],\n",
              "         [2.],\n",
              "         [4.],\n",
              "         [1.],\n",
              "         [2.],\n",
              "         [2.],\n",
              "         [2.],\n",
              "         [4.],\n",
              "         [3.],\n",
              "         [2.],\n",
              "         [1.],\n",
              "         [3.],\n",
              "         [3.],\n",
              "         [1.],\n",
              "         [3.],\n",
              "         [3.],\n",
              "         [2.],\n",
              "         [1.],\n",
              "         [1.],\n",
              "         [3.],\n",
              "         [1.],\n",
              "         [3.],\n",
              "         [3.],\n",
              "         [4.]])]"
            ]
          },
          "metadata": {},
          "execution_count": 56
        }
      ]
    },
    {
      "cell_type": "code",
      "source": [],
      "metadata": {
        "id": "7thZGqKdS4yc"
      },
      "execution_count": null,
      "outputs": []
    }
  ]
}