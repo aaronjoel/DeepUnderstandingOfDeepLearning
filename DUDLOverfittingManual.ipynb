{
  "nbformat": 4,
  "nbformat_minor": 0,
  "metadata": {
    "colab": {
      "provenance": [],
      "authorship_tag": "ABX9TyP1NqcA1VBGnT5fFmkAOTXi",
      "include_colab_link": true
    },
    "kernelspec": {
      "name": "python3",
      "display_name": "Python 3"
    },
    "language_info": {
      "name": "python"
    }
  },
  "cells": [
    {
      "cell_type": "markdown",
      "metadata": {
        "id": "view-in-github",
        "colab_type": "text"
      },
      "source": [
        "<a href=\"https://colab.research.google.com/github/aaronjoel/DeepUnderstandingOfDeepLearning/blob/main/DUDLOverfittingManual.ipynb\" target=\"_parent\"><img src=\"https://colab.research.google.com/assets/colab-badge.svg\" alt=\"Open In Colab\"/></a>"
      ]
    },
    {
      "cell_type": "code",
      "execution_count": 37,
      "metadata": {
        "id": "qyEsKDLNaqAy"
      },
      "outputs": [],
      "source": [
        "# import libraries\n",
        "import torch\n",
        "import torch.nn as nn\n",
        "import numpy as np"
      ]
    },
    {
      "cell_type": "code",
      "source": [
        "# import dataset\n",
        "import pandas as pd\n",
        "iris = pd.read_csv('https://raw.githubusercontent.com/mwaskom/seaborn-data/master/iris.csv')\n",
        "\n",
        "# convert from pandas dataframe to tensor\n",
        "data = torch.tensor(iris[iris.columns[0:4]].values ).float()\n",
        "\n",
        "# transform species to number\n",
        "labels = torch.zeros(len(data), dtype=torch.long)\n",
        "# labels[iris.species=='setosa'] = 0 # don't need!\n",
        "labels[iris.species=='versicolor'] = 1\n",
        "labels[iris.species=='virginica'] = 2\n",
        "\n"
      ],
      "metadata": {
        "id": "yXrXwnmwbsbV"
      },
      "execution_count": 38,
      "outputs": []
    },
    {
      "cell_type": "code",
      "source": [
        "#  (no devset here)\n",
        "\n",
        "# how many training examples\n",
        "propTraining = .8 # in proportion, not percent\n",
        "nTraining = int(len(labels)*propTraining)\n",
        "\n",
        "# initialize a boolean vector to select data and labels\n",
        "traintestBool = np.zeros(len(labels),dtype=bool)\n",
        "\n",
        "# is this the correct way to select samples?\n",
        "# traintestBool[range(nTraining)] = True\n",
        "\n",
        "# this is better, but why?\n",
        "items2use4train = np.random.choice(range(len(labels)),nTraining,replace=False)\n",
        "traintestBool[items2use4train] = True\n",
        "\n",
        "traintestBool"
      ],
      "metadata": {
        "colab": {
          "base_uri": "https://localhost:8080/"
        },
        "id": "ikLf0pwxcCYI",
        "outputId": "82d478ce-09e0-457e-a422-4ab896fd8a7f"
      },
      "execution_count": 39,
      "outputs": [
        {
          "output_type": "execute_result",
          "data": {
            "text/plain": [
              "array([ True,  True,  True,  True,  True,  True,  True, False,  True,\n",
              "       False, False,  True,  True,  True,  True, False,  True, False,\n",
              "        True,  True,  True,  True, False,  True,  True, False,  True,\n",
              "       False,  True,  True,  True,  True,  True, False,  True,  True,\n",
              "        True,  True,  True,  True, False,  True,  True,  True,  True,\n",
              "        True,  True,  True,  True,  True,  True,  True,  True,  True,\n",
              "        True,  True,  True,  True, False,  True,  True,  True, False,\n",
              "       False,  True,  True,  True,  True,  True,  True,  True,  True,\n",
              "       False,  True,  True,  True, False,  True,  True, False, False,\n",
              "        True,  True, False,  True,  True,  True,  True,  True, False,\n",
              "        True,  True,  True,  True,  True,  True, False,  True,  True,\n",
              "        True,  True,  True,  True, False, False,  True,  True,  True,\n",
              "        True, False,  True,  True,  True,  True,  True, False,  True,\n",
              "        True,  True,  True,  True,  True,  True, False, False,  True,\n",
              "        True,  True,  True,  True,  True, False,  True,  True,  True,\n",
              "       False,  True,  True,  True,  True, False, False,  True,  True,\n",
              "        True,  True,  True,  True,  True,  True])"
            ]
          },
          "metadata": {},
          "execution_count": 39
        }
      ]
    },
    {
      "cell_type": "code",
      "source": [
        "# test whether it's balanced\n",
        "print('Average of full data:')\n",
        "print( torch.mean(labels.float()) ) # =1 by definition\n",
        "print(' ')\n",
        "\n",
        "print('Average of training data:')\n",
        "print( torch.mean(labels[traintestBool].float()) ) # should be 1...\n",
        "print(' ')\n",
        "\n",
        "print('Average of test data:')\n",
        "print( torch.mean(labels[~traintestBool].float()) ) # should also be 1..."
      ],
      "metadata": {
        "colab": {
          "base_uri": "https://localhost:8080/"
        },
        "id": "tEna1OEideVX",
        "outputId": "117ad4e4-e789-436f-fa86-b29f866b28cc"
      },
      "execution_count": 40,
      "outputs": [
        {
          "output_type": "stream",
          "name": "stdout",
          "text": [
            "Average of full data:\n",
            "tensor(1.)\n",
            " \n",
            "Average of training data:\n",
            "tensor(1.)\n",
            " \n",
            "Average of test data:\n",
            "tensor(1.)\n"
          ]
        }
      ]
    },
    {
      "cell_type": "code",
      "source": [
        "# create the ANN model\n",
        "\n",
        "# model architecture\n",
        "ANNiris = nn.Sequential(\n",
        "    nn.Linear(4,64),   # input layer\n",
        "    nn.ReLU(),         # activation unit\n",
        "    nn.Linear(64,64),  # hidden layer\n",
        "    nn.ReLU(),         # activation unit\n",
        "    nn.Linear(64,3),   # output units\n",
        "      )\n",
        "\n",
        "# loss function\n",
        "lossfun = nn.CrossEntropyLoss()\n",
        "\n",
        "# optimizer\n",
        "optimizer = torch.optim.SGD(ANNiris.parameters(),lr=.01)"
      ],
      "metadata": {
        "id": "FJWkkuIXeHOP"
      },
      "execution_count": 41,
      "outputs": []
    },
    {
      "cell_type": "code",
      "source": [
        "# entire dataset\n",
        "print( data.shape )\n",
        "\n",
        "# training set\n",
        "print( data[traintestBool,:].shape )\n",
        "\n",
        "# test set\n",
        "print( data[~traintestBool,:].shape )"
      ],
      "metadata": {
        "colab": {
          "base_uri": "https://localhost:8080/"
        },
        "id": "cFUZNUpyeZ7B",
        "outputId": "121a01d7-8838-4e1f-ac9f-c8e16a2932ce"
      },
      "execution_count": 42,
      "outputs": [
        {
          "output_type": "stream",
          "name": "stdout",
          "text": [
            "torch.Size([150, 4])\n",
            "torch.Size([120, 4])\n",
            "torch.Size([30, 4])\n"
          ]
        }
      ]
    },
    {
      "cell_type": "code",
      "source": [
        "# train the model\n",
        "\n",
        "numepochs = 1000\n",
        "\n",
        "# initialize losses\n",
        "losses = torch.zeros(numepochs)\n",
        "ongoingAcc = []\n",
        "\n",
        "# loop over epochs\n",
        "for epochi in range(numepochs):\n",
        "\n",
        "  # forward pass\n",
        "  yHat = ANNiris(data[traintestBool,:])\n",
        "\n",
        "  # compute accuracy (note: denser than previous code!)\n",
        "  ongoingAcc.append( 100*torch.mean(\n",
        "              (torch.argmax(yHat,axis=1) == labels[traintestBool]).float()) )\n",
        "\n",
        "  # compute loss\n",
        "  loss = lossfun(yHat,labels[traintestBool])\n",
        "  losses[epochi] = loss\n",
        "\n",
        "  # backprop\n",
        "  optimizer.zero_grad()\n",
        "  loss.backward()\n",
        "  optimizer.step()"
      ],
      "metadata": {
        "id": "UUU63Rs6eeJ_"
      },
      "execution_count": 43,
      "outputs": []
    },
    {
      "cell_type": "code",
      "source": [
        "# compute train and test accuracies\n",
        "\n",
        "# final forward pass USING TRAINING DATA\n",
        "predictions = ANNiris(data[traintestBool,:])\n",
        "trainacc = 100*torch.mean((torch.argmax(predictions,axis=1) == labels[traintestBool]).float())\n",
        "\n",
        "\n",
        "# final forward pass USING TEST DATA!\n",
        "predictions = ANNiris(data[~traintestBool,:])\n",
        "testacc = 100*torch.mean((torch.argmax(predictions,axis=1) == labels[~traintestBool]).float())"
      ],
      "metadata": {
        "id": "vHMhzL8_fYZE"
      },
      "execution_count": 44,
      "outputs": []
    },
    {
      "cell_type": "code",
      "source": [
        "# report accuracies\n",
        "\n",
        "print('Final TRAIN accuracy: %g%%' %trainacc)\n",
        "print('Final TEST accuracy:  %g%%' %testacc)"
      ],
      "metadata": {
        "colab": {
          "base_uri": "https://localhost:8080/"
        },
        "id": "RkvJX-SNfUvf",
        "outputId": "35caa578-5774-4900-dc16-faf14358012b"
      },
      "execution_count": 45,
      "outputs": [
        {
          "output_type": "stream",
          "name": "stdout",
          "text": [
            "Final TRAIN accuracy: 99.1667%\n",
            "Final TEST accuracy:  93.3333%\n"
          ]
        }
      ]
    }
  ]
}