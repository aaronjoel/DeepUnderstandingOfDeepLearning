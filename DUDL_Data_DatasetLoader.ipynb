{
  "nbformat": 4,
  "nbformat_minor": 0,
  "metadata": {
    "colab": {
      "provenance": [],
      "authorship_tag": "ABX9TyOxD0ryOITL3eReKrEdur0g",
      "include_colab_link": true
    },
    "kernelspec": {
      "name": "python3",
      "display_name": "Python 3"
    },
    "language_info": {
      "name": "python"
    }
  },
  "cells": [
    {
      "cell_type": "markdown",
      "metadata": {
        "id": "view-in-github",
        "colab_type": "text"
      },
      "source": [
        "<a href=\"https://colab.research.google.com/github/aaronjoel/DeepUnderstandingOfDeepLearning/blob/main/DUDL_Data_DatasetLoader.ipynb\" target=\"_parent\"><img src=\"https://colab.research.google.com/assets/colab-badge.svg\" alt=\"Open In Colab\"/></a>"
      ]
    },
    {
      "cell_type": "code",
      "execution_count": 1,
      "metadata": {
        "id": "4x7bgYP6NIlx"
      },
      "outputs": [],
      "source": [
        "# import libraries\n",
        "import numpy as np\n",
        "import torch\n",
        "from torch.utils.data import DataLoader, TensorDataset"
      ]
    },
    {
      "cell_type": "code",
      "source": [
        "# Create some data in numpy\n",
        "nObservations = 100\n",
        "nFeatures= 20\n",
        "\n",
        "data = np.random.randn(nObservations, nFeatures)"
      ],
      "metadata": {
        "id": "q07vSAZYOPfE"
      },
      "execution_count": 2,
      "outputs": []
    },
    {
      "cell_type": "code",
      "source": [
        "data.shape"
      ],
      "metadata": {
        "colab": {
          "base_uri": "https://localhost:8080/"
        },
        "id": "RGLYcuGQOYJs",
        "outputId": "3b1ad6f4-b3c4-478c-dbfc-a09f30f82a64"
      },
      "execution_count": 3,
      "outputs": [
        {
          "output_type": "execute_result",
          "data": {
            "text/plain": [
              "(100, 20)"
            ]
          },
          "metadata": {},
          "execution_count": 3
        }
      ]
    },
    {
      "cell_type": "code",
      "source": [
        "data[0].shape"
      ],
      "metadata": {
        "colab": {
          "base_uri": "https://localhost:8080/"
        },
        "id": "3NITFAnvOY_V",
        "outputId": "44c50825-b77d-44af-d8bf-d9d096b84158"
      },
      "execution_count": 4,
      "outputs": [
        {
          "output_type": "execute_result",
          "data": {
            "text/plain": [
              "(20,)"
            ]
          },
          "metadata": {},
          "execution_count": 4
        }
      ]
    },
    {
      "cell_type": "code",
      "source": [
        "data[0]"
      ],
      "metadata": {
        "colab": {
          "base_uri": "https://localhost:8080/"
        },
        "id": "wWMlwnqzOand",
        "outputId": "8303db8c-1bfc-400d-fbb4-7145f1a1b0df"
      },
      "execution_count": 5,
      "outputs": [
        {
          "output_type": "execute_result",
          "data": {
            "text/plain": [
              "array([-1.99595776, -0.23838299,  0.40028864, -0.00804818, -0.00791689,\n",
              "       -0.28015421,  1.31003436, -1.09217804, -1.41511431,  2.56575001,\n",
              "        0.57159963, -1.65469681, -1.09203174,  1.52369808,  1.64477051,\n",
              "       -0.73986151, -1.84540342,  1.30088735, -1.45853555,  0.01511512])"
            ]
          },
          "metadata": {},
          "execution_count": 5
        }
      ]
    },
    {
      "cell_type": "code",
      "source": [
        "# Convert to pytorch tensor\n",
        "dataT = torch.tensor(data)\n",
        "dataT.shape"
      ],
      "metadata": {
        "colab": {
          "base_uri": "https://localhost:8080/"
        },
        "id": "vu_CXUTIOcnK",
        "outputId": "4373a12c-8f74-4a7e-a3eb-51bd03b1a110"
      },
      "execution_count": 6,
      "outputs": [
        {
          "output_type": "execute_result",
          "data": {
            "text/plain": [
              "torch.Size([100, 20])"
            ]
          },
          "metadata": {},
          "execution_count": 6
        }
      ]
    },
    {
      "cell_type": "code",
      "source": [
        "dataT[0]"
      ],
      "metadata": {
        "colab": {
          "base_uri": "https://localhost:8080/"
        },
        "id": "ELutklqxOmZQ",
        "outputId": "29070165-7a8d-4562-e720-7f5412341a4f"
      },
      "execution_count": 7,
      "outputs": [
        {
          "output_type": "execute_result",
          "data": {
            "text/plain": [
              "tensor([-1.9960, -0.2384,  0.4003, -0.0080, -0.0079, -0.2802,  1.3100, -1.0922,\n",
              "        -1.4151,  2.5658,  0.5716, -1.6547, -1.0920,  1.5237,  1.6448, -0.7399,\n",
              "        -1.8454,  1.3009, -1.4585,  0.0151], dtype=torch.float64)"
            ]
          },
          "metadata": {},
          "execution_count": 7
        }
      ]
    },
    {
      "cell_type": "code",
      "source": [
        "# print out some information\n",
        "print('NumPy data:')\n",
        "print(type(data))\n",
        "print(data.shape)\n",
        "print(data.dtype)"
      ],
      "metadata": {
        "colab": {
          "base_uri": "https://localhost:8080/"
        },
        "id": "QIwTNd81OnQd",
        "outputId": "fa1c8bad-12c2-4d31-a639-4d5a15befb05"
      },
      "execution_count": 8,
      "outputs": [
        {
          "output_type": "stream",
          "name": "stdout",
          "text": [
            "NumPy data:\n",
            "<class 'numpy.ndarray'>\n",
            "(100, 20)\n",
            "float64\n"
          ]
        }
      ]
    },
    {
      "cell_type": "code",
      "source": [
        "print('Tensor data:')\n",
        "print(type(dataT))\n",
        "print(dataT.size()) # torch -> .size()\n",
        "print(dataT.dtype)"
      ],
      "metadata": {
        "colab": {
          "base_uri": "https://localhost:8080/"
        },
        "id": "iapeKd2_OvlE",
        "outputId": "efe63df0-2d3d-435d-f2ac-ab421a01d2d1"
      },
      "execution_count": 9,
      "outputs": [
        {
          "output_type": "stream",
          "name": "stdout",
          "text": [
            "Tensor data:\n",
            "<class 'torch.Tensor'>\n",
            "torch.Size([100, 20])\n",
            "torch.float64\n"
          ]
        }
      ]
    },
    {
      "cell_type": "code",
      "source": [
        "# Sometimes you need to convert data types\n",
        "dataT2 = torch.Tensor( data ).float()\n",
        "print(dataT2.dtype)"
      ],
      "metadata": {
        "colab": {
          "base_uri": "https://localhost:8080/"
        },
        "id": "2LY_me5nO-YJ",
        "outputId": "46b0e681-c6f4-4f23-8661-d9d395fa243b"
      },
      "execution_count": 10,
      "outputs": [
        {
          "output_type": "stream",
          "name": "stdout",
          "text": [
            "torch.float32\n"
          ]
        }
      ]
    },
    {
      "cell_type": "code",
      "source": [
        "dataT3 = torch.tensor( data ).long()\n",
        "print(dataT3.dtype)"
      ],
      "metadata": {
        "colab": {
          "base_uri": "https://localhost:8080/"
        },
        "id": "Ong2hRqnPQwS",
        "outputId": "b679d166-b4f1-437f-f3e6-9bbd3c35c0fd"
      },
      "execution_count": 11,
      "outputs": [
        {
          "output_type": "stream",
          "name": "stdout",
          "text": [
            "torch.int64\n"
          ]
        }
      ]
    },
    {
      "cell_type": "code",
      "source": [
        "# Convert tensor into PyTorch datasets\n",
        "dataset = TensorDataset(data)"
      ],
      "metadata": {
        "colab": {
          "base_uri": "https://localhost:8080/",
          "height": 314
        },
        "id": "1hxd-4zxPZ2u",
        "outputId": "4848f22a-0bf2-4824-d03e-92570c7fcb65"
      },
      "execution_count": 12,
      "outputs": [
        {
          "output_type": "error",
          "ename": "TypeError",
          "evalue": "'int' object is not callable",
          "traceback": [
            "\u001b[0;31m---------------------------------------------------------------------------\u001b[0m",
            "\u001b[0;31mTypeError\u001b[0m                                 Traceback (most recent call last)",
            "\u001b[0;32m<ipython-input-12-f1249240b7ec>\u001b[0m in \u001b[0;36m<cell line: 0>\u001b[0;34m()\u001b[0m\n\u001b[1;32m      1\u001b[0m \u001b[0;31m# Convert tensor into PyTorch datasets\u001b[0m\u001b[0;34m\u001b[0m\u001b[0;34m\u001b[0m\u001b[0m\n\u001b[0;32m----> 2\u001b[0;31m \u001b[0mdataset\u001b[0m \u001b[0;34m=\u001b[0m \u001b[0mTensorDataset\u001b[0m\u001b[0;34m(\u001b[0m\u001b[0mdata\u001b[0m\u001b[0;34m)\u001b[0m\u001b[0;34m\u001b[0m\u001b[0;34m\u001b[0m\u001b[0m\n\u001b[0m",
            "\u001b[0;32m/usr/local/lib/python3.11/dist-packages/torch/utils/data/dataset.py\u001b[0m in \u001b[0;36m__init__\u001b[0;34m(self, *tensors)\u001b[0m\n\u001b[1;32m    203\u001b[0m \u001b[0;34m\u001b[0m\u001b[0m\n\u001b[1;32m    204\u001b[0m     \u001b[0;32mdef\u001b[0m \u001b[0m__init__\u001b[0m\u001b[0;34m(\u001b[0m\u001b[0mself\u001b[0m\u001b[0;34m,\u001b[0m \u001b[0;34m*\u001b[0m\u001b[0mtensors\u001b[0m\u001b[0;34m:\u001b[0m \u001b[0mTensor\u001b[0m\u001b[0;34m)\u001b[0m \u001b[0;34m->\u001b[0m \u001b[0;32mNone\u001b[0m\u001b[0;34m:\u001b[0m\u001b[0;34m\u001b[0m\u001b[0;34m\u001b[0m\u001b[0m\n\u001b[0;32m--> 205\u001b[0;31m         assert all(\n\u001b[0m\u001b[1;32m    206\u001b[0m             \u001b[0mtensors\u001b[0m\u001b[0;34m[\u001b[0m\u001b[0;36m0\u001b[0m\u001b[0;34m]\u001b[0m\u001b[0;34m.\u001b[0m\u001b[0msize\u001b[0m\u001b[0;34m(\u001b[0m\u001b[0;36m0\u001b[0m\u001b[0;34m)\u001b[0m \u001b[0;34m==\u001b[0m \u001b[0mtensor\u001b[0m\u001b[0;34m.\u001b[0m\u001b[0msize\u001b[0m\u001b[0;34m(\u001b[0m\u001b[0;36m0\u001b[0m\u001b[0;34m)\u001b[0m \u001b[0;32mfor\u001b[0m \u001b[0mtensor\u001b[0m \u001b[0;32min\u001b[0m \u001b[0mtensors\u001b[0m\u001b[0;34m\u001b[0m\u001b[0;34m\u001b[0m\u001b[0m\n\u001b[1;32m    207\u001b[0m         ), \"Size mismatch between tensors\"\n",
            "\u001b[0;32m/usr/local/lib/python3.11/dist-packages/torch/utils/data/dataset.py\u001b[0m in \u001b[0;36m<genexpr>\u001b[0;34m(.0)\u001b[0m\n\u001b[1;32m    204\u001b[0m     \u001b[0;32mdef\u001b[0m \u001b[0m__init__\u001b[0m\u001b[0;34m(\u001b[0m\u001b[0mself\u001b[0m\u001b[0;34m,\u001b[0m \u001b[0;34m*\u001b[0m\u001b[0mtensors\u001b[0m\u001b[0;34m:\u001b[0m \u001b[0mTensor\u001b[0m\u001b[0;34m)\u001b[0m \u001b[0;34m->\u001b[0m \u001b[0;32mNone\u001b[0m\u001b[0;34m:\u001b[0m\u001b[0;34m\u001b[0m\u001b[0;34m\u001b[0m\u001b[0m\n\u001b[1;32m    205\u001b[0m         assert all(\n\u001b[0;32m--> 206\u001b[0;31m             \u001b[0mtensors\u001b[0m\u001b[0;34m[\u001b[0m\u001b[0;36m0\u001b[0m\u001b[0;34m]\u001b[0m\u001b[0;34m.\u001b[0m\u001b[0msize\u001b[0m\u001b[0;34m(\u001b[0m\u001b[0;36m0\u001b[0m\u001b[0;34m)\u001b[0m \u001b[0;34m==\u001b[0m \u001b[0mtensor\u001b[0m\u001b[0;34m.\u001b[0m\u001b[0msize\u001b[0m\u001b[0;34m(\u001b[0m\u001b[0;36m0\u001b[0m\u001b[0;34m)\u001b[0m \u001b[0;32mfor\u001b[0m \u001b[0mtensor\u001b[0m \u001b[0;32min\u001b[0m \u001b[0mtensors\u001b[0m\u001b[0;34m\u001b[0m\u001b[0;34m\u001b[0m\u001b[0m\n\u001b[0m\u001b[1;32m    207\u001b[0m         ), \"Size mismatch between tensors\"\n\u001b[1;32m    208\u001b[0m         \u001b[0mself\u001b[0m\u001b[0;34m.\u001b[0m\u001b[0mtensors\u001b[0m \u001b[0;34m=\u001b[0m \u001b[0mtensors\u001b[0m\u001b[0;34m\u001b[0m\u001b[0;34m\u001b[0m\u001b[0m\n",
            "\u001b[0;31mTypeError\u001b[0m: 'int' object is not callable"
          ]
        }
      ]
    },
    {
      "cell_type": "code",
      "source": [
        "dataset = TensorDataset(dataT)"
      ],
      "metadata": {
        "id": "hugXJMNhPkae"
      },
      "execution_count": 13,
      "outputs": []
    },
    {
      "cell_type": "code",
      "source": [
        "dir(dataset)"
      ],
      "metadata": {
        "colab": {
          "base_uri": "https://localhost:8080/"
        },
        "id": "2jceiLjVPqQz",
        "outputId": "fa1e50cf-3fa1-4f0f-9e8a-bf6616e4e36b"
      },
      "execution_count": 14,
      "outputs": [
        {
          "output_type": "execute_result",
          "data": {
            "text/plain": [
              "['__add__',\n",
              " '__annotations__',\n",
              " '__class__',\n",
              " '__class_getitem__',\n",
              " '__delattr__',\n",
              " '__dict__',\n",
              " '__dir__',\n",
              " '__doc__',\n",
              " '__eq__',\n",
              " '__format__',\n",
              " '__ge__',\n",
              " '__getattribute__',\n",
              " '__getitem__',\n",
              " '__getstate__',\n",
              " '__gt__',\n",
              " '__hash__',\n",
              " '__init__',\n",
              " '__init_subclass__',\n",
              " '__le__',\n",
              " '__len__',\n",
              " '__lt__',\n",
              " '__module__',\n",
              " '__ne__',\n",
              " '__new__',\n",
              " '__orig_bases__',\n",
              " '__parameters__',\n",
              " '__reduce__',\n",
              " '__reduce_ex__',\n",
              " '__repr__',\n",
              " '__setattr__',\n",
              " '__sizeof__',\n",
              " '__slots__',\n",
              " '__str__',\n",
              " '__subclasshook__',\n",
              " '__weakref__',\n",
              " '_is_protocol',\n",
              " 'tensors']"
            ]
          },
          "metadata": {},
          "execution_count": 14
        }
      ]
    },
    {
      "cell_type": "code",
      "source": [
        "dataset.tensors"
      ],
      "metadata": {
        "colab": {
          "base_uri": "https://localhost:8080/"
        },
        "id": "YWhDELS5Prq-",
        "outputId": "997a6b96-f6ec-44d7-e8d0-3bce0b2f9ad8"
      },
      "execution_count": 15,
      "outputs": [
        {
          "output_type": "execute_result",
          "data": {
            "text/plain": [
              "(tensor([[-1.9960, -0.2384,  0.4003,  ...,  1.3009, -1.4585,  0.0151],\n",
              "         [-0.2837, -1.2202,  0.9641,  ...,  0.2790,  0.0955, -0.1362],\n",
              "         [ 0.7649, -1.3001, -1.6977,  ..., -1.1683,  0.7401,  0.0054],\n",
              "         ...,\n",
              "         [-0.4546,  1.1998, -0.4908,  ..., -0.2605,  0.5017, -0.0612],\n",
              "         [ 0.1172, -1.3520,  0.1893,  ...,  0.1290, -0.3309,  0.3599],\n",
              "         [ 0.2043, -0.1611, -1.1857,  ..., -0.1206, -0.5124, -2.0199]],\n",
              "        dtype=torch.float64),)"
            ]
          },
          "metadata": {},
          "execution_count": 15
        }
      ]
    },
    {
      "cell_type": "code",
      "source": [
        "type(dataset.tensors)"
      ],
      "metadata": {
        "colab": {
          "base_uri": "https://localhost:8080/"
        },
        "id": "Fbo2xWDKPu1H",
        "outputId": "54a12d91-86da-49bb-9e61-b67ef8d7fd38"
      },
      "execution_count": 16,
      "outputs": [
        {
          "output_type": "execute_result",
          "data": {
            "text/plain": [
              "tuple"
            ]
          },
          "metadata": {},
          "execution_count": 16
        }
      ]
    },
    {
      "cell_type": "code",
      "source": [
        "dataset.tensors[0]"
      ],
      "metadata": {
        "colab": {
          "base_uri": "https://localhost:8080/"
        },
        "id": "ouWiOZkYPxum",
        "outputId": "3ad82de7-9200-422f-805f-2bdbcdcb7256"
      },
      "execution_count": 17,
      "outputs": [
        {
          "output_type": "execute_result",
          "data": {
            "text/plain": [
              "tensor([[-1.9960, -0.2384,  0.4003,  ...,  1.3009, -1.4585,  0.0151],\n",
              "        [-0.2837, -1.2202,  0.9641,  ...,  0.2790,  0.0955, -0.1362],\n",
              "        [ 0.7649, -1.3001, -1.6977,  ..., -1.1683,  0.7401,  0.0054],\n",
              "        ...,\n",
              "        [-0.4546,  1.1998, -0.4908,  ..., -0.2605,  0.5017, -0.0612],\n",
              "        [ 0.1172, -1.3520,  0.1893,  ...,  0.1290, -0.3309,  0.3599],\n",
              "        [ 0.2043, -0.1611, -1.1857,  ..., -0.1206, -0.5124, -2.0199]],\n",
              "       dtype=torch.float64)"
            ]
          },
          "metadata": {},
          "execution_count": 17
        }
      ]
    },
    {
      "cell_type": "code",
      "source": [
        "dataset.tensors[0].shape"
      ],
      "metadata": {
        "colab": {
          "base_uri": "https://localhost:8080/"
        },
        "id": "PhSS9fhCP0OJ",
        "outputId": "d9976fee-314f-4cef-be7c-5408231f07dd"
      },
      "execution_count": 18,
      "outputs": [
        {
          "output_type": "execute_result",
          "data": {
            "text/plain": [
              "torch.Size([100, 20])"
            ]
          },
          "metadata": {},
          "execution_count": 18
        }
      ]
    },
    {
      "cell_type": "code",
      "source": [
        "# Let's try again with labels\n",
        "labels = torch.ceil( torch.linspace(.01, 4, nObservations) )\n",
        "labels.shape"
      ],
      "metadata": {
        "colab": {
          "base_uri": "https://localhost:8080/"
        },
        "id": "ZKB4lCRmP2jd",
        "outputId": "b2248808-e560-4dde-af69-ea531a86c81a"
      },
      "execution_count": 19,
      "outputs": [
        {
          "output_type": "execute_result",
          "data": {
            "text/plain": [
              "torch.Size([100])"
            ]
          },
          "metadata": {},
          "execution_count": 19
        }
      ]
    },
    {
      "cell_type": "code",
      "source": [
        "# transform to an actual matrix (column vector)\n",
        "labels = labels.reshape(shape=(len(labels), 1))\n",
        "labels.shape"
      ],
      "metadata": {
        "colab": {
          "base_uri": "https://localhost:8080/"
        },
        "id": "19_twV0hQIQK",
        "outputId": "da41be4d-8589-4829-d96a-e90b7fe204ea"
      },
      "execution_count": 20,
      "outputs": [
        {
          "output_type": "execute_result",
          "data": {
            "text/plain": [
              "torch.Size([100, 1])"
            ]
          },
          "metadata": {},
          "execution_count": 20
        }
      ]
    },
    {
      "cell_type": "code",
      "source": [
        "# now another dataset\n",
        "dataset = TensorDataset(dataT, labels)\n",
        "dataset"
      ],
      "metadata": {
        "colab": {
          "base_uri": "https://localhost:8080/"
        },
        "id": "MRgmEUanQVQa",
        "outputId": "758a941a-a5ec-4d2c-8a91-7f9efbeb2b9e"
      },
      "execution_count": 21,
      "outputs": [
        {
          "output_type": "execute_result",
          "data": {
            "text/plain": [
              "<torch.utils.data.dataset.TensorDataset at 0x7c7a81c146d0>"
            ]
          },
          "metadata": {},
          "execution_count": 21
        }
      ]
    },
    {
      "cell_type": "code",
      "source": [
        "type(dataset.tensors)"
      ],
      "metadata": {
        "colab": {
          "base_uri": "https://localhost:8080/"
        },
        "id": "OBmB7CIeQkjO",
        "outputId": "cc4177f1-169a-4484-d594-b833aa551576"
      },
      "execution_count": 22,
      "outputs": [
        {
          "output_type": "execute_result",
          "data": {
            "text/plain": [
              "tuple"
            ]
          },
          "metadata": {},
          "execution_count": 22
        }
      ]
    },
    {
      "cell_type": "code",
      "source": [
        "dataset.tensors[0].shape"
      ],
      "metadata": {
        "colab": {
          "base_uri": "https://localhost:8080/"
        },
        "id": "RVRYCQctQryd",
        "outputId": "ee3a09d7-54a7-4c58-9da1-66929aec75b6"
      },
      "execution_count": 23,
      "outputs": [
        {
          "output_type": "execute_result",
          "data": {
            "text/plain": [
              "torch.Size([100, 20])"
            ]
          },
          "metadata": {},
          "execution_count": 23
        }
      ]
    },
    {
      "cell_type": "code",
      "source": [
        "dataset.tensors[1].shape"
      ],
      "metadata": {
        "colab": {
          "base_uri": "https://localhost:8080/"
        },
        "id": "2Ac3MasHQ0SX",
        "outputId": "3b8e69d7-644a-4b39-ddb2-4607d28daedf"
      },
      "execution_count": 24,
      "outputs": [
        {
          "output_type": "execute_result",
          "data": {
            "text/plain": [
              "torch.Size([100, 1])"
            ]
          },
          "metadata": {},
          "execution_count": 24
        }
      ]
    },
    {
      "cell_type": "code",
      "source": [
        "dataset.tensors[0].size()"
      ],
      "metadata": {
        "colab": {
          "base_uri": "https://localhost:8080/"
        },
        "id": "b0jzZlhLQ2aF",
        "outputId": "673b8f03-cd93-4d12-d7ec-3952f431b438"
      },
      "execution_count": 25,
      "outputs": [
        {
          "output_type": "execute_result",
          "data": {
            "text/plain": [
              "torch.Size([100, 20])"
            ]
          },
          "metadata": {},
          "execution_count": 25
        }
      ]
    },
    {
      "cell_type": "code",
      "source": [
        "dataset.tensors[1].size()"
      ],
      "metadata": {
        "colab": {
          "base_uri": "https://localhost:8080/"
        },
        "id": "su4qBS-SQ7Od",
        "outputId": "aa3d412a-5f9c-406d-ad52-c1ab20e5bbed"
      },
      "execution_count": 26,
      "outputs": [
        {
          "output_type": "execute_result",
          "data": {
            "text/plain": [
              "torch.Size([100, 1])"
            ]
          },
          "metadata": {},
          "execution_count": 26
        }
      ]
    },
    {
      "cell_type": "code",
      "source": [
        "np.shape( np.random.randint(5,size=nObservations) )"
      ],
      "metadata": {
        "colab": {
          "base_uri": "https://localhost:8080/"
        },
        "id": "gkeS7kO2Q-Xg",
        "outputId": "1700ee85-e9a0-4862-a036-60ccee62af12"
      },
      "execution_count": 27,
      "outputs": [
        {
          "output_type": "execute_result",
          "data": {
            "text/plain": [
              "(100,)"
            ]
          },
          "metadata": {},
          "execution_count": 27
        }
      ]
    },
    {
      "cell_type": "code",
      "source": [
        "# create a dataloader object\n",
        "batchsize = 25\n",
        "dataloader = DataLoader(dataset=dataset, batch_size=batchsize)\n",
        "dir(dataloader)"
      ],
      "metadata": {
        "colab": {
          "base_uri": "https://localhost:8080/"
        },
        "id": "ptLFliYPRJyC",
        "outputId": "dccedba2-197f-4e76-9afb-cb02767b851f"
      },
      "execution_count": 28,
      "outputs": [
        {
          "output_type": "execute_result",
          "data": {
            "text/plain": [
              "['_DataLoader__initialized',\n",
              " '_DataLoader__multiprocessing_context',\n",
              " '_IterableDataset_len_called',\n",
              " '__annotations__',\n",
              " '__class__',\n",
              " '__class_getitem__',\n",
              " '__delattr__',\n",
              " '__dict__',\n",
              " '__dir__',\n",
              " '__doc__',\n",
              " '__eq__',\n",
              " '__format__',\n",
              " '__ge__',\n",
              " '__getattribute__',\n",
              " '__getstate__',\n",
              " '__gt__',\n",
              " '__hash__',\n",
              " '__init__',\n",
              " '__init_subclass__',\n",
              " '__iter__',\n",
              " '__le__',\n",
              " '__len__',\n",
              " '__lt__',\n",
              " '__module__',\n",
              " '__ne__',\n",
              " '__new__',\n",
              " '__orig_bases__',\n",
              " '__parameters__',\n",
              " '__reduce__',\n",
              " '__reduce_ex__',\n",
              " '__repr__',\n",
              " '__setattr__',\n",
              " '__sizeof__',\n",
              " '__slots__',\n",
              " '__str__',\n",
              " '__subclasshook__',\n",
              " '__weakref__',\n",
              " '_auto_collation',\n",
              " '_dataset_kind',\n",
              " '_get_iterator',\n",
              " '_index_sampler',\n",
              " '_is_protocol',\n",
              " '_iterator',\n",
              " 'batch_sampler',\n",
              " 'batch_size',\n",
              " 'check_worker_number_rationality',\n",
              " 'collate_fn',\n",
              " 'dataset',\n",
              " 'drop_last',\n",
              " 'generator',\n",
              " 'in_order',\n",
              " 'multiprocessing_context',\n",
              " 'num_workers',\n",
              " 'persistent_workers',\n",
              " 'pin_memory',\n",
              " 'pin_memory_device',\n",
              " 'prefetch_factor',\n",
              " 'sampler',\n",
              " 'timeout',\n",
              " 'worker_init_fn']"
            ]
          },
          "metadata": {},
          "execution_count": 28
        }
      ]
    },
    {
      "cell_type": "code",
      "source": [
        "dataloader.dataset.tensors[0]"
      ],
      "metadata": {
        "colab": {
          "base_uri": "https://localhost:8080/"
        },
        "id": "u8MoRd0lRbpU",
        "outputId": "92aaa35a-b9fe-4353-b490-5f708a8d07ef"
      },
      "execution_count": 29,
      "outputs": [
        {
          "output_type": "execute_result",
          "data": {
            "text/plain": [
              "tensor([[-1.9960, -0.2384,  0.4003,  ...,  1.3009, -1.4585,  0.0151],\n",
              "        [-0.2837, -1.2202,  0.9641,  ...,  0.2790,  0.0955, -0.1362],\n",
              "        [ 0.7649, -1.3001, -1.6977,  ..., -1.1683,  0.7401,  0.0054],\n",
              "        ...,\n",
              "        [-0.4546,  1.1998, -0.4908,  ..., -0.2605,  0.5017, -0.0612],\n",
              "        [ 0.1172, -1.3520,  0.1893,  ...,  0.1290, -0.3309,  0.3599],\n",
              "        [ 0.2043, -0.1611, -1.1857,  ..., -0.1206, -0.5124, -2.0199]],\n",
              "       dtype=torch.float64)"
            ]
          },
          "metadata": {},
          "execution_count": 29
        }
      ]
    },
    {
      "cell_type": "code",
      "source": [
        "dataloader.dataset.tensors[1]"
      ],
      "metadata": {
        "colab": {
          "base_uri": "https://localhost:8080/"
        },
        "id": "S3TMU6WbRgrl",
        "outputId": "d1031da8-49d4-4989-9d07-af36155a38b6"
      },
      "execution_count": 30,
      "outputs": [
        {
          "output_type": "execute_result",
          "data": {
            "text/plain": [
              "tensor([[1.],\n",
              "        [1.],\n",
              "        [1.],\n",
              "        [1.],\n",
              "        [1.],\n",
              "        [1.],\n",
              "        [1.],\n",
              "        [1.],\n",
              "        [1.],\n",
              "        [1.],\n",
              "        [1.],\n",
              "        [1.],\n",
              "        [1.],\n",
              "        [1.],\n",
              "        [1.],\n",
              "        [1.],\n",
              "        [1.],\n",
              "        [1.],\n",
              "        [1.],\n",
              "        [1.],\n",
              "        [1.],\n",
              "        [1.],\n",
              "        [1.],\n",
              "        [1.],\n",
              "        [1.],\n",
              "        [2.],\n",
              "        [2.],\n",
              "        [2.],\n",
              "        [2.],\n",
              "        [2.],\n",
              "        [2.],\n",
              "        [2.],\n",
              "        [2.],\n",
              "        [2.],\n",
              "        [2.],\n",
              "        [2.],\n",
              "        [2.],\n",
              "        [2.],\n",
              "        [2.],\n",
              "        [2.],\n",
              "        [2.],\n",
              "        [2.],\n",
              "        [2.],\n",
              "        [2.],\n",
              "        [2.],\n",
              "        [2.],\n",
              "        [2.],\n",
              "        [2.],\n",
              "        [2.],\n",
              "        [2.],\n",
              "        [3.],\n",
              "        [3.],\n",
              "        [3.],\n",
              "        [3.],\n",
              "        [3.],\n",
              "        [3.],\n",
              "        [3.],\n",
              "        [3.],\n",
              "        [3.],\n",
              "        [3.],\n",
              "        [3.],\n",
              "        [3.],\n",
              "        [3.],\n",
              "        [3.],\n",
              "        [3.],\n",
              "        [3.],\n",
              "        [3.],\n",
              "        [3.],\n",
              "        [3.],\n",
              "        [3.],\n",
              "        [3.],\n",
              "        [3.],\n",
              "        [3.],\n",
              "        [3.],\n",
              "        [3.],\n",
              "        [4.],\n",
              "        [4.],\n",
              "        [4.],\n",
              "        [4.],\n",
              "        [4.],\n",
              "        [4.],\n",
              "        [4.],\n",
              "        [4.],\n",
              "        [4.],\n",
              "        [4.],\n",
              "        [4.],\n",
              "        [4.],\n",
              "        [4.],\n",
              "        [4.],\n",
              "        [4.],\n",
              "        [4.],\n",
              "        [4.],\n",
              "        [4.],\n",
              "        [4.],\n",
              "        [4.],\n",
              "        [4.],\n",
              "        [4.],\n",
              "        [4.],\n",
              "        [4.],\n",
              "        [4.]])"
            ]
          },
          "metadata": {},
          "execution_count": 30
        }
      ]
    },
    {
      "cell_type": "code",
      "source": [
        "dataloader.dataset.tensors[0].size()"
      ],
      "metadata": {
        "colab": {
          "base_uri": "https://localhost:8080/"
        },
        "id": "EZFCWNHBRj3O",
        "outputId": "2f969999-64a0-4129-bb9c-1b82c3c54b76"
      },
      "execution_count": 31,
      "outputs": [
        {
          "output_type": "execute_result",
          "data": {
            "text/plain": [
              "torch.Size([100, 20])"
            ]
          },
          "metadata": {},
          "execution_count": 31
        }
      ]
    },
    {
      "cell_type": "code",
      "source": [
        "dataloader.dataset.tensors[1].size()"
      ],
      "metadata": {
        "colab": {
          "base_uri": "https://localhost:8080/"
        },
        "id": "OV7KkV4FRobH",
        "outputId": "322e4889-c618-4945-ec79-b38305b85145"
      },
      "execution_count": 32,
      "outputs": [
        {
          "output_type": "execute_result",
          "data": {
            "text/plain": [
              "torch.Size([100, 1])"
            ]
          },
          "metadata": {},
          "execution_count": 32
        }
      ]
    },
    {
      "cell_type": "code",
      "source": [
        "# sizes of each batch\n",
        "for dat, labs in dataloader:\n",
        "  print('BATCH INFO:')\n",
        "  print(dat.size())\n",
        "  print(labs.size())\n",
        "  print(' ')"
      ],
      "metadata": {
        "colab": {
          "base_uri": "https://localhost:8080/"
        },
        "id": "zfhwcWDkRseN",
        "outputId": "ea4f0012-eb62-48fd-ab36-9c22e23efd39"
      },
      "execution_count": 33,
      "outputs": [
        {
          "output_type": "stream",
          "name": "stdout",
          "text": [
            "BATCH INFO:\n",
            "torch.Size([25, 20])\n",
            "torch.Size([25, 1])\n",
            " \n",
            "BATCH INFO:\n",
            "torch.Size([25, 20])\n",
            "torch.Size([25, 1])\n",
            " \n",
            "BATCH INFO:\n",
            "torch.Size([25, 20])\n",
            "torch.Size([25, 1])\n",
            " \n",
            "BATCH INFO:\n",
            "torch.Size([25, 20])\n",
            "torch.Size([25, 1])\n",
            " \n"
          ]
        }
      ]
    },
    {
      "cell_type": "code",
      "source": [
        "# inspect the labels\n",
        "for dat, labs in dataloader:\n",
        "  print(labs.T)\n",
        "  print(' ')"
      ],
      "metadata": {
        "colab": {
          "base_uri": "https://localhost:8080/"
        },
        "id": "2EevFOyJR8CE",
        "outputId": "ef6db16a-869e-4be2-e6da-2e17e0fe84ae"
      },
      "execution_count": 34,
      "outputs": [
        {
          "output_type": "stream",
          "name": "stdout",
          "text": [
            "tensor([[1., 1., 1., 1., 1., 1., 1., 1., 1., 1., 1., 1., 1., 1., 1., 1., 1., 1.,\n",
            "         1., 1., 1., 1., 1., 1., 1.]])\n",
            " \n",
            "tensor([[2., 2., 2., 2., 2., 2., 2., 2., 2., 2., 2., 2., 2., 2., 2., 2., 2., 2.,\n",
            "         2., 2., 2., 2., 2., 2., 2.]])\n",
            " \n",
            "tensor([[3., 3., 3., 3., 3., 3., 3., 3., 3., 3., 3., 3., 3., 3., 3., 3., 3., 3.,\n",
            "         3., 3., 3., 3., 3., 3., 3.]])\n",
            " \n",
            "tensor([[4., 4., 4., 4., 4., 4., 4., 4., 4., 4., 4., 4., 4., 4., 4., 4., 4., 4.,\n",
            "         4., 4., 4., 4., 4., 4., 4.]])\n",
            " \n"
          ]
        }
      ]
    },
    {
      "cell_type": "code",
      "source": [
        "# Try again with shuffling (shuffling happens during iterations)\n",
        "dataloader = DataLoader(dataset=dataset, batch_size=batchsize, shuffle=True)\n",
        "\n",
        "for dat, labs in dataloader:\n",
        "  print(labs.T)\n",
        "  print(' ')"
      ],
      "metadata": {
        "colab": {
          "base_uri": "https://localhost:8080/"
        },
        "id": "jpOLLgCFSNtT",
        "outputId": "2ccccd29-22c0-413d-ad37-70c331362d35"
      },
      "execution_count": 35,
      "outputs": [
        {
          "output_type": "stream",
          "name": "stdout",
          "text": [
            "tensor([[2., 3., 4., 4., 2., 3., 1., 2., 2., 3., 2., 1., 3., 4., 1., 4., 3., 2.,\n",
            "         2., 1., 4., 3., 1., 4., 4.]])\n",
            " \n",
            "tensor([[1., 3., 3., 1., 1., 1., 4., 4., 1., 2., 1., 4., 4., 3., 4., 3., 1., 4.,\n",
            "         1., 4., 3., 1., 3., 2., 2.]])\n",
            " \n",
            "tensor([[1., 4., 3., 2., 2., 2., 4., 3., 4., 3., 4., 2., 1., 1., 2., 1., 3., 1.,\n",
            "         2., 2., 3., 2., 4., 3., 4.]])\n",
            " \n",
            "tensor([[2., 1., 1., 1., 3., 4., 2., 2., 4., 2., 3., 1., 2., 4., 2., 2., 4., 3.,\n",
            "         3., 3., 1., 3., 3., 4., 1.]])\n",
            " \n"
          ]
        }
      ]
    },
    {
      "cell_type": "code",
      "source": [
        "#dataloader = DataLoader(dataset=dataset, batch_size=batchsize, shuffle=True)\n",
        "\n",
        "for dat, labs in dataloader:\n",
        "  print(labs.T)\n",
        "  print(' ')"
      ],
      "metadata": {
        "colab": {
          "base_uri": "https://localhost:8080/"
        },
        "id": "f1RJLolwSfYF",
        "outputId": "d1ddca99-06b8-4c2c-bcaa-0bf2bd384430"
      },
      "execution_count": 36,
      "outputs": [
        {
          "output_type": "stream",
          "name": "stdout",
          "text": [
            "tensor([[3., 2., 2., 2., 1., 4., 1., 1., 1., 1., 1., 2., 2., 3., 3., 1., 2., 3.,\n",
            "         4., 2., 4., 1., 4., 1., 2.]])\n",
            " \n",
            "tensor([[1., 1., 4., 2., 1., 3., 1., 2., 4., 1., 2., 3., 3., 3., 4., 2., 2., 2.,\n",
            "         3., 3., 2., 4., 4., 1., 4.]])\n",
            " \n",
            "tensor([[1., 4., 1., 1., 2., 2., 4., 4., 3., 1., 4., 4., 1., 4., 1., 3., 4., 3.,\n",
            "         2., 3., 2., 2., 3., 3., 3.]])\n",
            " \n",
            "tensor([[2., 1., 4., 4., 4., 4., 1., 3., 3., 2., 3., 1., 3., 3., 4., 4., 3., 3.,\n",
            "         4., 2., 4., 2., 3., 2., 1.]])\n",
            " \n"
          ]
        }
      ]
    },
    {
      "cell_type": "code",
      "source": [
        "# To get only one batch(e.g., for testing)\n",
        "dat, labs = next(iter(dataloader))\n",
        "labs"
      ],
      "metadata": {
        "colab": {
          "base_uri": "https://localhost:8080/"
        },
        "id": "zoLmKbf7Spz6",
        "outputId": "89565c84-e0a3-4522-a274-58f63f44945e"
      },
      "execution_count": 37,
      "outputs": [
        {
          "output_type": "execute_result",
          "data": {
            "text/plain": [
              "tensor([[2.],\n",
              "        [3.],\n",
              "        [4.],\n",
              "        [2.],\n",
              "        [4.],\n",
              "        [2.],\n",
              "        [3.],\n",
              "        [1.],\n",
              "        [1.],\n",
              "        [1.],\n",
              "        [2.],\n",
              "        [2.],\n",
              "        [1.],\n",
              "        [3.],\n",
              "        [4.],\n",
              "        [3.],\n",
              "        [4.],\n",
              "        [1.],\n",
              "        [1.],\n",
              "        [3.],\n",
              "        [4.],\n",
              "        [2.],\n",
              "        [4.],\n",
              "        [4.],\n",
              "        [1.]])"
            ]
          },
          "metadata": {},
          "execution_count": 37
        }
      ]
    },
    {
      "cell_type": "code",
      "source": [
        "dataloader"
      ],
      "metadata": {
        "colab": {
          "base_uri": "https://localhost:8080/"
        },
        "id": "I5aRPDkeSxWB",
        "outputId": "0703bb01-9a6d-4909-bbe8-fd385d759335"
      },
      "execution_count": 38,
      "outputs": [
        {
          "output_type": "execute_result",
          "data": {
            "text/plain": [
              "<torch.utils.data.dataloader.DataLoader at 0x7c7a8189ec90>"
            ]
          },
          "metadata": {},
          "execution_count": 38
        }
      ]
    },
    {
      "cell_type": "code",
      "source": [
        "iter(dataloader)"
      ],
      "metadata": {
        "colab": {
          "base_uri": "https://localhost:8080/"
        },
        "id": "kDX1f2KRSzq9",
        "outputId": "550c5cda-965e-4692-ab84-8bf1f8f2cfb6"
      },
      "execution_count": 39,
      "outputs": [
        {
          "output_type": "execute_result",
          "data": {
            "text/plain": [
              "<torch.utils.data.dataloader._SingleProcessDataLoaderIter at 0x7c7a8154a110>"
            ]
          },
          "metadata": {},
          "execution_count": 39
        }
      ]
    },
    {
      "cell_type": "code",
      "source": [
        "next(_)"
      ],
      "metadata": {
        "colab": {
          "base_uri": "https://localhost:8080/"
        },
        "id": "EASYAiXaS257",
        "outputId": "87fa8366-b4e6-4002-f798-5982082d788b"
      },
      "execution_count": 40,
      "outputs": [
        {
          "output_type": "execute_result",
          "data": {
            "text/plain": [
              "[tensor([[ 1.0221,  0.1233, -0.5299, -0.4671, -0.9670,  1.7516, -0.3223, -0.1953,\n",
              "           1.9569,  1.0632, -2.3021, -0.6015,  1.3315,  0.3683, -1.8475,  0.3013,\n",
              "          -1.1100,  0.1914,  0.2058,  0.3023],\n",
              "         [-1.6602, -1.3863,  0.7653,  1.5081, -0.4938,  0.0995, -1.9817,  0.5383,\n",
              "          -0.3619,  0.2126,  0.9162,  1.6398,  1.3996,  1.1440, -0.5532,  0.2642,\n",
              "           0.0984, -0.0699,  1.1596,  1.6262],\n",
              "         [ 0.2094, -2.8539,  0.6796, -0.4317, -1.9267, -1.4468, -0.0571, -1.6198,\n",
              "          -0.7163,  0.5024, -1.5954,  0.8861,  0.5991, -0.7256,  1.2262, -1.1152,\n",
              "          -0.5618,  2.6128,  1.0983, -0.0816],\n",
              "         [-0.2634, -1.6657, -1.1362, -0.2550, -0.1493, -0.5687,  0.2352, -0.0358,\n",
              "          -1.6850, -0.5934, -1.2120,  0.3302,  0.3200, -0.1695, -1.8204,  0.7020,\n",
              "          -0.1409, -0.9031, -1.2278, -0.5801],\n",
              "         [ 0.1172, -1.3520,  0.1893, -0.6694, -0.4848,  0.5559, -1.8087,  0.8053,\n",
              "           0.5867,  0.6015,  0.1790, -1.3300, -0.4566,  1.3306, -0.3381,  1.6619,\n",
              "          -0.0924,  0.1290, -0.3309,  0.3599],\n",
              "         [-1.1479,  0.3554, -0.3431,  0.6547, -0.3911,  0.3948,  1.3229,  1.4061,\n",
              "          -1.0267,  1.8232, -1.9083, -0.7904, -0.8143, -1.0863, -0.0412,  1.9107,\n",
              "           0.2279,  1.2847,  1.6116, -0.2258],\n",
              "         [ 0.5013, -0.1376,  0.8294, -1.8673, -1.0033, -0.7237,  0.2034, -1.4282,\n",
              "           0.8798,  0.9496,  1.3390, -0.9456,  1.3334,  0.2295,  0.7737, -0.4358,\n",
              "           0.4397,  0.0079,  1.4716,  0.4459],\n",
              "         [-0.0873,  1.3973,  0.3428,  0.2945,  1.9246,  0.5943,  1.0713, -0.4225,\n",
              "          -0.3937,  1.1378, -1.3587,  0.5339,  0.4915,  0.6222,  2.1754, -0.9602,\n",
              "           1.0007,  0.2952, -1.3550,  0.6985],\n",
              "         [-1.0643,  1.5087, -0.3054,  0.4672, -1.0093, -0.7135,  1.0637, -2.9026,\n",
              "          -0.6053, -0.8418,  1.8520,  0.2900,  0.1829,  0.9116, -0.7638, -0.7387,\n",
              "          -1.8747,  0.5399, -0.8273,  0.0198],\n",
              "         [ 0.1022, -0.2351, -0.0259,  2.0349, -0.0528,  2.6683,  0.0608,  1.0371,\n",
              "          -1.7781,  0.2757,  1.5165,  1.6440,  1.5793,  0.6320, -0.9564,  0.9104,\n",
              "           0.1278,  0.2098, -0.4187,  0.7732],\n",
              "         [-0.1963, -1.3525, -0.8800,  0.6953,  0.6883, -0.4856,  0.9377, -0.1656,\n",
              "          -1.5483,  0.6900, -0.9784, -0.7010,  2.0501, -0.8587, -0.7291,  0.8296,\n",
              "          -1.5420,  2.4002,  0.4540,  0.1616],\n",
              "         [ 0.2169,  0.7942, -2.0824, -0.6841, -0.7681, -0.7870, -0.6474, -0.1865,\n",
              "           1.0304,  1.2135,  0.2468,  0.4670,  0.3103, -0.8995,  1.2258,  2.5532,\n",
              "           0.3764,  0.4942,  0.7694, -0.2931],\n",
              "         [ 0.4188,  0.9650,  0.3334, -0.6061,  0.8026, -0.1996,  1.3983, -0.3211,\n",
              "           0.7932,  0.7408,  0.0945, -0.3896, -1.0096,  0.8350,  0.1595,  1.2163,\n",
              "          -1.3097, -0.4136,  0.3360, -2.1575],\n",
              "         [-0.5355, -1.3876, -0.5384,  1.1955, -1.3738, -0.4985, -1.0736,  1.2296,\n",
              "          -0.4466, -0.3243,  1.5970,  0.9511, -0.9733,  0.0854, -0.2303,  0.5597,\n",
              "          -0.7187, -0.6964,  0.0867, -0.8243],\n",
              "         [-1.1021,  0.8036, -0.7200,  0.1054, -0.7887, -1.0875, -0.7105,  0.1975,\n",
              "           0.3733,  0.7190, -1.7052, -2.2394, -0.9332,  1.4681,  0.1969,  1.1665,\n",
              "           0.1067, -0.1554, -1.0143,  2.1073],\n",
              "         [-1.9960, -0.2384,  0.4003, -0.0080, -0.0079, -0.2802,  1.3100, -1.0922,\n",
              "          -1.4151,  2.5658,  0.5716, -1.6547, -1.0920,  1.5237,  1.6448, -0.7399,\n",
              "          -1.8454,  1.3009, -1.4585,  0.0151],\n",
              "         [ 0.7649, -1.3001, -1.6977, -0.3938, -0.3908,  0.3876, -0.5358,  0.8320,\n",
              "           1.4457,  0.9222,  0.3011,  1.1871, -1.9846,  0.4416, -0.8358,  1.0073,\n",
              "          -1.4579, -1.1683,  0.7401,  0.0054],\n",
              "         [-1.5595,  1.2737,  0.5235,  0.4178, -0.8771, -0.8127, -1.1824,  0.3319,\n",
              "          -0.4697,  1.0535,  0.0371,  0.5011, -1.2768,  0.3502,  0.3073,  0.1113,\n",
              "          -0.6262, -1.1443,  0.4188, -0.6602],\n",
              "         [-0.3478,  0.1951, -0.5329,  1.3326, -1.3318, -0.1116, -0.1516, -2.1468,\n",
              "           0.2090,  2.5205, -0.2782,  1.0731, -0.6730,  0.3831, -2.3760,  0.4512,\n",
              "           0.2960,  0.7707,  0.3914,  0.3289],\n",
              "         [ 0.8819,  0.3275, -1.5413,  0.6572, -1.7244, -0.2857,  0.4237,  0.0712,\n",
              "          -0.9841,  1.1338,  0.6094,  0.9164, -1.3851,  0.3559,  0.9177, -2.3425,\n",
              "           0.8181,  0.7732,  0.7556, -0.5158],\n",
              "         [-1.9848, -1.8914, -0.5385, -0.0221, -0.7487, -0.6710,  0.7257, -0.3937,\n",
              "          -0.2021, -0.3389, -0.3264, -0.1235,  0.1561,  0.9947, -1.3308,  0.4272,\n",
              "          -0.5517,  0.3106, -1.1571, -1.6764],\n",
              "         [-0.7806, -1.6039, -0.3657, -0.4024, -1.6688,  0.4575,  0.4426,  0.3218,\n",
              "           0.0490, -0.1173, -0.6847, -1.1960, -0.8930,  0.3586, -0.2905,  0.5968,\n",
              "           0.7272,  1.1708,  0.5438, -2.2190],\n",
              "         [ 1.5602, -2.2395,  0.0322,  0.8436, -0.5070,  0.4236,  1.7573,  1.6329,\n",
              "           0.5466,  1.1383, -1.4379,  1.5290, -0.4646, -0.2690, -0.6269,  0.3495,\n",
              "          -1.8619, -1.0363,  0.1210, -2.2725],\n",
              "         [-0.2741,  1.1790, -0.6397, -0.9429, -0.5342,  1.2193, -1.3536, -0.0939,\n",
              "          -0.6963,  1.2330, -0.2662, -2.6276, -1.5643, -1.3495,  0.2547,  0.4561,\n",
              "           0.3872, -1.1548, -1.1180,  1.4025],\n",
              "         [-0.2837, -1.2202,  0.9641,  0.0279,  0.7081, -3.0232, -0.5819,  1.5156,\n",
              "          -0.0075, -1.6948, -0.4301, -0.7171, -1.7543, -1.5410, -1.3280,  0.4784,\n",
              "          -2.0264,  0.2790,  0.0955, -0.1362]], dtype=torch.float64),\n",
              " tensor([[1.],\n",
              "         [2.],\n",
              "         [2.],\n",
              "         [1.],\n",
              "         [4.],\n",
              "         [2.],\n",
              "         [1.],\n",
              "         [3.],\n",
              "         [4.],\n",
              "         [4.],\n",
              "         [1.],\n",
              "         [4.],\n",
              "         [4.],\n",
              "         [2.],\n",
              "         [2.],\n",
              "         [1.],\n",
              "         [1.],\n",
              "         [3.],\n",
              "         [4.],\n",
              "         [2.],\n",
              "         [1.],\n",
              "         [2.],\n",
              "         [4.],\n",
              "         [1.],\n",
              "         [1.]])]"
            ]
          },
          "metadata": {},
          "execution_count": 40
        }
      ]
    },
    {
      "cell_type": "code",
      "source": [
        "# Import libraries\n",
        "import torch\n",
        "import torch.nn as nn\n",
        "import torch.nn.functional as F\n",
        "from torch.utils.data import DataLoader, TensorDataset\n",
        "from sklearn.model_selection import train_test_split\n",
        "\n",
        "import numpy as np\n",
        "\n",
        "import matplotlib.pyplot as plt\n",
        "import matplotlib_inline.backend_inline as mb\n",
        "mb.set_matplotlib_formats('svg')"
      ],
      "metadata": {
        "id": "7thZGqKdS4yc"
      },
      "execution_count": 41,
      "outputs": []
    },
    {
      "cell_type": "code",
      "source": [
        "A = [1, 1]\n",
        "B = [5, 1]\n",
        "C = [4, 4]\n",
        "\n",
        "nPerClust = 10\n",
        "\n",
        "# Generate data\n",
        "a = [A[0] + np.random.randn(nPerClust), A[1] + np.random.randn(nPerClust)]\n",
        "b = [B[0] + np.random.randn(nPerClust), B[1] + np.random.randn(nPerClust)]\n",
        "c = [C[0] + np.random.randn(nPerClust), C[1] + np.random.randn(nPerClust)]"
      ],
      "metadata": {
        "id": "R-JX-wzZaG2R"
      },
      "execution_count": 42,
      "outputs": []
    },
    {
      "cell_type": "code",
      "source": [
        "a"
      ],
      "metadata": {
        "colab": {
          "base_uri": "https://localhost:8080/"
        },
        "id": "8JdfdAI_aNdE",
        "outputId": "5fa8bcd2-96da-4f19-9bc3-57183b380bc9"
      },
      "execution_count": 43,
      "outputs": [
        {
          "output_type": "execute_result",
          "data": {
            "text/plain": [
              "[array([ 2.71113647, -0.62353441, -0.097035  , -0.46671342,  0.16525545,\n",
              "         1.51479775,  0.44454675,  0.51730718,  1.39564663,  0.83343865]),\n",
              " array([ 0.76676287,  1.4820936 ,  1.05794758,  1.86848429,  0.3582703 ,\n",
              "         0.70242625,  1.17125803, -0.42627124,  0.26403919,  1.08037549])]"
            ]
          },
          "metadata": {},
          "execution_count": 43
        }
      ]
    },
    {
      "cell_type": "code",
      "source": [
        "a[0].shape"
      ],
      "metadata": {
        "colab": {
          "base_uri": "https://localhost:8080/"
        },
        "id": "dLseXvLUaUx4",
        "outputId": "20559ca9-79f8-4e07-8719-fc3344a41bf9"
      },
      "execution_count": 44,
      "outputs": [
        {
          "output_type": "execute_result",
          "data": {
            "text/plain": [
              "(10,)"
            ]
          },
          "metadata": {},
          "execution_count": 44
        }
      ]
    },
    {
      "cell_type": "code",
      "source": [
        "# A function that creates data\n",
        "def createSomeData(nPerClust):\n",
        "\n",
        "  A = [1, 1]\n",
        "  B = [5, 1]\n",
        "  C = [4, 4]\n",
        "\n",
        "  # Generate data\n",
        "  a = [A[0] + np.random.randn(nPerClust), A[1] + np.random.randn(nPerClust)]\n",
        "  b = [B[0] + np.random.randn(nPerClust), B[1] + np.random.randn(nPerClust)]\n",
        "  c = [C[0] + np.random.randn(nPerClust), C[1] + np.random.randn(nPerClust)]\n",
        "\n",
        "  # true labels\n",
        "  labels_np = np.hstack((np.zeros((nPerClust)),\n",
        "                         np.ones((nPerClust)),\n",
        "                         1+np.ones((nPerClust))))\n",
        "\n",
        "  # concatenate into a matrix, then convert to a pytorch tensor\n",
        "  data_np = np.hstack((a, b, c)).T\n",
        "\n",
        "  # New: put all outputs into a dictionary\n",
        "  output = {}\n",
        "  output['data'] = torch.tensor(data_np).float()\n",
        "  output['labels'] = torch.tensor(labels_np).long() # note: \"long\" format (integers) for labels\n",
        "\n",
        "  # use scikit-learn to split the data\n",
        "  train_data, test_data, train_labels, test_labels = train_test_split(output['data'], output['labels'], train_size=.9)\n",
        "\n",
        "  # then convert them into PyTorch Dataset(note: already converted to tensors)\n",
        "  train_data = TensorDataset(train_data, train_labels)\n",
        "  test_data = TensorDataset(test_data, test_labels)\n",
        "\n",
        "  # finally, translate into dataloader objects\n",
        "  batchsize = 8\n",
        "  output['train_data'] = DataLoader(train_data, batch_size=batchsize, shuffle=True, drop_last=True)\n",
        "  output['test_data'] = DataLoader(test_data, batch_size=test_data.tensors[0].shape[0])\n",
        "\n",
        "  return output\n"
      ],
      "metadata": {
        "id": "dr-MKw1UZDkA"
      },
      "execution_count": 45,
      "outputs": []
    },
    {
      "cell_type": "code",
      "source": [
        "# Check that the function works\n",
        "\n",
        "theData= createSomeData(50)\n",
        "\n",
        "data = theData['data']\n",
        "labels = theData['labels']\n",
        "\n",
        "# show the data\n",
        "fig = plt.figure(figsize=(5, 5))\n",
        "\n",
        "plt.plot(data[np.where(labels==0)[0], 0], data[np.where(labels==0)[0], 1], 'bs', alpha=.5)\n",
        "plt.plot(data[np.where(labels==1)[0], 0], data[np.where(labels==1)[0], 1], 'ko', alpha=.5)\n",
        "plt.plot(data[np.where(labels==2)[0], 0], data[np.where(labels==2)[0], 1], 'r^', alpha=.5)\n",
        "\n",
        "plt.title('The qwerties')\n",
        "plt.xlabel('Qwerty dimension 1')\n",
        "plt.ylabel('Qwerty dimension 2')\n",
        "plt.show()"
      ],
      "metadata": {
        "colab": {
          "base_uri": "https://localhost:8080/",
          "height": 470
        },
        "id": "inDZ3wmAcUHQ",
        "outputId": "2fa1bebd-f9eb-4e58-ab11-4392d4e9dcea"
      },
      "execution_count": 46,
      "outputs": [
        {
          "output_type": "display_data",
          "data": {
            "text/plain": [
              "<Figure size 500x500 with 1 Axes>"
            ],
            "image/svg+xml": "<?xml version=\"1.0\" encoding=\"utf-8\" standalone=\"no\"?>\n<!DOCTYPE svg PUBLIC \"-//W3C//DTD SVG 1.1//EN\"\n  \"http://www.w3.org/Graphics/SVG/1.1/DTD/svg11.dtd\">\n<svg xmlns:xlink=\"http://www.w3.org/1999/xlink\" width=\"329.668018pt\" height=\"337.074375pt\" viewBox=\"0 0 329.668018 337.074375\" xmlns=\"http://www.w3.org/2000/svg\" version=\"1.1\">\n <metadata>\n  <rdf:RDF xmlns:dc=\"http://purl.org/dc/elements/1.1/\" xmlns:cc=\"http://creativecommons.org/ns#\" xmlns:rdf=\"http://www.w3.org/1999/02/22-rdf-syntax-ns#\">\n   <cc:Work>\n    <dc:type rdf:resource=\"http://purl.org/dc/dcmitype/StillImage\"/>\n    <dc:date>2025-05-31T19:24:59.430862</dc:date>\n    <dc:format>image/svg+xml</dc:format>\n    <dc:creator>\n     <cc:Agent>\n      <dc:title>Matplotlib v3.10.0, https://matplotlib.org/</dc:title>\n     </cc:Agent>\n    </dc:creator>\n   </cc:Work>\n  </rdf:RDF>\n </metadata>\n <defs>\n  <style type=\"text/css\">*{stroke-linejoin: round; stroke-linecap: butt}</style>\n </defs>\n <g id=\"figure_1\">\n  <g id=\"patch_1\">\n   <path d=\"M 0 337.074375 \nL 329.668018 337.074375 \nL 329.668018 0 \nL 0 0 \nz\n\" style=\"fill: #ffffff\"/>\n  </g>\n  <g id=\"axes_1\">\n   <g id=\"patch_2\">\n    <path d=\"M 42.620313 299.518125 \nL 321.620313 299.518125 \nL 321.620313 22.318125 \nL 42.620313 22.318125 \nz\n\" style=\"fill: #ffffff\"/>\n   </g>\n   <g id=\"matplotlib.axis_1\">\n    <g id=\"xtick_1\">\n     <g id=\"line2d_1\">\n      <defs>\n       <path id=\"md2ac9caf61\" d=\"M 0 0 \nL 0 3.5 \n\" style=\"stroke: #000000; stroke-width: 0.8\"/>\n      </defs>\n      <g>\n       <use xlink:href=\"#md2ac9caf61\" x=\"53.475074\" y=\"299.518125\" style=\"stroke: #000000; stroke-width: 0.8\"/>\n      </g>\n     </g>\n     <g id=\"text_1\">\n      <!-- −2 -->\n      <g transform=\"translate(46.10398 314.116563) scale(0.1 -0.1)\">\n       <defs>\n        <path id=\"DejaVuSans-2212\" d=\"M 678 2272 \nL 4684 2272 \nL 4684 1741 \nL 678 1741 \nL 678 2272 \nz\n\" transform=\"scale(0.015625)\"/>\n        <path id=\"DejaVuSans-32\" d=\"M 1228 531 \nL 3431 531 \nL 3431 0 \nL 469 0 \nL 469 531 \nQ 828 903 1448 1529 \nQ 2069 2156 2228 2338 \nQ 2531 2678 2651 2914 \nQ 2772 3150 2772 3378 \nQ 2772 3750 2511 3984 \nQ 2250 4219 1831 4219 \nQ 1534 4219 1204 4116 \nQ 875 4013 500 3803 \nL 500 4441 \nQ 881 4594 1212 4672 \nQ 1544 4750 1819 4750 \nQ 2544 4750 2975 4387 \nQ 3406 4025 3406 3419 \nQ 3406 3131 3298 2873 \nQ 3191 2616 2906 2266 \nQ 2828 2175 2409 1742 \nQ 1991 1309 1228 531 \nz\n\" transform=\"scale(0.015625)\"/>\n       </defs>\n       <use xlink:href=\"#DejaVuSans-2212\"/>\n       <use xlink:href=\"#DejaVuSans-32\" transform=\"translate(83.789062 0)\"/>\n      </g>\n     </g>\n    </g>\n    <g id=\"xtick_2\">\n     <g id=\"line2d_2\">\n      <g>\n       <use xlink:href=\"#md2ac9caf61\" x=\"106.637413\" y=\"299.518125\" style=\"stroke: #000000; stroke-width: 0.8\"/>\n      </g>\n     </g>\n     <g id=\"text_2\">\n      <!-- 0 -->\n      <g transform=\"translate(103.456163 314.116563) scale(0.1 -0.1)\">\n       <defs>\n        <path id=\"DejaVuSans-30\" d=\"M 2034 4250 \nQ 1547 4250 1301 3770 \nQ 1056 3291 1056 2328 \nQ 1056 1369 1301 889 \nQ 1547 409 2034 409 \nQ 2525 409 2770 889 \nQ 3016 1369 3016 2328 \nQ 3016 3291 2770 3770 \nQ 2525 4250 2034 4250 \nz\nM 2034 4750 \nQ 2819 4750 3233 4129 \nQ 3647 3509 3647 2328 \nQ 3647 1150 3233 529 \nQ 2819 -91 2034 -91 \nQ 1250 -91 836 529 \nQ 422 1150 422 2328 \nQ 422 3509 836 4129 \nQ 1250 4750 2034 4750 \nz\n\" transform=\"scale(0.015625)\"/>\n       </defs>\n       <use xlink:href=\"#DejaVuSans-30\"/>\n      </g>\n     </g>\n    </g>\n    <g id=\"xtick_3\">\n     <g id=\"line2d_3\">\n      <g>\n       <use xlink:href=\"#md2ac9caf61\" x=\"159.799752\" y=\"299.518125\" style=\"stroke: #000000; stroke-width: 0.8\"/>\n      </g>\n     </g>\n     <g id=\"text_3\">\n      <!-- 2 -->\n      <g transform=\"translate(156.618502 314.116563) scale(0.1 -0.1)\">\n       <use xlink:href=\"#DejaVuSans-32\"/>\n      </g>\n     </g>\n    </g>\n    <g id=\"xtick_4\">\n     <g id=\"line2d_4\">\n      <g>\n       <use xlink:href=\"#md2ac9caf61\" x=\"212.962091\" y=\"299.518125\" style=\"stroke: #000000; stroke-width: 0.8\"/>\n      </g>\n     </g>\n     <g id=\"text_4\">\n      <!-- 4 -->\n      <g transform=\"translate(209.780841 314.116563) scale(0.1 -0.1)\">\n       <defs>\n        <path id=\"DejaVuSans-34\" d=\"M 2419 4116 \nL 825 1625 \nL 2419 1625 \nL 2419 4116 \nz\nM 2253 4666 \nL 3047 4666 \nL 3047 1625 \nL 3713 1625 \nL 3713 1100 \nL 3047 1100 \nL 3047 0 \nL 2419 0 \nL 2419 1100 \nL 313 1100 \nL 313 1709 \nL 2253 4666 \nz\n\" transform=\"scale(0.015625)\"/>\n       </defs>\n       <use xlink:href=\"#DejaVuSans-34\"/>\n      </g>\n     </g>\n    </g>\n    <g id=\"xtick_5\">\n     <g id=\"line2d_5\">\n      <g>\n       <use xlink:href=\"#md2ac9caf61\" x=\"266.124429\" y=\"299.518125\" style=\"stroke: #000000; stroke-width: 0.8\"/>\n      </g>\n     </g>\n     <g id=\"text_5\">\n      <!-- 6 -->\n      <g transform=\"translate(262.943179 314.116563) scale(0.1 -0.1)\">\n       <defs>\n        <path id=\"DejaVuSans-36\" d=\"M 2113 2584 \nQ 1688 2584 1439 2293 \nQ 1191 2003 1191 1497 \nQ 1191 994 1439 701 \nQ 1688 409 2113 409 \nQ 2538 409 2786 701 \nQ 3034 994 3034 1497 \nQ 3034 2003 2786 2293 \nQ 2538 2584 2113 2584 \nz\nM 3366 4563 \nL 3366 3988 \nQ 3128 4100 2886 4159 \nQ 2644 4219 2406 4219 \nQ 1781 4219 1451 3797 \nQ 1122 3375 1075 2522 \nQ 1259 2794 1537 2939 \nQ 1816 3084 2150 3084 \nQ 2853 3084 3261 2657 \nQ 3669 2231 3669 1497 \nQ 3669 778 3244 343 \nQ 2819 -91 2113 -91 \nQ 1303 -91 875 529 \nQ 447 1150 447 2328 \nQ 447 3434 972 4092 \nQ 1497 4750 2381 4750 \nQ 2619 4750 2861 4703 \nQ 3103 4656 3366 4563 \nz\n\" transform=\"scale(0.015625)\"/>\n       </defs>\n       <use xlink:href=\"#DejaVuSans-36\"/>\n      </g>\n     </g>\n    </g>\n    <g id=\"xtick_6\">\n     <g id=\"line2d_6\">\n      <g>\n       <use xlink:href=\"#md2ac9caf61\" x=\"319.286768\" y=\"299.518125\" style=\"stroke: #000000; stroke-width: 0.8\"/>\n      </g>\n     </g>\n     <g id=\"text_6\">\n      <!-- 8 -->\n      <g transform=\"translate(316.105518 314.116563) scale(0.1 -0.1)\">\n       <defs>\n        <path id=\"DejaVuSans-38\" d=\"M 2034 2216 \nQ 1584 2216 1326 1975 \nQ 1069 1734 1069 1313 \nQ 1069 891 1326 650 \nQ 1584 409 2034 409 \nQ 2484 409 2743 651 \nQ 3003 894 3003 1313 \nQ 3003 1734 2745 1975 \nQ 2488 2216 2034 2216 \nz\nM 1403 2484 \nQ 997 2584 770 2862 \nQ 544 3141 544 3541 \nQ 544 4100 942 4425 \nQ 1341 4750 2034 4750 \nQ 2731 4750 3128 4425 \nQ 3525 4100 3525 3541 \nQ 3525 3141 3298 2862 \nQ 3072 2584 2669 2484 \nQ 3125 2378 3379 2068 \nQ 3634 1759 3634 1313 \nQ 3634 634 3220 271 \nQ 2806 -91 2034 -91 \nQ 1263 -91 848 271 \nQ 434 634 434 1313 \nQ 434 1759 690 2068 \nQ 947 2378 1403 2484 \nz\nM 1172 3481 \nQ 1172 3119 1398 2916 \nQ 1625 2713 2034 2713 \nQ 2441 2713 2670 2916 \nQ 2900 3119 2900 3481 \nQ 2900 3844 2670 4047 \nQ 2441 4250 2034 4250 \nQ 1625 4250 1398 4047 \nQ 1172 3844 1172 3481 \nz\n\" transform=\"scale(0.015625)\"/>\n       </defs>\n       <use xlink:href=\"#DejaVuSans-38\"/>\n      </g>\n     </g>\n    </g>\n    <g id=\"text_7\">\n     <!-- Qwerty dimension 1 -->\n     <g transform=\"translate(131.783594 327.794688) scale(0.1 -0.1)\">\n      <defs>\n       <path id=\"DejaVuSans-51\" d=\"M 2522 4238 \nQ 1834 4238 1429 3725 \nQ 1025 3213 1025 2328 \nQ 1025 1447 1429 934 \nQ 1834 422 2522 422 \nQ 3209 422 3611 934 \nQ 4013 1447 4013 2328 \nQ 4013 3213 3611 3725 \nQ 3209 4238 2522 4238 \nz\nM 3406 84 \nL 4238 -825 \nL 3475 -825 \nL 2784 -78 \nQ 2681 -84 2626 -87 \nQ 2572 -91 2522 -91 \nQ 1538 -91 948 567 \nQ 359 1225 359 2328 \nQ 359 3434 948 4092 \nQ 1538 4750 2522 4750 \nQ 3503 4750 4090 4092 \nQ 4678 3434 4678 2328 \nQ 4678 1516 4351 937 \nQ 4025 359 3406 84 \nz\n\" transform=\"scale(0.015625)\"/>\n       <path id=\"DejaVuSans-77\" d=\"M 269 3500 \nL 844 3500 \nL 1563 769 \nL 2278 3500 \nL 2956 3500 \nL 3675 769 \nL 4391 3500 \nL 4966 3500 \nL 4050 0 \nL 3372 0 \nL 2619 2869 \nL 1863 0 \nL 1184 0 \nL 269 3500 \nz\n\" transform=\"scale(0.015625)\"/>\n       <path id=\"DejaVuSans-65\" d=\"M 3597 1894 \nL 3597 1613 \nL 953 1613 \nQ 991 1019 1311 708 \nQ 1631 397 2203 397 \nQ 2534 397 2845 478 \nQ 3156 559 3463 722 \nL 3463 178 \nQ 3153 47 2828 -22 \nQ 2503 -91 2169 -91 \nQ 1331 -91 842 396 \nQ 353 884 353 1716 \nQ 353 2575 817 3079 \nQ 1281 3584 2069 3584 \nQ 2775 3584 3186 3129 \nQ 3597 2675 3597 1894 \nz\nM 3022 2063 \nQ 3016 2534 2758 2815 \nQ 2500 3097 2075 3097 \nQ 1594 3097 1305 2825 \nQ 1016 2553 972 2059 \nL 3022 2063 \nz\n\" transform=\"scale(0.015625)\"/>\n       <path id=\"DejaVuSans-72\" d=\"M 2631 2963 \nQ 2534 3019 2420 3045 \nQ 2306 3072 2169 3072 \nQ 1681 3072 1420 2755 \nQ 1159 2438 1159 1844 \nL 1159 0 \nL 581 0 \nL 581 3500 \nL 1159 3500 \nL 1159 2956 \nQ 1341 3275 1631 3429 \nQ 1922 3584 2338 3584 \nQ 2397 3584 2469 3576 \nQ 2541 3569 2628 3553 \nL 2631 2963 \nz\n\" transform=\"scale(0.015625)\"/>\n       <path id=\"DejaVuSans-74\" d=\"M 1172 4494 \nL 1172 3500 \nL 2356 3500 \nL 2356 3053 \nL 1172 3053 \nL 1172 1153 \nQ 1172 725 1289 603 \nQ 1406 481 1766 481 \nL 2356 481 \nL 2356 0 \nL 1766 0 \nQ 1100 0 847 248 \nQ 594 497 594 1153 \nL 594 3053 \nL 172 3053 \nL 172 3500 \nL 594 3500 \nL 594 4494 \nL 1172 4494 \nz\n\" transform=\"scale(0.015625)\"/>\n       <path id=\"DejaVuSans-79\" d=\"M 2059 -325 \nQ 1816 -950 1584 -1140 \nQ 1353 -1331 966 -1331 \nL 506 -1331 \nL 506 -850 \nL 844 -850 \nQ 1081 -850 1212 -737 \nQ 1344 -625 1503 -206 \nL 1606 56 \nL 191 3500 \nL 800 3500 \nL 1894 763 \nL 2988 3500 \nL 3597 3500 \nL 2059 -325 \nz\n\" transform=\"scale(0.015625)\"/>\n       <path id=\"DejaVuSans-20\" transform=\"scale(0.015625)\"/>\n       <path id=\"DejaVuSans-64\" d=\"M 2906 2969 \nL 2906 4863 \nL 3481 4863 \nL 3481 0 \nL 2906 0 \nL 2906 525 \nQ 2725 213 2448 61 \nQ 2172 -91 1784 -91 \nQ 1150 -91 751 415 \nQ 353 922 353 1747 \nQ 353 2572 751 3078 \nQ 1150 3584 1784 3584 \nQ 2172 3584 2448 3432 \nQ 2725 3281 2906 2969 \nz\nM 947 1747 \nQ 947 1113 1208 752 \nQ 1469 391 1925 391 \nQ 2381 391 2643 752 \nQ 2906 1113 2906 1747 \nQ 2906 2381 2643 2742 \nQ 2381 3103 1925 3103 \nQ 1469 3103 1208 2742 \nQ 947 2381 947 1747 \nz\n\" transform=\"scale(0.015625)\"/>\n       <path id=\"DejaVuSans-69\" d=\"M 603 3500 \nL 1178 3500 \nL 1178 0 \nL 603 0 \nL 603 3500 \nz\nM 603 4863 \nL 1178 4863 \nL 1178 4134 \nL 603 4134 \nL 603 4863 \nz\n\" transform=\"scale(0.015625)\"/>\n       <path id=\"DejaVuSans-6d\" d=\"M 3328 2828 \nQ 3544 3216 3844 3400 \nQ 4144 3584 4550 3584 \nQ 5097 3584 5394 3201 \nQ 5691 2819 5691 2113 \nL 5691 0 \nL 5113 0 \nL 5113 2094 \nQ 5113 2597 4934 2840 \nQ 4756 3084 4391 3084 \nQ 3944 3084 3684 2787 \nQ 3425 2491 3425 1978 \nL 3425 0 \nL 2847 0 \nL 2847 2094 \nQ 2847 2600 2669 2842 \nQ 2491 3084 2119 3084 \nQ 1678 3084 1418 2786 \nQ 1159 2488 1159 1978 \nL 1159 0 \nL 581 0 \nL 581 3500 \nL 1159 3500 \nL 1159 2956 \nQ 1356 3278 1631 3431 \nQ 1906 3584 2284 3584 \nQ 2666 3584 2933 3390 \nQ 3200 3197 3328 2828 \nz\n\" transform=\"scale(0.015625)\"/>\n       <path id=\"DejaVuSans-6e\" d=\"M 3513 2113 \nL 3513 0 \nL 2938 0 \nL 2938 2094 \nQ 2938 2591 2744 2837 \nQ 2550 3084 2163 3084 \nQ 1697 3084 1428 2787 \nQ 1159 2491 1159 1978 \nL 1159 0 \nL 581 0 \nL 581 3500 \nL 1159 3500 \nL 1159 2956 \nQ 1366 3272 1645 3428 \nQ 1925 3584 2291 3584 \nQ 2894 3584 3203 3211 \nQ 3513 2838 3513 2113 \nz\n\" transform=\"scale(0.015625)\"/>\n       <path id=\"DejaVuSans-73\" d=\"M 2834 3397 \nL 2834 2853 \nQ 2591 2978 2328 3040 \nQ 2066 3103 1784 3103 \nQ 1356 3103 1142 2972 \nQ 928 2841 928 2578 \nQ 928 2378 1081 2264 \nQ 1234 2150 1697 2047 \nL 1894 2003 \nQ 2506 1872 2764 1633 \nQ 3022 1394 3022 966 \nQ 3022 478 2636 193 \nQ 2250 -91 1575 -91 \nQ 1294 -91 989 -36 \nQ 684 19 347 128 \nL 347 722 \nQ 666 556 975 473 \nQ 1284 391 1588 391 \nQ 1994 391 2212 530 \nQ 2431 669 2431 922 \nQ 2431 1156 2273 1281 \nQ 2116 1406 1581 1522 \nL 1381 1569 \nQ 847 1681 609 1914 \nQ 372 2147 372 2553 \nQ 372 3047 722 3315 \nQ 1072 3584 1716 3584 \nQ 2034 3584 2315 3537 \nQ 2597 3491 2834 3397 \nz\n\" transform=\"scale(0.015625)\"/>\n       <path id=\"DejaVuSans-6f\" d=\"M 1959 3097 \nQ 1497 3097 1228 2736 \nQ 959 2375 959 1747 \nQ 959 1119 1226 758 \nQ 1494 397 1959 397 \nQ 2419 397 2687 759 \nQ 2956 1122 2956 1747 \nQ 2956 2369 2687 2733 \nQ 2419 3097 1959 3097 \nz\nM 1959 3584 \nQ 2709 3584 3137 3096 \nQ 3566 2609 3566 1747 \nQ 3566 888 3137 398 \nQ 2709 -91 1959 -91 \nQ 1206 -91 779 398 \nQ 353 888 353 1747 \nQ 353 2609 779 3096 \nQ 1206 3584 1959 3584 \nz\n\" transform=\"scale(0.015625)\"/>\n       <path id=\"DejaVuSans-31\" d=\"M 794 531 \nL 1825 531 \nL 1825 4091 \nL 703 3866 \nL 703 4441 \nL 1819 4666 \nL 2450 4666 \nL 2450 531 \nL 3481 531 \nL 3481 0 \nL 794 0 \nL 794 531 \nz\n\" transform=\"scale(0.015625)\"/>\n      </defs>\n      <use xlink:href=\"#DejaVuSans-51\"/>\n      <use xlink:href=\"#DejaVuSans-77\" transform=\"translate(78.710938 0)\"/>\n      <use xlink:href=\"#DejaVuSans-65\" transform=\"translate(160.498047 0)\"/>\n      <use xlink:href=\"#DejaVuSans-72\" transform=\"translate(222.021484 0)\"/>\n      <use xlink:href=\"#DejaVuSans-74\" transform=\"translate(263.134766 0)\"/>\n      <use xlink:href=\"#DejaVuSans-79\" transform=\"translate(302.34375 0)\"/>\n      <use xlink:href=\"#DejaVuSans-20\" transform=\"translate(361.523438 0)\"/>\n      <use xlink:href=\"#DejaVuSans-64\" transform=\"translate(393.310547 0)\"/>\n      <use xlink:href=\"#DejaVuSans-69\" transform=\"translate(456.787109 0)\"/>\n      <use xlink:href=\"#DejaVuSans-6d\" transform=\"translate(484.570312 0)\"/>\n      <use xlink:href=\"#DejaVuSans-65\" transform=\"translate(581.982422 0)\"/>\n      <use xlink:href=\"#DejaVuSans-6e\" transform=\"translate(643.505859 0)\"/>\n      <use xlink:href=\"#DejaVuSans-73\" transform=\"translate(706.884766 0)\"/>\n      <use xlink:href=\"#DejaVuSans-69\" transform=\"translate(758.984375 0)\"/>\n      <use xlink:href=\"#DejaVuSans-6f\" transform=\"translate(786.767578 0)\"/>\n      <use xlink:href=\"#DejaVuSans-6e\" transform=\"translate(847.949219 0)\"/>\n      <use xlink:href=\"#DejaVuSans-20\" transform=\"translate(911.328125 0)\"/>\n      <use xlink:href=\"#DejaVuSans-31\" transform=\"translate(943.115234 0)\"/>\n     </g>\n    </g>\n   </g>\n   <g id=\"matplotlib.axis_2\">\n    <g id=\"ytick_1\">\n     <g id=\"line2d_7\">\n      <defs>\n       <path id=\"md487f25e29\" d=\"M 0 0 \nL -3.5 0 \n\" style=\"stroke: #000000; stroke-width: 0.8\"/>\n      </defs>\n      <g>\n       <use xlink:href=\"#md487f25e29\" x=\"42.620313\" y=\"296.538724\" style=\"stroke: #000000; stroke-width: 0.8\"/>\n      </g>\n     </g>\n     <g id=\"text_8\">\n      <!-- −2 -->\n      <g transform=\"translate(20.878125 300.337943) scale(0.1 -0.1)\">\n       <use xlink:href=\"#DejaVuSans-2212\"/>\n       <use xlink:href=\"#DejaVuSans-32\" transform=\"translate(83.789062 0)\"/>\n      </g>\n     </g>\n    </g>\n    <g id=\"ytick_2\">\n     <g id=\"line2d_8\">\n      <g>\n       <use xlink:href=\"#md487f25e29\" x=\"42.620313\" y=\"264.963128\" style=\"stroke: #000000; stroke-width: 0.8\"/>\n      </g>\n     </g>\n     <g id=\"text_9\">\n      <!-- −1 -->\n      <g transform=\"translate(20.878125 268.762347) scale(0.1 -0.1)\">\n       <use xlink:href=\"#DejaVuSans-2212\"/>\n       <use xlink:href=\"#DejaVuSans-31\" transform=\"translate(83.789062 0)\"/>\n      </g>\n     </g>\n    </g>\n    <g id=\"ytick_3\">\n     <g id=\"line2d_9\">\n      <g>\n       <use xlink:href=\"#md487f25e29\" x=\"42.620313\" y=\"233.387531\" style=\"stroke: #000000; stroke-width: 0.8\"/>\n      </g>\n     </g>\n     <g id=\"text_10\">\n      <!-- 0 -->\n      <g transform=\"translate(29.257813 237.18675) scale(0.1 -0.1)\">\n       <use xlink:href=\"#DejaVuSans-30\"/>\n      </g>\n     </g>\n    </g>\n    <g id=\"ytick_4\">\n     <g id=\"line2d_10\">\n      <g>\n       <use xlink:href=\"#md487f25e29\" x=\"42.620313\" y=\"201.811935\" style=\"stroke: #000000; stroke-width: 0.8\"/>\n      </g>\n     </g>\n     <g id=\"text_11\">\n      <!-- 1 -->\n      <g transform=\"translate(29.257813 205.611154) scale(0.1 -0.1)\">\n       <use xlink:href=\"#DejaVuSans-31\"/>\n      </g>\n     </g>\n    </g>\n    <g id=\"ytick_5\">\n     <g id=\"line2d_11\">\n      <g>\n       <use xlink:href=\"#md487f25e29\" x=\"42.620313\" y=\"170.236339\" style=\"stroke: #000000; stroke-width: 0.8\"/>\n      </g>\n     </g>\n     <g id=\"text_12\">\n      <!-- 2 -->\n      <g transform=\"translate(29.257813 174.035557) scale(0.1 -0.1)\">\n       <use xlink:href=\"#DejaVuSans-32\"/>\n      </g>\n     </g>\n    </g>\n    <g id=\"ytick_6\">\n     <g id=\"line2d_12\">\n      <g>\n       <use xlink:href=\"#md487f25e29\" x=\"42.620313\" y=\"138.660742\" style=\"stroke: #000000; stroke-width: 0.8\"/>\n      </g>\n     </g>\n     <g id=\"text_13\">\n      <!-- 3 -->\n      <g transform=\"translate(29.257813 142.459961) scale(0.1 -0.1)\">\n       <defs>\n        <path id=\"DejaVuSans-33\" d=\"M 2597 2516 \nQ 3050 2419 3304 2112 \nQ 3559 1806 3559 1356 \nQ 3559 666 3084 287 \nQ 2609 -91 1734 -91 \nQ 1441 -91 1130 -33 \nQ 819 25 488 141 \nL 488 750 \nQ 750 597 1062 519 \nQ 1375 441 1716 441 \nQ 2309 441 2620 675 \nQ 2931 909 2931 1356 \nQ 2931 1769 2642 2001 \nQ 2353 2234 1838 2234 \nL 1294 2234 \nL 1294 2753 \nL 1863 2753 \nQ 2328 2753 2575 2939 \nQ 2822 3125 2822 3475 \nQ 2822 3834 2567 4026 \nQ 2313 4219 1838 4219 \nQ 1578 4219 1281 4162 \nQ 984 4106 628 3988 \nL 628 4550 \nQ 988 4650 1302 4700 \nQ 1616 4750 1894 4750 \nQ 2613 4750 3031 4423 \nQ 3450 4097 3450 3541 \nQ 3450 3153 3228 2886 \nQ 3006 2619 2597 2516 \nz\n\" transform=\"scale(0.015625)\"/>\n       </defs>\n       <use xlink:href=\"#DejaVuSans-33\"/>\n      </g>\n     </g>\n    </g>\n    <g id=\"ytick_7\">\n     <g id=\"line2d_13\">\n      <g>\n       <use xlink:href=\"#md487f25e29\" x=\"42.620313\" y=\"107.085146\" style=\"stroke: #000000; stroke-width: 0.8\"/>\n      </g>\n     </g>\n     <g id=\"text_14\">\n      <!-- 4 -->\n      <g transform=\"translate(29.257813 110.884365) scale(0.1 -0.1)\">\n       <use xlink:href=\"#DejaVuSans-34\"/>\n      </g>\n     </g>\n    </g>\n    <g id=\"ytick_8\">\n     <g id=\"line2d_14\">\n      <g>\n       <use xlink:href=\"#md487f25e29\" x=\"42.620313\" y=\"75.509549\" style=\"stroke: #000000; stroke-width: 0.8\"/>\n      </g>\n     </g>\n     <g id=\"text_15\">\n      <!-- 5 -->\n      <g transform=\"translate(29.257813 79.308768) scale(0.1 -0.1)\">\n       <defs>\n        <path id=\"DejaVuSans-35\" d=\"M 691 4666 \nL 3169 4666 \nL 3169 4134 \nL 1269 4134 \nL 1269 2991 \nQ 1406 3038 1543 3061 \nQ 1681 3084 1819 3084 \nQ 2600 3084 3056 2656 \nQ 3513 2228 3513 1497 \nQ 3513 744 3044 326 \nQ 2575 -91 1722 -91 \nQ 1428 -91 1123 -41 \nQ 819 9 494 109 \nL 494 744 \nQ 775 591 1075 516 \nQ 1375 441 1709 441 \nQ 2250 441 2565 725 \nQ 2881 1009 2881 1497 \nQ 2881 1984 2565 2268 \nQ 2250 2553 1709 2553 \nQ 1456 2553 1204 2497 \nQ 953 2441 691 2322 \nL 691 4666 \nz\n\" transform=\"scale(0.015625)\"/>\n       </defs>\n       <use xlink:href=\"#DejaVuSans-35\"/>\n      </g>\n     </g>\n    </g>\n    <g id=\"ytick_9\">\n     <g id=\"line2d_15\">\n      <g>\n       <use xlink:href=\"#md487f25e29\" x=\"42.620313\" y=\"43.933953\" style=\"stroke: #000000; stroke-width: 0.8\"/>\n      </g>\n     </g>\n     <g id=\"text_16\">\n      <!-- 6 -->\n      <g transform=\"translate(29.257813 47.733172) scale(0.1 -0.1)\">\n       <use xlink:href=\"#DejaVuSans-36\"/>\n      </g>\n     </g>\n    </g>\n    <g id=\"text_17\">\n     <!-- Qwerty dimension 2 -->\n     <g transform=\"translate(14.798438 211.254844) rotate(-90) scale(0.1 -0.1)\">\n      <use xlink:href=\"#DejaVuSans-51\"/>\n      <use xlink:href=\"#DejaVuSans-77\" transform=\"translate(78.710938 0)\"/>\n      <use xlink:href=\"#DejaVuSans-65\" transform=\"translate(160.498047 0)\"/>\n      <use xlink:href=\"#DejaVuSans-72\" transform=\"translate(222.021484 0)\"/>\n      <use xlink:href=\"#DejaVuSans-74\" transform=\"translate(263.134766 0)\"/>\n      <use xlink:href=\"#DejaVuSans-79\" transform=\"translate(302.34375 0)\"/>\n      <use xlink:href=\"#DejaVuSans-20\" transform=\"translate(361.523438 0)\"/>\n      <use xlink:href=\"#DejaVuSans-64\" transform=\"translate(393.310547 0)\"/>\n      <use xlink:href=\"#DejaVuSans-69\" transform=\"translate(456.787109 0)\"/>\n      <use xlink:href=\"#DejaVuSans-6d\" transform=\"translate(484.570312 0)\"/>\n      <use xlink:href=\"#DejaVuSans-65\" transform=\"translate(581.982422 0)\"/>\n      <use xlink:href=\"#DejaVuSans-6e\" transform=\"translate(643.505859 0)\"/>\n      <use xlink:href=\"#DejaVuSans-73\" transform=\"translate(706.884766 0)\"/>\n      <use xlink:href=\"#DejaVuSans-69\" transform=\"translate(758.984375 0)\"/>\n      <use xlink:href=\"#DejaVuSans-6f\" transform=\"translate(786.767578 0)\"/>\n      <use xlink:href=\"#DejaVuSans-6e\" transform=\"translate(847.949219 0)\"/>\n      <use xlink:href=\"#DejaVuSans-20\" transform=\"translate(911.328125 0)\"/>\n      <use xlink:href=\"#DejaVuSans-32\" transform=\"translate(943.115234 0)\"/>\n     </g>\n    </g>\n   </g>\n   <g id=\"line2d_16\">\n    <defs>\n     <path id=\"m598cc75a82\" d=\"M -3 3 \nL 3 3 \nL 3 -3 \nL -3 -3 \nz\n\" style=\"stroke: #0000ff; stroke-opacity: 0.5; stroke-linejoin: miter\"/>\n    </defs>\n    <g clip-path=\"url(#pb9e2fda1c5)\">\n     <use xlink:href=\"#m598cc75a82\" x=\"165.431427\" y=\"148.903849\" style=\"fill: #0000ff; fill-opacity: 0.5; stroke: #0000ff; stroke-opacity: 0.5; stroke-linejoin: miter\"/>\n     <use xlink:href=\"#m598cc75a82\" x=\"118.874407\" y=\"224.638232\" style=\"fill: #0000ff; fill-opacity: 0.5; stroke: #0000ff; stroke-opacity: 0.5; stroke-linejoin: miter\"/>\n     <use xlink:href=\"#m598cc75a82\" x=\"160.576539\" y=\"219.32357\" style=\"fill: #0000ff; fill-opacity: 0.5; stroke: #0000ff; stroke-opacity: 0.5; stroke-linejoin: miter\"/>\n     <use xlink:href=\"#m598cc75a82\" x=\"147.963721\" y=\"196.251773\" style=\"fill: #0000ff; fill-opacity: 0.5; stroke: #0000ff; stroke-opacity: 0.5; stroke-linejoin: miter\"/>\n     <use xlink:href=\"#m598cc75a82\" x=\"105.67254\" y=\"192.264563\" style=\"fill: #0000ff; fill-opacity: 0.5; stroke: #0000ff; stroke-opacity: 0.5; stroke-linejoin: miter\"/>\n     <use xlink:href=\"#m598cc75a82\" x=\"122.216133\" y=\"191.146319\" style=\"fill: #0000ff; fill-opacity: 0.5; stroke: #0000ff; stroke-opacity: 0.5; stroke-linejoin: miter\"/>\n     <use xlink:href=\"#m598cc75a82\" x=\"123.657896\" y=\"192.135721\" style=\"fill: #0000ff; fill-opacity: 0.5; stroke: #0000ff; stroke-opacity: 0.5; stroke-linejoin: miter\"/>\n     <use xlink:href=\"#m598cc75a82\" x=\"133.882588\" y=\"179.045841\" style=\"fill: #0000ff; fill-opacity: 0.5; stroke: #0000ff; stroke-opacity: 0.5; stroke-linejoin: miter\"/>\n     <use xlink:href=\"#m598cc75a82\" x=\"104.75325\" y=\"201.794488\" style=\"fill: #0000ff; fill-opacity: 0.5; stroke: #0000ff; stroke-opacity: 0.5; stroke-linejoin: miter\"/>\n     <use xlink:href=\"#m598cc75a82\" x=\"55.302131\" y=\"227.488622\" style=\"fill: #0000ff; fill-opacity: 0.5; stroke: #0000ff; stroke-opacity: 0.5; stroke-linejoin: miter\"/>\n     <use xlink:href=\"#m598cc75a82\" x=\"146.650841\" y=\"176.12406\" style=\"fill: #0000ff; fill-opacity: 0.5; stroke: #0000ff; stroke-opacity: 0.5; stroke-linejoin: miter\"/>\n     <use xlink:href=\"#m598cc75a82\" x=\"96.186262\" y=\"206.05333\" style=\"fill: #0000ff; fill-opacity: 0.5; stroke: #0000ff; stroke-opacity: 0.5; stroke-linejoin: miter\"/>\n     <use xlink:href=\"#m598cc75a82\" x=\"147.552624\" y=\"180.401619\" style=\"fill: #0000ff; fill-opacity: 0.5; stroke: #0000ff; stroke-opacity: 0.5; stroke-linejoin: miter\"/>\n     <use xlink:href=\"#m598cc75a82\" x=\"106.856595\" y=\"152.335854\" style=\"fill: #0000ff; fill-opacity: 0.5; stroke: #0000ff; stroke-opacity: 0.5; stroke-linejoin: miter\"/>\n     <use xlink:href=\"#m598cc75a82\" x=\"108.551397\" y=\"239.440927\" style=\"fill: #0000ff; fill-opacity: 0.5; stroke: #0000ff; stroke-opacity: 0.5; stroke-linejoin: miter\"/>\n     <use xlink:href=\"#m598cc75a82\" x=\"117.048473\" y=\"177.901775\" style=\"fill: #0000ff; fill-opacity: 0.5; stroke: #0000ff; stroke-opacity: 0.5; stroke-linejoin: miter\"/>\n     <use xlink:href=\"#m598cc75a82\" x=\"121.574019\" y=\"114.720948\" style=\"fill: #0000ff; fill-opacity: 0.5; stroke: #0000ff; stroke-opacity: 0.5; stroke-linejoin: miter\"/>\n     <use xlink:href=\"#m598cc75a82\" x=\"82.336008\" y=\"183.954391\" style=\"fill: #0000ff; fill-opacity: 0.5; stroke: #0000ff; stroke-opacity: 0.5; stroke-linejoin: miter\"/>\n     <use xlink:href=\"#m598cc75a82\" x=\"150.125462\" y=\"243.031368\" style=\"fill: #0000ff; fill-opacity: 0.5; stroke: #0000ff; stroke-opacity: 0.5; stroke-linejoin: miter\"/>\n     <use xlink:href=\"#m598cc75a82\" x=\"151.250155\" y=\"196.340294\" style=\"fill: #0000ff; fill-opacity: 0.5; stroke: #0000ff; stroke-opacity: 0.5; stroke-linejoin: miter\"/>\n     <use xlink:href=\"#m598cc75a82\" x=\"140.722117\" y=\"188.133221\" style=\"fill: #0000ff; fill-opacity: 0.5; stroke: #0000ff; stroke-opacity: 0.5; stroke-linejoin: miter\"/>\n     <use xlink:href=\"#m598cc75a82\" x=\"147.573107\" y=\"203.074901\" style=\"fill: #0000ff; fill-opacity: 0.5; stroke: #0000ff; stroke-opacity: 0.5; stroke-linejoin: miter\"/>\n     <use xlink:href=\"#m598cc75a82\" x=\"174.496178\" y=\"169.174673\" style=\"fill: #0000ff; fill-opacity: 0.5; stroke: #0000ff; stroke-opacity: 0.5; stroke-linejoin: miter\"/>\n     <use xlink:href=\"#m598cc75a82\" x=\"88.242422\" y=\"164.576887\" style=\"fill: #0000ff; fill-opacity: 0.5; stroke: #0000ff; stroke-opacity: 0.5; stroke-linejoin: miter\"/>\n     <use xlink:href=\"#m598cc75a82\" x=\"142.672053\" y=\"138.2893\" style=\"fill: #0000ff; fill-opacity: 0.5; stroke: #0000ff; stroke-opacity: 0.5; stroke-linejoin: miter\"/>\n     <use xlink:href=\"#m598cc75a82\" x=\"197.53033\" y=\"181.54591\" style=\"fill: #0000ff; fill-opacity: 0.5; stroke: #0000ff; stroke-opacity: 0.5; stroke-linejoin: miter\"/>\n     <use xlink:href=\"#m598cc75a82\" x=\"145.83133\" y=\"196.444672\" style=\"fill: #0000ff; fill-opacity: 0.5; stroke: #0000ff; stroke-opacity: 0.5; stroke-linejoin: miter\"/>\n     <use xlink:href=\"#m598cc75a82\" x=\"148.301789\" y=\"184.970794\" style=\"fill: #0000ff; fill-opacity: 0.5; stroke: #0000ff; stroke-opacity: 0.5; stroke-linejoin: miter\"/>\n     <use xlink:href=\"#m598cc75a82\" x=\"105.117643\" y=\"235.585132\" style=\"fill: #0000ff; fill-opacity: 0.5; stroke: #0000ff; stroke-opacity: 0.5; stroke-linejoin: miter\"/>\n     <use xlink:href=\"#m598cc75a82\" x=\"143.969984\" y=\"196.151881\" style=\"fill: #0000ff; fill-opacity: 0.5; stroke: #0000ff; stroke-opacity: 0.5; stroke-linejoin: miter\"/>\n     <use xlink:href=\"#m598cc75a82\" x=\"147.00337\" y=\"219.636532\" style=\"fill: #0000ff; fill-opacity: 0.5; stroke: #0000ff; stroke-opacity: 0.5; stroke-linejoin: miter\"/>\n     <use xlink:href=\"#m598cc75a82\" x=\"158.862368\" y=\"164.465854\" style=\"fill: #0000ff; fill-opacity: 0.5; stroke: #0000ff; stroke-opacity: 0.5; stroke-linejoin: miter\"/>\n     <use xlink:href=\"#m598cc75a82\" x=\"121.928092\" y=\"148.077252\" style=\"fill: #0000ff; fill-opacity: 0.5; stroke: #0000ff; stroke-opacity: 0.5; stroke-linejoin: miter\"/>\n     <use xlink:href=\"#m598cc75a82\" x=\"169.038973\" y=\"233.665308\" style=\"fill: #0000ff; fill-opacity: 0.5; stroke: #0000ff; stroke-opacity: 0.5; stroke-linejoin: miter\"/>\n     <use xlink:href=\"#m598cc75a82\" x=\"160.614532\" y=\"198.251661\" style=\"fill: #0000ff; fill-opacity: 0.5; stroke: #0000ff; stroke-opacity: 0.5; stroke-linejoin: miter\"/>\n     <use xlink:href=\"#m598cc75a82\" x=\"110.025833\" y=\"205.840961\" style=\"fill: #0000ff; fill-opacity: 0.5; stroke: #0000ff; stroke-opacity: 0.5; stroke-linejoin: miter\"/>\n     <use xlink:href=\"#m598cc75a82\" x=\"142.383193\" y=\"217.586034\" style=\"fill: #0000ff; fill-opacity: 0.5; stroke: #0000ff; stroke-opacity: 0.5; stroke-linejoin: miter\"/>\n     <use xlink:href=\"#m598cc75a82\" x=\"79.252497\" y=\"164.035451\" style=\"fill: #0000ff; fill-opacity: 0.5; stroke: #0000ff; stroke-opacity: 0.5; stroke-linejoin: miter\"/>\n     <use xlink:href=\"#m598cc75a82\" x=\"139.746245\" y=\"162.281551\" style=\"fill: #0000ff; fill-opacity: 0.5; stroke: #0000ff; stroke-opacity: 0.5; stroke-linejoin: miter\"/>\n     <use xlink:href=\"#m598cc75a82\" x=\"154.487382\" y=\"217.240267\" style=\"fill: #0000ff; fill-opacity: 0.5; stroke: #0000ff; stroke-opacity: 0.5; stroke-linejoin: miter\"/>\n     <use xlink:href=\"#m598cc75a82\" x=\"108.028779\" y=\"162.910616\" style=\"fill: #0000ff; fill-opacity: 0.5; stroke: #0000ff; stroke-opacity: 0.5; stroke-linejoin: miter\"/>\n     <use xlink:href=\"#m598cc75a82\" x=\"107.121325\" y=\"173.13998\" style=\"fill: #0000ff; fill-opacity: 0.5; stroke: #0000ff; stroke-opacity: 0.5; stroke-linejoin: miter\"/>\n     <use xlink:href=\"#m598cc75a82\" x=\"122.303951\" y=\"229.165422\" style=\"fill: #0000ff; fill-opacity: 0.5; stroke: #0000ff; stroke-opacity: 0.5; stroke-linejoin: miter\"/>\n     <use xlink:href=\"#m598cc75a82\" x=\"162.835781\" y=\"200.964771\" style=\"fill: #0000ff; fill-opacity: 0.5; stroke: #0000ff; stroke-opacity: 0.5; stroke-linejoin: miter\"/>\n     <use xlink:href=\"#m598cc75a82\" x=\"129.239248\" y=\"215.030779\" style=\"fill: #0000ff; fill-opacity: 0.5; stroke: #0000ff; stroke-opacity: 0.5; stroke-linejoin: miter\"/>\n     <use xlink:href=\"#m598cc75a82\" x=\"140.830221\" y=\"245.289075\" style=\"fill: #0000ff; fill-opacity: 0.5; stroke: #0000ff; stroke-opacity: 0.5; stroke-linejoin: miter\"/>\n     <use xlink:href=\"#m598cc75a82\" x=\"114.21352\" y=\"184.531372\" style=\"fill: #0000ff; fill-opacity: 0.5; stroke: #0000ff; stroke-opacity: 0.5; stroke-linejoin: miter\"/>\n     <use xlink:href=\"#m598cc75a82\" x=\"144.871086\" y=\"186.919071\" style=\"fill: #0000ff; fill-opacity: 0.5; stroke: #0000ff; stroke-opacity: 0.5; stroke-linejoin: miter\"/>\n     <use xlink:href=\"#m598cc75a82\" x=\"144.845588\" y=\"214.215041\" style=\"fill: #0000ff; fill-opacity: 0.5; stroke: #0000ff; stroke-opacity: 0.5; stroke-linejoin: miter\"/>\n     <use xlink:href=\"#m598cc75a82\" x=\"138.412923\" y=\"226.419091\" style=\"fill: #0000ff; fill-opacity: 0.5; stroke: #0000ff; stroke-opacity: 0.5; stroke-linejoin: miter\"/>\n    </g>\n   </g>\n   <g id=\"line2d_17\">\n    <defs>\n     <path id=\"ma1cb087947\" d=\"M 0 3 \nC 0.795609 3 1.55874 2.683901 2.12132 2.12132 \nC 2.683901 1.55874 3 0.795609 3 0 \nC 3 -0.795609 2.683901 -1.55874 2.12132 -2.12132 \nC 1.55874 -2.683901 0.795609 -3 0 -3 \nC -0.795609 -3 -1.55874 -2.683901 -2.12132 -2.12132 \nC -2.683901 -1.55874 -3 -0.795609 -3 0 \nC -3 0.795609 -2.683901 1.55874 -2.12132 2.12132 \nC -1.55874 2.683901 -0.795609 3 0 3 \nz\n\" style=\"stroke: #000000; stroke-opacity: 0.5\"/>\n    </defs>\n    <g clip-path=\"url(#pb9e2fda1c5)\">\n     <use xlink:href=\"#ma1cb087947\" x=\"258.642949\" y=\"209.901095\" style=\"fill-opacity: 0.5; stroke: #000000; stroke-opacity: 0.5\"/>\n     <use xlink:href=\"#ma1cb087947\" x=\"219.067826\" y=\"247.845959\" style=\"fill-opacity: 0.5; stroke: #000000; stroke-opacity: 0.5\"/>\n     <use xlink:href=\"#ma1cb087947\" x=\"244.733222\" y=\"240.861884\" style=\"fill-opacity: 0.5; stroke: #000000; stroke-opacity: 0.5\"/>\n     <use xlink:href=\"#ma1cb087947\" x=\"242.875324\" y=\"230.574422\" style=\"fill-opacity: 0.5; stroke: #000000; stroke-opacity: 0.5\"/>\n     <use xlink:href=\"#ma1cb087947\" x=\"261.643425\" y=\"213.078076\" style=\"fill-opacity: 0.5; stroke: #000000; stroke-opacity: 0.5\"/>\n     <use xlink:href=\"#ma1cb087947\" x=\"245.637854\" y=\"179.478431\" style=\"fill-opacity: 0.5; stroke: #000000; stroke-opacity: 0.5\"/>\n     <use xlink:href=\"#ma1cb087947\" x=\"210.911978\" y=\"226.500843\" style=\"fill-opacity: 0.5; stroke: #000000; stroke-opacity: 0.5\"/>\n     <use xlink:href=\"#ma1cb087947\" x=\"248.455824\" y=\"224.482377\" style=\"fill-opacity: 0.5; stroke: #000000; stroke-opacity: 0.5\"/>\n     <use xlink:href=\"#ma1cb087947\" x=\"212.594119\" y=\"211.613226\" style=\"fill-opacity: 0.5; stroke: #000000; stroke-opacity: 0.5\"/>\n     <use xlink:href=\"#ma1cb087947\" x=\"226.815897\" y=\"286.918125\" style=\"fill-opacity: 0.5; stroke: #000000; stroke-opacity: 0.5\"/>\n     <use xlink:href=\"#ma1cb087947\" x=\"254.958308\" y=\"157.246542\" style=\"fill-opacity: 0.5; stroke: #000000; stroke-opacity: 0.5\"/>\n     <use xlink:href=\"#ma1cb087947\" x=\"218.959366\" y=\"233.20847\" style=\"fill-opacity: 0.5; stroke: #000000; stroke-opacity: 0.5\"/>\n     <use xlink:href=\"#ma1cb087947\" x=\"245.195487\" y=\"177.703765\" style=\"fill-opacity: 0.5; stroke: #000000; stroke-opacity: 0.5\"/>\n     <use xlink:href=\"#ma1cb087947\" x=\"219.112555\" y=\"193.208337\" style=\"fill-opacity: 0.5; stroke: #000000; stroke-opacity: 0.5\"/>\n     <use xlink:href=\"#ma1cb087947\" x=\"187.550154\" y=\"238.688815\" style=\"fill-opacity: 0.5; stroke: #000000; stroke-opacity: 0.5\"/>\n     <use xlink:href=\"#ma1cb087947\" x=\"238.373608\" y=\"172.361085\" style=\"fill-opacity: 0.5; stroke: #000000; stroke-opacity: 0.5\"/>\n     <use xlink:href=\"#ma1cb087947\" x=\"308.938494\" y=\"166.216659\" style=\"fill-opacity: 0.5; stroke: #000000; stroke-opacity: 0.5\"/>\n     <use xlink:href=\"#ma1cb087947\" x=\"206.215583\" y=\"247.246584\" style=\"fill-opacity: 0.5; stroke: #000000; stroke-opacity: 0.5\"/>\n     <use xlink:href=\"#ma1cb087947\" x=\"226.559293\" y=\"194.736913\" style=\"fill-opacity: 0.5; stroke: #000000; stroke-opacity: 0.5\"/>\n     <use xlink:href=\"#ma1cb087947\" x=\"207.683646\" y=\"149.645257\" style=\"fill-opacity: 0.5; stroke: #000000; stroke-opacity: 0.5\"/>\n     <use xlink:href=\"#ma1cb087947\" x=\"248.643729\" y=\"206.928949\" style=\"fill-opacity: 0.5; stroke: #000000; stroke-opacity: 0.5\"/>\n     <use xlink:href=\"#ma1cb087947\" x=\"246.259468\" y=\"223.884094\" style=\"fill-opacity: 0.5; stroke: #000000; stroke-opacity: 0.5\"/>\n     <use xlink:href=\"#ma1cb087947\" x=\"252.627776\" y=\"169.382572\" style=\"fill-opacity: 0.5; stroke: #000000; stroke-opacity: 0.5\"/>\n     <use xlink:href=\"#ma1cb087947\" x=\"228.222302\" y=\"186.695853\" style=\"fill-opacity: 0.5; stroke: #000000; stroke-opacity: 0.5\"/>\n     <use xlink:href=\"#ma1cb087947\" x=\"252.845848\" y=\"260.226994\" style=\"fill-opacity: 0.5; stroke: #000000; stroke-opacity: 0.5\"/>\n     <use xlink:href=\"#ma1cb087947\" x=\"270.275113\" y=\"251.589487\" style=\"fill-opacity: 0.5; stroke: #000000; stroke-opacity: 0.5\"/>\n     <use xlink:href=\"#ma1cb087947\" x=\"232.145954\" y=\"208.046656\" style=\"fill-opacity: 0.5; stroke: #000000; stroke-opacity: 0.5\"/>\n     <use xlink:href=\"#ma1cb087947\" x=\"287.292876\" y=\"135.849965\" style=\"fill-opacity: 0.5; stroke: #000000; stroke-opacity: 0.5\"/>\n     <use xlink:href=\"#ma1cb087947\" x=\"249.928722\" y=\"185.013761\" style=\"fill-opacity: 0.5; stroke: #000000; stroke-opacity: 0.5\"/>\n     <use xlink:href=\"#ma1cb087947\" x=\"234.886797\" y=\"189.732495\" style=\"fill-opacity: 0.5; stroke: #000000; stroke-opacity: 0.5\"/>\n     <use xlink:href=\"#ma1cb087947\" x=\"249.992578\" y=\"207.95192\" style=\"fill-opacity: 0.5; stroke: #000000; stroke-opacity: 0.5\"/>\n     <use xlink:href=\"#ma1cb087947\" x=\"251.323543\" y=\"162.839241\" style=\"fill-opacity: 0.5; stroke: #000000; stroke-opacity: 0.5\"/>\n     <use xlink:href=\"#ma1cb087947\" x=\"194.158975\" y=\"187.47553\" style=\"fill-opacity: 0.5; stroke: #000000; stroke-opacity: 0.5\"/>\n     <use xlink:href=\"#ma1cb087947\" x=\"231.663738\" y=\"231.330448\" style=\"fill-opacity: 0.5; stroke: #000000; stroke-opacity: 0.5\"/>\n     <use xlink:href=\"#ma1cb087947\" x=\"234.377368\" y=\"154.907325\" style=\"fill-opacity: 0.5; stroke: #000000; stroke-opacity: 0.5\"/>\n     <use xlink:href=\"#ma1cb087947\" x=\"205.669422\" y=\"183.662575\" style=\"fill-opacity: 0.5; stroke: #000000; stroke-opacity: 0.5\"/>\n     <use xlink:href=\"#ma1cb087947\" x=\"159.348114\" y=\"160.765972\" style=\"fill-opacity: 0.5; stroke: #000000; stroke-opacity: 0.5\"/>\n     <use xlink:href=\"#ma1cb087947\" x=\"227.772635\" y=\"186.640242\" style=\"fill-opacity: 0.5; stroke: #000000; stroke-opacity: 0.5\"/>\n     <use xlink:href=\"#ma1cb087947\" x=\"217.885854\" y=\"193.649215\" style=\"fill-opacity: 0.5; stroke: #000000; stroke-opacity: 0.5\"/>\n     <use xlink:href=\"#ma1cb087947\" x=\"248.91795\" y=\"188.031601\" style=\"fill-opacity: 0.5; stroke: #000000; stroke-opacity: 0.5\"/>\n     <use xlink:href=\"#ma1cb087947\" x=\"243.302594\" y=\"193.043691\" style=\"fill-opacity: 0.5; stroke: #000000; stroke-opacity: 0.5\"/>\n     <use xlink:href=\"#ma1cb087947\" x=\"222.777081\" y=\"247.966106\" style=\"fill-opacity: 0.5; stroke: #000000; stroke-opacity: 0.5\"/>\n     <use xlink:href=\"#ma1cb087947\" x=\"272.445853\" y=\"191.513168\" style=\"fill-opacity: 0.5; stroke: #000000; stroke-opacity: 0.5\"/>\n     <use xlink:href=\"#ma1cb087947\" x=\"251.732777\" y=\"223.445976\" style=\"fill-opacity: 0.5; stroke: #000000; stroke-opacity: 0.5\"/>\n     <use xlink:href=\"#ma1cb087947\" x=\"233.846163\" y=\"223.798675\" style=\"fill-opacity: 0.5; stroke: #000000; stroke-opacity: 0.5\"/>\n     <use xlink:href=\"#ma1cb087947\" x=\"228.029821\" y=\"159.300704\" style=\"fill-opacity: 0.5; stroke: #000000; stroke-opacity: 0.5\"/>\n     <use xlink:href=\"#ma1cb087947\" x=\"266.824945\" y=\"215.078623\" style=\"fill-opacity: 0.5; stroke: #000000; stroke-opacity: 0.5\"/>\n     <use xlink:href=\"#ma1cb087947\" x=\"248.86938\" y=\"204.315819\" style=\"fill-opacity: 0.5; stroke: #000000; stroke-opacity: 0.5\"/>\n     <use xlink:href=\"#ma1cb087947\" x=\"218.789713\" y=\"180.22037\" style=\"fill-opacity: 0.5; stroke: #000000; stroke-opacity: 0.5\"/>\n     <use xlink:href=\"#ma1cb087947\" x=\"197.98193\" y=\"170.790309\" style=\"fill-opacity: 0.5; stroke: #000000; stroke-opacity: 0.5\"/>\n    </g>\n   </g>\n   <g id=\"line2d_18\">\n    <defs>\n     <path id=\"m108c0a5cc1\" d=\"M 0 -3 \nL -3 3 \nL 3 3 \nz\n\" style=\"stroke: #ff0000; stroke-opacity: 0.5; stroke-linejoin: miter\"/>\n    </defs>\n    <g clip-path=\"url(#pb9e2fda1c5)\">\n     <use xlink:href=\"#m108c0a5cc1\" x=\"222.918127\" y=\"147.668846\" style=\"fill: #ff0000; fill-opacity: 0.5; stroke: #ff0000; stroke-opacity: 0.5; stroke-linejoin: miter\"/>\n     <use xlink:href=\"#m108c0a5cc1\" x=\"227.535361\" y=\"138.552133\" style=\"fill: #ff0000; fill-opacity: 0.5; stroke: #ff0000; stroke-opacity: 0.5; stroke-linejoin: miter\"/>\n     <use xlink:href=\"#m108c0a5cc1\" x=\"213.776794\" y=\"118.735425\" style=\"fill: #ff0000; fill-opacity: 0.5; stroke: #ff0000; stroke-opacity: 0.5; stroke-linejoin: miter\"/>\n     <use xlink:href=\"#m108c0a5cc1\" x=\"217.257915\" y=\"131.19096\" style=\"fill: #ff0000; fill-opacity: 0.5; stroke: #ff0000; stroke-opacity: 0.5; stroke-linejoin: miter\"/>\n     <use xlink:href=\"#m108c0a5cc1\" x=\"203.120286\" y=\"100.614921\" style=\"fill: #ff0000; fill-opacity: 0.5; stroke: #ff0000; stroke-opacity: 0.5; stroke-linejoin: miter\"/>\n     <use xlink:href=\"#m108c0a5cc1\" x=\"215.221998\" y=\"141.791303\" style=\"fill: #ff0000; fill-opacity: 0.5; stroke: #ff0000; stroke-opacity: 0.5; stroke-linejoin: miter\"/>\n     <use xlink:href=\"#m108c0a5cc1\" x=\"210.502687\" y=\"99.408963\" style=\"fill: #ff0000; fill-opacity: 0.5; stroke: #ff0000; stroke-opacity: 0.5; stroke-linejoin: miter\"/>\n     <use xlink:href=\"#m108c0a5cc1\" x=\"230.710092\" y=\"34.918125\" style=\"fill: #ff0000; fill-opacity: 0.5; stroke: #ff0000; stroke-opacity: 0.5; stroke-linejoin: miter\"/>\n     <use xlink:href=\"#m108c0a5cc1\" x=\"193.251123\" y=\"119.025864\" style=\"fill: #ff0000; fill-opacity: 0.5; stroke: #ff0000; stroke-opacity: 0.5; stroke-linejoin: miter\"/>\n     <use xlink:href=\"#m108c0a5cc1\" x=\"220.934621\" y=\"153.317502\" style=\"fill: #ff0000; fill-opacity: 0.5; stroke: #ff0000; stroke-opacity: 0.5; stroke-linejoin: miter\"/>\n     <use xlink:href=\"#m108c0a5cc1\" x=\"211.148289\" y=\"57.676533\" style=\"fill: #ff0000; fill-opacity: 0.5; stroke: #ff0000; stroke-opacity: 0.5; stroke-linejoin: miter\"/>\n     <use xlink:href=\"#m108c0a5cc1\" x=\"188.480776\" y=\"122.401814\" style=\"fill: #ff0000; fill-opacity: 0.5; stroke: #ff0000; stroke-opacity: 0.5; stroke-linejoin: miter\"/>\n     <use xlink:href=\"#m108c0a5cc1\" x=\"168.248947\" y=\"135.436109\" style=\"fill: #ff0000; fill-opacity: 0.5; stroke: #ff0000; stroke-opacity: 0.5; stroke-linejoin: miter\"/>\n     <use xlink:href=\"#m108c0a5cc1\" x=\"232.783311\" y=\"61.919838\" style=\"fill: #ff0000; fill-opacity: 0.5; stroke: #ff0000; stroke-opacity: 0.5; stroke-linejoin: miter\"/>\n     <use xlink:href=\"#m108c0a5cc1\" x=\"209.64447\" y=\"73.778709\" style=\"fill: #ff0000; fill-opacity: 0.5; stroke: #ff0000; stroke-opacity: 0.5; stroke-linejoin: miter\"/>\n     <use xlink:href=\"#m108c0a5cc1\" x=\"269.566346\" y=\"95.130636\" style=\"fill: #ff0000; fill-opacity: 0.5; stroke: #ff0000; stroke-opacity: 0.5; stroke-linejoin: miter\"/>\n     <use xlink:href=\"#m108c0a5cc1\" x=\"186.025973\" y=\"122.650418\" style=\"fill: #ff0000; fill-opacity: 0.5; stroke: #ff0000; stroke-opacity: 0.5; stroke-linejoin: miter\"/>\n     <use xlink:href=\"#m108c0a5cc1\" x=\"224.348742\" y=\"63.59235\" style=\"fill: #ff0000; fill-opacity: 0.5; stroke: #ff0000; stroke-opacity: 0.5; stroke-linejoin: miter\"/>\n     <use xlink:href=\"#m108c0a5cc1\" x=\"208.132749\" y=\"127.608293\" style=\"fill: #ff0000; fill-opacity: 0.5; stroke: #ff0000; stroke-opacity: 0.5; stroke-linejoin: miter\"/>\n     <use xlink:href=\"#m108c0a5cc1\" x=\"213.965016\" y=\"147.614395\" style=\"fill: #ff0000; fill-opacity: 0.5; stroke: #ff0000; stroke-opacity: 0.5; stroke-linejoin: miter\"/>\n     <use xlink:href=\"#m108c0a5cc1\" x=\"220.91064\" y=\"74.319581\" style=\"fill: #ff0000; fill-opacity: 0.5; stroke: #ff0000; stroke-opacity: 0.5; stroke-linejoin: miter\"/>\n     <use xlink:href=\"#m108c0a5cc1\" x=\"267.683035\" y=\"149.498261\" style=\"fill: #ff0000; fill-opacity: 0.5; stroke: #ff0000; stroke-opacity: 0.5; stroke-linejoin: miter\"/>\n     <use xlink:href=\"#m108c0a5cc1\" x=\"273.613007\" y=\"95.466861\" style=\"fill: #ff0000; fill-opacity: 0.5; stroke: #ff0000; stroke-opacity: 0.5; stroke-linejoin: miter\"/>\n     <use xlink:href=\"#m108c0a5cc1\" x=\"243.088477\" y=\"64.836612\" style=\"fill: #ff0000; fill-opacity: 0.5; stroke: #ff0000; stroke-opacity: 0.5; stroke-linejoin: miter\"/>\n     <use xlink:href=\"#m108c0a5cc1\" x=\"229.045904\" y=\"129.285118\" style=\"fill: #ff0000; fill-opacity: 0.5; stroke: #ff0000; stroke-opacity: 0.5; stroke-linejoin: miter\"/>\n     <use xlink:href=\"#m108c0a5cc1\" x=\"251.639705\" y=\"135.211927\" style=\"fill: #ff0000; fill-opacity: 0.5; stroke: #ff0000; stroke-opacity: 0.5; stroke-linejoin: miter\"/>\n     <use xlink:href=\"#m108c0a5cc1\" x=\"221.683656\" y=\"94.623566\" style=\"fill: #ff0000; fill-opacity: 0.5; stroke: #ff0000; stroke-opacity: 0.5; stroke-linejoin: miter\"/>\n     <use xlink:href=\"#m108c0a5cc1\" x=\"229.515471\" y=\"157.702707\" style=\"fill: #ff0000; fill-opacity: 0.5; stroke: #ff0000; stroke-opacity: 0.5; stroke-linejoin: miter\"/>\n     <use xlink:href=\"#m108c0a5cc1\" x=\"226.728782\" y=\"100.038155\" style=\"fill: #ff0000; fill-opacity: 0.5; stroke: #ff0000; stroke-opacity: 0.5; stroke-linejoin: miter\"/>\n     <use xlink:href=\"#m108c0a5cc1\" x=\"220.762838\" y=\"83.905053\" style=\"fill: #ff0000; fill-opacity: 0.5; stroke: #ff0000; stroke-opacity: 0.5; stroke-linejoin: miter\"/>\n     <use xlink:href=\"#m108c0a5cc1\" x=\"237.696795\" y=\"113.468382\" style=\"fill: #ff0000; fill-opacity: 0.5; stroke: #ff0000; stroke-opacity: 0.5; stroke-linejoin: miter\"/>\n     <use xlink:href=\"#m108c0a5cc1\" x=\"212.954682\" y=\"79.232941\" style=\"fill: #ff0000; fill-opacity: 0.5; stroke: #ff0000; stroke-opacity: 0.5; stroke-linejoin: miter\"/>\n     <use xlink:href=\"#m108c0a5cc1\" x=\"269.870759\" y=\"131.03895\" style=\"fill: #ff0000; fill-opacity: 0.5; stroke: #ff0000; stroke-opacity: 0.5; stroke-linejoin: miter\"/>\n     <use xlink:href=\"#m108c0a5cc1\" x=\"196.303407\" y=\"92.686212\" style=\"fill: #ff0000; fill-opacity: 0.5; stroke: #ff0000; stroke-opacity: 0.5; stroke-linejoin: miter\"/>\n     <use xlink:href=\"#m108c0a5cc1\" x=\"162.446433\" y=\"111.005137\" style=\"fill: #ff0000; fill-opacity: 0.5; stroke: #ff0000; stroke-opacity: 0.5; stroke-linejoin: miter\"/>\n     <use xlink:href=\"#m108c0a5cc1\" x=\"215.656886\" y=\"126.597548\" style=\"fill: #ff0000; fill-opacity: 0.5; stroke: #ff0000; stroke-opacity: 0.5; stroke-linejoin: miter\"/>\n     <use xlink:href=\"#m108c0a5cc1\" x=\"192.318156\" y=\"127.366261\" style=\"fill: #ff0000; fill-opacity: 0.5; stroke: #ff0000; stroke-opacity: 0.5; stroke-linejoin: miter\"/>\n     <use xlink:href=\"#m108c0a5cc1\" x=\"232.685144\" y=\"115.31597\" style=\"fill: #ff0000; fill-opacity: 0.5; stroke: #ff0000; stroke-opacity: 0.5; stroke-linejoin: miter\"/>\n     <use xlink:href=\"#m108c0a5cc1\" x=\"191.141597\" y=\"97.194133\" style=\"fill: #ff0000; fill-opacity: 0.5; stroke: #ff0000; stroke-opacity: 0.5; stroke-linejoin: miter\"/>\n     <use xlink:href=\"#m108c0a5cc1\" x=\"242.893005\" y=\"94.028025\" style=\"fill: #ff0000; fill-opacity: 0.5; stroke: #ff0000; stroke-opacity: 0.5; stroke-linejoin: miter\"/>\n     <use xlink:href=\"#m108c0a5cc1\" x=\"200.217768\" y=\"166.359341\" style=\"fill: #ff0000; fill-opacity: 0.5; stroke: #ff0000; stroke-opacity: 0.5; stroke-linejoin: miter\"/>\n     <use xlink:href=\"#m108c0a5cc1\" x=\"256.481881\" y=\"123.082778\" style=\"fill: #ff0000; fill-opacity: 0.5; stroke: #ff0000; stroke-opacity: 0.5; stroke-linejoin: miter\"/>\n     <use xlink:href=\"#m108c0a5cc1\" x=\"226.364823\" y=\"101.004431\" style=\"fill: #ff0000; fill-opacity: 0.5; stroke: #ff0000; stroke-opacity: 0.5; stroke-linejoin: miter\"/>\n     <use xlink:href=\"#m108c0a5cc1\" x=\"226.337103\" y=\"105.324192\" style=\"fill: #ff0000; fill-opacity: 0.5; stroke: #ff0000; stroke-opacity: 0.5; stroke-linejoin: miter\"/>\n     <use xlink:href=\"#m108c0a5cc1\" x=\"229.473415\" y=\"53.072687\" style=\"fill: #ff0000; fill-opacity: 0.5; stroke: #ff0000; stroke-opacity: 0.5; stroke-linejoin: miter\"/>\n     <use xlink:href=\"#m108c0a5cc1\" x=\"248.3961\" y=\"130.195956\" style=\"fill: #ff0000; fill-opacity: 0.5; stroke: #ff0000; stroke-opacity: 0.5; stroke-linejoin: miter\"/>\n     <use xlink:href=\"#m108c0a5cc1\" x=\"161.317969\" y=\"117.968218\" style=\"fill: #ff0000; fill-opacity: 0.5; stroke: #ff0000; stroke-opacity: 0.5; stroke-linejoin: miter\"/>\n     <use xlink:href=\"#m108c0a5cc1\" x=\"216.99718\" y=\"118.897011\" style=\"fill: #ff0000; fill-opacity: 0.5; stroke: #ff0000; stroke-opacity: 0.5; stroke-linejoin: miter\"/>\n     <use xlink:href=\"#m108c0a5cc1\" x=\"222.19737\" y=\"126.492861\" style=\"fill: #ff0000; fill-opacity: 0.5; stroke: #ff0000; stroke-opacity: 0.5; stroke-linejoin: miter\"/>\n     <use xlink:href=\"#m108c0a5cc1\" x=\"216.05612\" y=\"140.345698\" style=\"fill: #ff0000; fill-opacity: 0.5; stroke: #ff0000; stroke-opacity: 0.5; stroke-linejoin: miter\"/>\n    </g>\n   </g>\n   <g id=\"patch_3\">\n    <path d=\"M 42.620313 299.518125 \nL 42.620313 22.318125 \n\" style=\"fill: none; stroke: #000000; stroke-width: 0.8; stroke-linejoin: miter; stroke-linecap: square\"/>\n   </g>\n   <g id=\"patch_4\">\n    <path d=\"M 321.620313 299.518125 \nL 321.620313 22.318125 \n\" style=\"fill: none; stroke: #000000; stroke-width: 0.8; stroke-linejoin: miter; stroke-linecap: square\"/>\n   </g>\n   <g id=\"patch_5\">\n    <path d=\"M 42.620312 299.518125 \nL 321.620312 299.518125 \n\" style=\"fill: none; stroke: #000000; stroke-width: 0.8; stroke-linejoin: miter; stroke-linecap: square\"/>\n   </g>\n   <g id=\"patch_6\">\n    <path d=\"M 42.620312 22.318125 \nL 321.620312 22.318125 \n\" style=\"fill: none; stroke: #000000; stroke-width: 0.8; stroke-linejoin: miter; stroke-linecap: square\"/>\n   </g>\n   <g id=\"text_18\">\n    <!-- The qwerties -->\n    <g transform=\"translate(143.343438 16.318125) scale(0.12 -0.12)\">\n     <defs>\n      <path id=\"DejaVuSans-54\" d=\"M -19 4666 \nL 3928 4666 \nL 3928 4134 \nL 2272 4134 \nL 2272 0 \nL 1638 0 \nL 1638 4134 \nL -19 4134 \nL -19 4666 \nz\n\" transform=\"scale(0.015625)\"/>\n      <path id=\"DejaVuSans-68\" d=\"M 3513 2113 \nL 3513 0 \nL 2938 0 \nL 2938 2094 \nQ 2938 2591 2744 2837 \nQ 2550 3084 2163 3084 \nQ 1697 3084 1428 2787 \nQ 1159 2491 1159 1978 \nL 1159 0 \nL 581 0 \nL 581 4863 \nL 1159 4863 \nL 1159 2956 \nQ 1366 3272 1645 3428 \nQ 1925 3584 2291 3584 \nQ 2894 3584 3203 3211 \nQ 3513 2838 3513 2113 \nz\n\" transform=\"scale(0.015625)\"/>\n      <path id=\"DejaVuSans-71\" d=\"M 947 1747 \nQ 947 1113 1208 752 \nQ 1469 391 1925 391 \nQ 2381 391 2643 752 \nQ 2906 1113 2906 1747 \nQ 2906 2381 2643 2742 \nQ 2381 3103 1925 3103 \nQ 1469 3103 1208 2742 \nQ 947 2381 947 1747 \nz\nM 2906 525 \nQ 2725 213 2448 61 \nQ 2172 -91 1784 -91 \nQ 1150 -91 751 415 \nQ 353 922 353 1747 \nQ 353 2572 751 3078 \nQ 1150 3584 1784 3584 \nQ 2172 3584 2448 3432 \nQ 2725 3281 2906 2969 \nL 2906 3500 \nL 3481 3500 \nL 3481 -1331 \nL 2906 -1331 \nL 2906 525 \nz\n\" transform=\"scale(0.015625)\"/>\n     </defs>\n     <use xlink:href=\"#DejaVuSans-54\"/>\n     <use xlink:href=\"#DejaVuSans-68\" transform=\"translate(61.083984 0)\"/>\n     <use xlink:href=\"#DejaVuSans-65\" transform=\"translate(124.462891 0)\"/>\n     <use xlink:href=\"#DejaVuSans-20\" transform=\"translate(185.986328 0)\"/>\n     <use xlink:href=\"#DejaVuSans-71\" transform=\"translate(217.773438 0)\"/>\n     <use xlink:href=\"#DejaVuSans-77\" transform=\"translate(281.25 0)\"/>\n     <use xlink:href=\"#DejaVuSans-65\" transform=\"translate(363.037109 0)\"/>\n     <use xlink:href=\"#DejaVuSans-72\" transform=\"translate(424.560547 0)\"/>\n     <use xlink:href=\"#DejaVuSans-74\" transform=\"translate(465.673828 0)\"/>\n     <use xlink:href=\"#DejaVuSans-69\" transform=\"translate(504.882812 0)\"/>\n     <use xlink:href=\"#DejaVuSans-65\" transform=\"translate(532.666016 0)\"/>\n     <use xlink:href=\"#DejaVuSans-73\" transform=\"translate(594.189453 0)\"/>\n    </g>\n   </g>\n  </g>\n </g>\n <defs>\n  <clipPath id=\"pb9e2fda1c5\">\n   <rect x=\"42.620313\" y=\"22.318125\" width=\"279\" height=\"277.2\"/>\n  </clipPath>\n </defs>\n</svg>\n"
          },
          "metadata": {}
        }
      ]
    },
    {
      "cell_type": "code",
      "source": [
        "data.shape"
      ],
      "metadata": {
        "colab": {
          "base_uri": "https://localhost:8080/"
        },
        "id": "X7njZ_sDdrPy",
        "outputId": "26570ceb-2a9b-41de-db3f-83be99cb6668"
      },
      "execution_count": 47,
      "outputs": [
        {
          "output_type": "execute_result",
          "data": {
            "text/plain": [
              "torch.Size([150, 2])"
            ]
          },
          "metadata": {},
          "execution_count": 47
        }
      ]
    },
    {
      "cell_type": "code",
      "source": [
        "labels.shape"
      ],
      "metadata": {
        "colab": {
          "base_uri": "https://localhost:8080/"
        },
        "id": "D7dbx0nGduNU",
        "outputId": "631e0b4a-144e-4178-d640-6daeb720623c"
      },
      "execution_count": 48,
      "outputs": [
        {
          "output_type": "execute_result",
          "data": {
            "text/plain": [
              "torch.Size([150])"
            ]
          },
          "metadata": {},
          "execution_count": 48
        }
      ]
    },
    {
      "cell_type": "code",
      "source": [
        "data[np.where(labels==0)]"
      ],
      "metadata": {
        "colab": {
          "base_uri": "https://localhost:8080/"
        },
        "id": "0R3_VSMsdv2a",
        "outputId": "1d5b8576-d796-481d-e56f-879c3c8dd4dc"
      },
      "execution_count": 49,
      "outputs": [
        {
          "output_type": "execute_result",
          "data": {
            "text/plain": [
              "tensor([[ 2.2119,  2.6756],\n",
              "        [ 0.4604,  0.2771],\n",
              "        [ 2.0292,  0.4454],\n",
              "        [ 1.5547,  1.1761],\n",
              "        [-0.0363,  1.3024],\n",
              "        [ 0.5861,  1.3378],\n",
              "        [ 0.6403,  1.3064],\n",
              "        [ 1.0250,  1.7210],\n",
              "        [-0.0709,  1.0006],\n",
              "        [-1.9313,  0.1868],\n",
              "        [ 1.5053,  1.8135],\n",
              "        [-0.3932,  0.8657],\n",
              "        [ 1.5393,  1.6781],\n",
              "        [ 0.0082,  2.5669],\n",
              "        [ 0.0720, -0.1917],\n",
              "        [ 0.3917,  1.7572],\n",
              "        [ 0.5619,  3.7582],\n",
              "        [-0.9142,  1.5655],\n",
              "        [ 1.6360, -0.3054],\n",
              "        [ 1.6784,  1.1733],\n",
              "        [ 1.2823,  1.4332],\n",
              "        [ 1.5400,  0.9600],\n",
              "        [ 2.5529,  2.0336],\n",
              "        [-0.6920,  2.1792],\n",
              "        [ 1.3556,  3.0118],\n",
              "        [ 3.4194,  1.6418],\n",
              "        [ 1.4745,  1.1700],\n",
              "        [ 1.5674,  1.5334],\n",
              "        [-0.0572, -0.0696],\n",
              "        [ 1.4045,  1.1793],\n",
              "        [ 1.5186,  0.4355],\n",
              "        [ 1.9647,  2.1828],\n",
              "        [ 0.5752,  2.7018],\n",
              "        [ 2.3476, -0.0088],\n",
              "        [ 2.0307,  1.1128],\n",
              "        [ 0.1275,  0.8724],\n",
              "        [ 1.3448,  0.5004],\n",
              "        [-1.0302,  2.1964],\n",
              "        [ 1.2456,  2.2519],\n",
              "        [ 1.8001,  0.5114],\n",
              "        [ 0.0523,  2.2320],\n",
              "        [ 0.0182,  1.9080],\n",
              "        [ 0.5894,  0.1337],\n",
              "        [ 2.1142,  1.0268],\n",
              "        [ 0.8503,  0.5814],\n",
              "        [ 1.2864, -0.3769],\n",
              "        [ 0.2850,  1.5473],\n",
              "        [ 1.4384,  1.4717],\n",
              "        [ 1.4374,  0.6072],\n",
              "        [ 1.1954,  0.2207]])"
            ]
          },
          "metadata": {},
          "execution_count": 49
        }
      ]
    },
    {
      "cell_type": "code",
      "source": [
        "data[np.where(labels==0)[0], 0]"
      ],
      "metadata": {
        "colab": {
          "base_uri": "https://localhost:8080/"
        },
        "id": "9CTcanCBdzXX",
        "outputId": "2368784a-d7eb-47b6-e105-9485b44810c9"
      },
      "execution_count": 50,
      "outputs": [
        {
          "output_type": "execute_result",
          "data": {
            "text/plain": [
              "tensor([ 2.2119,  0.4604,  2.0292,  1.5547, -0.0363,  0.5861,  0.6403,  1.0250,\n",
              "        -0.0709, -1.9313,  1.5053, -0.3932,  1.5393,  0.0082,  0.0720,  0.3917,\n",
              "         0.5619, -0.9142,  1.6360,  1.6784,  1.2823,  1.5400,  2.5529, -0.6920,\n",
              "         1.3556,  3.4194,  1.4745,  1.5674, -0.0572,  1.4045,  1.5186,  1.9647,\n",
              "         0.5752,  2.3476,  2.0307,  0.1275,  1.3448, -1.0302,  1.2456,  1.8001,\n",
              "         0.0523,  0.0182,  0.5894,  2.1142,  0.8503,  1.2864,  0.2850,  1.4384,\n",
              "         1.4374,  1.1954])"
            ]
          },
          "metadata": {},
          "execution_count": 50
        }
      ]
    },
    {
      "cell_type": "code",
      "source": [
        "data[np.where(labels==0), 0]"
      ],
      "metadata": {
        "colab": {
          "base_uri": "https://localhost:8080/"
        },
        "id": "e5MVM09rd6mD",
        "outputId": "489e694e-9cbc-4b87-fee5-5278c1aeaaa0"
      },
      "execution_count": 51,
      "outputs": [
        {
          "output_type": "stream",
          "name": "stderr",
          "text": [
            "<ipython-input-51-d6ea41c86ac7>:1: UserWarning: Creating a tensor from a list of numpy.ndarrays is extremely slow. Please consider converting the list to a single numpy.ndarray with numpy.array() before converting to a tensor. (Triggered internally at /pytorch/torch/csrc/utils/tensor_new.cpp:254.)\n",
            "  data[np.where(labels==0), 0]\n"
          ]
        },
        {
          "output_type": "execute_result",
          "data": {
            "text/plain": [
              "tensor([[ 2.2119,  0.4604,  2.0292,  1.5547, -0.0363,  0.5861,  0.6403,  1.0250,\n",
              "         -0.0709, -1.9313,  1.5053, -0.3932,  1.5393,  0.0082,  0.0720,  0.3917,\n",
              "          0.5619, -0.9142,  1.6360,  1.6784,  1.2823,  1.5400,  2.5529, -0.6920,\n",
              "          1.3556,  3.4194,  1.4745,  1.5674, -0.0572,  1.4045,  1.5186,  1.9647,\n",
              "          0.5752,  2.3476,  2.0307,  0.1275,  1.3448, -1.0302,  1.2456,  1.8001,\n",
              "          0.0523,  0.0182,  0.5894,  2.1142,  0.8503,  1.2864,  0.2850,  1.4384,\n",
              "          1.4374,  1.1954]])"
            ]
          },
          "metadata": {},
          "execution_count": 51
        }
      ]
    },
    {
      "cell_type": "code",
      "source": [
        "data[np.where(labels==0)[0], 0]"
      ],
      "metadata": {
        "colab": {
          "base_uri": "https://localhost:8080/"
        },
        "id": "y9y14NVjeCXN",
        "outputId": "4da083fe-2252-4ca2-84a3-f1732f460b25"
      },
      "execution_count": 52,
      "outputs": [
        {
          "output_type": "execute_result",
          "data": {
            "text/plain": [
              "tensor([ 2.2119,  0.4604,  2.0292,  1.5547, -0.0363,  0.5861,  0.6403,  1.0250,\n",
              "        -0.0709, -1.9313,  1.5053, -0.3932,  1.5393,  0.0082,  0.0720,  0.3917,\n",
              "         0.5619, -0.9142,  1.6360,  1.6784,  1.2823,  1.5400,  2.5529, -0.6920,\n",
              "         1.3556,  3.4194,  1.4745,  1.5674, -0.0572,  1.4045,  1.5186,  1.9647,\n",
              "         0.5752,  2.3476,  2.0307,  0.1275,  1.3448, -1.0302,  1.2456,  1.8001,\n",
              "         0.0523,  0.0182,  0.5894,  2.1142,  0.8503,  1.2864,  0.2850,  1.4384,\n",
              "         1.4374,  1.1954])"
            ]
          },
          "metadata": {},
          "execution_count": 52
        }
      ]
    },
    {
      "cell_type": "code",
      "source": [
        "data[np.where(labels==0)[0], 1]"
      ],
      "metadata": {
        "colab": {
          "base_uri": "https://localhost:8080/"
        },
        "id": "zfYv6L2WeJ5_",
        "outputId": "b72d4484-7bad-44bc-9c40-16881e29fca9"
      },
      "execution_count": 53,
      "outputs": [
        {
          "output_type": "execute_result",
          "data": {
            "text/plain": [
              "tensor([ 2.6756,  0.2771,  0.4454,  1.1761,  1.3024,  1.3378,  1.3064,  1.7210,\n",
              "         1.0006,  0.1868,  1.8135,  0.8657,  1.6781,  2.5669, -0.1917,  1.7572,\n",
              "         3.7582,  1.5655, -0.3054,  1.1733,  1.4332,  0.9600,  2.0336,  2.1792,\n",
              "         3.0118,  1.6418,  1.1700,  1.5334, -0.0696,  1.1793,  0.4355,  2.1828,\n",
              "         2.7018, -0.0088,  1.1128,  0.8724,  0.5004,  2.1964,  2.2519,  0.5114,\n",
              "         2.2320,  1.9080,  0.1337,  1.0268,  0.5814, -0.3769,  1.5473,  1.4717,\n",
              "         0.6072,  0.2207])"
            ]
          },
          "metadata": {},
          "execution_count": 53
        }
      ]
    },
    {
      "cell_type": "code",
      "source": [
        "# Create a class for the model\n",
        "def createTheQwertyNet(nUnits, nLayers):\n",
        "\n",
        "  class qwertyNet(nn.Module):\n",
        "    def __init__(self, nUnits, nLayers):\n",
        "      super().__init__()\n",
        "\n",
        "      # create dictionary to store the layers\n",
        "      self.layers = nn.ModuleDict()\n",
        "      self.nLayers = nLayers\n",
        "\n",
        "      # input layer\n",
        "      self.layers['input'] = nn.Linear(2, nUnits)\n",
        "\n",
        "      ## hidden layers\n",
        "      for i in range(1, nLayers):\n",
        "        self.layers[f'hidden{i}'] = nn.Linear(nUnits, nUnits)\n",
        "\n",
        "      ## output layer\n",
        "      self.layers['output'] = nn.Linear(nUnits, 3)\n",
        "\n",
        "    # forward pass\n",
        "    def forward(self, x):\n",
        "      # input layer\n",
        "      x = F.relu( self.layers['input'](x) )\n",
        "\n",
        "      # hidden layers\n",
        "      for i in range(1, self.nLayers):\n",
        "        x = F.relu( self.layers[f'hidden{i}'](x) )\n",
        "\n",
        "      # return output layer\n",
        "      x = self.layers['output'](x)\n",
        "\n",
        "      return x\n",
        "\n",
        "  # create the model instance\n",
        "  net = qwertyNet(nUnits, nLayers)\n",
        "\n",
        "  # loss function\n",
        "  lossfun = nn.CrossEntropyLoss()\n",
        "\n",
        "  # optimizer\n",
        "  optimizer = torch.optim.SGD(net.parameters(), lr=0.01)\n",
        "\n",
        "  return net, lossfun, optimizer\n"
      ],
      "metadata": {
        "id": "1d2RmRs9eM-I"
      },
      "execution_count": 54,
      "outputs": []
    },
    {
      "cell_type": "code",
      "source": [
        "# test the model with fake input\n",
        "nUnitsPerLayer = 12\n",
        "nLayers = 4\n",
        "\n",
        "net, lossf, opt = createTheQwertyNet(nUnitsPerLayer, nLayers)\n",
        "net"
      ],
      "metadata": {
        "colab": {
          "base_uri": "https://localhost:8080/"
        },
        "id": "e3rLC1i2juqB",
        "outputId": "00508e4e-a759-4629-e068-9c963148c835"
      },
      "execution_count": 55,
      "outputs": [
        {
          "output_type": "execute_result",
          "data": {
            "text/plain": [
              "qwertyNet(\n",
              "  (layers): ModuleDict(\n",
              "    (input): Linear(in_features=2, out_features=12, bias=True)\n",
              "    (hidden1): Linear(in_features=12, out_features=12, bias=True)\n",
              "    (hidden2): Linear(in_features=12, out_features=12, bias=True)\n",
              "    (hidden3): Linear(in_features=12, out_features=12, bias=True)\n",
              "    (output): Linear(in_features=12, out_features=3, bias=True)\n",
              "  )\n",
              ")"
            ]
          },
          "metadata": {},
          "execution_count": 55
        }
      ]
    },
    {
      "cell_type": "code",
      "source": [
        "# input is ten samples\n",
        "input = torch.rand(10, 2)\n",
        "input.shape"
      ],
      "metadata": {
        "colab": {
          "base_uri": "https://localhost:8080/"
        },
        "id": "XOe74GatkdBz",
        "outputId": "439e7452-6956-4547-8411-961137192bd9"
      },
      "execution_count": 56,
      "outputs": [
        {
          "output_type": "execute_result",
          "data": {
            "text/plain": [
              "torch.Size([10, 2])"
            ]
          },
          "metadata": {},
          "execution_count": 56
        }
      ]
    },
    {
      "cell_type": "code",
      "source": [
        "net(input)"
      ],
      "metadata": {
        "colab": {
          "base_uri": "https://localhost:8080/"
        },
        "id": "qXRPA3g2kz4s",
        "outputId": "4341f258-08f9-4ab6-cfa1-fbe93382ca6a"
      },
      "execution_count": 57,
      "outputs": [
        {
          "output_type": "execute_result",
          "data": {
            "text/plain": [
              "tensor([[ 0.1062, -0.0656,  0.2002],\n",
              "        [ 0.1132, -0.0753,  0.1989],\n",
              "        [ 0.1124, -0.0747,  0.1996],\n",
              "        [ 0.1098, -0.0713,  0.1998],\n",
              "        [ 0.1135, -0.0788,  0.2023],\n",
              "        [ 0.1054, -0.0645,  0.2001],\n",
              "        [ 0.1065, -0.0670,  0.1995],\n",
              "        [ 0.1060, -0.0659,  0.1995],\n",
              "        [ 0.1130, -0.0781,  0.2022],\n",
              "        [ 0.1078, -0.0677,  0.2000]], grad_fn=<AddmmBackward0>)"
            ]
          },
          "metadata": {},
          "execution_count": 57
        }
      ]
    },
    {
      "cell_type": "code",
      "source": [
        "# a function to count the number of units\n",
        "def count_units(model):\n",
        "  total_units = 0\n",
        "  for layer in model.modules():\n",
        "    if isinstance(layer, torch.nn.modules.linear.Linear):\n",
        "      total_units += layer.in_features\n",
        "  return total_units\n",
        "\n",
        "nNodesInModel = 80\n",
        "layersRange = [1, 5, 10, 20]\n",
        "\n",
        "# print out the model architectures\n",
        "for lidx, layers in enumerate(layersRange):\n",
        "\n",
        "  # create a model\n",
        "  units_per_layer = int(nNodesInModel // layersRange[lidx])\n",
        "  net = createTheQwertyNet(units_per_layer, layers)[0]\n",
        "\n",
        "  # count and print the results\n",
        "  print(f'Units/layer: {units_per_layer}, layers: {layers}, Total count: {count_units(net)}')"
      ],
      "metadata": {
        "colab": {
          "base_uri": "https://localhost:8080/"
        },
        "id": "BSZa9veGk1Lk",
        "outputId": "b92fb315-7576-41d6-b407-e85689c7b2d0"
      },
      "execution_count": 58,
      "outputs": [
        {
          "output_type": "stream",
          "name": "stdout",
          "text": [
            "Units/layer: 80, layers: 1, Total count: 82\n",
            "Units/layer: 16, layers: 5, Total count: 82\n",
            "Units/layer: 8, layers: 10, Total count: 82\n",
            "Units/layer: 4, layers: 20, Total count: 82\n"
          ]
        }
      ]
    },
    {
      "cell_type": "code",
      "source": [
        "createTheQwertyNet(16, 5)[0]"
      ],
      "metadata": {
        "colab": {
          "base_uri": "https://localhost:8080/"
        },
        "id": "AJSyJ33tpFTg",
        "outputId": "1159b657-dc7a-4b74-9519-07a779ed4b9f"
      },
      "execution_count": 59,
      "outputs": [
        {
          "output_type": "execute_result",
          "data": {
            "text/plain": [
              "qwertyNet(\n",
              "  (layers): ModuleDict(\n",
              "    (input): Linear(in_features=2, out_features=16, bias=True)\n",
              "    (hidden1): Linear(in_features=16, out_features=16, bias=True)\n",
              "    (hidden2): Linear(in_features=16, out_features=16, bias=True)\n",
              "    (hidden3): Linear(in_features=16, out_features=16, bias=True)\n",
              "    (hidden4): Linear(in_features=16, out_features=16, bias=True)\n",
              "    (output): Linear(in_features=16, out_features=3, bias=True)\n",
              "  )\n",
              ")"
            ]
          },
          "metadata": {},
          "execution_count": 59
        }
      ]
    },
    {
      "cell_type": "code",
      "source": [
        "createTheQwertyNet(80, 1)[0]"
      ],
      "metadata": {
        "colab": {
          "base_uri": "https://localhost:8080/"
        },
        "id": "mKtp2boXpYvr",
        "outputId": "37700080-42c7-4ae3-f07c-0b5c7cec3b32"
      },
      "execution_count": 60,
      "outputs": [
        {
          "output_type": "execute_result",
          "data": {
            "text/plain": [
              "qwertyNet(\n",
              "  (layers): ModuleDict(\n",
              "    (input): Linear(in_features=2, out_features=80, bias=True)\n",
              "    (output): Linear(in_features=80, out_features=3, bias=True)\n",
              "  )\n",
              ")"
            ]
          },
          "metadata": {},
          "execution_count": 60
        }
      ]
    },
    {
      "cell_type": "code",
      "source": [
        "def function2trainTheModel(nUnits, nLayers):\n",
        "\n",
        "  # number of epochs\n",
        "  num_epochs = 50\n",
        "\n",
        "  # create a new model\n",
        "  net, lossfun, optimizer = createTheQwertyNet(nUnits, nLayers)\n",
        "\n",
        "  # initialize losses\n",
        "  losses = torch.zeros(num_epochs)\n",
        "  trainAcc = []\n",
        "  testAcc = []\n",
        "\n",
        "  # loop over epochs\n",
        "  for epoch_i in range(num_epochs):\n",
        "\n",
        "    # loop over training data batches\n",
        "    batchAcc = []\n",
        "    batchLoss = []\n",
        "\n",
        "    for X, y in train_data:\n",
        "\n",
        "      # forward pass and loss\n",
        "      yHat = net(X)\n",
        "      loss = lossfun(yHat, y)\n",
        "\n",
        "      # backprop\n",
        "      optimizer.zero_grad()\n",
        "      loss.backward()\n",
        "      optimizer.step()\n",
        "\n",
        "      # loss from this batch\n",
        "      batchLoss.append(loss.item())\n",
        "\n",
        "      # compute accuracy\n",
        "      matches = torch.argmax(yHat, axis=1) == y      # booleans (false/true)\n",
        "      matchesNumeric = matches.float()               # convert to numbers (0/1)\n",
        "      accuracyPct = 100 * torch.mean(matchesNumeric) # average and x100\n",
        "      batchAcc.append( accuracyPct )                 # add to list of accuracies\n",
        "    # end of batch loop ...\n",
        "\n",
        "    # now that we've trained through the batches, get their average training accuracy\n",
        "    trainAcc.append( np.mean(batchAcc) )\n",
        "\n",
        "    # and get average losses across the batches\n",
        "    losses[epoch_i] = np.mean(batchLoss)\n",
        "\n",
        "    # test accuracy\n",
        "    X, y = next(iter(test_data))   # extract X, y from test dataloader\n",
        "    with torch.no_grad():  # deactivates autograd\n",
        "      yHat = net(X)\n",
        "\n",
        "    # compare the following really long line of code to the training accuracy lines\n",
        "    testAcc.append( 100*torch.mean((torch.argmax(yHat, axis=1) == y).float()) )\n",
        "  # end epochs\n",
        "\n",
        "  # function output\n",
        "  return trainAcc, testAcc, losses, net"
      ],
      "metadata": {
        "id": "GWgTf5H8pmI9"
      },
      "execution_count": 61,
      "outputs": []
    },
    {
      "cell_type": "code",
      "source": [
        "## Test the model once with a bit of data, just to make sure the code works\n",
        "\n",
        "theData = createSomeData(200)\n",
        "train_data = theData['train_data']\n",
        "test_data = theData['test_data']\n",
        "\n",
        "train_data.dataset.tensors[0].shape"
      ],
      "metadata": {
        "colab": {
          "base_uri": "https://localhost:8080/"
        },
        "id": "MJ3wvZPAs0BY",
        "outputId": "327d4d13-6ec9-47da-ae55-43c2e7e8ecc9"
      },
      "execution_count": 62,
      "outputs": [
        {
          "output_type": "execute_result",
          "data": {
            "text/plain": [
              "torch.Size([540, 2])"
            ]
          },
          "metadata": {},
          "execution_count": 62
        }
      ]
    },
    {
      "cell_type": "code",
      "source": [
        "train_data.dataset.tensors[1].shape"
      ],
      "metadata": {
        "colab": {
          "base_uri": "https://localhost:8080/"
        },
        "id": "W5rxxB__s-dc",
        "outputId": "d7d30f55-fc17-4f70-fd69-d6dd8afb70b5"
      },
      "execution_count": 63,
      "outputs": [
        {
          "output_type": "execute_result",
          "data": {
            "text/plain": [
              "torch.Size([540])"
            ]
          },
          "metadata": {},
          "execution_count": 63
        }
      ]
    },
    {
      "cell_type": "code",
      "source": [
        "# run the model\n",
        "trainAcc, testAcc, losses, net = function2trainTheModel(80, 1)"
      ],
      "metadata": {
        "id": "bBGIZxDQtGQ5"
      },
      "execution_count": 64,
      "outputs": []
    },
    {
      "cell_type": "code",
      "source": [
        "trainAcc"
      ],
      "metadata": {
        "colab": {
          "base_uri": "https://localhost:8080/"
        },
        "id": "K3mpPt4ttMFV",
        "outputId": "97b770e1-d870-4fd3-8872-0bf6f817dd62"
      },
      "execution_count": 65,
      "outputs": [
        {
          "output_type": "execute_result",
          "data": {
            "text/plain": [
              "[np.float32(66.977615),\n",
              " np.float32(83.208954),\n",
              " np.float32(88.0597),\n",
              " np.float32(90.85821),\n",
              " np.float32(91.41791),\n",
              " np.float32(92.350746),\n",
              " np.float32(92.16418),\n",
              " np.float32(92.537315),\n",
              " np.float32(93.470146),\n",
              " np.float32(93.470146),\n",
              " np.float32(93.656715),\n",
              " np.float32(93.470146),\n",
              " np.float32(93.843285),\n",
              " np.float32(93.656715),\n",
              " np.float32(93.097015),\n",
              " np.float32(93.283585),\n",
              " np.float32(93.470146),\n",
              " np.float32(94.216415),\n",
              " np.float32(93.283585),\n",
              " np.float32(93.283585),\n",
              " np.float32(93.283585),\n",
              " np.float32(93.097015),\n",
              " np.float32(93.470146),\n",
              " np.float32(93.097015),\n",
              " np.float32(93.843285),\n",
              " np.float32(93.283585),\n",
              " np.float32(94.216415),\n",
              " np.float32(92.910446),\n",
              " np.float32(93.470146),\n",
              " np.float32(94.029854),\n",
              " np.float32(93.283585),\n",
              " np.float32(93.470146),\n",
              " np.float32(93.656715),\n",
              " np.float32(93.470146),\n",
              " np.float32(93.656715),\n",
              " np.float32(94.029854),\n",
              " np.float32(94.216415),\n",
              " np.float32(93.283585),\n",
              " np.float32(93.470146),\n",
              " np.float32(93.097015),\n",
              " np.float32(93.470146),\n",
              " np.float32(93.656715),\n",
              " np.float32(93.843285),\n",
              " np.float32(93.656715),\n",
              " np.float32(93.470146),\n",
              " np.float32(93.843285),\n",
              " np.float32(93.283585),\n",
              " np.float32(94.029854),\n",
              " np.float32(93.843285),\n",
              " np.float32(93.656715)]"
            ]
          },
          "metadata": {},
          "execution_count": 65
        }
      ]
    },
    {
      "cell_type": "code",
      "source": [
        "testAcc"
      ],
      "metadata": {
        "colab": {
          "base_uri": "https://localhost:8080/"
        },
        "id": "SG_ZkVkHuCNa",
        "outputId": "1c6e1ac5-425c-4af7-c222-8d13a75b748a"
      },
      "execution_count": 66,
      "outputs": [
        {
          "output_type": "execute_result",
          "data": {
            "text/plain": [
              "[tensor(76.6667),\n",
              " tensor(88.3333),\n",
              " tensor(86.6667),\n",
              " tensor(88.3333),\n",
              " tensor(86.6667),\n",
              " tensor(88.3333),\n",
              " tensor(88.3333),\n",
              " tensor(86.6667),\n",
              " tensor(90.),\n",
              " tensor(86.6667),\n",
              " tensor(88.3333),\n",
              " tensor(86.6667),\n",
              " tensor(88.3333),\n",
              " tensor(88.3333),\n",
              " tensor(88.3333),\n",
              " tensor(90.),\n",
              " tensor(88.3333),\n",
              " tensor(86.6667),\n",
              " tensor(88.3333),\n",
              " tensor(88.3333),\n",
              " tensor(86.6667),\n",
              " tensor(86.6667),\n",
              " tensor(88.3333),\n",
              " tensor(86.6667),\n",
              " tensor(86.6667),\n",
              " tensor(88.3333),\n",
              " tensor(88.3333),\n",
              " tensor(88.3333),\n",
              " tensor(88.3333),\n",
              " tensor(88.3333),\n",
              " tensor(88.3333),\n",
              " tensor(86.6667),\n",
              " tensor(90.),\n",
              " tensor(86.6667),\n",
              " tensor(88.3333),\n",
              " tensor(86.6667),\n",
              " tensor(86.6667),\n",
              " tensor(88.3333),\n",
              " tensor(90.),\n",
              " tensor(90.),\n",
              " tensor(88.3333),\n",
              " tensor(88.3333),\n",
              " tensor(90.),\n",
              " tensor(86.6667),\n",
              " tensor(86.6667),\n",
              " tensor(88.3333),\n",
              " tensor(88.3333),\n",
              " tensor(86.6667),\n",
              " tensor(86.6667),\n",
              " tensor(86.6667)]"
            ]
          },
          "metadata": {},
          "execution_count": 66
        }
      ]
    },
    {
      "cell_type": "code",
      "source": [
        "losses"
      ],
      "metadata": {
        "colab": {
          "base_uri": "https://localhost:8080/"
        },
        "id": "JCyMD7GEuENC",
        "outputId": "7400a7f8-ddaa-449c-cfc1-1b6a4dfc955f"
      },
      "execution_count": 67,
      "outputs": [
        {
          "output_type": "execute_result",
          "data": {
            "text/plain": [
              "tensor([0.6951, 0.4677, 0.3795, 0.3256, 0.2899, 0.2692, 0.2480, 0.2409, 0.2298,\n",
              "        0.2226, 0.2131, 0.2116, 0.2042, 0.2003, 0.1985, 0.1942, 0.1941, 0.1912,\n",
              "        0.1923, 0.1900, 0.1767, 0.1864, 0.1806, 0.1854, 0.1816, 0.1742, 0.1807,\n",
              "        0.1774, 0.1787, 0.1766, 0.1751, 0.1756, 0.1778, 0.1758, 0.1721, 0.1696,\n",
              "        0.1727, 0.1746, 0.1747, 0.1736, 0.1708, 0.1721, 0.1726, 0.1747, 0.1734,\n",
              "        0.1664, 0.1720, 0.1728, 0.1710, 0.1656])"
            ]
          },
          "metadata": {},
          "execution_count": 67
        }
      ]
    },
    {
      "cell_type": "code",
      "source": [
        "net"
      ],
      "metadata": {
        "colab": {
          "base_uri": "https://localhost:8080/"
        },
        "id": "VgktUzb4uFp7",
        "outputId": "a3d3b95a-8530-48a3-846b-ba43625e8008"
      },
      "execution_count": 68,
      "outputs": [
        {
          "output_type": "execute_result",
          "data": {
            "text/plain": [
              "qwertyNet(\n",
              "  (layers): ModuleDict(\n",
              "    (input): Linear(in_features=2, out_features=80, bias=True)\n",
              "    (output): Linear(in_features=80, out_features=3, bias=True)\n",
              "  )\n",
              ")"
            ]
          },
          "metadata": {},
          "execution_count": 68
        }
      ]
    },
    {
      "cell_type": "code",
      "source": [
        "### Test the model once with a bit of data, just to make sure the code works\n",
        "\n",
        "# show the results\n",
        "fig, ax = plt.subplots(1, 2, figsize=(13, 4))\n",
        "\n",
        "ax[0].plot(losses.detach())\n",
        "ax[0].set_ylabel('Loss')\n",
        "ax[0].set_xlabel('Epoch')\n",
        "ax[0].set_title('Losses')\n",
        "\n",
        "ax[1].plot(trainAcc, label='Train')\n",
        "ax[1].plot(testAcc, label='Test')\n",
        "ax[1].set_ylabel('Accuracy (%)')\n",
        "ax[1].set_xlabel('Epoch')\n",
        "ax[1].set_title('Accuracy')\n",
        "ax[1].legend()\n",
        "\n",
        "plt.show()"
      ],
      "metadata": {
        "colab": {
          "base_uri": "https://localhost:8080/",
          "height": 416
        },
        "id": "S7zvm2OluGyR",
        "outputId": "0b9d0cfb-43b6-44a0-e899-a625fdd9a4d4"
      },
      "execution_count": 69,
      "outputs": [
        {
          "output_type": "display_data",
          "data": {
            "text/plain": [
              "<Figure size 1300x400 with 2 Axes>"
            ],
            "image/svg+xml": "<?xml version=\"1.0\" encoding=\"utf-8\" standalone=\"no\"?>\n<!DOCTYPE svg PUBLIC \"-//W3C//DTD SVG 1.1//EN\"\n  \"http://www.w3.org/Graphics/SVG/1.1/DTD/svg11.dtd\">\n<svg xmlns:xlink=\"http://www.w3.org/1999/xlink\" width=\"776.38125pt\" height=\"281.634375pt\" viewBox=\"0 0 776.38125 281.634375\" xmlns=\"http://www.w3.org/2000/svg\" version=\"1.1\">\n <metadata>\n  <rdf:RDF xmlns:dc=\"http://purl.org/dc/elements/1.1/\" xmlns:cc=\"http://creativecommons.org/ns#\" xmlns:rdf=\"http://www.w3.org/1999/02/22-rdf-syntax-ns#\">\n   <cc:Work>\n    <dc:type rdf:resource=\"http://purl.org/dc/dcmitype/StillImage\"/>\n    <dc:date>2025-05-31T19:25:09.005170</dc:date>\n    <dc:format>image/svg+xml</dc:format>\n    <dc:creator>\n     <cc:Agent>\n      <dc:title>Matplotlib v3.10.0, https://matplotlib.org/</dc:title>\n     </cc:Agent>\n    </dc:creator>\n   </cc:Work>\n  </rdf:RDF>\n </metadata>\n <defs>\n  <style type=\"text/css\">*{stroke-linejoin: round; stroke-linecap: butt}</style>\n </defs>\n <g id=\"figure_1\">\n  <g id=\"patch_1\">\n   <path d=\"M 0 281.634375 \nL 776.38125 281.634375 \nL 776.38125 0 \nL 0 0 \nz\n\" style=\"fill: #ffffff\"/>\n  </g>\n  <g id=\"axes_1\">\n   <g id=\"patch_2\">\n    <path d=\"M 43.78125 244.078125 \nL 373.508523 244.078125 \nL 373.508523 22.318125 \nL 43.78125 22.318125 \nz\n\" style=\"fill: #ffffff\"/>\n   </g>\n   <g id=\"matplotlib.axis_1\">\n    <g id=\"xtick_1\">\n     <g id=\"line2d_1\">\n      <defs>\n       <path id=\"m62ffc8f654\" d=\"M 0 0 \nL 0 3.5 \n\" style=\"stroke: #000000; stroke-width: 0.8\"/>\n      </defs>\n      <g>\n       <use xlink:href=\"#m62ffc8f654\" x=\"58.768853\" y=\"244.078125\" style=\"stroke: #000000; stroke-width: 0.8\"/>\n      </g>\n     </g>\n     <g id=\"text_1\">\n      <!-- 0 -->\n      <g transform=\"translate(55.587603 258.676562) scale(0.1 -0.1)\">\n       <defs>\n        <path id=\"DejaVuSans-30\" d=\"M 2034 4250 \nQ 1547 4250 1301 3770 \nQ 1056 3291 1056 2328 \nQ 1056 1369 1301 889 \nQ 1547 409 2034 409 \nQ 2525 409 2770 889 \nQ 3016 1369 3016 2328 \nQ 3016 3291 2770 3770 \nQ 2525 4250 2034 4250 \nz\nM 2034 4750 \nQ 2819 4750 3233 4129 \nQ 3647 3509 3647 2328 \nQ 3647 1150 3233 529 \nQ 2819 -91 2034 -91 \nQ 1250 -91 836 529 \nQ 422 1150 422 2328 \nQ 422 3509 836 4129 \nQ 1250 4750 2034 4750 \nz\n\" transform=\"scale(0.015625)\"/>\n       </defs>\n       <use xlink:href=\"#DejaVuSans-30\"/>\n      </g>\n     </g>\n    </g>\n    <g id=\"xtick_2\">\n     <g id=\"line2d_2\">\n      <g>\n       <use xlink:href=\"#m62ffc8f654\" x=\"119.942744\" y=\"244.078125\" style=\"stroke: #000000; stroke-width: 0.8\"/>\n      </g>\n     </g>\n     <g id=\"text_2\">\n      <!-- 10 -->\n      <g transform=\"translate(113.580244 258.676562) scale(0.1 -0.1)\">\n       <defs>\n        <path id=\"DejaVuSans-31\" d=\"M 794 531 \nL 1825 531 \nL 1825 4091 \nL 703 3866 \nL 703 4441 \nL 1819 4666 \nL 2450 4666 \nL 2450 531 \nL 3481 531 \nL 3481 0 \nL 794 0 \nL 794 531 \nz\n\" transform=\"scale(0.015625)\"/>\n       </defs>\n       <use xlink:href=\"#DejaVuSans-31\"/>\n       <use xlink:href=\"#DejaVuSans-30\" transform=\"translate(63.623047 0)\"/>\n      </g>\n     </g>\n    </g>\n    <g id=\"xtick_3\">\n     <g id=\"line2d_3\">\n      <g>\n       <use xlink:href=\"#m62ffc8f654\" x=\"181.116635\" y=\"244.078125\" style=\"stroke: #000000; stroke-width: 0.8\"/>\n      </g>\n     </g>\n     <g id=\"text_3\">\n      <!-- 20 -->\n      <g transform=\"translate(174.754135 258.676562) scale(0.1 -0.1)\">\n       <defs>\n        <path id=\"DejaVuSans-32\" d=\"M 1228 531 \nL 3431 531 \nL 3431 0 \nL 469 0 \nL 469 531 \nQ 828 903 1448 1529 \nQ 2069 2156 2228 2338 \nQ 2531 2678 2651 2914 \nQ 2772 3150 2772 3378 \nQ 2772 3750 2511 3984 \nQ 2250 4219 1831 4219 \nQ 1534 4219 1204 4116 \nQ 875 4013 500 3803 \nL 500 4441 \nQ 881 4594 1212 4672 \nQ 1544 4750 1819 4750 \nQ 2544 4750 2975 4387 \nQ 3406 4025 3406 3419 \nQ 3406 3131 3298 2873 \nQ 3191 2616 2906 2266 \nQ 2828 2175 2409 1742 \nQ 1991 1309 1228 531 \nz\n\" transform=\"scale(0.015625)\"/>\n       </defs>\n       <use xlink:href=\"#DejaVuSans-32\"/>\n       <use xlink:href=\"#DejaVuSans-30\" transform=\"translate(63.623047 0)\"/>\n      </g>\n     </g>\n    </g>\n    <g id=\"xtick_4\">\n     <g id=\"line2d_4\">\n      <g>\n       <use xlink:href=\"#m62ffc8f654\" x=\"242.290526\" y=\"244.078125\" style=\"stroke: #000000; stroke-width: 0.8\"/>\n      </g>\n     </g>\n     <g id=\"text_4\">\n      <!-- 30 -->\n      <g transform=\"translate(235.928026 258.676562) scale(0.1 -0.1)\">\n       <defs>\n        <path id=\"DejaVuSans-33\" d=\"M 2597 2516 \nQ 3050 2419 3304 2112 \nQ 3559 1806 3559 1356 \nQ 3559 666 3084 287 \nQ 2609 -91 1734 -91 \nQ 1441 -91 1130 -33 \nQ 819 25 488 141 \nL 488 750 \nQ 750 597 1062 519 \nQ 1375 441 1716 441 \nQ 2309 441 2620 675 \nQ 2931 909 2931 1356 \nQ 2931 1769 2642 2001 \nQ 2353 2234 1838 2234 \nL 1294 2234 \nL 1294 2753 \nL 1863 2753 \nQ 2328 2753 2575 2939 \nQ 2822 3125 2822 3475 \nQ 2822 3834 2567 4026 \nQ 2313 4219 1838 4219 \nQ 1578 4219 1281 4162 \nQ 984 4106 628 3988 \nL 628 4550 \nQ 988 4650 1302 4700 \nQ 1616 4750 1894 4750 \nQ 2613 4750 3031 4423 \nQ 3450 4097 3450 3541 \nQ 3450 3153 3228 2886 \nQ 3006 2619 2597 2516 \nz\n\" transform=\"scale(0.015625)\"/>\n       </defs>\n       <use xlink:href=\"#DejaVuSans-33\"/>\n       <use xlink:href=\"#DejaVuSans-30\" transform=\"translate(63.623047 0)\"/>\n      </g>\n     </g>\n    </g>\n    <g id=\"xtick_5\">\n     <g id=\"line2d_5\">\n      <g>\n       <use xlink:href=\"#m62ffc8f654\" x=\"303.464417\" y=\"244.078125\" style=\"stroke: #000000; stroke-width: 0.8\"/>\n      </g>\n     </g>\n     <g id=\"text_5\">\n      <!-- 40 -->\n      <g transform=\"translate(297.101917 258.676562) scale(0.1 -0.1)\">\n       <defs>\n        <path id=\"DejaVuSans-34\" d=\"M 2419 4116 \nL 825 1625 \nL 2419 1625 \nL 2419 4116 \nz\nM 2253 4666 \nL 3047 4666 \nL 3047 1625 \nL 3713 1625 \nL 3713 1100 \nL 3047 1100 \nL 3047 0 \nL 2419 0 \nL 2419 1100 \nL 313 1100 \nL 313 1709 \nL 2253 4666 \nz\n\" transform=\"scale(0.015625)\"/>\n       </defs>\n       <use xlink:href=\"#DejaVuSans-34\"/>\n       <use xlink:href=\"#DejaVuSans-30\" transform=\"translate(63.623047 0)\"/>\n      </g>\n     </g>\n    </g>\n    <g id=\"xtick_6\">\n     <g id=\"line2d_6\">\n      <g>\n       <use xlink:href=\"#m62ffc8f654\" x=\"364.638309\" y=\"244.078125\" style=\"stroke: #000000; stroke-width: 0.8\"/>\n      </g>\n     </g>\n     <g id=\"text_6\">\n      <!-- 50 -->\n      <g transform=\"translate(358.275809 258.676562) scale(0.1 -0.1)\">\n       <defs>\n        <path id=\"DejaVuSans-35\" d=\"M 691 4666 \nL 3169 4666 \nL 3169 4134 \nL 1269 4134 \nL 1269 2991 \nQ 1406 3038 1543 3061 \nQ 1681 3084 1819 3084 \nQ 2600 3084 3056 2656 \nQ 3513 2228 3513 1497 \nQ 3513 744 3044 326 \nQ 2575 -91 1722 -91 \nQ 1428 -91 1123 -41 \nQ 819 9 494 109 \nL 494 744 \nQ 775 591 1075 516 \nQ 1375 441 1709 441 \nQ 2250 441 2565 725 \nQ 2881 1009 2881 1497 \nQ 2881 1984 2565 2268 \nQ 2250 2553 1709 2553 \nQ 1456 2553 1204 2497 \nQ 953 2441 691 2322 \nL 691 4666 \nz\n\" transform=\"scale(0.015625)\"/>\n       </defs>\n       <use xlink:href=\"#DejaVuSans-35\"/>\n       <use xlink:href=\"#DejaVuSans-30\" transform=\"translate(63.623047 0)\"/>\n      </g>\n     </g>\n    </g>\n    <g id=\"text_7\">\n     <!-- Epoch -->\n     <g transform=\"translate(193.333949 272.354687) scale(0.1 -0.1)\">\n      <defs>\n       <path id=\"DejaVuSans-45\" d=\"M 628 4666 \nL 3578 4666 \nL 3578 4134 \nL 1259 4134 \nL 1259 2753 \nL 3481 2753 \nL 3481 2222 \nL 1259 2222 \nL 1259 531 \nL 3634 531 \nL 3634 0 \nL 628 0 \nL 628 4666 \nz\n\" transform=\"scale(0.015625)\"/>\n       <path id=\"DejaVuSans-70\" d=\"M 1159 525 \nL 1159 -1331 \nL 581 -1331 \nL 581 3500 \nL 1159 3500 \nL 1159 2969 \nQ 1341 3281 1617 3432 \nQ 1894 3584 2278 3584 \nQ 2916 3584 3314 3078 \nQ 3713 2572 3713 1747 \nQ 3713 922 3314 415 \nQ 2916 -91 2278 -91 \nQ 1894 -91 1617 61 \nQ 1341 213 1159 525 \nz\nM 3116 1747 \nQ 3116 2381 2855 2742 \nQ 2594 3103 2138 3103 \nQ 1681 3103 1420 2742 \nQ 1159 2381 1159 1747 \nQ 1159 1113 1420 752 \nQ 1681 391 2138 391 \nQ 2594 391 2855 752 \nQ 3116 1113 3116 1747 \nz\n\" transform=\"scale(0.015625)\"/>\n       <path id=\"DejaVuSans-6f\" d=\"M 1959 3097 \nQ 1497 3097 1228 2736 \nQ 959 2375 959 1747 \nQ 959 1119 1226 758 \nQ 1494 397 1959 397 \nQ 2419 397 2687 759 \nQ 2956 1122 2956 1747 \nQ 2956 2369 2687 2733 \nQ 2419 3097 1959 3097 \nz\nM 1959 3584 \nQ 2709 3584 3137 3096 \nQ 3566 2609 3566 1747 \nQ 3566 888 3137 398 \nQ 2709 -91 1959 -91 \nQ 1206 -91 779 398 \nQ 353 888 353 1747 \nQ 353 2609 779 3096 \nQ 1206 3584 1959 3584 \nz\n\" transform=\"scale(0.015625)\"/>\n       <path id=\"DejaVuSans-63\" d=\"M 3122 3366 \nL 3122 2828 \nQ 2878 2963 2633 3030 \nQ 2388 3097 2138 3097 \nQ 1578 3097 1268 2742 \nQ 959 2388 959 1747 \nQ 959 1106 1268 751 \nQ 1578 397 2138 397 \nQ 2388 397 2633 464 \nQ 2878 531 3122 666 \nL 3122 134 \nQ 2881 22 2623 -34 \nQ 2366 -91 2075 -91 \nQ 1284 -91 818 406 \nQ 353 903 353 1747 \nQ 353 2603 823 3093 \nQ 1294 3584 2113 3584 \nQ 2378 3584 2631 3529 \nQ 2884 3475 3122 3366 \nz\n\" transform=\"scale(0.015625)\"/>\n       <path id=\"DejaVuSans-68\" d=\"M 3513 2113 \nL 3513 0 \nL 2938 0 \nL 2938 2094 \nQ 2938 2591 2744 2837 \nQ 2550 3084 2163 3084 \nQ 1697 3084 1428 2787 \nQ 1159 2491 1159 1978 \nL 1159 0 \nL 581 0 \nL 581 4863 \nL 1159 4863 \nL 1159 2956 \nQ 1366 3272 1645 3428 \nQ 1925 3584 2291 3584 \nQ 2894 3584 3203 3211 \nQ 3513 2838 3513 2113 \nz\n\" transform=\"scale(0.015625)\"/>\n      </defs>\n      <use xlink:href=\"#DejaVuSans-45\"/>\n      <use xlink:href=\"#DejaVuSans-70\" transform=\"translate(63.183594 0)\"/>\n      <use xlink:href=\"#DejaVuSans-6f\" transform=\"translate(126.660156 0)\"/>\n      <use xlink:href=\"#DejaVuSans-63\" transform=\"translate(187.841797 0)\"/>\n      <use xlink:href=\"#DejaVuSans-68\" transform=\"translate(242.822266 0)\"/>\n     </g>\n    </g>\n   </g>\n   <g id=\"matplotlib.axis_2\">\n    <g id=\"ytick_1\">\n     <g id=\"line2d_7\">\n      <defs>\n       <path id=\"me02b9452e7\" d=\"M 0 0 \nL -3.5 0 \n\" style=\"stroke: #000000; stroke-width: 0.8\"/>\n      </defs>\n      <g>\n       <use xlink:href=\"#me02b9452e7\" x=\"43.78125\" y=\"220.895193\" style=\"stroke: #000000; stroke-width: 0.8\"/>\n      </g>\n     </g>\n     <g id=\"text_8\">\n      <!-- 0.2 -->\n      <g transform=\"translate(20.878125 224.694412) scale(0.1 -0.1)\">\n       <defs>\n        <path id=\"DejaVuSans-2e\" d=\"M 684 794 \nL 1344 794 \nL 1344 0 \nL 684 0 \nL 684 794 \nz\n\" transform=\"scale(0.015625)\"/>\n       </defs>\n       <use xlink:href=\"#DejaVuSans-30\"/>\n       <use xlink:href=\"#DejaVuSans-2e\" transform=\"translate(63.623047 0)\"/>\n       <use xlink:href=\"#DejaVuSans-32\" transform=\"translate(95.410156 0)\"/>\n      </g>\n     </g>\n    </g>\n    <g id=\"ytick_2\">\n     <g id=\"line2d_8\">\n      <g>\n       <use xlink:href=\"#me02b9452e7\" x=\"43.78125\" y=\"182.819373\" style=\"stroke: #000000; stroke-width: 0.8\"/>\n      </g>\n     </g>\n     <g id=\"text_9\">\n      <!-- 0.3 -->\n      <g transform=\"translate(20.878125 186.618592) scale(0.1 -0.1)\">\n       <use xlink:href=\"#DejaVuSans-30\"/>\n       <use xlink:href=\"#DejaVuSans-2e\" transform=\"translate(63.623047 0)\"/>\n       <use xlink:href=\"#DejaVuSans-33\" transform=\"translate(95.410156 0)\"/>\n      </g>\n     </g>\n    </g>\n    <g id=\"ytick_3\">\n     <g id=\"line2d_9\">\n      <g>\n       <use xlink:href=\"#me02b9452e7\" x=\"43.78125\" y=\"144.743554\" style=\"stroke: #000000; stroke-width: 0.8\"/>\n      </g>\n     </g>\n     <g id=\"text_10\">\n      <!-- 0.4 -->\n      <g transform=\"translate(20.878125 148.542773) scale(0.1 -0.1)\">\n       <use xlink:href=\"#DejaVuSans-30\"/>\n       <use xlink:href=\"#DejaVuSans-2e\" transform=\"translate(63.623047 0)\"/>\n       <use xlink:href=\"#DejaVuSans-34\" transform=\"translate(95.410156 0)\"/>\n      </g>\n     </g>\n    </g>\n    <g id=\"ytick_4\">\n     <g id=\"line2d_10\">\n      <g>\n       <use xlink:href=\"#me02b9452e7\" x=\"43.78125\" y=\"106.667735\" style=\"stroke: #000000; stroke-width: 0.8\"/>\n      </g>\n     </g>\n     <g id=\"text_11\">\n      <!-- 0.5 -->\n      <g transform=\"translate(20.878125 110.466953) scale(0.1 -0.1)\">\n       <use xlink:href=\"#DejaVuSans-30\"/>\n       <use xlink:href=\"#DejaVuSans-2e\" transform=\"translate(63.623047 0)\"/>\n       <use xlink:href=\"#DejaVuSans-35\" transform=\"translate(95.410156 0)\"/>\n      </g>\n     </g>\n    </g>\n    <g id=\"ytick_5\">\n     <g id=\"line2d_11\">\n      <g>\n       <use xlink:href=\"#me02b9452e7\" x=\"43.78125\" y=\"68.591915\" style=\"stroke: #000000; stroke-width: 0.8\"/>\n      </g>\n     </g>\n     <g id=\"text_12\">\n      <!-- 0.6 -->\n      <g transform=\"translate(20.878125 72.391134) scale(0.1 -0.1)\">\n       <defs>\n        <path id=\"DejaVuSans-36\" d=\"M 2113 2584 \nQ 1688 2584 1439 2293 \nQ 1191 2003 1191 1497 \nQ 1191 994 1439 701 \nQ 1688 409 2113 409 \nQ 2538 409 2786 701 \nQ 3034 994 3034 1497 \nQ 3034 2003 2786 2293 \nQ 2538 2584 2113 2584 \nz\nM 3366 4563 \nL 3366 3988 \nQ 3128 4100 2886 4159 \nQ 2644 4219 2406 4219 \nQ 1781 4219 1451 3797 \nQ 1122 3375 1075 2522 \nQ 1259 2794 1537 2939 \nQ 1816 3084 2150 3084 \nQ 2853 3084 3261 2657 \nQ 3669 2231 3669 1497 \nQ 3669 778 3244 343 \nQ 2819 -91 2113 -91 \nQ 1303 -91 875 529 \nQ 447 1150 447 2328 \nQ 447 3434 972 4092 \nQ 1497 4750 2381 4750 \nQ 2619 4750 2861 4703 \nQ 3103 4656 3366 4563 \nz\n\" transform=\"scale(0.015625)\"/>\n       </defs>\n       <use xlink:href=\"#DejaVuSans-30\"/>\n       <use xlink:href=\"#DejaVuSans-2e\" transform=\"translate(63.623047 0)\"/>\n       <use xlink:href=\"#DejaVuSans-36\" transform=\"translate(95.410156 0)\"/>\n      </g>\n     </g>\n    </g>\n    <g id=\"ytick_6\">\n     <g id=\"line2d_12\">\n      <g>\n       <use xlink:href=\"#me02b9452e7\" x=\"43.78125\" y=\"30.516096\" style=\"stroke: #000000; stroke-width: 0.8\"/>\n      </g>\n     </g>\n     <g id=\"text_13\">\n      <!-- 0.7 -->\n      <g transform=\"translate(20.878125 34.315315) scale(0.1 -0.1)\">\n       <defs>\n        <path id=\"DejaVuSans-37\" d=\"M 525 4666 \nL 3525 4666 \nL 3525 4397 \nL 1831 0 \nL 1172 0 \nL 2766 4134 \nL 525 4134 \nL 525 4666 \nz\n\" transform=\"scale(0.015625)\"/>\n       </defs>\n       <use xlink:href=\"#DejaVuSans-30\"/>\n       <use xlink:href=\"#DejaVuSans-2e\" transform=\"translate(63.623047 0)\"/>\n       <use xlink:href=\"#DejaVuSans-37\" transform=\"translate(95.410156 0)\"/>\n      </g>\n     </g>\n    </g>\n    <g id=\"text_14\">\n     <!-- Loss -->\n     <g transform=\"translate(14.798438 144.165312) rotate(-90) scale(0.1 -0.1)\">\n      <defs>\n       <path id=\"DejaVuSans-4c\" d=\"M 628 4666 \nL 1259 4666 \nL 1259 531 \nL 3531 531 \nL 3531 0 \nL 628 0 \nL 628 4666 \nz\n\" transform=\"scale(0.015625)\"/>\n       <path id=\"DejaVuSans-73\" d=\"M 2834 3397 \nL 2834 2853 \nQ 2591 2978 2328 3040 \nQ 2066 3103 1784 3103 \nQ 1356 3103 1142 2972 \nQ 928 2841 928 2578 \nQ 928 2378 1081 2264 \nQ 1234 2150 1697 2047 \nL 1894 2003 \nQ 2506 1872 2764 1633 \nQ 3022 1394 3022 966 \nQ 3022 478 2636 193 \nQ 2250 -91 1575 -91 \nQ 1294 -91 989 -36 \nQ 684 19 347 128 \nL 347 722 \nQ 666 556 975 473 \nQ 1284 391 1588 391 \nQ 1994 391 2212 530 \nQ 2431 669 2431 922 \nQ 2431 1156 2273 1281 \nQ 2116 1406 1581 1522 \nL 1381 1569 \nQ 847 1681 609 1914 \nQ 372 2147 372 2553 \nQ 372 3047 722 3315 \nQ 1072 3584 1716 3584 \nQ 2034 3584 2315 3537 \nQ 2597 3491 2834 3397 \nz\n\" transform=\"scale(0.015625)\"/>\n      </defs>\n      <use xlink:href=\"#DejaVuSans-4c\"/>\n      <use xlink:href=\"#DejaVuSans-6f\" transform=\"translate(53.962891 0)\"/>\n      <use xlink:href=\"#DejaVuSans-73\" transform=\"translate(115.144531 0)\"/>\n      <use xlink:href=\"#DejaVuSans-73\" transform=\"translate(167.244141 0)\"/>\n     </g>\n    </g>\n   </g>\n   <g id=\"line2d_13\">\n    <path d=\"M 58.768853 32.398125 \nL 64.886242 118.947987 \nL 71.003632 152.53675 \nL 77.121021 173.078637 \nL 83.23841 186.672053 \nL 89.355799 194.555203 \nL 95.473188 202.621076 \nL 101.590577 205.325021 \nL 107.707966 209.549971 \nL 113.825355 212.275925 \nL 119.942744 215.905671 \nL 126.060133 216.469051 \nL 132.177523 219.28436 \nL 138.294912 220.77231 \nL 144.412301 221.475768 \nL 150.52969 223.102532 \nL 156.647079 223.135411 \nL 162.764468 224.252547 \nL 168.881857 223.821275 \nL 174.999246 224.710549 \nL 181.116635 229.762809 \nL 187.234024 226.087974 \nL 193.351414 228.270349 \nL 199.468803 226.448994 \nL 205.586192 227.888427 \nL 211.703581 230.714987 \nL 217.82097 228.235473 \nL 223.938359 229.481352 \nL 230.055748 229.021728 \nL 236.173137 229.817186 \nL 242.290526 230.357462 \nL 248.407916 230.18434 \nL 254.525305 229.339968 \nL 260.642694 230.113038 \nL 266.760083 231.510639 \nL 272.877472 232.485137 \nL 278.994861 231.283927 \nL 285.11225 230.551107 \nL 291.229639 230.547016 \nL 297.347028 230.934459 \nL 303.464417 231.999982 \nL 309.581807 231.520431 \nL 315.699196 231.317669 \nL 321.816585 230.547045 \nL 327.933974 231.023979 \nL 334.051363 233.704072 \nL 340.168752 231.553243 \nL 346.286141 231.269907 \nL 352.40353 231.921837 \nL 358.520919 233.998125 \n\" clip-path=\"url(#p0bf32957ad)\" style=\"fill: none; stroke: #1f77b4; stroke-width: 1.5; stroke-linecap: square\"/>\n   </g>\n   <g id=\"patch_3\">\n    <path d=\"M 43.78125 244.078125 \nL 43.78125 22.318125 \n\" style=\"fill: none; stroke: #000000; stroke-width: 0.8; stroke-linejoin: miter; stroke-linecap: square\"/>\n   </g>\n   <g id=\"patch_4\">\n    <path d=\"M 373.508523 244.078125 \nL 373.508523 22.318125 \n\" style=\"fill: none; stroke: #000000; stroke-width: 0.8; stroke-linejoin: miter; stroke-linecap: square\"/>\n   </g>\n   <g id=\"patch_5\">\n    <path d=\"M 43.78125 244.078125 \nL 373.508523 244.078125 \n\" style=\"fill: none; stroke: #000000; stroke-width: 0.8; stroke-linejoin: miter; stroke-linecap: square\"/>\n   </g>\n   <g id=\"patch_6\">\n    <path d=\"M 43.78125 22.318125 \nL 373.508523 22.318125 \n\" style=\"fill: none; stroke: #000000; stroke-width: 0.8; stroke-linejoin: miter; stroke-linecap: square\"/>\n   </g>\n   <g id=\"text_15\">\n    <!-- Losses -->\n    <g transform=\"translate(188.666761 16.318125) scale(0.12 -0.12)\">\n     <defs>\n      <path id=\"DejaVuSans-65\" d=\"M 3597 1894 \nL 3597 1613 \nL 953 1613 \nQ 991 1019 1311 708 \nQ 1631 397 2203 397 \nQ 2534 397 2845 478 \nQ 3156 559 3463 722 \nL 3463 178 \nQ 3153 47 2828 -22 \nQ 2503 -91 2169 -91 \nQ 1331 -91 842 396 \nQ 353 884 353 1716 \nQ 353 2575 817 3079 \nQ 1281 3584 2069 3584 \nQ 2775 3584 3186 3129 \nQ 3597 2675 3597 1894 \nz\nM 3022 2063 \nQ 3016 2534 2758 2815 \nQ 2500 3097 2075 3097 \nQ 1594 3097 1305 2825 \nQ 1016 2553 972 2059 \nL 3022 2063 \nz\n\" transform=\"scale(0.015625)\"/>\n     </defs>\n     <use xlink:href=\"#DejaVuSans-4c\"/>\n     <use xlink:href=\"#DejaVuSans-6f\" transform=\"translate(53.962891 0)\"/>\n     <use xlink:href=\"#DejaVuSans-73\" transform=\"translate(115.144531 0)\"/>\n     <use xlink:href=\"#DejaVuSans-73\" transform=\"translate(167.244141 0)\"/>\n     <use xlink:href=\"#DejaVuSans-65\" transform=\"translate(219.34375 0)\"/>\n     <use xlink:href=\"#DejaVuSans-73\" transform=\"translate(280.867188 0)\"/>\n    </g>\n   </g>\n  </g>\n  <g id=\"axes_2\">\n   <g id=\"patch_7\">\n    <path d=\"M 439.453977 244.078125 \nL 769.18125 244.078125 \nL 769.18125 22.318125 \nL 439.453977 22.318125 \nz\n\" style=\"fill: #ffffff\"/>\n   </g>\n   <g id=\"matplotlib.axis_3\">\n    <g id=\"xtick_7\">\n     <g id=\"line2d_14\">\n      <g>\n       <use xlink:href=\"#m62ffc8f654\" x=\"454.441581\" y=\"244.078125\" style=\"stroke: #000000; stroke-width: 0.8\"/>\n      </g>\n     </g>\n     <g id=\"text_16\">\n      <!-- 0 -->\n      <g transform=\"translate(451.260331 258.676562) scale(0.1 -0.1)\">\n       <use xlink:href=\"#DejaVuSans-30\"/>\n      </g>\n     </g>\n    </g>\n    <g id=\"xtick_8\">\n     <g id=\"line2d_15\">\n      <g>\n       <use xlink:href=\"#m62ffc8f654\" x=\"515.615472\" y=\"244.078125\" style=\"stroke: #000000; stroke-width: 0.8\"/>\n      </g>\n     </g>\n     <g id=\"text_17\">\n      <!-- 10 -->\n      <g transform=\"translate(509.252972 258.676562) scale(0.1 -0.1)\">\n       <use xlink:href=\"#DejaVuSans-31\"/>\n       <use xlink:href=\"#DejaVuSans-30\" transform=\"translate(63.623047 0)\"/>\n      </g>\n     </g>\n    </g>\n    <g id=\"xtick_9\">\n     <g id=\"line2d_16\">\n      <g>\n       <use xlink:href=\"#m62ffc8f654\" x=\"576.789363\" y=\"244.078125\" style=\"stroke: #000000; stroke-width: 0.8\"/>\n      </g>\n     </g>\n     <g id=\"text_18\">\n      <!-- 20 -->\n      <g transform=\"translate(570.426863 258.676562) scale(0.1 -0.1)\">\n       <use xlink:href=\"#DejaVuSans-32\"/>\n       <use xlink:href=\"#DejaVuSans-30\" transform=\"translate(63.623047 0)\"/>\n      </g>\n     </g>\n    </g>\n    <g id=\"xtick_10\">\n     <g id=\"line2d_17\">\n      <g>\n       <use xlink:href=\"#m62ffc8f654\" x=\"637.963254\" y=\"244.078125\" style=\"stroke: #000000; stroke-width: 0.8\"/>\n      </g>\n     </g>\n     <g id=\"text_19\">\n      <!-- 30 -->\n      <g transform=\"translate(631.600754 258.676562) scale(0.1 -0.1)\">\n       <use xlink:href=\"#DejaVuSans-33\"/>\n       <use xlink:href=\"#DejaVuSans-30\" transform=\"translate(63.623047 0)\"/>\n      </g>\n     </g>\n    </g>\n    <g id=\"xtick_11\">\n     <g id=\"line2d_18\">\n      <g>\n       <use xlink:href=\"#m62ffc8f654\" x=\"699.137145\" y=\"244.078125\" style=\"stroke: #000000; stroke-width: 0.8\"/>\n      </g>\n     </g>\n     <g id=\"text_20\">\n      <!-- 40 -->\n      <g transform=\"translate(692.774645 258.676562) scale(0.1 -0.1)\">\n       <use xlink:href=\"#DejaVuSans-34\"/>\n       <use xlink:href=\"#DejaVuSans-30\" transform=\"translate(63.623047 0)\"/>\n      </g>\n     </g>\n    </g>\n    <g id=\"xtick_12\">\n     <g id=\"line2d_19\">\n      <g>\n       <use xlink:href=\"#m62ffc8f654\" x=\"760.311036\" y=\"244.078125\" style=\"stroke: #000000; stroke-width: 0.8\"/>\n      </g>\n     </g>\n     <g id=\"text_21\">\n      <!-- 50 -->\n      <g transform=\"translate(753.948536 258.676562) scale(0.1 -0.1)\">\n       <use xlink:href=\"#DejaVuSans-35\"/>\n       <use xlink:href=\"#DejaVuSans-30\" transform=\"translate(63.623047 0)\"/>\n      </g>\n     </g>\n    </g>\n    <g id=\"text_22\">\n     <!-- Epoch -->\n     <g transform=\"translate(589.006676 272.354687) scale(0.1 -0.1)\">\n      <use xlink:href=\"#DejaVuSans-45\"/>\n      <use xlink:href=\"#DejaVuSans-70\" transform=\"translate(63.183594 0)\"/>\n      <use xlink:href=\"#DejaVuSans-6f\" transform=\"translate(126.660156 0)\"/>\n      <use xlink:href=\"#DejaVuSans-63\" transform=\"translate(187.841797 0)\"/>\n      <use xlink:href=\"#DejaVuSans-68\" transform=\"translate(242.822266 0)\"/>\n     </g>\n    </g>\n   </g>\n   <g id=\"matplotlib.axis_4\">\n    <g id=\"ytick_7\">\n     <g id=\"line2d_20\">\n      <g>\n       <use xlink:href=\"#me02b9452e7\" x=\"439.453977\" y=\"211.62883\" style=\"stroke: #000000; stroke-width: 0.8\"/>\n      </g>\n     </g>\n     <g id=\"text_23\">\n      <!-- 70 -->\n      <g transform=\"translate(419.728977 215.428049) scale(0.1 -0.1)\">\n       <use xlink:href=\"#DejaVuSans-37\"/>\n       <use xlink:href=\"#DejaVuSans-30\" transform=\"translate(63.623047 0)\"/>\n      </g>\n     </g>\n    </g>\n    <g id=\"ytick_8\">\n     <g id=\"line2d_21\">\n      <g>\n       <use xlink:href=\"#me02b9452e7\" x=\"439.453977\" y=\"174.622795\" style=\"stroke: #000000; stroke-width: 0.8\"/>\n      </g>\n     </g>\n     <g id=\"text_24\">\n      <!-- 75 -->\n      <g transform=\"translate(419.728977 178.422014) scale(0.1 -0.1)\">\n       <use xlink:href=\"#DejaVuSans-37\"/>\n       <use xlink:href=\"#DejaVuSans-35\" transform=\"translate(63.623047 0)\"/>\n      </g>\n     </g>\n    </g>\n    <g id=\"ytick_9\">\n     <g id=\"line2d_22\">\n      <g>\n       <use xlink:href=\"#me02b9452e7\" x=\"439.453977\" y=\"137.616759\" style=\"stroke: #000000; stroke-width: 0.8\"/>\n      </g>\n     </g>\n     <g id=\"text_25\">\n      <!-- 80 -->\n      <g transform=\"translate(419.728977 141.415978) scale(0.1 -0.1)\">\n       <defs>\n        <path id=\"DejaVuSans-38\" d=\"M 2034 2216 \nQ 1584 2216 1326 1975 \nQ 1069 1734 1069 1313 \nQ 1069 891 1326 650 \nQ 1584 409 2034 409 \nQ 2484 409 2743 651 \nQ 3003 894 3003 1313 \nQ 3003 1734 2745 1975 \nQ 2488 2216 2034 2216 \nz\nM 1403 2484 \nQ 997 2584 770 2862 \nQ 544 3141 544 3541 \nQ 544 4100 942 4425 \nQ 1341 4750 2034 4750 \nQ 2731 4750 3128 4425 \nQ 3525 4100 3525 3541 \nQ 3525 3141 3298 2862 \nQ 3072 2584 2669 2484 \nQ 3125 2378 3379 2068 \nQ 3634 1759 3634 1313 \nQ 3634 634 3220 271 \nQ 2806 -91 2034 -91 \nQ 1263 -91 848 271 \nQ 434 634 434 1313 \nQ 434 1759 690 2068 \nQ 947 2378 1403 2484 \nz\nM 1172 3481 \nQ 1172 3119 1398 2916 \nQ 1625 2713 2034 2713 \nQ 2441 2713 2670 2916 \nQ 2900 3119 2900 3481 \nQ 2900 3844 2670 4047 \nQ 2441 4250 2034 4250 \nQ 1625 4250 1398 4047 \nQ 1172 3844 1172 3481 \nz\n\" transform=\"scale(0.015625)\"/>\n       </defs>\n       <use xlink:href=\"#DejaVuSans-38\"/>\n       <use xlink:href=\"#DejaVuSans-30\" transform=\"translate(63.623047 0)\"/>\n      </g>\n     </g>\n    </g>\n    <g id=\"ytick_10\">\n     <g id=\"line2d_23\">\n      <g>\n       <use xlink:href=\"#me02b9452e7\" x=\"439.453977\" y=\"100.610724\" style=\"stroke: #000000; stroke-width: 0.8\"/>\n      </g>\n     </g>\n     <g id=\"text_26\">\n      <!-- 85 -->\n      <g transform=\"translate(419.728977 104.409943) scale(0.1 -0.1)\">\n       <use xlink:href=\"#DejaVuSans-38\"/>\n       <use xlink:href=\"#DejaVuSans-35\" transform=\"translate(63.623047 0)\"/>\n      </g>\n     </g>\n    </g>\n    <g id=\"ytick_11\">\n     <g id=\"line2d_24\">\n      <g>\n       <use xlink:href=\"#me02b9452e7\" x=\"439.453977\" y=\"63.604689\" style=\"stroke: #000000; stroke-width: 0.8\"/>\n      </g>\n     </g>\n     <g id=\"text_27\">\n      <!-- 90 -->\n      <g transform=\"translate(419.728977 67.403907) scale(0.1 -0.1)\">\n       <defs>\n        <path id=\"DejaVuSans-39\" d=\"M 703 97 \nL 703 672 \nQ 941 559 1184 500 \nQ 1428 441 1663 441 \nQ 2288 441 2617 861 \nQ 2947 1281 2994 2138 \nQ 2813 1869 2534 1725 \nQ 2256 1581 1919 1581 \nQ 1219 1581 811 2004 \nQ 403 2428 403 3163 \nQ 403 3881 828 4315 \nQ 1253 4750 1959 4750 \nQ 2769 4750 3195 4129 \nQ 3622 3509 3622 2328 \nQ 3622 1225 3098 567 \nQ 2575 -91 1691 -91 \nQ 1453 -91 1209 -44 \nQ 966 3 703 97 \nz\nM 1959 2075 \nQ 2384 2075 2632 2365 \nQ 2881 2656 2881 3163 \nQ 2881 3666 2632 3958 \nQ 2384 4250 1959 4250 \nQ 1534 4250 1286 3958 \nQ 1038 3666 1038 3163 \nQ 1038 2656 1286 2365 \nQ 1534 2075 1959 2075 \nz\n\" transform=\"scale(0.015625)\"/>\n       </defs>\n       <use xlink:href=\"#DejaVuSans-39\"/>\n       <use xlink:href=\"#DejaVuSans-30\" transform=\"translate(63.623047 0)\"/>\n      </g>\n     </g>\n    </g>\n    <g id=\"ytick_12\">\n     <g id=\"line2d_25\">\n      <g>\n       <use xlink:href=\"#me02b9452e7\" x=\"439.453977\" y=\"26.598653\" style=\"stroke: #000000; stroke-width: 0.8\"/>\n      </g>\n     </g>\n     <g id=\"text_28\">\n      <!-- 95 -->\n      <g transform=\"translate(419.728977 30.397872) scale(0.1 -0.1)\">\n       <use xlink:href=\"#DejaVuSans-39\"/>\n       <use xlink:href=\"#DejaVuSans-35\" transform=\"translate(63.623047 0)\"/>\n      </g>\n     </g>\n    </g>\n    <g id=\"text_29\">\n     <!-- Accuracy (%) -->\n     <g transform=\"translate(413.64929 166.267656) rotate(-90) scale(0.1 -0.1)\">\n      <defs>\n       <path id=\"DejaVuSans-41\" d=\"M 2188 4044 \nL 1331 1722 \nL 3047 1722 \nL 2188 4044 \nz\nM 1831 4666 \nL 2547 4666 \nL 4325 0 \nL 3669 0 \nL 3244 1197 \nL 1141 1197 \nL 716 0 \nL 50 0 \nL 1831 4666 \nz\n\" transform=\"scale(0.015625)\"/>\n       <path id=\"DejaVuSans-75\" d=\"M 544 1381 \nL 544 3500 \nL 1119 3500 \nL 1119 1403 \nQ 1119 906 1312 657 \nQ 1506 409 1894 409 \nQ 2359 409 2629 706 \nQ 2900 1003 2900 1516 \nL 2900 3500 \nL 3475 3500 \nL 3475 0 \nL 2900 0 \nL 2900 538 \nQ 2691 219 2414 64 \nQ 2138 -91 1772 -91 \nQ 1169 -91 856 284 \nQ 544 659 544 1381 \nz\nM 1991 3584 \nL 1991 3584 \nz\n\" transform=\"scale(0.015625)\"/>\n       <path id=\"DejaVuSans-72\" d=\"M 2631 2963 \nQ 2534 3019 2420 3045 \nQ 2306 3072 2169 3072 \nQ 1681 3072 1420 2755 \nQ 1159 2438 1159 1844 \nL 1159 0 \nL 581 0 \nL 581 3500 \nL 1159 3500 \nL 1159 2956 \nQ 1341 3275 1631 3429 \nQ 1922 3584 2338 3584 \nQ 2397 3584 2469 3576 \nQ 2541 3569 2628 3553 \nL 2631 2963 \nz\n\" transform=\"scale(0.015625)\"/>\n       <path id=\"DejaVuSans-61\" d=\"M 2194 1759 \nQ 1497 1759 1228 1600 \nQ 959 1441 959 1056 \nQ 959 750 1161 570 \nQ 1363 391 1709 391 \nQ 2188 391 2477 730 \nQ 2766 1069 2766 1631 \nL 2766 1759 \nL 2194 1759 \nz\nM 3341 1997 \nL 3341 0 \nL 2766 0 \nL 2766 531 \nQ 2569 213 2275 61 \nQ 1981 -91 1556 -91 \nQ 1019 -91 701 211 \nQ 384 513 384 1019 \nQ 384 1609 779 1909 \nQ 1175 2209 1959 2209 \nL 2766 2209 \nL 2766 2266 \nQ 2766 2663 2505 2880 \nQ 2244 3097 1772 3097 \nQ 1472 3097 1187 3025 \nQ 903 2953 641 2809 \nL 641 3341 \nQ 956 3463 1253 3523 \nQ 1550 3584 1831 3584 \nQ 2591 3584 2966 3190 \nQ 3341 2797 3341 1997 \nz\n\" transform=\"scale(0.015625)\"/>\n       <path id=\"DejaVuSans-79\" d=\"M 2059 -325 \nQ 1816 -950 1584 -1140 \nQ 1353 -1331 966 -1331 \nL 506 -1331 \nL 506 -850 \nL 844 -850 \nQ 1081 -850 1212 -737 \nQ 1344 -625 1503 -206 \nL 1606 56 \nL 191 3500 \nL 800 3500 \nL 1894 763 \nL 2988 3500 \nL 3597 3500 \nL 2059 -325 \nz\n\" transform=\"scale(0.015625)\"/>\n       <path id=\"DejaVuSans-20\" transform=\"scale(0.015625)\"/>\n       <path id=\"DejaVuSans-28\" d=\"M 1984 4856 \nQ 1566 4138 1362 3434 \nQ 1159 2731 1159 2009 \nQ 1159 1288 1364 580 \nQ 1569 -128 1984 -844 \nL 1484 -844 \nQ 1016 -109 783 600 \nQ 550 1309 550 2009 \nQ 550 2706 781 3412 \nQ 1013 4119 1484 4856 \nL 1984 4856 \nz\n\" transform=\"scale(0.015625)\"/>\n       <path id=\"DejaVuSans-25\" d=\"M 4653 2053 \nQ 4381 2053 4226 1822 \nQ 4072 1591 4072 1178 \nQ 4072 772 4226 539 \nQ 4381 306 4653 306 \nQ 4919 306 5073 539 \nQ 5228 772 5228 1178 \nQ 5228 1588 5073 1820 \nQ 4919 2053 4653 2053 \nz\nM 4653 2450 \nQ 5147 2450 5437 2106 \nQ 5728 1763 5728 1178 \nQ 5728 594 5436 251 \nQ 5144 -91 4653 -91 \nQ 4153 -91 3862 251 \nQ 3572 594 3572 1178 \nQ 3572 1766 3864 2108 \nQ 4156 2450 4653 2450 \nz\nM 1428 4353 \nQ 1159 4353 1004 4120 \nQ 850 3888 850 3481 \nQ 850 3069 1003 2837 \nQ 1156 2606 1428 2606 \nQ 1700 2606 1854 2837 \nQ 2009 3069 2009 3481 \nQ 2009 3884 1853 4118 \nQ 1697 4353 1428 4353 \nz\nM 4250 4750 \nL 4750 4750 \nL 1831 -91 \nL 1331 -91 \nL 4250 4750 \nz\nM 1428 4750 \nQ 1922 4750 2215 4408 \nQ 2509 4066 2509 3481 \nQ 2509 2891 2217 2550 \nQ 1925 2209 1428 2209 \nQ 931 2209 642 2551 \nQ 353 2894 353 3481 \nQ 353 4063 643 4406 \nQ 934 4750 1428 4750 \nz\n\" transform=\"scale(0.015625)\"/>\n       <path id=\"DejaVuSans-29\" d=\"M 513 4856 \nL 1013 4856 \nQ 1481 4119 1714 3412 \nQ 1947 2706 1947 2009 \nQ 1947 1309 1714 600 \nQ 1481 -109 1013 -844 \nL 513 -844 \nQ 928 -128 1133 580 \nQ 1338 1288 1338 2009 \nQ 1338 2731 1133 3434 \nQ 928 4138 513 4856 \nz\n\" transform=\"scale(0.015625)\"/>\n      </defs>\n      <use xlink:href=\"#DejaVuSans-41\"/>\n      <use xlink:href=\"#DejaVuSans-63\" transform=\"translate(66.658203 0)\"/>\n      <use xlink:href=\"#DejaVuSans-63\" transform=\"translate(121.638672 0)\"/>\n      <use xlink:href=\"#DejaVuSans-75\" transform=\"translate(176.619141 0)\"/>\n      <use xlink:href=\"#DejaVuSans-72\" transform=\"translate(239.998047 0)\"/>\n      <use xlink:href=\"#DejaVuSans-61\" transform=\"translate(281.111328 0)\"/>\n      <use xlink:href=\"#DejaVuSans-63\" transform=\"translate(342.390625 0)\"/>\n      <use xlink:href=\"#DejaVuSans-79\" transform=\"translate(397.371094 0)\"/>\n      <use xlink:href=\"#DejaVuSans-20\" transform=\"translate(456.550781 0)\"/>\n      <use xlink:href=\"#DejaVuSans-28\" transform=\"translate(488.337891 0)\"/>\n      <use xlink:href=\"#DejaVuSans-25\" transform=\"translate(527.351562 0)\"/>\n      <use xlink:href=\"#DejaVuSans-29\" transform=\"translate(622.371094 0)\"/>\n     </g>\n    </g>\n   </g>\n   <g id=\"line2d_26\">\n    <path d=\"M 454.441581 233.998125 \nL 460.55897 113.866627 \nL 466.676359 77.965251 \nL 472.793748 57.252916 \nL 478.911137 53.11046 \nL 485.028526 46.206329 \nL 491.145915 47.587167 \nL 497.263304 44.825492 \nL 503.380693 37.921418 \nL 509.498083 37.921418 \nL 515.615472 36.540581 \nL 521.732861 37.921418 \nL 527.85025 35.159743 \nL 533.967639 36.540581 \nL 540.085028 40.683036 \nL 546.202417 39.302199 \nL 552.319806 37.921418 \nL 558.437195 32.398125 \nL 564.554584 39.302199 \nL 570.671974 39.302199 \nL 576.789363 39.302199 \nL 582.906752 40.683036 \nL 589.024141 37.921418 \nL 595.14153 40.683036 \nL 601.258919 35.159743 \nL 607.376308 39.302199 \nL 613.493697 32.398125 \nL 619.611086 42.063874 \nL 625.728476 37.921418 \nL 631.845865 33.778906 \nL 637.963254 39.302199 \nL 644.080643 37.921418 \nL 650.198032 36.540581 \nL 656.315421 37.921418 \nL 662.43281 36.540581 \nL 668.550199 33.778906 \nL 674.667588 32.398125 \nL 680.784977 39.302199 \nL 686.902367 37.921418 \nL 693.019756 40.683036 \nL 699.137145 37.921418 \nL 705.254534 36.540581 \nL 711.371923 35.159743 \nL 717.489312 36.540581 \nL 723.606701 37.921418 \nL 729.72409 35.159743 \nL 735.841479 39.302199 \nL 741.958868 33.778906 \nL 748.076258 35.159743 \nL 754.193647 36.540581 \n\" clip-path=\"url(#p19b0238828)\" style=\"fill: none; stroke: #1f77b4; stroke-width: 1.5; stroke-linecap: square\"/>\n   </g>\n   <g id=\"line2d_27\">\n    <path d=\"M 454.441581 162.287469 \nL 460.55897 75.940015 \nL 466.676359 88.275398 \nL 472.793748 75.940015 \nL 478.911137 88.275398 \nL 485.028526 75.940015 \nL 491.145915 75.940015 \nL 497.263304 88.275398 \nL 503.380693 63.604689 \nL 509.498083 88.275398 \nL 515.615472 75.940015 \nL 521.732861 88.275398 \nL 527.85025 75.940015 \nL 533.967639 75.940015 \nL 540.085028 75.940015 \nL 546.202417 63.604689 \nL 552.319806 75.940015 \nL 558.437195 88.275398 \nL 564.554584 75.940015 \nL 570.671974 75.940015 \nL 576.789363 88.275398 \nL 582.906752 88.275398 \nL 589.024141 75.940015 \nL 595.14153 88.275398 \nL 601.258919 88.275398 \nL 607.376308 75.940015 \nL 613.493697 75.940015 \nL 619.611086 75.940015 \nL 625.728476 75.940015 \nL 631.845865 75.940015 \nL 637.963254 75.940015 \nL 644.080643 88.275398 \nL 650.198032 63.604689 \nL 656.315421 88.275398 \nL 662.43281 75.940015 \nL 668.550199 88.275398 \nL 674.667588 88.275398 \nL 680.784977 75.940015 \nL 686.902367 63.604689 \nL 693.019756 63.604689 \nL 699.137145 75.940015 \nL 705.254534 75.940015 \nL 711.371923 63.604689 \nL 717.489312 88.275398 \nL 723.606701 88.275398 \nL 729.72409 75.940015 \nL 735.841479 75.940015 \nL 741.958868 88.275398 \nL 748.076258 88.275398 \nL 754.193647 88.275398 \n\" clip-path=\"url(#p19b0238828)\" style=\"fill: none; stroke: #ff7f0e; stroke-width: 1.5; stroke-linecap: square\"/>\n   </g>\n   <g id=\"patch_8\">\n    <path d=\"M 439.453977 244.078125 \nL 439.453977 22.318125 \n\" style=\"fill: none; stroke: #000000; stroke-width: 0.8; stroke-linejoin: miter; stroke-linecap: square\"/>\n   </g>\n   <g id=\"patch_9\">\n    <path d=\"M 769.18125 244.078125 \nL 769.18125 22.318125 \n\" style=\"fill: none; stroke: #000000; stroke-width: 0.8; stroke-linejoin: miter; stroke-linecap: square\"/>\n   </g>\n   <g id=\"patch_10\">\n    <path d=\"M 439.453977 244.078125 \nL 769.18125 244.078125 \n\" style=\"fill: none; stroke: #000000; stroke-width: 0.8; stroke-linejoin: miter; stroke-linecap: square\"/>\n   </g>\n   <g id=\"patch_11\">\n    <path d=\"M 439.453977 22.318125 \nL 769.18125 22.318125 \n\" style=\"fill: none; stroke: #000000; stroke-width: 0.8; stroke-linejoin: miter; stroke-linecap: square\"/>\n   </g>\n   <g id=\"text_30\">\n    <!-- Accuracy -->\n    <g transform=\"translate(576.923864 16.318125) scale(0.12 -0.12)\">\n     <use xlink:href=\"#DejaVuSans-41\"/>\n     <use xlink:href=\"#DejaVuSans-63\" transform=\"translate(66.658203 0)\"/>\n     <use xlink:href=\"#DejaVuSans-63\" transform=\"translate(121.638672 0)\"/>\n     <use xlink:href=\"#DejaVuSans-75\" transform=\"translate(176.619141 0)\"/>\n     <use xlink:href=\"#DejaVuSans-72\" transform=\"translate(239.998047 0)\"/>\n     <use xlink:href=\"#DejaVuSans-61\" transform=\"translate(281.111328 0)\"/>\n     <use xlink:href=\"#DejaVuSans-63\" transform=\"translate(342.390625 0)\"/>\n     <use xlink:href=\"#DejaVuSans-79\" transform=\"translate(397.371094 0)\"/>\n    </g>\n   </g>\n   <g id=\"legend_1\">\n    <g id=\"patch_12\">\n     <path d=\"M 706.19375 239.078125 \nL 762.18125 239.078125 \nQ 764.18125 239.078125 764.18125 237.078125 \nL 764.18125 208.721875 \nQ 764.18125 206.721875 762.18125 206.721875 \nL 706.19375 206.721875 \nQ 704.19375 206.721875 704.19375 208.721875 \nL 704.19375 237.078125 \nQ 704.19375 239.078125 706.19375 239.078125 \nz\n\" style=\"fill: #ffffff; opacity: 0.8; stroke: #cccccc; stroke-linejoin: miter\"/>\n    </g>\n    <g id=\"line2d_28\">\n     <path d=\"M 708.19375 214.820312 \nL 718.19375 214.820312 \nL 728.19375 214.820312 \n\" style=\"fill: none; stroke: #1f77b4; stroke-width: 1.5; stroke-linecap: square\"/>\n    </g>\n    <g id=\"text_31\">\n     <!-- Train -->\n     <g transform=\"translate(736.19375 218.320312) scale(0.1 -0.1)\">\n      <defs>\n       <path id=\"DejaVuSans-54\" d=\"M -19 4666 \nL 3928 4666 \nL 3928 4134 \nL 2272 4134 \nL 2272 0 \nL 1638 0 \nL 1638 4134 \nL -19 4134 \nL -19 4666 \nz\n\" transform=\"scale(0.015625)\"/>\n       <path id=\"DejaVuSans-69\" d=\"M 603 3500 \nL 1178 3500 \nL 1178 0 \nL 603 0 \nL 603 3500 \nz\nM 603 4863 \nL 1178 4863 \nL 1178 4134 \nL 603 4134 \nL 603 4863 \nz\n\" transform=\"scale(0.015625)\"/>\n       <path id=\"DejaVuSans-6e\" d=\"M 3513 2113 \nL 3513 0 \nL 2938 0 \nL 2938 2094 \nQ 2938 2591 2744 2837 \nQ 2550 3084 2163 3084 \nQ 1697 3084 1428 2787 \nQ 1159 2491 1159 1978 \nL 1159 0 \nL 581 0 \nL 581 3500 \nL 1159 3500 \nL 1159 2956 \nQ 1366 3272 1645 3428 \nQ 1925 3584 2291 3584 \nQ 2894 3584 3203 3211 \nQ 3513 2838 3513 2113 \nz\n\" transform=\"scale(0.015625)\"/>\n      </defs>\n      <use xlink:href=\"#DejaVuSans-54\"/>\n      <use xlink:href=\"#DejaVuSans-72\" transform=\"translate(46.333984 0)\"/>\n      <use xlink:href=\"#DejaVuSans-61\" transform=\"translate(87.447266 0)\"/>\n      <use xlink:href=\"#DejaVuSans-69\" transform=\"translate(148.726562 0)\"/>\n      <use xlink:href=\"#DejaVuSans-6e\" transform=\"translate(176.509766 0)\"/>\n     </g>\n    </g>\n    <g id=\"line2d_29\">\n     <path d=\"M 708.19375 229.498437 \nL 718.19375 229.498437 \nL 728.19375 229.498437 \n\" style=\"fill: none; stroke: #ff7f0e; stroke-width: 1.5; stroke-linecap: square\"/>\n    </g>\n    <g id=\"text_32\">\n     <!-- Test -->\n     <g transform=\"translate(736.19375 232.998437) scale(0.1 -0.1)\">\n      <defs>\n       <path id=\"DejaVuSans-74\" d=\"M 1172 4494 \nL 1172 3500 \nL 2356 3500 \nL 2356 3053 \nL 1172 3053 \nL 1172 1153 \nQ 1172 725 1289 603 \nQ 1406 481 1766 481 \nL 2356 481 \nL 2356 0 \nL 1766 0 \nQ 1100 0 847 248 \nQ 594 497 594 1153 \nL 594 3053 \nL 172 3053 \nL 172 3500 \nL 594 3500 \nL 594 4494 \nL 1172 4494 \nz\n\" transform=\"scale(0.015625)\"/>\n      </defs>\n      <use xlink:href=\"#DejaVuSans-54\"/>\n      <use xlink:href=\"#DejaVuSans-65\" transform=\"translate(44.083984 0)\"/>\n      <use xlink:href=\"#DejaVuSans-73\" transform=\"translate(105.607422 0)\"/>\n      <use xlink:href=\"#DejaVuSans-74\" transform=\"translate(157.707031 0)\"/>\n     </g>\n    </g>\n   </g>\n  </g>\n </g>\n <defs>\n  <clipPath id=\"p0bf32957ad\">\n   <rect x=\"43.78125\" y=\"22.318125\" width=\"329.727273\" height=\"221.76\"/>\n  </clipPath>\n  <clipPath id=\"p19b0238828\">\n   <rect x=\"439.453977\" y=\"22.318125\" width=\"329.727273\" height=\"221.76\"/>\n  </clipPath>\n </defs>\n</svg>\n"
          },
          "metadata": {}
        }
      ]
    },
    {
      "cell_type": "code",
      "source": [
        "# Specify the parameters for the model\n",
        "nNodesInModel = 80\n",
        "layersRange = [1, 5, 10, 20]\n",
        "nDatapoints = np.arange(50, 551, 50)\n",
        "\n",
        "# create a legend for later plotting\n",
        "legend = []\n",
        "\n",
        "# print out the model architecture\n",
        "for lidx, layers in enumerate(layersRange):\n",
        "\n",
        "  # create a model\n",
        "  units_per_layer = int(nNodesInModel / layersRange[lidx])\n",
        "  net = createTheQwertyNet(units_per_layer, layers)[0]\n",
        "\n",
        "  # count its parameters (see lecture ANNs: Depth vs breadth)\n",
        "  nparams = np.sum([p.numel() for p in net.parameters() if p.requires_grad])\n",
        "\n",
        "  legend.append('%s layers, %s units, %s params' % (layers, units_per_layer, nparams))\n",
        "\n",
        "  print(f\"This model will have {layers} layers, each with {units_per_layer} units, totalling {nparams} parameters.\")"
      ],
      "metadata": {
        "colab": {
          "base_uri": "https://localhost:8080/"
        },
        "id": "u5Cn5NNbvEoX",
        "outputId": "5188e9aa-b62c-4b7c-add5-cb7ce4a88d1c"
      },
      "execution_count": 70,
      "outputs": [
        {
          "output_type": "stream",
          "name": "stdout",
          "text": [
            "This model will have 1 layers, each with 80 units, totalling 483 parameters.\n",
            "This model will have 5 layers, each with 16 units, totalling 1187 parameters.\n",
            "This model will have 10 layers, each with 8 units, totalling 699 parameters.\n",
            "This model will have 20 layers, each with 4 units, totalling 407 parameters.\n"
          ]
        }
      ]
    },
    {
      "cell_type": "code",
      "source": [
        "net"
      ],
      "metadata": {
        "colab": {
          "base_uri": "https://localhost:8080/"
        },
        "id": "8CP4mI3Hu_83",
        "outputId": "79aee336-17f2-43b2-aac0-5d0474d6d214"
      },
      "execution_count": 71,
      "outputs": [
        {
          "output_type": "execute_result",
          "data": {
            "text/plain": [
              "qwertyNet(\n",
              "  (layers): ModuleDict(\n",
              "    (input): Linear(in_features=2, out_features=4, bias=True)\n",
              "    (hidden1): Linear(in_features=4, out_features=4, bias=True)\n",
              "    (hidden2): Linear(in_features=4, out_features=4, bias=True)\n",
              "    (hidden3): Linear(in_features=4, out_features=4, bias=True)\n",
              "    (hidden4): Linear(in_features=4, out_features=4, bias=True)\n",
              "    (hidden5): Linear(in_features=4, out_features=4, bias=True)\n",
              "    (hidden6): Linear(in_features=4, out_features=4, bias=True)\n",
              "    (hidden7): Linear(in_features=4, out_features=4, bias=True)\n",
              "    (hidden8): Linear(in_features=4, out_features=4, bias=True)\n",
              "    (hidden9): Linear(in_features=4, out_features=4, bias=True)\n",
              "    (hidden10): Linear(in_features=4, out_features=4, bias=True)\n",
              "    (hidden11): Linear(in_features=4, out_features=4, bias=True)\n",
              "    (hidden12): Linear(in_features=4, out_features=4, bias=True)\n",
              "    (hidden13): Linear(in_features=4, out_features=4, bias=True)\n",
              "    (hidden14): Linear(in_features=4, out_features=4, bias=True)\n",
              "    (hidden15): Linear(in_features=4, out_features=4, bias=True)\n",
              "    (hidden16): Linear(in_features=4, out_features=4, bias=True)\n",
              "    (hidden17): Linear(in_features=4, out_features=4, bias=True)\n",
              "    (hidden18): Linear(in_features=4, out_features=4, bias=True)\n",
              "    (hidden19): Linear(in_features=4, out_features=4, bias=True)\n",
              "    (output): Linear(in_features=4, out_features=3, bias=True)\n",
              "  )\n",
              ")"
            ]
          },
          "metadata": {},
          "execution_count": 71
        }
      ]
    },
    {
      "cell_type": "code",
      "source": [
        "19 * 4 * 4 + 4*19 + 4*3 + 3 + 2*4 + 4"
      ],
      "metadata": {
        "colab": {
          "base_uri": "https://localhost:8080/"
        },
        "id": "yIbuRoICxRep",
        "outputId": "0a3ae06a-d364-4ba9-f753-0f0484e08ae1"
      },
      "execution_count": 72,
      "outputs": [
        {
          "output_type": "execute_result",
          "data": {
            "text/plain": [
              "407"
            ]
          },
          "metadata": {},
          "execution_count": 72
        }
      ]
    },
    {
      "cell_type": "code",
      "source": [
        "# Note: takes ~5mins.\n",
        "\n",
        "# Initialise results matrix\n",
        "results = np.zeros((len(nDatapoints), len(layersRange), 2))\n",
        "results.shape"
      ],
      "metadata": {
        "colab": {
          "base_uri": "https://localhost:8080/"
        },
        "id": "dgowwM0hxjJp",
        "outputId": "4b375a48-60dd-413e-da33-af8aed12583f"
      },
      "execution_count": 73,
      "outputs": [
        {
          "output_type": "execute_result",
          "data": {
            "text/plain": [
              "(11, 4, 2)"
            ]
          },
          "metadata": {},
          "execution_count": 73
        }
      ]
    },
    {
      "cell_type": "code",
      "source": [
        "for didx, pnts in enumerate(nDatapoints):\n",
        "\n",
        "  # create data (note: same data for each layer manipulation!)\n",
        "  theData = createSomeData(pnts)\n",
        "  train_data = theData['train_data']\n",
        "  test_data = theData['test_data']\n",
        "\n",
        "  # now loop over layers\n",
        "  for lidx, layers in enumerate(layersRange):\n",
        "\n",
        "    units_per_layer = int(nNodesInModel / layersRange[lidx])\n",
        "    trainAcc, testAcc, losses, net = function2trainTheModel(units_per_layer, layers)\n",
        "\n",
        "    # average of last 5 accuracies and losses\n",
        "    results[didx, lidx, 0] = np.mean( testAcc[-5:] )\n",
        "    results[didx, lidx, 1] = torch.mean( losses[-5:] ).item()"
      ],
      "metadata": {
        "id": "ulcDGtlUyPwP"
      },
      "execution_count": 74,
      "outputs": []
    },
    {
      "cell_type": "code",
      "source": [
        "# Show the results!\n",
        "\n",
        "fig, ax = plt.subplots(1, 2, figsize=(15, 5))\n",
        "\n",
        "ax[0].plot(nDatapoints, results[:, :, 1], 's-')\n",
        "ax[0].set_ylabel('Loss')\n",
        "ax[0].set_xlabel('Number of data points')\n",
        "ax[0].legend(legend)\n",
        "ax[0].set_title('Losses')\n",
        "\n",
        "ax[1].plot(nDatapoints, results[:, :, 0], 'o-')\n",
        "ax[1].set_ylabel('Accuracy (%)')\n",
        "ax[1].set_xlabel('Number of data points')\n",
        "ax[1].set_title('Accuracy')\n",
        "ax[1].legend(legend)\n",
        "\n",
        "plt.show()"
      ],
      "metadata": {
        "colab": {
          "base_uri": "https://localhost:8080/",
          "height": 490
        },
        "id": "jy8Do8GVzFtx",
        "outputId": "2fe45e07-9841-49af-a86c-a8ebc17b9fe1"
      },
      "execution_count": 75,
      "outputs": [
        {
          "output_type": "display_data",
          "data": {
            "text/plain": [
              "<Figure size 1500x500 with 2 Axes>"
            ],
            "image/svg+xml": "<?xml version=\"1.0\" encoding=\"utf-8\" standalone=\"no\"?>\n<!DOCTYPE svg PUBLIC \"-//W3C//DTD SVG 1.1//EN\"\n  \"http://www.w3.org/Graphics/SVG/1.1/DTD/svg11.dtd\">\n<svg xmlns:xlink=\"http://www.w3.org/1999/xlink\" width=\"887.98125pt\" height=\"337.074375pt\" viewBox=\"0 0 887.98125 337.074375\" xmlns=\"http://www.w3.org/2000/svg\" version=\"1.1\">\n <metadata>\n  <rdf:RDF xmlns:dc=\"http://purl.org/dc/elements/1.1/\" xmlns:cc=\"http://creativecommons.org/ns#\" xmlns:rdf=\"http://www.w3.org/1999/02/22-rdf-syntax-ns#\">\n   <cc:Work>\n    <dc:type rdf:resource=\"http://purl.org/dc/dcmitype/StillImage\"/>\n    <dc:date>2025-05-31T19:32:09.079939</dc:date>\n    <dc:format>image/svg+xml</dc:format>\n    <dc:creator>\n     <cc:Agent>\n      <dc:title>Matplotlib v3.10.0, https://matplotlib.org/</dc:title>\n     </cc:Agent>\n    </dc:creator>\n   </cc:Work>\n  </rdf:RDF>\n </metadata>\n <defs>\n  <style type=\"text/css\">*{stroke-linejoin: round; stroke-linecap: butt}</style>\n </defs>\n <g id=\"figure_1\">\n  <g id=\"patch_1\">\n   <path d=\"M 0 337.074375 \nL 887.98125 337.074375 \nL 887.98125 0 \nL 0 0 \nz\n\" style=\"fill: #ffffff\"/>\n  </g>\n  <g id=\"axes_1\">\n   <g id=\"patch_2\">\n    <path d=\"M 43.78125 299.518125 \nL 424.235795 299.518125 \nL 424.235795 22.318125 \nL 43.78125 22.318125 \nz\n\" style=\"fill: #ffffff\"/>\n   </g>\n   <g id=\"matplotlib.axis_1\">\n    <g id=\"xtick_1\">\n     <g id=\"line2d_1\">\n      <defs>\n       <path id=\"mef68261684\" d=\"M 0 0 \nL 0 3.5 \n\" style=\"stroke: #000000; stroke-width: 0.8\"/>\n      </defs>\n      <g>\n       <use xlink:href=\"#mef68261684\" x=\"95.661415\" y=\"299.518125\" style=\"stroke: #000000; stroke-width: 0.8\"/>\n      </g>\n     </g>\n     <g id=\"text_1\">\n      <!-- 100 -->\n      <g transform=\"translate(86.117665 314.116563) scale(0.1 -0.1)\">\n       <defs>\n        <path id=\"DejaVuSans-31\" d=\"M 794 531 \nL 1825 531 \nL 1825 4091 \nL 703 3866 \nL 703 4441 \nL 1819 4666 \nL 2450 4666 \nL 2450 531 \nL 3481 531 \nL 3481 0 \nL 794 0 \nL 794 531 \nz\n\" transform=\"scale(0.015625)\"/>\n        <path id=\"DejaVuSans-30\" d=\"M 2034 4250 \nQ 1547 4250 1301 3770 \nQ 1056 3291 1056 2328 \nQ 1056 1369 1301 889 \nQ 1547 409 2034 409 \nQ 2525 409 2770 889 \nQ 3016 1369 3016 2328 \nQ 3016 3291 2770 3770 \nQ 2525 4250 2034 4250 \nz\nM 2034 4750 \nQ 2819 4750 3233 4129 \nQ 3647 3509 3647 2328 \nQ 3647 1150 3233 529 \nQ 2819 -91 2034 -91 \nQ 1250 -91 836 529 \nQ 422 1150 422 2328 \nQ 422 3509 836 4129 \nQ 1250 4750 2034 4750 \nz\n\" transform=\"scale(0.015625)\"/>\n       </defs>\n       <use xlink:href=\"#DejaVuSans-31\"/>\n       <use xlink:href=\"#DejaVuSans-30\" transform=\"translate(63.623047 0)\"/>\n       <use xlink:href=\"#DejaVuSans-30\" transform=\"translate(127.246094 0)\"/>\n      </g>\n     </g>\n    </g>\n    <g id=\"xtick_2\">\n     <g id=\"line2d_2\">\n      <g>\n       <use xlink:href=\"#mef68261684\" x=\"164.834969\" y=\"299.518125\" style=\"stroke: #000000; stroke-width: 0.8\"/>\n      </g>\n     </g>\n     <g id=\"text_2\">\n      <!-- 200 -->\n      <g transform=\"translate(155.291219 314.116563) scale(0.1 -0.1)\">\n       <defs>\n        <path id=\"DejaVuSans-32\" d=\"M 1228 531 \nL 3431 531 \nL 3431 0 \nL 469 0 \nL 469 531 \nQ 828 903 1448 1529 \nQ 2069 2156 2228 2338 \nQ 2531 2678 2651 2914 \nQ 2772 3150 2772 3378 \nQ 2772 3750 2511 3984 \nQ 2250 4219 1831 4219 \nQ 1534 4219 1204 4116 \nQ 875 4013 500 3803 \nL 500 4441 \nQ 881 4594 1212 4672 \nQ 1544 4750 1819 4750 \nQ 2544 4750 2975 4387 \nQ 3406 4025 3406 3419 \nQ 3406 3131 3298 2873 \nQ 3191 2616 2906 2266 \nQ 2828 2175 2409 1742 \nQ 1991 1309 1228 531 \nz\n\" transform=\"scale(0.015625)\"/>\n       </defs>\n       <use xlink:href=\"#DejaVuSans-32\"/>\n       <use xlink:href=\"#DejaVuSans-30\" transform=\"translate(63.623047 0)\"/>\n       <use xlink:href=\"#DejaVuSans-30\" transform=\"translate(127.246094 0)\"/>\n      </g>\n     </g>\n    </g>\n    <g id=\"xtick_3\">\n     <g id=\"line2d_3\">\n      <g>\n       <use xlink:href=\"#mef68261684\" x=\"234.008523\" y=\"299.518125\" style=\"stroke: #000000; stroke-width: 0.8\"/>\n      </g>\n     </g>\n     <g id=\"text_3\">\n      <!-- 300 -->\n      <g transform=\"translate(224.464773 314.116563) scale(0.1 -0.1)\">\n       <defs>\n        <path id=\"DejaVuSans-33\" d=\"M 2597 2516 \nQ 3050 2419 3304 2112 \nQ 3559 1806 3559 1356 \nQ 3559 666 3084 287 \nQ 2609 -91 1734 -91 \nQ 1441 -91 1130 -33 \nQ 819 25 488 141 \nL 488 750 \nQ 750 597 1062 519 \nQ 1375 441 1716 441 \nQ 2309 441 2620 675 \nQ 2931 909 2931 1356 \nQ 2931 1769 2642 2001 \nQ 2353 2234 1838 2234 \nL 1294 2234 \nL 1294 2753 \nL 1863 2753 \nQ 2328 2753 2575 2939 \nQ 2822 3125 2822 3475 \nQ 2822 3834 2567 4026 \nQ 2313 4219 1838 4219 \nQ 1578 4219 1281 4162 \nQ 984 4106 628 3988 \nL 628 4550 \nQ 988 4650 1302 4700 \nQ 1616 4750 1894 4750 \nQ 2613 4750 3031 4423 \nQ 3450 4097 3450 3541 \nQ 3450 3153 3228 2886 \nQ 3006 2619 2597 2516 \nz\n\" transform=\"scale(0.015625)\"/>\n       </defs>\n       <use xlink:href=\"#DejaVuSans-33\"/>\n       <use xlink:href=\"#DejaVuSans-30\" transform=\"translate(63.623047 0)\"/>\n       <use xlink:href=\"#DejaVuSans-30\" transform=\"translate(127.246094 0)\"/>\n      </g>\n     </g>\n    </g>\n    <g id=\"xtick_4\">\n     <g id=\"line2d_4\">\n      <g>\n       <use xlink:href=\"#mef68261684\" x=\"303.182076\" y=\"299.518125\" style=\"stroke: #000000; stroke-width: 0.8\"/>\n      </g>\n     </g>\n     <g id=\"text_4\">\n      <!-- 400 -->\n      <g transform=\"translate(293.638326 314.116563) scale(0.1 -0.1)\">\n       <defs>\n        <path id=\"DejaVuSans-34\" d=\"M 2419 4116 \nL 825 1625 \nL 2419 1625 \nL 2419 4116 \nz\nM 2253 4666 \nL 3047 4666 \nL 3047 1625 \nL 3713 1625 \nL 3713 1100 \nL 3047 1100 \nL 3047 0 \nL 2419 0 \nL 2419 1100 \nL 313 1100 \nL 313 1709 \nL 2253 4666 \nz\n\" transform=\"scale(0.015625)\"/>\n       </defs>\n       <use xlink:href=\"#DejaVuSans-34\"/>\n       <use xlink:href=\"#DejaVuSans-30\" transform=\"translate(63.623047 0)\"/>\n       <use xlink:href=\"#DejaVuSans-30\" transform=\"translate(127.246094 0)\"/>\n      </g>\n     </g>\n    </g>\n    <g id=\"xtick_5\">\n     <g id=\"line2d_5\">\n      <g>\n       <use xlink:href=\"#mef68261684\" x=\"372.35563\" y=\"299.518125\" style=\"stroke: #000000; stroke-width: 0.8\"/>\n      </g>\n     </g>\n     <g id=\"text_5\">\n      <!-- 500 -->\n      <g transform=\"translate(362.81188 314.116563) scale(0.1 -0.1)\">\n       <defs>\n        <path id=\"DejaVuSans-35\" d=\"M 691 4666 \nL 3169 4666 \nL 3169 4134 \nL 1269 4134 \nL 1269 2991 \nQ 1406 3038 1543 3061 \nQ 1681 3084 1819 3084 \nQ 2600 3084 3056 2656 \nQ 3513 2228 3513 1497 \nQ 3513 744 3044 326 \nQ 2575 -91 1722 -91 \nQ 1428 -91 1123 -41 \nQ 819 9 494 109 \nL 494 744 \nQ 775 591 1075 516 \nQ 1375 441 1709 441 \nQ 2250 441 2565 725 \nQ 2881 1009 2881 1497 \nQ 2881 1984 2565 2268 \nQ 2250 2553 1709 2553 \nQ 1456 2553 1204 2497 \nQ 953 2441 691 2322 \nL 691 4666 \nz\n\" transform=\"scale(0.015625)\"/>\n       </defs>\n       <use xlink:href=\"#DejaVuSans-35\"/>\n       <use xlink:href=\"#DejaVuSans-30\" transform=\"translate(63.623047 0)\"/>\n       <use xlink:href=\"#DejaVuSans-30\" transform=\"translate(127.246094 0)\"/>\n      </g>\n     </g>\n    </g>\n    <g id=\"text_6\">\n     <!-- Number of data points -->\n     <g transform=\"translate(177.717116 327.794688) scale(0.1 -0.1)\">\n      <defs>\n       <path id=\"DejaVuSans-4e\" d=\"M 628 4666 \nL 1478 4666 \nL 3547 763 \nL 3547 4666 \nL 4159 4666 \nL 4159 0 \nL 3309 0 \nL 1241 3903 \nL 1241 0 \nL 628 0 \nL 628 4666 \nz\n\" transform=\"scale(0.015625)\"/>\n       <path id=\"DejaVuSans-75\" d=\"M 544 1381 \nL 544 3500 \nL 1119 3500 \nL 1119 1403 \nQ 1119 906 1312 657 \nQ 1506 409 1894 409 \nQ 2359 409 2629 706 \nQ 2900 1003 2900 1516 \nL 2900 3500 \nL 3475 3500 \nL 3475 0 \nL 2900 0 \nL 2900 538 \nQ 2691 219 2414 64 \nQ 2138 -91 1772 -91 \nQ 1169 -91 856 284 \nQ 544 659 544 1381 \nz\nM 1991 3584 \nL 1991 3584 \nz\n\" transform=\"scale(0.015625)\"/>\n       <path id=\"DejaVuSans-6d\" d=\"M 3328 2828 \nQ 3544 3216 3844 3400 \nQ 4144 3584 4550 3584 \nQ 5097 3584 5394 3201 \nQ 5691 2819 5691 2113 \nL 5691 0 \nL 5113 0 \nL 5113 2094 \nQ 5113 2597 4934 2840 \nQ 4756 3084 4391 3084 \nQ 3944 3084 3684 2787 \nQ 3425 2491 3425 1978 \nL 3425 0 \nL 2847 0 \nL 2847 2094 \nQ 2847 2600 2669 2842 \nQ 2491 3084 2119 3084 \nQ 1678 3084 1418 2786 \nQ 1159 2488 1159 1978 \nL 1159 0 \nL 581 0 \nL 581 3500 \nL 1159 3500 \nL 1159 2956 \nQ 1356 3278 1631 3431 \nQ 1906 3584 2284 3584 \nQ 2666 3584 2933 3390 \nQ 3200 3197 3328 2828 \nz\n\" transform=\"scale(0.015625)\"/>\n       <path id=\"DejaVuSans-62\" d=\"M 3116 1747 \nQ 3116 2381 2855 2742 \nQ 2594 3103 2138 3103 \nQ 1681 3103 1420 2742 \nQ 1159 2381 1159 1747 \nQ 1159 1113 1420 752 \nQ 1681 391 2138 391 \nQ 2594 391 2855 752 \nQ 3116 1113 3116 1747 \nz\nM 1159 2969 \nQ 1341 3281 1617 3432 \nQ 1894 3584 2278 3584 \nQ 2916 3584 3314 3078 \nQ 3713 2572 3713 1747 \nQ 3713 922 3314 415 \nQ 2916 -91 2278 -91 \nQ 1894 -91 1617 61 \nQ 1341 213 1159 525 \nL 1159 0 \nL 581 0 \nL 581 4863 \nL 1159 4863 \nL 1159 2969 \nz\n\" transform=\"scale(0.015625)\"/>\n       <path id=\"DejaVuSans-65\" d=\"M 3597 1894 \nL 3597 1613 \nL 953 1613 \nQ 991 1019 1311 708 \nQ 1631 397 2203 397 \nQ 2534 397 2845 478 \nQ 3156 559 3463 722 \nL 3463 178 \nQ 3153 47 2828 -22 \nQ 2503 -91 2169 -91 \nQ 1331 -91 842 396 \nQ 353 884 353 1716 \nQ 353 2575 817 3079 \nQ 1281 3584 2069 3584 \nQ 2775 3584 3186 3129 \nQ 3597 2675 3597 1894 \nz\nM 3022 2063 \nQ 3016 2534 2758 2815 \nQ 2500 3097 2075 3097 \nQ 1594 3097 1305 2825 \nQ 1016 2553 972 2059 \nL 3022 2063 \nz\n\" transform=\"scale(0.015625)\"/>\n       <path id=\"DejaVuSans-72\" d=\"M 2631 2963 \nQ 2534 3019 2420 3045 \nQ 2306 3072 2169 3072 \nQ 1681 3072 1420 2755 \nQ 1159 2438 1159 1844 \nL 1159 0 \nL 581 0 \nL 581 3500 \nL 1159 3500 \nL 1159 2956 \nQ 1341 3275 1631 3429 \nQ 1922 3584 2338 3584 \nQ 2397 3584 2469 3576 \nQ 2541 3569 2628 3553 \nL 2631 2963 \nz\n\" transform=\"scale(0.015625)\"/>\n       <path id=\"DejaVuSans-20\" transform=\"scale(0.015625)\"/>\n       <path id=\"DejaVuSans-6f\" d=\"M 1959 3097 \nQ 1497 3097 1228 2736 \nQ 959 2375 959 1747 \nQ 959 1119 1226 758 \nQ 1494 397 1959 397 \nQ 2419 397 2687 759 \nQ 2956 1122 2956 1747 \nQ 2956 2369 2687 2733 \nQ 2419 3097 1959 3097 \nz\nM 1959 3584 \nQ 2709 3584 3137 3096 \nQ 3566 2609 3566 1747 \nQ 3566 888 3137 398 \nQ 2709 -91 1959 -91 \nQ 1206 -91 779 398 \nQ 353 888 353 1747 \nQ 353 2609 779 3096 \nQ 1206 3584 1959 3584 \nz\n\" transform=\"scale(0.015625)\"/>\n       <path id=\"DejaVuSans-66\" d=\"M 2375 4863 \nL 2375 4384 \nL 1825 4384 \nQ 1516 4384 1395 4259 \nQ 1275 4134 1275 3809 \nL 1275 3500 \nL 2222 3500 \nL 2222 3053 \nL 1275 3053 \nL 1275 0 \nL 697 0 \nL 697 3053 \nL 147 3053 \nL 147 3500 \nL 697 3500 \nL 697 3744 \nQ 697 4328 969 4595 \nQ 1241 4863 1831 4863 \nL 2375 4863 \nz\n\" transform=\"scale(0.015625)\"/>\n       <path id=\"DejaVuSans-64\" d=\"M 2906 2969 \nL 2906 4863 \nL 3481 4863 \nL 3481 0 \nL 2906 0 \nL 2906 525 \nQ 2725 213 2448 61 \nQ 2172 -91 1784 -91 \nQ 1150 -91 751 415 \nQ 353 922 353 1747 \nQ 353 2572 751 3078 \nQ 1150 3584 1784 3584 \nQ 2172 3584 2448 3432 \nQ 2725 3281 2906 2969 \nz\nM 947 1747 \nQ 947 1113 1208 752 \nQ 1469 391 1925 391 \nQ 2381 391 2643 752 \nQ 2906 1113 2906 1747 \nQ 2906 2381 2643 2742 \nQ 2381 3103 1925 3103 \nQ 1469 3103 1208 2742 \nQ 947 2381 947 1747 \nz\n\" transform=\"scale(0.015625)\"/>\n       <path id=\"DejaVuSans-61\" d=\"M 2194 1759 \nQ 1497 1759 1228 1600 \nQ 959 1441 959 1056 \nQ 959 750 1161 570 \nQ 1363 391 1709 391 \nQ 2188 391 2477 730 \nQ 2766 1069 2766 1631 \nL 2766 1759 \nL 2194 1759 \nz\nM 3341 1997 \nL 3341 0 \nL 2766 0 \nL 2766 531 \nQ 2569 213 2275 61 \nQ 1981 -91 1556 -91 \nQ 1019 -91 701 211 \nQ 384 513 384 1019 \nQ 384 1609 779 1909 \nQ 1175 2209 1959 2209 \nL 2766 2209 \nL 2766 2266 \nQ 2766 2663 2505 2880 \nQ 2244 3097 1772 3097 \nQ 1472 3097 1187 3025 \nQ 903 2953 641 2809 \nL 641 3341 \nQ 956 3463 1253 3523 \nQ 1550 3584 1831 3584 \nQ 2591 3584 2966 3190 \nQ 3341 2797 3341 1997 \nz\n\" transform=\"scale(0.015625)\"/>\n       <path id=\"DejaVuSans-74\" d=\"M 1172 4494 \nL 1172 3500 \nL 2356 3500 \nL 2356 3053 \nL 1172 3053 \nL 1172 1153 \nQ 1172 725 1289 603 \nQ 1406 481 1766 481 \nL 2356 481 \nL 2356 0 \nL 1766 0 \nQ 1100 0 847 248 \nQ 594 497 594 1153 \nL 594 3053 \nL 172 3053 \nL 172 3500 \nL 594 3500 \nL 594 4494 \nL 1172 4494 \nz\n\" transform=\"scale(0.015625)\"/>\n       <path id=\"DejaVuSans-70\" d=\"M 1159 525 \nL 1159 -1331 \nL 581 -1331 \nL 581 3500 \nL 1159 3500 \nL 1159 2969 \nQ 1341 3281 1617 3432 \nQ 1894 3584 2278 3584 \nQ 2916 3584 3314 3078 \nQ 3713 2572 3713 1747 \nQ 3713 922 3314 415 \nQ 2916 -91 2278 -91 \nQ 1894 -91 1617 61 \nQ 1341 213 1159 525 \nz\nM 3116 1747 \nQ 3116 2381 2855 2742 \nQ 2594 3103 2138 3103 \nQ 1681 3103 1420 2742 \nQ 1159 2381 1159 1747 \nQ 1159 1113 1420 752 \nQ 1681 391 2138 391 \nQ 2594 391 2855 752 \nQ 3116 1113 3116 1747 \nz\n\" transform=\"scale(0.015625)\"/>\n       <path id=\"DejaVuSans-69\" d=\"M 603 3500 \nL 1178 3500 \nL 1178 0 \nL 603 0 \nL 603 3500 \nz\nM 603 4863 \nL 1178 4863 \nL 1178 4134 \nL 603 4134 \nL 603 4863 \nz\n\" transform=\"scale(0.015625)\"/>\n       <path id=\"DejaVuSans-6e\" d=\"M 3513 2113 \nL 3513 0 \nL 2938 0 \nL 2938 2094 \nQ 2938 2591 2744 2837 \nQ 2550 3084 2163 3084 \nQ 1697 3084 1428 2787 \nQ 1159 2491 1159 1978 \nL 1159 0 \nL 581 0 \nL 581 3500 \nL 1159 3500 \nL 1159 2956 \nQ 1366 3272 1645 3428 \nQ 1925 3584 2291 3584 \nQ 2894 3584 3203 3211 \nQ 3513 2838 3513 2113 \nz\n\" transform=\"scale(0.015625)\"/>\n       <path id=\"DejaVuSans-73\" d=\"M 2834 3397 \nL 2834 2853 \nQ 2591 2978 2328 3040 \nQ 2066 3103 1784 3103 \nQ 1356 3103 1142 2972 \nQ 928 2841 928 2578 \nQ 928 2378 1081 2264 \nQ 1234 2150 1697 2047 \nL 1894 2003 \nQ 2506 1872 2764 1633 \nQ 3022 1394 3022 966 \nQ 3022 478 2636 193 \nQ 2250 -91 1575 -91 \nQ 1294 -91 989 -36 \nQ 684 19 347 128 \nL 347 722 \nQ 666 556 975 473 \nQ 1284 391 1588 391 \nQ 1994 391 2212 530 \nQ 2431 669 2431 922 \nQ 2431 1156 2273 1281 \nQ 2116 1406 1581 1522 \nL 1381 1569 \nQ 847 1681 609 1914 \nQ 372 2147 372 2553 \nQ 372 3047 722 3315 \nQ 1072 3584 1716 3584 \nQ 2034 3584 2315 3537 \nQ 2597 3491 2834 3397 \nz\n\" transform=\"scale(0.015625)\"/>\n      </defs>\n      <use xlink:href=\"#DejaVuSans-4e\"/>\n      <use xlink:href=\"#DejaVuSans-75\" transform=\"translate(74.804688 0)\"/>\n      <use xlink:href=\"#DejaVuSans-6d\" transform=\"translate(138.183594 0)\"/>\n      <use xlink:href=\"#DejaVuSans-62\" transform=\"translate(235.595703 0)\"/>\n      <use xlink:href=\"#DejaVuSans-65\" transform=\"translate(299.072266 0)\"/>\n      <use xlink:href=\"#DejaVuSans-72\" transform=\"translate(360.595703 0)\"/>\n      <use xlink:href=\"#DejaVuSans-20\" transform=\"translate(401.708984 0)\"/>\n      <use xlink:href=\"#DejaVuSans-6f\" transform=\"translate(433.496094 0)\"/>\n      <use xlink:href=\"#DejaVuSans-66\" transform=\"translate(494.677734 0)\"/>\n      <use xlink:href=\"#DejaVuSans-20\" transform=\"translate(529.882812 0)\"/>\n      <use xlink:href=\"#DejaVuSans-64\" transform=\"translate(561.669922 0)\"/>\n      <use xlink:href=\"#DejaVuSans-61\" transform=\"translate(625.146484 0)\"/>\n      <use xlink:href=\"#DejaVuSans-74\" transform=\"translate(686.425781 0)\"/>\n      <use xlink:href=\"#DejaVuSans-61\" transform=\"translate(725.634766 0)\"/>\n      <use xlink:href=\"#DejaVuSans-20\" transform=\"translate(786.914062 0)\"/>\n      <use xlink:href=\"#DejaVuSans-70\" transform=\"translate(818.701172 0)\"/>\n      <use xlink:href=\"#DejaVuSans-6f\" transform=\"translate(882.177734 0)\"/>\n      <use xlink:href=\"#DejaVuSans-69\" transform=\"translate(943.359375 0)\"/>\n      <use xlink:href=\"#DejaVuSans-6e\" transform=\"translate(971.142578 0)\"/>\n      <use xlink:href=\"#DejaVuSans-74\" transform=\"translate(1034.521484 0)\"/>\n      <use xlink:href=\"#DejaVuSans-73\" transform=\"translate(1073.730469 0)\"/>\n     </g>\n    </g>\n   </g>\n   <g id=\"matplotlib.axis_2\">\n    <g id=\"ytick_1\">\n     <g id=\"line2d_6\">\n      <defs>\n       <path id=\"m3270e3cc8c\" d=\"M 0 0 \nL -3.5 0 \n\" style=\"stroke: #000000; stroke-width: 0.8\"/>\n      </defs>\n      <g>\n       <use xlink:href=\"#m3270e3cc8c\" x=\"43.78125\" y=\"267.022718\" style=\"stroke: #000000; stroke-width: 0.8\"/>\n      </g>\n     </g>\n     <g id=\"text_7\">\n      <!-- 0.2 -->\n      <g transform=\"translate(20.878125 270.821937) scale(0.1 -0.1)\">\n       <defs>\n        <path id=\"DejaVuSans-2e\" d=\"M 684 794 \nL 1344 794 \nL 1344 0 \nL 684 0 \nL 684 794 \nz\n\" transform=\"scale(0.015625)\"/>\n       </defs>\n       <use xlink:href=\"#DejaVuSans-30\"/>\n       <use xlink:href=\"#DejaVuSans-2e\" transform=\"translate(63.623047 0)\"/>\n       <use xlink:href=\"#DejaVuSans-32\" transform=\"translate(95.410156 0)\"/>\n      </g>\n     </g>\n    </g>\n    <g id=\"ytick_2\">\n     <g id=\"line2d_7\">\n      <g>\n       <use xlink:href=\"#m3270e3cc8c\" x=\"43.78125\" y=\"215.407386\" style=\"stroke: #000000; stroke-width: 0.8\"/>\n      </g>\n     </g>\n     <g id=\"text_8\">\n      <!-- 0.4 -->\n      <g transform=\"translate(20.878125 219.206605) scale(0.1 -0.1)\">\n       <use xlink:href=\"#DejaVuSans-30\"/>\n       <use xlink:href=\"#DejaVuSans-2e\" transform=\"translate(63.623047 0)\"/>\n       <use xlink:href=\"#DejaVuSans-34\" transform=\"translate(95.410156 0)\"/>\n      </g>\n     </g>\n    </g>\n    <g id=\"ytick_3\">\n     <g id=\"line2d_8\">\n      <g>\n       <use xlink:href=\"#m3270e3cc8c\" x=\"43.78125\" y=\"163.792053\" style=\"stroke: #000000; stroke-width: 0.8\"/>\n      </g>\n     </g>\n     <g id=\"text_9\">\n      <!-- 0.6 -->\n      <g transform=\"translate(20.878125 167.591272) scale(0.1 -0.1)\">\n       <defs>\n        <path id=\"DejaVuSans-36\" d=\"M 2113 2584 \nQ 1688 2584 1439 2293 \nQ 1191 2003 1191 1497 \nQ 1191 994 1439 701 \nQ 1688 409 2113 409 \nQ 2538 409 2786 701 \nQ 3034 994 3034 1497 \nQ 3034 2003 2786 2293 \nQ 2538 2584 2113 2584 \nz\nM 3366 4563 \nL 3366 3988 \nQ 3128 4100 2886 4159 \nQ 2644 4219 2406 4219 \nQ 1781 4219 1451 3797 \nQ 1122 3375 1075 2522 \nQ 1259 2794 1537 2939 \nQ 1816 3084 2150 3084 \nQ 2853 3084 3261 2657 \nQ 3669 2231 3669 1497 \nQ 3669 778 3244 343 \nQ 2819 -91 2113 -91 \nQ 1303 -91 875 529 \nQ 447 1150 447 2328 \nQ 447 3434 972 4092 \nQ 1497 4750 2381 4750 \nQ 2619 4750 2861 4703 \nQ 3103 4656 3366 4563 \nz\n\" transform=\"scale(0.015625)\"/>\n       </defs>\n       <use xlink:href=\"#DejaVuSans-30\"/>\n       <use xlink:href=\"#DejaVuSans-2e\" transform=\"translate(63.623047 0)\"/>\n       <use xlink:href=\"#DejaVuSans-36\" transform=\"translate(95.410156 0)\"/>\n      </g>\n     </g>\n    </g>\n    <g id=\"ytick_4\">\n     <g id=\"line2d_9\">\n      <g>\n       <use xlink:href=\"#m3270e3cc8c\" x=\"43.78125\" y=\"112.176721\" style=\"stroke: #000000; stroke-width: 0.8\"/>\n      </g>\n     </g>\n     <g id=\"text_10\">\n      <!-- 0.8 -->\n      <g transform=\"translate(20.878125 115.97594) scale(0.1 -0.1)\">\n       <defs>\n        <path id=\"DejaVuSans-38\" d=\"M 2034 2216 \nQ 1584 2216 1326 1975 \nQ 1069 1734 1069 1313 \nQ 1069 891 1326 650 \nQ 1584 409 2034 409 \nQ 2484 409 2743 651 \nQ 3003 894 3003 1313 \nQ 3003 1734 2745 1975 \nQ 2488 2216 2034 2216 \nz\nM 1403 2484 \nQ 997 2584 770 2862 \nQ 544 3141 544 3541 \nQ 544 4100 942 4425 \nQ 1341 4750 2034 4750 \nQ 2731 4750 3128 4425 \nQ 3525 4100 3525 3541 \nQ 3525 3141 3298 2862 \nQ 3072 2584 2669 2484 \nQ 3125 2378 3379 2068 \nQ 3634 1759 3634 1313 \nQ 3634 634 3220 271 \nQ 2806 -91 2034 -91 \nQ 1263 -91 848 271 \nQ 434 634 434 1313 \nQ 434 1759 690 2068 \nQ 947 2378 1403 2484 \nz\nM 1172 3481 \nQ 1172 3119 1398 2916 \nQ 1625 2713 2034 2713 \nQ 2441 2713 2670 2916 \nQ 2900 3119 2900 3481 \nQ 2900 3844 2670 4047 \nQ 2441 4250 2034 4250 \nQ 1625 4250 1398 4047 \nQ 1172 3844 1172 3481 \nz\n\" transform=\"scale(0.015625)\"/>\n       </defs>\n       <use xlink:href=\"#DejaVuSans-30\"/>\n       <use xlink:href=\"#DejaVuSans-2e\" transform=\"translate(63.623047 0)\"/>\n       <use xlink:href=\"#DejaVuSans-38\" transform=\"translate(95.410156 0)\"/>\n      </g>\n     </g>\n    </g>\n    <g id=\"ytick_5\">\n     <g id=\"line2d_10\">\n      <g>\n       <use xlink:href=\"#m3270e3cc8c\" x=\"43.78125\" y=\"60.561388\" style=\"stroke: #000000; stroke-width: 0.8\"/>\n      </g>\n     </g>\n     <g id=\"text_11\">\n      <!-- 1.0 -->\n      <g transform=\"translate(20.878125 64.360607) scale(0.1 -0.1)\">\n       <use xlink:href=\"#DejaVuSans-31\"/>\n       <use xlink:href=\"#DejaVuSans-2e\" transform=\"translate(63.623047 0)\"/>\n       <use xlink:href=\"#DejaVuSans-30\" transform=\"translate(95.410156 0)\"/>\n      </g>\n     </g>\n    </g>\n    <g id=\"text_12\">\n     <!-- Loss -->\n     <g transform=\"translate(14.798438 171.885313) rotate(-90) scale(0.1 -0.1)\">\n      <defs>\n       <path id=\"DejaVuSans-4c\" d=\"M 628 4666 \nL 1259 4666 \nL 1259 531 \nL 3531 531 \nL 3531 0 \nL 628 0 \nL 628 4666 \nz\n\" transform=\"scale(0.015625)\"/>\n      </defs>\n      <use xlink:href=\"#DejaVuSans-4c\"/>\n      <use xlink:href=\"#DejaVuSans-6f\" transform=\"translate(53.962891 0)\"/>\n      <use xlink:href=\"#DejaVuSans-73\" transform=\"translate(115.144531 0)\"/>\n      <use xlink:href=\"#DejaVuSans-73\" transform=\"translate(167.244141 0)\"/>\n     </g>\n    </g>\n   </g>\n   <g id=\"line2d_11\">\n    <path d=\"M 61.074638 283.996804 \nL 95.661415 264.487136 \nL 130.248192 273.333443 \nL 164.834969 279.234457 \nL 199.421746 283.657622 \nL 234.008523 284.173942 \nL 268.5953 275.870121 \nL 303.182076 286.918125 \nL 337.768853 277.379881 \nL 372.35563 279.865731 \nL 406.942407 280.50608 \n\" clip-path=\"url(#p2c0f91e3bf)\" style=\"fill: none; stroke: #1f77b4; stroke-width: 1.5; stroke-linecap: square\"/>\n    <defs>\n     <path id=\"mcb2923d137\" d=\"M -3 3 \nL 3 3 \nL 3 -3 \nL -3 -3 \nz\n\" style=\"stroke: #1f77b4; stroke-linejoin: miter\"/>\n    </defs>\n    <g clip-path=\"url(#p2c0f91e3bf)\">\n     <use xlink:href=\"#mcb2923d137\" x=\"61.074638\" y=\"283.996804\" style=\"fill: #1f77b4; stroke: #1f77b4; stroke-linejoin: miter\"/>\n     <use xlink:href=\"#mcb2923d137\" x=\"95.661415\" y=\"264.487136\" style=\"fill: #1f77b4; stroke: #1f77b4; stroke-linejoin: miter\"/>\n     <use xlink:href=\"#mcb2923d137\" x=\"130.248192\" y=\"273.333443\" style=\"fill: #1f77b4; stroke: #1f77b4; stroke-linejoin: miter\"/>\n     <use xlink:href=\"#mcb2923d137\" x=\"164.834969\" y=\"279.234457\" style=\"fill: #1f77b4; stroke: #1f77b4; stroke-linejoin: miter\"/>\n     <use xlink:href=\"#mcb2923d137\" x=\"199.421746\" y=\"283.657622\" style=\"fill: #1f77b4; stroke: #1f77b4; stroke-linejoin: miter\"/>\n     <use xlink:href=\"#mcb2923d137\" x=\"234.008523\" y=\"284.173942\" style=\"fill: #1f77b4; stroke: #1f77b4; stroke-linejoin: miter\"/>\n     <use xlink:href=\"#mcb2923d137\" x=\"268.5953\" y=\"275.870121\" style=\"fill: #1f77b4; stroke: #1f77b4; stroke-linejoin: miter\"/>\n     <use xlink:href=\"#mcb2923d137\" x=\"303.182076\" y=\"286.918125\" style=\"fill: #1f77b4; stroke: #1f77b4; stroke-linejoin: miter\"/>\n     <use xlink:href=\"#mcb2923d137\" x=\"337.768853\" y=\"277.379881\" style=\"fill: #1f77b4; stroke: #1f77b4; stroke-linejoin: miter\"/>\n     <use xlink:href=\"#mcb2923d137\" x=\"372.35563\" y=\"279.865731\" style=\"fill: #1f77b4; stroke: #1f77b4; stroke-linejoin: miter\"/>\n     <use xlink:href=\"#mcb2923d137\" x=\"406.942407\" y=\"280.50608\" style=\"fill: #1f77b4; stroke: #1f77b4; stroke-linejoin: miter\"/>\n    </g>\n   </g>\n   <g id=\"line2d_12\">\n    <path d=\"M 61.074638 189.13995 \nL 95.661415 256.869542 \nL 130.248192 271.415902 \nL 164.834969 265.481146 \nL 199.421746 282.466427 \nL 234.008523 283.704032 \nL 268.5953 275.180985 \nL 303.182076 286.395152 \nL 337.768853 275.582828 \nL 372.35563 279.023839 \nL 406.942407 279.555565 \n\" clip-path=\"url(#p2c0f91e3bf)\" style=\"fill: none; stroke: #ff7f0e; stroke-width: 1.5; stroke-linecap: square\"/>\n    <defs>\n     <path id=\"m36aad29b91\" d=\"M -3 3 \nL 3 3 \nL 3 -3 \nL -3 -3 \nz\n\" style=\"stroke: #ff7f0e; stroke-linejoin: miter\"/>\n    </defs>\n    <g clip-path=\"url(#p2c0f91e3bf)\">\n     <use xlink:href=\"#m36aad29b91\" x=\"61.074638\" y=\"189.13995\" style=\"fill: #ff7f0e; stroke: #ff7f0e; stroke-linejoin: miter\"/>\n     <use xlink:href=\"#m36aad29b91\" x=\"95.661415\" y=\"256.869542\" style=\"fill: #ff7f0e; stroke: #ff7f0e; stroke-linejoin: miter\"/>\n     <use xlink:href=\"#m36aad29b91\" x=\"130.248192\" y=\"271.415902\" style=\"fill: #ff7f0e; stroke: #ff7f0e; stroke-linejoin: miter\"/>\n     <use xlink:href=\"#m36aad29b91\" x=\"164.834969\" y=\"265.481146\" style=\"fill: #ff7f0e; stroke: #ff7f0e; stroke-linejoin: miter\"/>\n     <use xlink:href=\"#m36aad29b91\" x=\"199.421746\" y=\"282.466427\" style=\"fill: #ff7f0e; stroke: #ff7f0e; stroke-linejoin: miter\"/>\n     <use xlink:href=\"#m36aad29b91\" x=\"234.008523\" y=\"283.704032\" style=\"fill: #ff7f0e; stroke: #ff7f0e; stroke-linejoin: miter\"/>\n     <use xlink:href=\"#m36aad29b91\" x=\"268.5953\" y=\"275.180985\" style=\"fill: #ff7f0e; stroke: #ff7f0e; stroke-linejoin: miter\"/>\n     <use xlink:href=\"#m36aad29b91\" x=\"303.182076\" y=\"286.395152\" style=\"fill: #ff7f0e; stroke: #ff7f0e; stroke-linejoin: miter\"/>\n     <use xlink:href=\"#m36aad29b91\" x=\"337.768853\" y=\"275.582828\" style=\"fill: #ff7f0e; stroke: #ff7f0e; stroke-linejoin: miter\"/>\n     <use xlink:href=\"#m36aad29b91\" x=\"372.35563\" y=\"279.023839\" style=\"fill: #ff7f0e; stroke: #ff7f0e; stroke-linejoin: miter\"/>\n     <use xlink:href=\"#m36aad29b91\" x=\"406.942407\" y=\"279.555565\" style=\"fill: #ff7f0e; stroke: #ff7f0e; stroke-linejoin: miter\"/>\n    </g>\n   </g>\n   <g id=\"line2d_13\">\n    <path d=\"M 61.074638 35.20058 \nL 95.661415 35.03894 \nL 130.248192 34.962734 \nL 164.834969 35.017312 \nL 199.421746 35.019373 \nL 234.008523 35.009159 \nL 268.5953 35.01605 \nL 303.182076 34.967103 \nL 337.768853 35.014574 \nL 372.35563 35.018696 \nL 406.942407 226.032855 \n\" clip-path=\"url(#p2c0f91e3bf)\" style=\"fill: none; stroke: #2ca02c; stroke-width: 1.5; stroke-linecap: square\"/>\n    <defs>\n     <path id=\"m040b818a06\" d=\"M -3 3 \nL 3 3 \nL 3 -3 \nL -3 -3 \nz\n\" style=\"stroke: #2ca02c; stroke-linejoin: miter\"/>\n    </defs>\n    <g clip-path=\"url(#p2c0f91e3bf)\">\n     <use xlink:href=\"#m040b818a06\" x=\"61.074638\" y=\"35.20058\" style=\"fill: #2ca02c; stroke: #2ca02c; stroke-linejoin: miter\"/>\n     <use xlink:href=\"#m040b818a06\" x=\"95.661415\" y=\"35.03894\" style=\"fill: #2ca02c; stroke: #2ca02c; stroke-linejoin: miter\"/>\n     <use xlink:href=\"#m040b818a06\" x=\"130.248192\" y=\"34.962734\" style=\"fill: #2ca02c; stroke: #2ca02c; stroke-linejoin: miter\"/>\n     <use xlink:href=\"#m040b818a06\" x=\"164.834969\" y=\"35.017312\" style=\"fill: #2ca02c; stroke: #2ca02c; stroke-linejoin: miter\"/>\n     <use xlink:href=\"#m040b818a06\" x=\"199.421746\" y=\"35.019373\" style=\"fill: #2ca02c; stroke: #2ca02c; stroke-linejoin: miter\"/>\n     <use xlink:href=\"#m040b818a06\" x=\"234.008523\" y=\"35.009159\" style=\"fill: #2ca02c; stroke: #2ca02c; stroke-linejoin: miter\"/>\n     <use xlink:href=\"#m040b818a06\" x=\"268.5953\" y=\"35.01605\" style=\"fill: #2ca02c; stroke: #2ca02c; stroke-linejoin: miter\"/>\n     <use xlink:href=\"#m040b818a06\" x=\"303.182076\" y=\"34.967103\" style=\"fill: #2ca02c; stroke: #2ca02c; stroke-linejoin: miter\"/>\n     <use xlink:href=\"#m040b818a06\" x=\"337.768853\" y=\"35.014574\" style=\"fill: #2ca02c; stroke: #2ca02c; stroke-linejoin: miter\"/>\n     <use xlink:href=\"#m040b818a06\" x=\"372.35563\" y=\"35.018696\" style=\"fill: #2ca02c; stroke: #2ca02c; stroke-linejoin: miter\"/>\n     <use xlink:href=\"#m040b818a06\" x=\"406.942407\" y=\"226.032855\" style=\"fill: #2ca02c; stroke: #2ca02c; stroke-linejoin: miter\"/>\n    </g>\n   </g>\n   <g id=\"line2d_14\">\n    <path d=\"M 61.074638 35.359912 \nL 95.661415 35.037217 \nL 130.248192 35.005006 \nL 164.834969 35.070351 \nL 199.421746 35.042447 \nL 234.008523 35.023188 \nL 268.5953 35.018173 \nL 303.182076 34.958089 \nL 337.768853 34.918125 \nL 372.35563 35.00759 \nL 406.942407 35.030325 \n\" clip-path=\"url(#p2c0f91e3bf)\" style=\"fill: none; stroke: #d62728; stroke-width: 1.5; stroke-linecap: square\"/>\n    <defs>\n     <path id=\"me338b0b874\" d=\"M -3 3 \nL 3 3 \nL 3 -3 \nL -3 -3 \nz\n\" style=\"stroke: #d62728; stroke-linejoin: miter\"/>\n    </defs>\n    <g clip-path=\"url(#p2c0f91e3bf)\">\n     <use xlink:href=\"#me338b0b874\" x=\"61.074638\" y=\"35.359912\" style=\"fill: #d62728; stroke: #d62728; stroke-linejoin: miter\"/>\n     <use xlink:href=\"#me338b0b874\" x=\"95.661415\" y=\"35.037217\" style=\"fill: #d62728; stroke: #d62728; stroke-linejoin: miter\"/>\n     <use xlink:href=\"#me338b0b874\" x=\"130.248192\" y=\"35.005006\" style=\"fill: #d62728; stroke: #d62728; stroke-linejoin: miter\"/>\n     <use xlink:href=\"#me338b0b874\" x=\"164.834969\" y=\"35.070351\" style=\"fill: #d62728; stroke: #d62728; stroke-linejoin: miter\"/>\n     <use xlink:href=\"#me338b0b874\" x=\"199.421746\" y=\"35.042447\" style=\"fill: #d62728; stroke: #d62728; stroke-linejoin: miter\"/>\n     <use xlink:href=\"#me338b0b874\" x=\"234.008523\" y=\"35.023188\" style=\"fill: #d62728; stroke: #d62728; stroke-linejoin: miter\"/>\n     <use xlink:href=\"#me338b0b874\" x=\"268.5953\" y=\"35.018173\" style=\"fill: #d62728; stroke: #d62728; stroke-linejoin: miter\"/>\n     <use xlink:href=\"#me338b0b874\" x=\"303.182076\" y=\"34.958089\" style=\"fill: #d62728; stroke: #d62728; stroke-linejoin: miter\"/>\n     <use xlink:href=\"#me338b0b874\" x=\"337.768853\" y=\"34.918125\" style=\"fill: #d62728; stroke: #d62728; stroke-linejoin: miter\"/>\n     <use xlink:href=\"#me338b0b874\" x=\"372.35563\" y=\"35.00759\" style=\"fill: #d62728; stroke: #d62728; stroke-linejoin: miter\"/>\n     <use xlink:href=\"#me338b0b874\" x=\"406.942407\" y=\"35.030325\" style=\"fill: #d62728; stroke: #d62728; stroke-linejoin: miter\"/>\n    </g>\n   </g>\n   <g id=\"patch_3\">\n    <path d=\"M 43.78125 299.518125 \nL 43.78125 22.318125 \n\" style=\"fill: none; stroke: #000000; stroke-width: 0.8; stroke-linejoin: miter; stroke-linecap: square\"/>\n   </g>\n   <g id=\"patch_4\">\n    <path d=\"M 424.235795 299.518125 \nL 424.235795 22.318125 \n\" style=\"fill: none; stroke: #000000; stroke-width: 0.8; stroke-linejoin: miter; stroke-linecap: square\"/>\n   </g>\n   <g id=\"patch_5\">\n    <path d=\"M 43.78125 299.518125 \nL 424.235795 299.518125 \n\" style=\"fill: none; stroke: #000000; stroke-width: 0.8; stroke-linejoin: miter; stroke-linecap: square\"/>\n   </g>\n   <g id=\"patch_6\">\n    <path d=\"M 43.78125 22.318125 \nL 424.235795 22.318125 \n\" style=\"fill: none; stroke: #000000; stroke-width: 0.8; stroke-linejoin: miter; stroke-linecap: square\"/>\n   </g>\n   <g id=\"text_13\">\n    <!-- Losses -->\n    <g transform=\"translate(214.030398 16.318125) scale(0.12 -0.12)\">\n     <use xlink:href=\"#DejaVuSans-4c\"/>\n     <use xlink:href=\"#DejaVuSans-6f\" transform=\"translate(53.962891 0)\"/>\n     <use xlink:href=\"#DejaVuSans-73\" transform=\"translate(115.144531 0)\"/>\n     <use xlink:href=\"#DejaVuSans-73\" transform=\"translate(167.244141 0)\"/>\n     <use xlink:href=\"#DejaVuSans-65\" transform=\"translate(219.34375 0)\"/>\n     <use xlink:href=\"#DejaVuSans-73\" transform=\"translate(280.867188 0)\"/>\n    </g>\n   </g>\n   <g id=\"legend_1\">\n    <g id=\"patch_7\">\n     <path d=\"M 138.342898 191.774375 \nL 329.674148 191.774375 \nQ 331.674148 191.774375 331.674148 189.774375 \nL 331.674148 132.061875 \nQ 331.674148 130.061875 329.674148 130.061875 \nL 138.342898 130.061875 \nQ 136.342898 130.061875 136.342898 132.061875 \nL 136.342898 189.774375 \nQ 136.342898 191.774375 138.342898 191.774375 \nz\n\" style=\"fill: #ffffff; opacity: 0.8; stroke: #cccccc; stroke-linejoin: miter\"/>\n    </g>\n    <g id=\"line2d_15\">\n     <path d=\"M 140.342898 138.160313 \nL 150.342898 138.160313 \nL 160.342898 138.160313 \n\" style=\"fill: none; stroke: #1f77b4; stroke-width: 1.5; stroke-linecap: square\"/>\n     <g>\n      <use xlink:href=\"#mcb2923d137\" x=\"150.342898\" y=\"138.160313\" style=\"fill: #1f77b4; stroke: #1f77b4; stroke-linejoin: miter\"/>\n     </g>\n    </g>\n    <g id=\"text_14\">\n     <!-- 1 layers, 80 units, 483 params -->\n     <g transform=\"translate(168.342898 141.660313) scale(0.1 -0.1)\">\n      <defs>\n       <path id=\"DejaVuSans-6c\" d=\"M 603 4863 \nL 1178 4863 \nL 1178 0 \nL 603 0 \nL 603 4863 \nz\n\" transform=\"scale(0.015625)\"/>\n       <path id=\"DejaVuSans-79\" d=\"M 2059 -325 \nQ 1816 -950 1584 -1140 \nQ 1353 -1331 966 -1331 \nL 506 -1331 \nL 506 -850 \nL 844 -850 \nQ 1081 -850 1212 -737 \nQ 1344 -625 1503 -206 \nL 1606 56 \nL 191 3500 \nL 800 3500 \nL 1894 763 \nL 2988 3500 \nL 3597 3500 \nL 2059 -325 \nz\n\" transform=\"scale(0.015625)\"/>\n       <path id=\"DejaVuSans-2c\" d=\"M 750 794 \nL 1409 794 \nL 1409 256 \nL 897 -744 \nL 494 -744 \nL 750 256 \nL 750 794 \nz\n\" transform=\"scale(0.015625)\"/>\n      </defs>\n      <use xlink:href=\"#DejaVuSans-31\"/>\n      <use xlink:href=\"#DejaVuSans-20\" transform=\"translate(63.623047 0)\"/>\n      <use xlink:href=\"#DejaVuSans-6c\" transform=\"translate(95.410156 0)\"/>\n      <use xlink:href=\"#DejaVuSans-61\" transform=\"translate(123.193359 0)\"/>\n      <use xlink:href=\"#DejaVuSans-79\" transform=\"translate(184.472656 0)\"/>\n      <use xlink:href=\"#DejaVuSans-65\" transform=\"translate(243.652344 0)\"/>\n      <use xlink:href=\"#DejaVuSans-72\" transform=\"translate(305.175781 0)\"/>\n      <use xlink:href=\"#DejaVuSans-73\" transform=\"translate(346.289062 0)\"/>\n      <use xlink:href=\"#DejaVuSans-2c\" transform=\"translate(398.388672 0)\"/>\n      <use xlink:href=\"#DejaVuSans-20\" transform=\"translate(430.175781 0)\"/>\n      <use xlink:href=\"#DejaVuSans-38\" transform=\"translate(461.962891 0)\"/>\n      <use xlink:href=\"#DejaVuSans-30\" transform=\"translate(525.585938 0)\"/>\n      <use xlink:href=\"#DejaVuSans-20\" transform=\"translate(589.208984 0)\"/>\n      <use xlink:href=\"#DejaVuSans-75\" transform=\"translate(620.996094 0)\"/>\n      <use xlink:href=\"#DejaVuSans-6e\" transform=\"translate(684.375 0)\"/>\n      <use xlink:href=\"#DejaVuSans-69\" transform=\"translate(747.753906 0)\"/>\n      <use xlink:href=\"#DejaVuSans-74\" transform=\"translate(775.537109 0)\"/>\n      <use xlink:href=\"#DejaVuSans-73\" transform=\"translate(814.746094 0)\"/>\n      <use xlink:href=\"#DejaVuSans-2c\" transform=\"translate(866.845703 0)\"/>\n      <use xlink:href=\"#DejaVuSans-20\" transform=\"translate(898.632812 0)\"/>\n      <use xlink:href=\"#DejaVuSans-34\" transform=\"translate(930.419922 0)\"/>\n      <use xlink:href=\"#DejaVuSans-38\" transform=\"translate(994.042969 0)\"/>\n      <use xlink:href=\"#DejaVuSans-33\" transform=\"translate(1057.666016 0)\"/>\n      <use xlink:href=\"#DejaVuSans-20\" transform=\"translate(1121.289062 0)\"/>\n      <use xlink:href=\"#DejaVuSans-70\" transform=\"translate(1153.076172 0)\"/>\n      <use xlink:href=\"#DejaVuSans-61\" transform=\"translate(1216.552734 0)\"/>\n      <use xlink:href=\"#DejaVuSans-72\" transform=\"translate(1277.832031 0)\"/>\n      <use xlink:href=\"#DejaVuSans-61\" transform=\"translate(1318.945312 0)\"/>\n      <use xlink:href=\"#DejaVuSans-6d\" transform=\"translate(1380.224609 0)\"/>\n      <use xlink:href=\"#DejaVuSans-73\" transform=\"translate(1477.636719 0)\"/>\n     </g>\n    </g>\n    <g id=\"line2d_16\">\n     <path d=\"M 140.342898 152.838438 \nL 150.342898 152.838438 \nL 160.342898 152.838438 \n\" style=\"fill: none; stroke: #ff7f0e; stroke-width: 1.5; stroke-linecap: square\"/>\n     <g>\n      <use xlink:href=\"#m36aad29b91\" x=\"150.342898\" y=\"152.838438\" style=\"fill: #ff7f0e; stroke: #ff7f0e; stroke-linejoin: miter\"/>\n     </g>\n    </g>\n    <g id=\"text_15\">\n     <!-- 5 layers, 16 units, 1187 params -->\n     <g transform=\"translate(168.342898 156.338438) scale(0.1 -0.1)\">\n      <defs>\n       <path id=\"DejaVuSans-37\" d=\"M 525 4666 \nL 3525 4666 \nL 3525 4397 \nL 1831 0 \nL 1172 0 \nL 2766 4134 \nL 525 4134 \nL 525 4666 \nz\n\" transform=\"scale(0.015625)\"/>\n      </defs>\n      <use xlink:href=\"#DejaVuSans-35\"/>\n      <use xlink:href=\"#DejaVuSans-20\" transform=\"translate(63.623047 0)\"/>\n      <use xlink:href=\"#DejaVuSans-6c\" transform=\"translate(95.410156 0)\"/>\n      <use xlink:href=\"#DejaVuSans-61\" transform=\"translate(123.193359 0)\"/>\n      <use xlink:href=\"#DejaVuSans-79\" transform=\"translate(184.472656 0)\"/>\n      <use xlink:href=\"#DejaVuSans-65\" transform=\"translate(243.652344 0)\"/>\n      <use xlink:href=\"#DejaVuSans-72\" transform=\"translate(305.175781 0)\"/>\n      <use xlink:href=\"#DejaVuSans-73\" transform=\"translate(346.289062 0)\"/>\n      <use xlink:href=\"#DejaVuSans-2c\" transform=\"translate(398.388672 0)\"/>\n      <use xlink:href=\"#DejaVuSans-20\" transform=\"translate(430.175781 0)\"/>\n      <use xlink:href=\"#DejaVuSans-31\" transform=\"translate(461.962891 0)\"/>\n      <use xlink:href=\"#DejaVuSans-36\" transform=\"translate(525.585938 0)\"/>\n      <use xlink:href=\"#DejaVuSans-20\" transform=\"translate(589.208984 0)\"/>\n      <use xlink:href=\"#DejaVuSans-75\" transform=\"translate(620.996094 0)\"/>\n      <use xlink:href=\"#DejaVuSans-6e\" transform=\"translate(684.375 0)\"/>\n      <use xlink:href=\"#DejaVuSans-69\" transform=\"translate(747.753906 0)\"/>\n      <use xlink:href=\"#DejaVuSans-74\" transform=\"translate(775.537109 0)\"/>\n      <use xlink:href=\"#DejaVuSans-73\" transform=\"translate(814.746094 0)\"/>\n      <use xlink:href=\"#DejaVuSans-2c\" transform=\"translate(866.845703 0)\"/>\n      <use xlink:href=\"#DejaVuSans-20\" transform=\"translate(898.632812 0)\"/>\n      <use xlink:href=\"#DejaVuSans-31\" transform=\"translate(930.419922 0)\"/>\n      <use xlink:href=\"#DejaVuSans-31\" transform=\"translate(994.042969 0)\"/>\n      <use xlink:href=\"#DejaVuSans-38\" transform=\"translate(1057.666016 0)\"/>\n      <use xlink:href=\"#DejaVuSans-37\" transform=\"translate(1121.289062 0)\"/>\n      <use xlink:href=\"#DejaVuSans-20\" transform=\"translate(1184.912109 0)\"/>\n      <use xlink:href=\"#DejaVuSans-70\" transform=\"translate(1216.699219 0)\"/>\n      <use xlink:href=\"#DejaVuSans-61\" transform=\"translate(1280.175781 0)\"/>\n      <use xlink:href=\"#DejaVuSans-72\" transform=\"translate(1341.455078 0)\"/>\n      <use xlink:href=\"#DejaVuSans-61\" transform=\"translate(1382.568359 0)\"/>\n      <use xlink:href=\"#DejaVuSans-6d\" transform=\"translate(1443.847656 0)\"/>\n      <use xlink:href=\"#DejaVuSans-73\" transform=\"translate(1541.259766 0)\"/>\n     </g>\n    </g>\n    <g id=\"line2d_17\">\n     <path d=\"M 140.342898 167.516563 \nL 150.342898 167.516563 \nL 160.342898 167.516563 \n\" style=\"fill: none; stroke: #2ca02c; stroke-width: 1.5; stroke-linecap: square\"/>\n     <g>\n      <use xlink:href=\"#m040b818a06\" x=\"150.342898\" y=\"167.516563\" style=\"fill: #2ca02c; stroke: #2ca02c; stroke-linejoin: miter\"/>\n     </g>\n    </g>\n    <g id=\"text_16\">\n     <!-- 10 layers, 8 units, 699 params -->\n     <g transform=\"translate(168.342898 171.016563) scale(0.1 -0.1)\">\n      <defs>\n       <path id=\"DejaVuSans-39\" d=\"M 703 97 \nL 703 672 \nQ 941 559 1184 500 \nQ 1428 441 1663 441 \nQ 2288 441 2617 861 \nQ 2947 1281 2994 2138 \nQ 2813 1869 2534 1725 \nQ 2256 1581 1919 1581 \nQ 1219 1581 811 2004 \nQ 403 2428 403 3163 \nQ 403 3881 828 4315 \nQ 1253 4750 1959 4750 \nQ 2769 4750 3195 4129 \nQ 3622 3509 3622 2328 \nQ 3622 1225 3098 567 \nQ 2575 -91 1691 -91 \nQ 1453 -91 1209 -44 \nQ 966 3 703 97 \nz\nM 1959 2075 \nQ 2384 2075 2632 2365 \nQ 2881 2656 2881 3163 \nQ 2881 3666 2632 3958 \nQ 2384 4250 1959 4250 \nQ 1534 4250 1286 3958 \nQ 1038 3666 1038 3163 \nQ 1038 2656 1286 2365 \nQ 1534 2075 1959 2075 \nz\n\" transform=\"scale(0.015625)\"/>\n      </defs>\n      <use xlink:href=\"#DejaVuSans-31\"/>\n      <use xlink:href=\"#DejaVuSans-30\" transform=\"translate(63.623047 0)\"/>\n      <use xlink:href=\"#DejaVuSans-20\" transform=\"translate(127.246094 0)\"/>\n      <use xlink:href=\"#DejaVuSans-6c\" transform=\"translate(159.033203 0)\"/>\n      <use xlink:href=\"#DejaVuSans-61\" transform=\"translate(186.816406 0)\"/>\n      <use xlink:href=\"#DejaVuSans-79\" transform=\"translate(248.095703 0)\"/>\n      <use xlink:href=\"#DejaVuSans-65\" transform=\"translate(307.275391 0)\"/>\n      <use xlink:href=\"#DejaVuSans-72\" transform=\"translate(368.798828 0)\"/>\n      <use xlink:href=\"#DejaVuSans-73\" transform=\"translate(409.912109 0)\"/>\n      <use xlink:href=\"#DejaVuSans-2c\" transform=\"translate(462.011719 0)\"/>\n      <use xlink:href=\"#DejaVuSans-20\" transform=\"translate(493.798828 0)\"/>\n      <use xlink:href=\"#DejaVuSans-38\" transform=\"translate(525.585938 0)\"/>\n      <use xlink:href=\"#DejaVuSans-20\" transform=\"translate(589.208984 0)\"/>\n      <use xlink:href=\"#DejaVuSans-75\" transform=\"translate(620.996094 0)\"/>\n      <use xlink:href=\"#DejaVuSans-6e\" transform=\"translate(684.375 0)\"/>\n      <use xlink:href=\"#DejaVuSans-69\" transform=\"translate(747.753906 0)\"/>\n      <use xlink:href=\"#DejaVuSans-74\" transform=\"translate(775.537109 0)\"/>\n      <use xlink:href=\"#DejaVuSans-73\" transform=\"translate(814.746094 0)\"/>\n      <use xlink:href=\"#DejaVuSans-2c\" transform=\"translate(866.845703 0)\"/>\n      <use xlink:href=\"#DejaVuSans-20\" transform=\"translate(898.632812 0)\"/>\n      <use xlink:href=\"#DejaVuSans-36\" transform=\"translate(930.419922 0)\"/>\n      <use xlink:href=\"#DejaVuSans-39\" transform=\"translate(994.042969 0)\"/>\n      <use xlink:href=\"#DejaVuSans-39\" transform=\"translate(1057.666016 0)\"/>\n      <use xlink:href=\"#DejaVuSans-20\" transform=\"translate(1121.289062 0)\"/>\n      <use xlink:href=\"#DejaVuSans-70\" transform=\"translate(1153.076172 0)\"/>\n      <use xlink:href=\"#DejaVuSans-61\" transform=\"translate(1216.552734 0)\"/>\n      <use xlink:href=\"#DejaVuSans-72\" transform=\"translate(1277.832031 0)\"/>\n      <use xlink:href=\"#DejaVuSans-61\" transform=\"translate(1318.945312 0)\"/>\n      <use xlink:href=\"#DejaVuSans-6d\" transform=\"translate(1380.224609 0)\"/>\n      <use xlink:href=\"#DejaVuSans-73\" transform=\"translate(1477.636719 0)\"/>\n     </g>\n    </g>\n    <g id=\"line2d_18\">\n     <path d=\"M 140.342898 182.194688 \nL 150.342898 182.194688 \nL 160.342898 182.194688 \n\" style=\"fill: none; stroke: #d62728; stroke-width: 1.5; stroke-linecap: square\"/>\n     <g>\n      <use xlink:href=\"#me338b0b874\" x=\"150.342898\" y=\"182.194688\" style=\"fill: #d62728; stroke: #d62728; stroke-linejoin: miter\"/>\n     </g>\n    </g>\n    <g id=\"text_17\">\n     <!-- 20 layers, 4 units, 407 params -->\n     <g transform=\"translate(168.342898 185.694688) scale(0.1 -0.1)\">\n      <use xlink:href=\"#DejaVuSans-32\"/>\n      <use xlink:href=\"#DejaVuSans-30\" transform=\"translate(63.623047 0)\"/>\n      <use xlink:href=\"#DejaVuSans-20\" transform=\"translate(127.246094 0)\"/>\n      <use xlink:href=\"#DejaVuSans-6c\" transform=\"translate(159.033203 0)\"/>\n      <use xlink:href=\"#DejaVuSans-61\" transform=\"translate(186.816406 0)\"/>\n      <use xlink:href=\"#DejaVuSans-79\" transform=\"translate(248.095703 0)\"/>\n      <use xlink:href=\"#DejaVuSans-65\" transform=\"translate(307.275391 0)\"/>\n      <use xlink:href=\"#DejaVuSans-72\" transform=\"translate(368.798828 0)\"/>\n      <use xlink:href=\"#DejaVuSans-73\" transform=\"translate(409.912109 0)\"/>\n      <use xlink:href=\"#DejaVuSans-2c\" transform=\"translate(462.011719 0)\"/>\n      <use xlink:href=\"#DejaVuSans-20\" transform=\"translate(493.798828 0)\"/>\n      <use xlink:href=\"#DejaVuSans-34\" transform=\"translate(525.585938 0)\"/>\n      <use xlink:href=\"#DejaVuSans-20\" transform=\"translate(589.208984 0)\"/>\n      <use xlink:href=\"#DejaVuSans-75\" transform=\"translate(620.996094 0)\"/>\n      <use xlink:href=\"#DejaVuSans-6e\" transform=\"translate(684.375 0)\"/>\n      <use xlink:href=\"#DejaVuSans-69\" transform=\"translate(747.753906 0)\"/>\n      <use xlink:href=\"#DejaVuSans-74\" transform=\"translate(775.537109 0)\"/>\n      <use xlink:href=\"#DejaVuSans-73\" transform=\"translate(814.746094 0)\"/>\n      <use xlink:href=\"#DejaVuSans-2c\" transform=\"translate(866.845703 0)\"/>\n      <use xlink:href=\"#DejaVuSans-20\" transform=\"translate(898.632812 0)\"/>\n      <use xlink:href=\"#DejaVuSans-34\" transform=\"translate(930.419922 0)\"/>\n      <use xlink:href=\"#DejaVuSans-30\" transform=\"translate(994.042969 0)\"/>\n      <use xlink:href=\"#DejaVuSans-37\" transform=\"translate(1057.666016 0)\"/>\n      <use xlink:href=\"#DejaVuSans-20\" transform=\"translate(1121.289062 0)\"/>\n      <use xlink:href=\"#DejaVuSans-70\" transform=\"translate(1153.076172 0)\"/>\n      <use xlink:href=\"#DejaVuSans-61\" transform=\"translate(1216.552734 0)\"/>\n      <use xlink:href=\"#DejaVuSans-72\" transform=\"translate(1277.832031 0)\"/>\n      <use xlink:href=\"#DejaVuSans-61\" transform=\"translate(1318.945312 0)\"/>\n      <use xlink:href=\"#DejaVuSans-6d\" transform=\"translate(1380.224609 0)\"/>\n      <use xlink:href=\"#DejaVuSans-73\" transform=\"translate(1477.636719 0)\"/>\n     </g>\n    </g>\n   </g>\n  </g>\n  <g id=\"axes_2\">\n   <g id=\"patch_8\">\n    <path d=\"M 500.326705 299.518125 \nL 880.78125 299.518125 \nL 880.78125 22.318125 \nL 500.326705 22.318125 \nz\n\" style=\"fill: #ffffff\"/>\n   </g>\n   <g id=\"matplotlib.axis_3\">\n    <g id=\"xtick_6\">\n     <g id=\"line2d_19\">\n      <g>\n       <use xlink:href=\"#mef68261684\" x=\"552.20687\" y=\"299.518125\" style=\"stroke: #000000; stroke-width: 0.8\"/>\n      </g>\n     </g>\n     <g id=\"text_18\">\n      <!-- 100 -->\n      <g transform=\"translate(542.66312 314.116563) scale(0.1 -0.1)\">\n       <use xlink:href=\"#DejaVuSans-31\"/>\n       <use xlink:href=\"#DejaVuSans-30\" transform=\"translate(63.623047 0)\"/>\n       <use xlink:href=\"#DejaVuSans-30\" transform=\"translate(127.246094 0)\"/>\n      </g>\n     </g>\n    </g>\n    <g id=\"xtick_7\">\n     <g id=\"line2d_20\">\n      <g>\n       <use xlink:href=\"#mef68261684\" x=\"621.380424\" y=\"299.518125\" style=\"stroke: #000000; stroke-width: 0.8\"/>\n      </g>\n     </g>\n     <g id=\"text_19\">\n      <!-- 200 -->\n      <g transform=\"translate(611.836674 314.116563) scale(0.1 -0.1)\">\n       <use xlink:href=\"#DejaVuSans-32\"/>\n       <use xlink:href=\"#DejaVuSans-30\" transform=\"translate(63.623047 0)\"/>\n       <use xlink:href=\"#DejaVuSans-30\" transform=\"translate(127.246094 0)\"/>\n      </g>\n     </g>\n    </g>\n    <g id=\"xtick_8\">\n     <g id=\"line2d_21\">\n      <g>\n       <use xlink:href=\"#mef68261684\" x=\"690.553977\" y=\"299.518125\" style=\"stroke: #000000; stroke-width: 0.8\"/>\n      </g>\n     </g>\n     <g id=\"text_20\">\n      <!-- 300 -->\n      <g transform=\"translate(681.010227 314.116563) scale(0.1 -0.1)\">\n       <use xlink:href=\"#DejaVuSans-33\"/>\n       <use xlink:href=\"#DejaVuSans-30\" transform=\"translate(63.623047 0)\"/>\n       <use xlink:href=\"#DejaVuSans-30\" transform=\"translate(127.246094 0)\"/>\n      </g>\n     </g>\n    </g>\n    <g id=\"xtick_9\">\n     <g id=\"line2d_22\">\n      <g>\n       <use xlink:href=\"#mef68261684\" x=\"759.727531\" y=\"299.518125\" style=\"stroke: #000000; stroke-width: 0.8\"/>\n      </g>\n     </g>\n     <g id=\"text_21\">\n      <!-- 400 -->\n      <g transform=\"translate(750.183781 314.116563) scale(0.1 -0.1)\">\n       <use xlink:href=\"#DejaVuSans-34\"/>\n       <use xlink:href=\"#DejaVuSans-30\" transform=\"translate(63.623047 0)\"/>\n       <use xlink:href=\"#DejaVuSans-30\" transform=\"translate(127.246094 0)\"/>\n      </g>\n     </g>\n    </g>\n    <g id=\"xtick_10\">\n     <g id=\"line2d_23\">\n      <g>\n       <use xlink:href=\"#mef68261684\" x=\"828.901085\" y=\"299.518125\" style=\"stroke: #000000; stroke-width: 0.8\"/>\n      </g>\n     </g>\n     <g id=\"text_22\">\n      <!-- 500 -->\n      <g transform=\"translate(819.357335 314.116563) scale(0.1 -0.1)\">\n       <use xlink:href=\"#DejaVuSans-35\"/>\n       <use xlink:href=\"#DejaVuSans-30\" transform=\"translate(63.623047 0)\"/>\n       <use xlink:href=\"#DejaVuSans-30\" transform=\"translate(127.246094 0)\"/>\n      </g>\n     </g>\n    </g>\n    <g id=\"text_23\">\n     <!-- Number of data points -->\n     <g transform=\"translate(634.262571 327.794688) scale(0.1 -0.1)\">\n      <use xlink:href=\"#DejaVuSans-4e\"/>\n      <use xlink:href=\"#DejaVuSans-75\" transform=\"translate(74.804688 0)\"/>\n      <use xlink:href=\"#DejaVuSans-6d\" transform=\"translate(138.183594 0)\"/>\n      <use xlink:href=\"#DejaVuSans-62\" transform=\"translate(235.595703 0)\"/>\n      <use xlink:href=\"#DejaVuSans-65\" transform=\"translate(299.072266 0)\"/>\n      <use xlink:href=\"#DejaVuSans-72\" transform=\"translate(360.595703 0)\"/>\n      <use xlink:href=\"#DejaVuSans-20\" transform=\"translate(401.708984 0)\"/>\n      <use xlink:href=\"#DejaVuSans-6f\" transform=\"translate(433.496094 0)\"/>\n      <use xlink:href=\"#DejaVuSans-66\" transform=\"translate(494.677734 0)\"/>\n      <use xlink:href=\"#DejaVuSans-20\" transform=\"translate(529.882812 0)\"/>\n      <use xlink:href=\"#DejaVuSans-64\" transform=\"translate(561.669922 0)\"/>\n      <use xlink:href=\"#DejaVuSans-61\" transform=\"translate(625.146484 0)\"/>\n      <use xlink:href=\"#DejaVuSans-74\" transform=\"translate(686.425781 0)\"/>\n      <use xlink:href=\"#DejaVuSans-61\" transform=\"translate(725.634766 0)\"/>\n      <use xlink:href=\"#DejaVuSans-20\" transform=\"translate(786.914062 0)\"/>\n      <use xlink:href=\"#DejaVuSans-70\" transform=\"translate(818.701172 0)\"/>\n      <use xlink:href=\"#DejaVuSans-6f\" transform=\"translate(882.177734 0)\"/>\n      <use xlink:href=\"#DejaVuSans-69\" transform=\"translate(943.359375 0)\"/>\n      <use xlink:href=\"#DejaVuSans-6e\" transform=\"translate(971.142578 0)\"/>\n      <use xlink:href=\"#DejaVuSans-74\" transform=\"translate(1034.521484 0)\"/>\n      <use xlink:href=\"#DejaVuSans-73\" transform=\"translate(1073.730469 0)\"/>\n     </g>\n    </g>\n   </g>\n   <g id=\"matplotlib.axis_4\">\n    <g id=\"ytick_6\">\n     <g id=\"line2d_24\">\n      <g>\n       <use xlink:href=\"#m3270e3cc8c\" x=\"500.326705\" y=\"297.245995\" style=\"stroke: #000000; stroke-width: 0.8\"/>\n      </g>\n     </g>\n     <g id=\"text_24\">\n      <!-- 10 -->\n      <g transform=\"translate(480.601705 301.045214) scale(0.1 -0.1)\">\n       <use xlink:href=\"#DejaVuSans-31\"/>\n       <use xlink:href=\"#DejaVuSans-30\" transform=\"translate(63.623047 0)\"/>\n      </g>\n     </g>\n    </g>\n    <g id=\"ytick_7\">\n     <g id=\"line2d_25\">\n      <g>\n       <use xlink:href=\"#m3270e3cc8c\" x=\"500.326705\" y=\"266.26239\" style=\"stroke: #000000; stroke-width: 0.8\"/>\n      </g>\n     </g>\n     <g id=\"text_25\">\n      <!-- 20 -->\n      <g transform=\"translate(480.601705 270.061609) scale(0.1 -0.1)\">\n       <use xlink:href=\"#DejaVuSans-32\"/>\n       <use xlink:href=\"#DejaVuSans-30\" transform=\"translate(63.623047 0)\"/>\n      </g>\n     </g>\n    </g>\n    <g id=\"ytick_8\">\n     <g id=\"line2d_26\">\n      <g>\n       <use xlink:href=\"#m3270e3cc8c\" x=\"500.326705\" y=\"235.278786\" style=\"stroke: #000000; stroke-width: 0.8\"/>\n      </g>\n     </g>\n     <g id=\"text_26\">\n      <!-- 30 -->\n      <g transform=\"translate(480.601705 239.078004) scale(0.1 -0.1)\">\n       <use xlink:href=\"#DejaVuSans-33\"/>\n       <use xlink:href=\"#DejaVuSans-30\" transform=\"translate(63.623047 0)\"/>\n      </g>\n     </g>\n    </g>\n    <g id=\"ytick_9\">\n     <g id=\"line2d_27\">\n      <g>\n       <use xlink:href=\"#m3270e3cc8c\" x=\"500.326705\" y=\"204.295181\" style=\"stroke: #000000; stroke-width: 0.8\"/>\n      </g>\n     </g>\n     <g id=\"text_27\">\n      <!-- 40 -->\n      <g transform=\"translate(480.601705 208.094399) scale(0.1 -0.1)\">\n       <use xlink:href=\"#DejaVuSans-34\"/>\n       <use xlink:href=\"#DejaVuSans-30\" transform=\"translate(63.623047 0)\"/>\n      </g>\n     </g>\n    </g>\n    <g id=\"ytick_10\">\n     <g id=\"line2d_28\">\n      <g>\n       <use xlink:href=\"#m3270e3cc8c\" x=\"500.326705\" y=\"173.311576\" style=\"stroke: #000000; stroke-width: 0.8\"/>\n      </g>\n     </g>\n     <g id=\"text_28\">\n      <!-- 50 -->\n      <g transform=\"translate(480.601705 177.110795) scale(0.1 -0.1)\">\n       <use xlink:href=\"#DejaVuSans-35\"/>\n       <use xlink:href=\"#DejaVuSans-30\" transform=\"translate(63.623047 0)\"/>\n      </g>\n     </g>\n    </g>\n    <g id=\"ytick_11\">\n     <g id=\"line2d_29\">\n      <g>\n       <use xlink:href=\"#m3270e3cc8c\" x=\"500.326705\" y=\"142.327971\" style=\"stroke: #000000; stroke-width: 0.8\"/>\n      </g>\n     </g>\n     <g id=\"text_29\">\n      <!-- 60 -->\n      <g transform=\"translate(480.601705 146.12719) scale(0.1 -0.1)\">\n       <use xlink:href=\"#DejaVuSans-36\"/>\n       <use xlink:href=\"#DejaVuSans-30\" transform=\"translate(63.623047 0)\"/>\n      </g>\n     </g>\n    </g>\n    <g id=\"ytick_12\">\n     <g id=\"line2d_30\">\n      <g>\n       <use xlink:href=\"#m3270e3cc8c\" x=\"500.326705\" y=\"111.344366\" style=\"stroke: #000000; stroke-width: 0.8\"/>\n      </g>\n     </g>\n     <g id=\"text_30\">\n      <!-- 70 -->\n      <g transform=\"translate(480.601705 115.143585) scale(0.1 -0.1)\">\n       <use xlink:href=\"#DejaVuSans-37\"/>\n       <use xlink:href=\"#DejaVuSans-30\" transform=\"translate(63.623047 0)\"/>\n      </g>\n     </g>\n    </g>\n    <g id=\"ytick_13\">\n     <g id=\"line2d_31\">\n      <g>\n       <use xlink:href=\"#m3270e3cc8c\" x=\"500.326705\" y=\"80.360761\" style=\"stroke: #000000; stroke-width: 0.8\"/>\n      </g>\n     </g>\n     <g id=\"text_31\">\n      <!-- 80 -->\n      <g transform=\"translate(480.601705 84.15998) scale(0.1 -0.1)\">\n       <use xlink:href=\"#DejaVuSans-38\"/>\n       <use xlink:href=\"#DejaVuSans-30\" transform=\"translate(63.623047 0)\"/>\n      </g>\n     </g>\n    </g>\n    <g id=\"ytick_14\">\n     <g id=\"line2d_32\">\n      <g>\n       <use xlink:href=\"#m3270e3cc8c\" x=\"500.326705\" y=\"49.377156\" style=\"stroke: #000000; stroke-width: 0.8\"/>\n      </g>\n     </g>\n     <g id=\"text_32\">\n      <!-- 90 -->\n      <g transform=\"translate(480.601705 53.176375) scale(0.1 -0.1)\">\n       <use xlink:href=\"#DejaVuSans-39\"/>\n       <use xlink:href=\"#DejaVuSans-30\" transform=\"translate(63.623047 0)\"/>\n      </g>\n     </g>\n    </g>\n    <g id=\"text_33\">\n     <!-- Accuracy (%) -->\n     <g transform=\"translate(474.522017 193.987656) rotate(-90) scale(0.1 -0.1)\">\n      <defs>\n       <path id=\"DejaVuSans-41\" d=\"M 2188 4044 \nL 1331 1722 \nL 3047 1722 \nL 2188 4044 \nz\nM 1831 4666 \nL 2547 4666 \nL 4325 0 \nL 3669 0 \nL 3244 1197 \nL 1141 1197 \nL 716 0 \nL 50 0 \nL 1831 4666 \nz\n\" transform=\"scale(0.015625)\"/>\n       <path id=\"DejaVuSans-63\" d=\"M 3122 3366 \nL 3122 2828 \nQ 2878 2963 2633 3030 \nQ 2388 3097 2138 3097 \nQ 1578 3097 1268 2742 \nQ 959 2388 959 1747 \nQ 959 1106 1268 751 \nQ 1578 397 2138 397 \nQ 2388 397 2633 464 \nQ 2878 531 3122 666 \nL 3122 134 \nQ 2881 22 2623 -34 \nQ 2366 -91 2075 -91 \nQ 1284 -91 818 406 \nQ 353 903 353 1747 \nQ 353 2603 823 3093 \nQ 1294 3584 2113 3584 \nQ 2378 3584 2631 3529 \nQ 2884 3475 3122 3366 \nz\n\" transform=\"scale(0.015625)\"/>\n       <path id=\"DejaVuSans-28\" d=\"M 1984 4856 \nQ 1566 4138 1362 3434 \nQ 1159 2731 1159 2009 \nQ 1159 1288 1364 580 \nQ 1569 -128 1984 -844 \nL 1484 -844 \nQ 1016 -109 783 600 \nQ 550 1309 550 2009 \nQ 550 2706 781 3412 \nQ 1013 4119 1484 4856 \nL 1984 4856 \nz\n\" transform=\"scale(0.015625)\"/>\n       <path id=\"DejaVuSans-25\" d=\"M 4653 2053 \nQ 4381 2053 4226 1822 \nQ 4072 1591 4072 1178 \nQ 4072 772 4226 539 \nQ 4381 306 4653 306 \nQ 4919 306 5073 539 \nQ 5228 772 5228 1178 \nQ 5228 1588 5073 1820 \nQ 4919 2053 4653 2053 \nz\nM 4653 2450 \nQ 5147 2450 5437 2106 \nQ 5728 1763 5728 1178 \nQ 5728 594 5436 251 \nQ 5144 -91 4653 -91 \nQ 4153 -91 3862 251 \nQ 3572 594 3572 1178 \nQ 3572 1766 3864 2108 \nQ 4156 2450 4653 2450 \nz\nM 1428 4353 \nQ 1159 4353 1004 4120 \nQ 850 3888 850 3481 \nQ 850 3069 1003 2837 \nQ 1156 2606 1428 2606 \nQ 1700 2606 1854 2837 \nQ 2009 3069 2009 3481 \nQ 2009 3884 1853 4118 \nQ 1697 4353 1428 4353 \nz\nM 4250 4750 \nL 4750 4750 \nL 1831 -91 \nL 1331 -91 \nL 4250 4750 \nz\nM 1428 4750 \nQ 1922 4750 2215 4408 \nQ 2509 4066 2509 3481 \nQ 2509 2891 2217 2550 \nQ 1925 2209 1428 2209 \nQ 931 2209 642 2551 \nQ 353 2894 353 3481 \nQ 353 4063 643 4406 \nQ 934 4750 1428 4750 \nz\n\" transform=\"scale(0.015625)\"/>\n       <path id=\"DejaVuSans-29\" d=\"M 513 4856 \nL 1013 4856 \nQ 1481 4119 1714 3412 \nQ 1947 2706 1947 2009 \nQ 1947 1309 1714 600 \nQ 1481 -109 1013 -844 \nL 513 -844 \nQ 928 -128 1133 580 \nQ 1338 1288 1338 2009 \nQ 1338 2731 1133 3434 \nQ 928 4138 513 4856 \nz\n\" transform=\"scale(0.015625)\"/>\n      </defs>\n      <use xlink:href=\"#DejaVuSans-41\"/>\n      <use xlink:href=\"#DejaVuSans-63\" transform=\"translate(66.658203 0)\"/>\n      <use xlink:href=\"#DejaVuSans-63\" transform=\"translate(121.638672 0)\"/>\n      <use xlink:href=\"#DejaVuSans-75\" transform=\"translate(176.619141 0)\"/>\n      <use xlink:href=\"#DejaVuSans-72\" transform=\"translate(239.998047 0)\"/>\n      <use xlink:href=\"#DejaVuSans-61\" transform=\"translate(281.111328 0)\"/>\n      <use xlink:href=\"#DejaVuSans-63\" transform=\"translate(342.390625 0)\"/>\n      <use xlink:href=\"#DejaVuSans-79\" transform=\"translate(397.371094 0)\"/>\n      <use xlink:href=\"#DejaVuSans-20\" transform=\"translate(456.550781 0)\"/>\n      <use xlink:href=\"#DejaVuSans-28\" transform=\"translate(488.337891 0)\"/>\n      <use xlink:href=\"#DejaVuSans-25\" transform=\"translate(527.351562 0)\"/>\n      <use xlink:href=\"#DejaVuSans-29\" transform=\"translate(622.371094 0)\"/>\n     </g>\n    </g>\n   </g>\n   <g id=\"line2d_33\">\n    <path d=\"M 517.620093 39.04928 \nL 552.20687 49.377156 \nL 586.793647 41.803392 \nL 621.380424 40.082051 \nL 655.9672 39.049304 \nL 690.553977 35.606671 \nL 725.140754 36.688657 \nL 759.727531 49.893566 \nL 794.314308 38.590242 \nL 828.901085 43.593567 \nL 863.487862 34.918125 \n\" clip-path=\"url(#pe54ac84514)\" style=\"fill: none; stroke: #1f77b4; stroke-width: 1.5; stroke-linecap: square\"/>\n    <defs>\n     <path id=\"mb77b657074\" d=\"M 0 3 \nC 0.795609 3 1.55874 2.683901 2.12132 2.12132 \nC 2.683901 1.55874 3 0.795609 3 0 \nC 3 -0.795609 2.683901 -1.55874 2.12132 -2.12132 \nC 1.55874 -2.683901 0.795609 -3 0 -3 \nC -0.795609 -3 -1.55874 -2.683901 -2.12132 -2.12132 \nC -2.683901 -1.55874 -3 -0.795609 -3 0 \nC -3 0.795609 -2.683901 1.55874 -2.12132 2.12132 \nC -1.55874 2.683901 -0.795609 3 0 3 \nz\n\" style=\"stroke: #1f77b4\"/>\n    </defs>\n    <g clip-path=\"url(#pe54ac84514)\">\n     <use xlink:href=\"#mb77b657074\" x=\"517.620093\" y=\"39.04928\" style=\"fill: #1f77b4; stroke: #1f77b4\"/>\n     <use xlink:href=\"#mb77b657074\" x=\"552.20687\" y=\"49.377156\" style=\"fill: #1f77b4; stroke: #1f77b4\"/>\n     <use xlink:href=\"#mb77b657074\" x=\"586.793647\" y=\"41.803392\" style=\"fill: #1f77b4; stroke: #1f77b4\"/>\n     <use xlink:href=\"#mb77b657074\" x=\"621.380424\" y=\"40.082051\" style=\"fill: #1f77b4; stroke: #1f77b4\"/>\n     <use xlink:href=\"#mb77b657074\" x=\"655.9672\" y=\"39.049304\" style=\"fill: #1f77b4; stroke: #1f77b4\"/>\n     <use xlink:href=\"#mb77b657074\" x=\"690.553977\" y=\"35.606671\" style=\"fill: #1f77b4; stroke: #1f77b4\"/>\n     <use xlink:href=\"#mb77b657074\" x=\"725.140754\" y=\"36.688657\" style=\"fill: #1f77b4; stroke: #1f77b4\"/>\n     <use xlink:href=\"#mb77b657074\" x=\"759.727531\" y=\"49.893566\" style=\"fill: #1f77b4; stroke: #1f77b4\"/>\n     <use xlink:href=\"#mb77b657074\" x=\"794.314308\" y=\"38.590242\" style=\"fill: #1f77b4; stroke: #1f77b4\"/>\n     <use xlink:href=\"#mb77b657074\" x=\"828.901085\" y=\"43.593567\" style=\"fill: #1f77b4; stroke: #1f77b4\"/>\n     <use xlink:href=\"#mb77b657074\" x=\"863.487862\" y=\"34.918125\" style=\"fill: #1f77b4; stroke: #1f77b4\"/>\n    </g>\n   </g>\n   <g id=\"line2d_34\">\n    <path d=\"M 517.620093 59.705033 \nL 552.20687 47.311567 \nL 586.793647 40.4263 \nL 621.380424 40.082051 \nL 655.9672 35.744389 \nL 690.553977 37.672213 \nL 725.140754 38.459095 \nL 759.727531 51.959108 \nL 794.314308 39.967333 \nL 828.901085 44.006652 \nL 863.487862 34.918125 \n\" clip-path=\"url(#pe54ac84514)\" style=\"fill: none; stroke: #ff7f0e; stroke-width: 1.5; stroke-linecap: square\"/>\n    <defs>\n     <path id=\"m00b58de7cb\" d=\"M 0 3 \nC 0.795609 3 1.55874 2.683901 2.12132 2.12132 \nC 2.683901 1.55874 3 0.795609 3 0 \nC 3 -0.795609 2.683901 -1.55874 2.12132 -2.12132 \nC 1.55874 -2.683901 0.795609 -3 0 -3 \nC -0.795609 -3 -1.55874 -2.683901 -2.12132 -2.12132 \nC -2.683901 -1.55874 -3 -0.795609 -3 0 \nC -3 0.795609 -2.683901 1.55874 -2.12132 2.12132 \nC -1.55874 2.683901 -0.795609 3 0 3 \nz\n\" style=\"stroke: #ff7f0e\"/>\n    </defs>\n    <g clip-path=\"url(#pe54ac84514)\">\n     <use xlink:href=\"#m00b58de7cb\" x=\"517.620093\" y=\"59.705033\" style=\"fill: #ff7f0e; stroke: #ff7f0e\"/>\n     <use xlink:href=\"#m00b58de7cb\" x=\"552.20687\" y=\"47.311567\" style=\"fill: #ff7f0e; stroke: #ff7f0e\"/>\n     <use xlink:href=\"#m00b58de7cb\" x=\"586.793647\" y=\"40.4263\" style=\"fill: #ff7f0e; stroke: #ff7f0e\"/>\n     <use xlink:href=\"#m00b58de7cb\" x=\"621.380424\" y=\"40.082051\" style=\"fill: #ff7f0e; stroke: #ff7f0e\"/>\n     <use xlink:href=\"#m00b58de7cb\" x=\"655.9672\" y=\"35.744389\" style=\"fill: #ff7f0e; stroke: #ff7f0e\"/>\n     <use xlink:href=\"#m00b58de7cb\" x=\"690.553977\" y=\"37.672213\" style=\"fill: #ff7f0e; stroke: #ff7f0e\"/>\n     <use xlink:href=\"#m00b58de7cb\" x=\"725.140754\" y=\"38.459095\" style=\"fill: #ff7f0e; stroke: #ff7f0e\"/>\n     <use xlink:href=\"#m00b58de7cb\" x=\"759.727531\" y=\"51.959108\" style=\"fill: #ff7f0e; stroke: #ff7f0e\"/>\n     <use xlink:href=\"#m00b58de7cb\" x=\"794.314308\" y=\"39.967333\" style=\"fill: #ff7f0e; stroke: #ff7f0e\"/>\n     <use xlink:href=\"#m00b58de7cb\" x=\"828.901085\" y=\"44.006652\" style=\"fill: #ff7f0e; stroke: #ff7f0e\"/>\n     <use xlink:href=\"#m00b58de7cb\" x=\"863.487862\" y=\"34.918125\" style=\"fill: #ff7f0e; stroke: #ff7f0e\"/>\n    </g>\n   </g>\n   <g id=\"line2d_35\">\n    <path d=\"M 517.620093 286.918125 \nL 552.20687 245.60665 \nL 586.793647 231.836164 \nL 621.380424 255.93452 \nL 655.9672 245.60665 \nL 690.553977 231.836164 \nL 725.140754 239.70501 \nL 759.727531 230.114853 \nL 794.314308 231.377149 \nL 828.901085 237.757472 \nL 863.487862 56.324971 \n\" clip-path=\"url(#pe54ac84514)\" style=\"fill: none; stroke: #2ca02c; stroke-width: 1.5; stroke-linecap: square\"/>\n    <defs>\n     <path id=\"m3aa2e0974f\" d=\"M 0 3 \nC 0.795609 3 1.55874 2.683901 2.12132 2.12132 \nC 2.683901 1.55874 3 0.795609 3 0 \nC 3 -0.795609 2.683901 -1.55874 2.12132 -2.12132 \nC 1.55874 -2.683901 0.795609 -3 0 -3 \nC -0.795609 -3 -1.55874 -2.683901 -2.12132 -2.12132 \nC -2.683901 -1.55874 -3 -0.795609 -3 0 \nC -3 0.795609 -2.683901 1.55874 -2.12132 2.12132 \nC -1.55874 2.683901 -0.795609 3 0 3 \nz\n\" style=\"stroke: #2ca02c\"/>\n    </defs>\n    <g clip-path=\"url(#pe54ac84514)\">\n     <use xlink:href=\"#m3aa2e0974f\" x=\"517.620093\" y=\"286.918125\" style=\"fill: #2ca02c; stroke: #2ca02c\"/>\n     <use xlink:href=\"#m3aa2e0974f\" x=\"552.20687\" y=\"245.60665\" style=\"fill: #2ca02c; stroke: #2ca02c\"/>\n     <use xlink:href=\"#m3aa2e0974f\" x=\"586.793647\" y=\"231.836164\" style=\"fill: #2ca02c; stroke: #2ca02c\"/>\n     <use xlink:href=\"#m3aa2e0974f\" x=\"621.380424\" y=\"255.93452\" style=\"fill: #2ca02c; stroke: #2ca02c\"/>\n     <use xlink:href=\"#m3aa2e0974f\" x=\"655.9672\" y=\"245.60665\" style=\"fill: #2ca02c; stroke: #2ca02c\"/>\n     <use xlink:href=\"#m3aa2e0974f\" x=\"690.553977\" y=\"231.836164\" style=\"fill: #2ca02c; stroke: #2ca02c\"/>\n     <use xlink:href=\"#m3aa2e0974f\" x=\"725.140754\" y=\"239.70501\" style=\"fill: #2ca02c; stroke: #2ca02c\"/>\n     <use xlink:href=\"#m3aa2e0974f\" x=\"759.727531\" y=\"230.114853\" style=\"fill: #2ca02c; stroke: #2ca02c\"/>\n     <use xlink:href=\"#m3aa2e0974f\" x=\"794.314308\" y=\"231.377149\" style=\"fill: #2ca02c; stroke: #2ca02c\"/>\n     <use xlink:href=\"#m3aa2e0974f\" x=\"828.901085\" y=\"237.757472\" style=\"fill: #2ca02c; stroke: #2ca02c\"/>\n     <use xlink:href=\"#m3aa2e0974f\" x=\"863.487862\" y=\"56.324971\" style=\"fill: #2ca02c; stroke: #2ca02c\"/>\n    </g>\n   </g>\n   <g id=\"line2d_36\">\n    <path d=\"M 517.620093 286.918125 \nL 552.20687 245.60665 \nL 586.793647 231.836164 \nL 621.380424 255.93452 \nL 655.9672 245.60665 \nL 690.553977 231.836164 \nL 725.140754 239.70501 \nL 759.727531 229.082065 \nL 794.314308 234.131255 \nL 828.901085 236.105014 \nL 863.487862 235.842123 \n\" clip-path=\"url(#pe54ac84514)\" style=\"fill: none; stroke: #d62728; stroke-width: 1.5; stroke-linecap: square\"/>\n    <defs>\n     <path id=\"m96a6e93a63\" d=\"M 0 3 \nC 0.795609 3 1.55874 2.683901 2.12132 2.12132 \nC 2.683901 1.55874 3 0.795609 3 0 \nC 3 -0.795609 2.683901 -1.55874 2.12132 -2.12132 \nC 1.55874 -2.683901 0.795609 -3 0 -3 \nC -0.795609 -3 -1.55874 -2.683901 -2.12132 -2.12132 \nC -2.683901 -1.55874 -3 -0.795609 -3 0 \nC -3 0.795609 -2.683901 1.55874 -2.12132 2.12132 \nC -1.55874 2.683901 -0.795609 3 0 3 \nz\n\" style=\"stroke: #d62728\"/>\n    </defs>\n    <g clip-path=\"url(#pe54ac84514)\">\n     <use xlink:href=\"#m96a6e93a63\" x=\"517.620093\" y=\"286.918125\" style=\"fill: #d62728; stroke: #d62728\"/>\n     <use xlink:href=\"#m96a6e93a63\" x=\"552.20687\" y=\"245.60665\" style=\"fill: #d62728; stroke: #d62728\"/>\n     <use xlink:href=\"#m96a6e93a63\" x=\"586.793647\" y=\"231.836164\" style=\"fill: #d62728; stroke: #d62728\"/>\n     <use xlink:href=\"#m96a6e93a63\" x=\"621.380424\" y=\"255.93452\" style=\"fill: #d62728; stroke: #d62728\"/>\n     <use xlink:href=\"#m96a6e93a63\" x=\"655.9672\" y=\"245.60665\" style=\"fill: #d62728; stroke: #d62728\"/>\n     <use xlink:href=\"#m96a6e93a63\" x=\"690.553977\" y=\"231.836164\" style=\"fill: #d62728; stroke: #d62728\"/>\n     <use xlink:href=\"#m96a6e93a63\" x=\"725.140754\" y=\"239.70501\" style=\"fill: #d62728; stroke: #d62728\"/>\n     <use xlink:href=\"#m96a6e93a63\" x=\"759.727531\" y=\"229.082065\" style=\"fill: #d62728; stroke: #d62728\"/>\n     <use xlink:href=\"#m96a6e93a63\" x=\"794.314308\" y=\"234.131255\" style=\"fill: #d62728; stroke: #d62728\"/>\n     <use xlink:href=\"#m96a6e93a63\" x=\"828.901085\" y=\"236.105014\" style=\"fill: #d62728; stroke: #d62728\"/>\n     <use xlink:href=\"#m96a6e93a63\" x=\"863.487862\" y=\"235.842123\" style=\"fill: #d62728; stroke: #d62728\"/>\n    </g>\n   </g>\n   <g id=\"patch_9\">\n    <path d=\"M 500.326705 299.518125 \nL 500.326705 22.318125 \n\" style=\"fill: none; stroke: #000000; stroke-width: 0.8; stroke-linejoin: miter; stroke-linecap: square\"/>\n   </g>\n   <g id=\"patch_10\">\n    <path d=\"M 880.78125 299.518125 \nL 880.78125 22.318125 \n\" style=\"fill: none; stroke: #000000; stroke-width: 0.8; stroke-linejoin: miter; stroke-linecap: square\"/>\n   </g>\n   <g id=\"patch_11\">\n    <path d=\"M 500.326705 299.518125 \nL 880.78125 299.518125 \n\" style=\"fill: none; stroke: #000000; stroke-width: 0.8; stroke-linejoin: miter; stroke-linecap: square\"/>\n   </g>\n   <g id=\"patch_12\">\n    <path d=\"M 500.326705 22.318125 \nL 880.78125 22.318125 \n\" style=\"fill: none; stroke: #000000; stroke-width: 0.8; stroke-linejoin: miter; stroke-linecap: square\"/>\n   </g>\n   <g id=\"text_34\">\n    <!-- Accuracy -->\n    <g transform=\"translate(663.160227 16.318125) scale(0.12 -0.12)\">\n     <use xlink:href=\"#DejaVuSans-41\"/>\n     <use xlink:href=\"#DejaVuSans-63\" transform=\"translate(66.658203 0)\"/>\n     <use xlink:href=\"#DejaVuSans-63\" transform=\"translate(121.638672 0)\"/>\n     <use xlink:href=\"#DejaVuSans-75\" transform=\"translate(176.619141 0)\"/>\n     <use xlink:href=\"#DejaVuSans-72\" transform=\"translate(239.998047 0)\"/>\n     <use xlink:href=\"#DejaVuSans-61\" transform=\"translate(281.111328 0)\"/>\n     <use xlink:href=\"#DejaVuSans-63\" transform=\"translate(342.390625 0)\"/>\n     <use xlink:href=\"#DejaVuSans-79\" transform=\"translate(397.371094 0)\"/>\n    </g>\n   </g>\n   <g id=\"legend_2\">\n    <g id=\"patch_13\">\n     <path d=\"M 507.326705 191.774375 \nL 698.657955 191.774375 \nQ 700.657955 191.774375 700.657955 189.774375 \nL 700.657955 132.061875 \nQ 700.657955 130.061875 698.657955 130.061875 \nL 507.326705 130.061875 \nQ 505.326705 130.061875 505.326705 132.061875 \nL 505.326705 189.774375 \nQ 505.326705 191.774375 507.326705 191.774375 \nz\n\" style=\"fill: #ffffff; opacity: 0.8; stroke: #cccccc; stroke-linejoin: miter\"/>\n    </g>\n    <g id=\"line2d_37\">\n     <path d=\"M 509.326705 138.160313 \nL 519.326705 138.160313 \nL 529.326705 138.160313 \n\" style=\"fill: none; stroke: #1f77b4; stroke-width: 1.5; stroke-linecap: square\"/>\n     <g>\n      <use xlink:href=\"#mb77b657074\" x=\"519.326705\" y=\"138.160313\" style=\"fill: #1f77b4; stroke: #1f77b4\"/>\n     </g>\n    </g>\n    <g id=\"text_35\">\n     <!-- 1 layers, 80 units, 483 params -->\n     <g transform=\"translate(537.326705 141.660313) scale(0.1 -0.1)\">\n      <use xlink:href=\"#DejaVuSans-31\"/>\n      <use xlink:href=\"#DejaVuSans-20\" transform=\"translate(63.623047 0)\"/>\n      <use xlink:href=\"#DejaVuSans-6c\" transform=\"translate(95.410156 0)\"/>\n      <use xlink:href=\"#DejaVuSans-61\" transform=\"translate(123.193359 0)\"/>\n      <use xlink:href=\"#DejaVuSans-79\" transform=\"translate(184.472656 0)\"/>\n      <use xlink:href=\"#DejaVuSans-65\" transform=\"translate(243.652344 0)\"/>\n      <use xlink:href=\"#DejaVuSans-72\" transform=\"translate(305.175781 0)\"/>\n      <use xlink:href=\"#DejaVuSans-73\" transform=\"translate(346.289062 0)\"/>\n      <use xlink:href=\"#DejaVuSans-2c\" transform=\"translate(398.388672 0)\"/>\n      <use xlink:href=\"#DejaVuSans-20\" transform=\"translate(430.175781 0)\"/>\n      <use xlink:href=\"#DejaVuSans-38\" transform=\"translate(461.962891 0)\"/>\n      <use xlink:href=\"#DejaVuSans-30\" transform=\"translate(525.585938 0)\"/>\n      <use xlink:href=\"#DejaVuSans-20\" transform=\"translate(589.208984 0)\"/>\n      <use xlink:href=\"#DejaVuSans-75\" transform=\"translate(620.996094 0)\"/>\n      <use xlink:href=\"#DejaVuSans-6e\" transform=\"translate(684.375 0)\"/>\n      <use xlink:href=\"#DejaVuSans-69\" transform=\"translate(747.753906 0)\"/>\n      <use xlink:href=\"#DejaVuSans-74\" transform=\"translate(775.537109 0)\"/>\n      <use xlink:href=\"#DejaVuSans-73\" transform=\"translate(814.746094 0)\"/>\n      <use xlink:href=\"#DejaVuSans-2c\" transform=\"translate(866.845703 0)\"/>\n      <use xlink:href=\"#DejaVuSans-20\" transform=\"translate(898.632812 0)\"/>\n      <use xlink:href=\"#DejaVuSans-34\" transform=\"translate(930.419922 0)\"/>\n      <use xlink:href=\"#DejaVuSans-38\" transform=\"translate(994.042969 0)\"/>\n      <use xlink:href=\"#DejaVuSans-33\" transform=\"translate(1057.666016 0)\"/>\n      <use xlink:href=\"#DejaVuSans-20\" transform=\"translate(1121.289062 0)\"/>\n      <use xlink:href=\"#DejaVuSans-70\" transform=\"translate(1153.076172 0)\"/>\n      <use xlink:href=\"#DejaVuSans-61\" transform=\"translate(1216.552734 0)\"/>\n      <use xlink:href=\"#DejaVuSans-72\" transform=\"translate(1277.832031 0)\"/>\n      <use xlink:href=\"#DejaVuSans-61\" transform=\"translate(1318.945312 0)\"/>\n      <use xlink:href=\"#DejaVuSans-6d\" transform=\"translate(1380.224609 0)\"/>\n      <use xlink:href=\"#DejaVuSans-73\" transform=\"translate(1477.636719 0)\"/>\n     </g>\n    </g>\n    <g id=\"line2d_38\">\n     <path d=\"M 509.326705 152.838438 \nL 519.326705 152.838438 \nL 529.326705 152.838438 \n\" style=\"fill: none; stroke: #ff7f0e; stroke-width: 1.5; stroke-linecap: square\"/>\n     <g>\n      <use xlink:href=\"#m00b58de7cb\" x=\"519.326705\" y=\"152.838438\" style=\"fill: #ff7f0e; stroke: #ff7f0e\"/>\n     </g>\n    </g>\n    <g id=\"text_36\">\n     <!-- 5 layers, 16 units, 1187 params -->\n     <g transform=\"translate(537.326705 156.338438) scale(0.1 -0.1)\">\n      <use xlink:href=\"#DejaVuSans-35\"/>\n      <use xlink:href=\"#DejaVuSans-20\" transform=\"translate(63.623047 0)\"/>\n      <use xlink:href=\"#DejaVuSans-6c\" transform=\"translate(95.410156 0)\"/>\n      <use xlink:href=\"#DejaVuSans-61\" transform=\"translate(123.193359 0)\"/>\n      <use xlink:href=\"#DejaVuSans-79\" transform=\"translate(184.472656 0)\"/>\n      <use xlink:href=\"#DejaVuSans-65\" transform=\"translate(243.652344 0)\"/>\n      <use xlink:href=\"#DejaVuSans-72\" transform=\"translate(305.175781 0)\"/>\n      <use xlink:href=\"#DejaVuSans-73\" transform=\"translate(346.289062 0)\"/>\n      <use xlink:href=\"#DejaVuSans-2c\" transform=\"translate(398.388672 0)\"/>\n      <use xlink:href=\"#DejaVuSans-20\" transform=\"translate(430.175781 0)\"/>\n      <use xlink:href=\"#DejaVuSans-31\" transform=\"translate(461.962891 0)\"/>\n      <use xlink:href=\"#DejaVuSans-36\" transform=\"translate(525.585938 0)\"/>\n      <use xlink:href=\"#DejaVuSans-20\" transform=\"translate(589.208984 0)\"/>\n      <use xlink:href=\"#DejaVuSans-75\" transform=\"translate(620.996094 0)\"/>\n      <use xlink:href=\"#DejaVuSans-6e\" transform=\"translate(684.375 0)\"/>\n      <use xlink:href=\"#DejaVuSans-69\" transform=\"translate(747.753906 0)\"/>\n      <use xlink:href=\"#DejaVuSans-74\" transform=\"translate(775.537109 0)\"/>\n      <use xlink:href=\"#DejaVuSans-73\" transform=\"translate(814.746094 0)\"/>\n      <use xlink:href=\"#DejaVuSans-2c\" transform=\"translate(866.845703 0)\"/>\n      <use xlink:href=\"#DejaVuSans-20\" transform=\"translate(898.632812 0)\"/>\n      <use xlink:href=\"#DejaVuSans-31\" transform=\"translate(930.419922 0)\"/>\n      <use xlink:href=\"#DejaVuSans-31\" transform=\"translate(994.042969 0)\"/>\n      <use xlink:href=\"#DejaVuSans-38\" transform=\"translate(1057.666016 0)\"/>\n      <use xlink:href=\"#DejaVuSans-37\" transform=\"translate(1121.289062 0)\"/>\n      <use xlink:href=\"#DejaVuSans-20\" transform=\"translate(1184.912109 0)\"/>\n      <use xlink:href=\"#DejaVuSans-70\" transform=\"translate(1216.699219 0)\"/>\n      <use xlink:href=\"#DejaVuSans-61\" transform=\"translate(1280.175781 0)\"/>\n      <use xlink:href=\"#DejaVuSans-72\" transform=\"translate(1341.455078 0)\"/>\n      <use xlink:href=\"#DejaVuSans-61\" transform=\"translate(1382.568359 0)\"/>\n      <use xlink:href=\"#DejaVuSans-6d\" transform=\"translate(1443.847656 0)\"/>\n      <use xlink:href=\"#DejaVuSans-73\" transform=\"translate(1541.259766 0)\"/>\n     </g>\n    </g>\n    <g id=\"line2d_39\">\n     <path d=\"M 509.326705 167.516563 \nL 519.326705 167.516563 \nL 529.326705 167.516563 \n\" style=\"fill: none; stroke: #2ca02c; stroke-width: 1.5; stroke-linecap: square\"/>\n     <g>\n      <use xlink:href=\"#m3aa2e0974f\" x=\"519.326705\" y=\"167.516563\" style=\"fill: #2ca02c; stroke: #2ca02c\"/>\n     </g>\n    </g>\n    <g id=\"text_37\">\n     <!-- 10 layers, 8 units, 699 params -->\n     <g transform=\"translate(537.326705 171.016563) scale(0.1 -0.1)\">\n      <use xlink:href=\"#DejaVuSans-31\"/>\n      <use xlink:href=\"#DejaVuSans-30\" transform=\"translate(63.623047 0)\"/>\n      <use xlink:href=\"#DejaVuSans-20\" transform=\"translate(127.246094 0)\"/>\n      <use xlink:href=\"#DejaVuSans-6c\" transform=\"translate(159.033203 0)\"/>\n      <use xlink:href=\"#DejaVuSans-61\" transform=\"translate(186.816406 0)\"/>\n      <use xlink:href=\"#DejaVuSans-79\" transform=\"translate(248.095703 0)\"/>\n      <use xlink:href=\"#DejaVuSans-65\" transform=\"translate(307.275391 0)\"/>\n      <use xlink:href=\"#DejaVuSans-72\" transform=\"translate(368.798828 0)\"/>\n      <use xlink:href=\"#DejaVuSans-73\" transform=\"translate(409.912109 0)\"/>\n      <use xlink:href=\"#DejaVuSans-2c\" transform=\"translate(462.011719 0)\"/>\n      <use xlink:href=\"#DejaVuSans-20\" transform=\"translate(493.798828 0)\"/>\n      <use xlink:href=\"#DejaVuSans-38\" transform=\"translate(525.585938 0)\"/>\n      <use xlink:href=\"#DejaVuSans-20\" transform=\"translate(589.208984 0)\"/>\n      <use xlink:href=\"#DejaVuSans-75\" transform=\"translate(620.996094 0)\"/>\n      <use xlink:href=\"#DejaVuSans-6e\" transform=\"translate(684.375 0)\"/>\n      <use xlink:href=\"#DejaVuSans-69\" transform=\"translate(747.753906 0)\"/>\n      <use xlink:href=\"#DejaVuSans-74\" transform=\"translate(775.537109 0)\"/>\n      <use xlink:href=\"#DejaVuSans-73\" transform=\"translate(814.746094 0)\"/>\n      <use xlink:href=\"#DejaVuSans-2c\" transform=\"translate(866.845703 0)\"/>\n      <use xlink:href=\"#DejaVuSans-20\" transform=\"translate(898.632812 0)\"/>\n      <use xlink:href=\"#DejaVuSans-36\" transform=\"translate(930.419922 0)\"/>\n      <use xlink:href=\"#DejaVuSans-39\" transform=\"translate(994.042969 0)\"/>\n      <use xlink:href=\"#DejaVuSans-39\" transform=\"translate(1057.666016 0)\"/>\n      <use xlink:href=\"#DejaVuSans-20\" transform=\"translate(1121.289062 0)\"/>\n      <use xlink:href=\"#DejaVuSans-70\" transform=\"translate(1153.076172 0)\"/>\n      <use xlink:href=\"#DejaVuSans-61\" transform=\"translate(1216.552734 0)\"/>\n      <use xlink:href=\"#DejaVuSans-72\" transform=\"translate(1277.832031 0)\"/>\n      <use xlink:href=\"#DejaVuSans-61\" transform=\"translate(1318.945312 0)\"/>\n      <use xlink:href=\"#DejaVuSans-6d\" transform=\"translate(1380.224609 0)\"/>\n      <use xlink:href=\"#DejaVuSans-73\" transform=\"translate(1477.636719 0)\"/>\n     </g>\n    </g>\n    <g id=\"line2d_40\">\n     <path d=\"M 509.326705 182.194688 \nL 519.326705 182.194688 \nL 529.326705 182.194688 \n\" style=\"fill: none; stroke: #d62728; stroke-width: 1.5; stroke-linecap: square\"/>\n     <g>\n      <use xlink:href=\"#m96a6e93a63\" x=\"519.326705\" y=\"182.194688\" style=\"fill: #d62728; stroke: #d62728\"/>\n     </g>\n    </g>\n    <g id=\"text_38\">\n     <!-- 20 layers, 4 units, 407 params -->\n     <g transform=\"translate(537.326705 185.694688) scale(0.1 -0.1)\">\n      <use xlink:href=\"#DejaVuSans-32\"/>\n      <use xlink:href=\"#DejaVuSans-30\" transform=\"translate(63.623047 0)\"/>\n      <use xlink:href=\"#DejaVuSans-20\" transform=\"translate(127.246094 0)\"/>\n      <use xlink:href=\"#DejaVuSans-6c\" transform=\"translate(159.033203 0)\"/>\n      <use xlink:href=\"#DejaVuSans-61\" transform=\"translate(186.816406 0)\"/>\n      <use xlink:href=\"#DejaVuSans-79\" transform=\"translate(248.095703 0)\"/>\n      <use xlink:href=\"#DejaVuSans-65\" transform=\"translate(307.275391 0)\"/>\n      <use xlink:href=\"#DejaVuSans-72\" transform=\"translate(368.798828 0)\"/>\n      <use xlink:href=\"#DejaVuSans-73\" transform=\"translate(409.912109 0)\"/>\n      <use xlink:href=\"#DejaVuSans-2c\" transform=\"translate(462.011719 0)\"/>\n      <use xlink:href=\"#DejaVuSans-20\" transform=\"translate(493.798828 0)\"/>\n      <use xlink:href=\"#DejaVuSans-34\" transform=\"translate(525.585938 0)\"/>\n      <use xlink:href=\"#DejaVuSans-20\" transform=\"translate(589.208984 0)\"/>\n      <use xlink:href=\"#DejaVuSans-75\" transform=\"translate(620.996094 0)\"/>\n      <use xlink:href=\"#DejaVuSans-6e\" transform=\"translate(684.375 0)\"/>\n      <use xlink:href=\"#DejaVuSans-69\" transform=\"translate(747.753906 0)\"/>\n      <use xlink:href=\"#DejaVuSans-74\" transform=\"translate(775.537109 0)\"/>\n      <use xlink:href=\"#DejaVuSans-73\" transform=\"translate(814.746094 0)\"/>\n      <use xlink:href=\"#DejaVuSans-2c\" transform=\"translate(866.845703 0)\"/>\n      <use xlink:href=\"#DejaVuSans-20\" transform=\"translate(898.632812 0)\"/>\n      <use xlink:href=\"#DejaVuSans-34\" transform=\"translate(930.419922 0)\"/>\n      <use xlink:href=\"#DejaVuSans-30\" transform=\"translate(994.042969 0)\"/>\n      <use xlink:href=\"#DejaVuSans-37\" transform=\"translate(1057.666016 0)\"/>\n      <use xlink:href=\"#DejaVuSans-20\" transform=\"translate(1121.289062 0)\"/>\n      <use xlink:href=\"#DejaVuSans-70\" transform=\"translate(1153.076172 0)\"/>\n      <use xlink:href=\"#DejaVuSans-61\" transform=\"translate(1216.552734 0)\"/>\n      <use xlink:href=\"#DejaVuSans-72\" transform=\"translate(1277.832031 0)\"/>\n      <use xlink:href=\"#DejaVuSans-61\" transform=\"translate(1318.945312 0)\"/>\n      <use xlink:href=\"#DejaVuSans-6d\" transform=\"translate(1380.224609 0)\"/>\n      <use xlink:href=\"#DejaVuSans-73\" transform=\"translate(1477.636719 0)\"/>\n     </g>\n    </g>\n   </g>\n  </g>\n </g>\n <defs>\n  <clipPath id=\"p2c0f91e3bf\">\n   <rect x=\"43.78125\" y=\"22.318125\" width=\"380.454545\" height=\"277.2\"/>\n  </clipPath>\n  <clipPath id=\"pe54ac84514\">\n   <rect x=\"500.326705\" y=\"22.318125\" width=\"380.454545\" height=\"277.2\"/>\n  </clipPath>\n </defs>\n</svg>\n"
          },
          "metadata": {}
        }
      ]
    },
    {
      "cell_type": "code",
      "source": [],
      "metadata": {
        "id": "lrh4cWPcz3MV"
      },
      "execution_count": 75,
      "outputs": []
    }
  ]
}