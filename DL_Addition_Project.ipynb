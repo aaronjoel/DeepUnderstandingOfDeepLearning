{
  "nbformat": 4,
  "nbformat_minor": 0,
  "metadata": {
    "colab": {
      "provenance": [],
      "authorship_tag": "ABX9TyOxeeW8yCs4zbgzLK+YpJiR",
      "include_colab_link": true
    },
    "kernelspec": {
      "name": "python3",
      "display_name": "Python 3"
    },
    "language_info": {
      "name": "python"
    }
  },
  "cells": [
    {
      "cell_type": "markdown",
      "metadata": {
        "id": "view-in-github",
        "colab_type": "text"
      },
      "source": [
        "<a href=\"https://colab.research.google.com/github/aaronjoel/DeepUnderstandingOfDeepLearning/blob/main/DL_Addition_Project.ipynb\" target=\"_parent\"><img src=\"https://colab.research.google.com/assets/colab-badge.svg\" alt=\"Open In Colab\"/></a>"
      ]
    },
    {
      "cell_type": "code",
      "execution_count": null,
      "metadata": {
        "id": "QRS9UPWQv6bC"
      },
      "outputs": [],
      "source": [
        "import numpy as np\n",
        "import pandas as pd\n",
        "import torch\n",
        "from torch import nn\n",
        "from torch.utils.data import DataLoader\n",
        "from torch.utils.data import TensorDataset"
      ]
    },
    {
      "cell_type": "code",
      "source": [
        "## Generate the data needed for the change\n",
        "\n",
        "# Generate 10000 random integers between -5000 and 5000\n",
        "A = np.random.randint(low=-10000, high=10000, size=10000)\n",
        "B = np.random.randint(low=-10000, high=10000, size=10000)\n",
        "C = A + B"
      ],
      "metadata": {
        "id": "JkUITk8TzRw0"
      },
      "execution_count": null,
      "outputs": []
    },
    {
      "cell_type": "code",
      "source": [
        "data = pd.DataFrame({'A': A, 'B': B, 'C': C})\n",
        "data.head()"
      ],
      "metadata": {
        "colab": {
          "base_uri": "https://localhost:8080/",
          "height": 206
        },
        "id": "PGB3ubF30RRU",
        "outputId": "5d3ac2a0-390c-4c86-a518-35238459f247"
      },
      "execution_count": null,
      "outputs": [
        {
          "output_type": "execute_result",
          "data": {
            "text/plain": [
              "      A     B      C\n",
              "0 -2630 -9744 -12374\n",
              "1 -7303 -7213 -14516\n",
              "2 -1600 -5842  -7442\n",
              "3  4676  4709   9385\n",
              "4 -7938 -4447 -12385"
            ],
            "text/html": [
              "\n",
              "  <div id=\"df-b667d723-2b46-445d-8df4-f0fe61a0b429\" class=\"colab-df-container\">\n",
              "    <div>\n",
              "<style scoped>\n",
              "    .dataframe tbody tr th:only-of-type {\n",
              "        vertical-align: middle;\n",
              "    }\n",
              "\n",
              "    .dataframe tbody tr th {\n",
              "        vertical-align: top;\n",
              "    }\n",
              "\n",
              "    .dataframe thead th {\n",
              "        text-align: right;\n",
              "    }\n",
              "</style>\n",
              "<table border=\"1\" class=\"dataframe\">\n",
              "  <thead>\n",
              "    <tr style=\"text-align: right;\">\n",
              "      <th></th>\n",
              "      <th>A</th>\n",
              "      <th>B</th>\n",
              "      <th>C</th>\n",
              "    </tr>\n",
              "  </thead>\n",
              "  <tbody>\n",
              "    <tr>\n",
              "      <th>0</th>\n",
              "      <td>-2630</td>\n",
              "      <td>-9744</td>\n",
              "      <td>-12374</td>\n",
              "    </tr>\n",
              "    <tr>\n",
              "      <th>1</th>\n",
              "      <td>-7303</td>\n",
              "      <td>-7213</td>\n",
              "      <td>-14516</td>\n",
              "    </tr>\n",
              "    <tr>\n",
              "      <th>2</th>\n",
              "      <td>-1600</td>\n",
              "      <td>-5842</td>\n",
              "      <td>-7442</td>\n",
              "    </tr>\n",
              "    <tr>\n",
              "      <th>3</th>\n",
              "      <td>4676</td>\n",
              "      <td>4709</td>\n",
              "      <td>9385</td>\n",
              "    </tr>\n",
              "    <tr>\n",
              "      <th>4</th>\n",
              "      <td>-7938</td>\n",
              "      <td>-4447</td>\n",
              "      <td>-12385</td>\n",
              "    </tr>\n",
              "  </tbody>\n",
              "</table>\n",
              "</div>\n",
              "    <div class=\"colab-df-buttons\">\n",
              "\n",
              "  <div class=\"colab-df-container\">\n",
              "    <button class=\"colab-df-convert\" onclick=\"convertToInteractive('df-b667d723-2b46-445d-8df4-f0fe61a0b429')\"\n",
              "            title=\"Convert this dataframe to an interactive table.\"\n",
              "            style=\"display:none;\">\n",
              "\n",
              "  <svg xmlns=\"http://www.w3.org/2000/svg\" height=\"24px\" viewBox=\"0 -960 960 960\">\n",
              "    <path d=\"M120-120v-720h720v720H120Zm60-500h600v-160H180v160Zm220 220h160v-160H400v160Zm0 220h160v-160H400v160ZM180-400h160v-160H180v160Zm440 0h160v-160H620v160ZM180-180h160v-160H180v160Zm440 0h160v-160H620v160Z\"/>\n",
              "  </svg>\n",
              "    </button>\n",
              "\n",
              "  <style>\n",
              "    .colab-df-container {\n",
              "      display:flex;\n",
              "      gap: 12px;\n",
              "    }\n",
              "\n",
              "    .colab-df-convert {\n",
              "      background-color: #E8F0FE;\n",
              "      border: none;\n",
              "      border-radius: 50%;\n",
              "      cursor: pointer;\n",
              "      display: none;\n",
              "      fill: #1967D2;\n",
              "      height: 32px;\n",
              "      padding: 0 0 0 0;\n",
              "      width: 32px;\n",
              "    }\n",
              "\n",
              "    .colab-df-convert:hover {\n",
              "      background-color: #E2EBFA;\n",
              "      box-shadow: 0px 1px 2px rgba(60, 64, 67, 0.3), 0px 1px 3px 1px rgba(60, 64, 67, 0.15);\n",
              "      fill: #174EA6;\n",
              "    }\n",
              "\n",
              "    .colab-df-buttons div {\n",
              "      margin-bottom: 4px;\n",
              "    }\n",
              "\n",
              "    [theme=dark] .colab-df-convert {\n",
              "      background-color: #3B4455;\n",
              "      fill: #D2E3FC;\n",
              "    }\n",
              "\n",
              "    [theme=dark] .colab-df-convert:hover {\n",
              "      background-color: #434B5C;\n",
              "      box-shadow: 0px 1px 3px 1px rgba(0, 0, 0, 0.15);\n",
              "      filter: drop-shadow(0px 1px 2px rgba(0, 0, 0, 0.3));\n",
              "      fill: #FFFFFF;\n",
              "    }\n",
              "  </style>\n",
              "\n",
              "    <script>\n",
              "      const buttonEl =\n",
              "        document.querySelector('#df-b667d723-2b46-445d-8df4-f0fe61a0b429 button.colab-df-convert');\n",
              "      buttonEl.style.display =\n",
              "        google.colab.kernel.accessAllowed ? 'block' : 'none';\n",
              "\n",
              "      async function convertToInteractive(key) {\n",
              "        const element = document.querySelector('#df-b667d723-2b46-445d-8df4-f0fe61a0b429');\n",
              "        const dataTable =\n",
              "          await google.colab.kernel.invokeFunction('convertToInteractive',\n",
              "                                                    [key], {});\n",
              "        if (!dataTable) return;\n",
              "\n",
              "        const docLinkHtml = 'Like what you see? Visit the ' +\n",
              "          '<a target=\"_blank\" href=https://colab.research.google.com/notebooks/data_table.ipynb>data table notebook</a>'\n",
              "          + ' to learn more about interactive tables.';\n",
              "        element.innerHTML = '';\n",
              "        dataTable['output_type'] = 'display_data';\n",
              "        await google.colab.output.renderOutput(dataTable, element);\n",
              "        const docLink = document.createElement('div');\n",
              "        docLink.innerHTML = docLinkHtml;\n",
              "        element.appendChild(docLink);\n",
              "      }\n",
              "    </script>\n",
              "  </div>\n",
              "\n",
              "\n",
              "    <div id=\"df-01e1afda-d1f5-4494-8a66-99e2ad131ade\">\n",
              "      <button class=\"colab-df-quickchart\" onclick=\"quickchart('df-01e1afda-d1f5-4494-8a66-99e2ad131ade')\"\n",
              "                title=\"Suggest charts\"\n",
              "                style=\"display:none;\">\n",
              "\n",
              "<svg xmlns=\"http://www.w3.org/2000/svg\" height=\"24px\"viewBox=\"0 0 24 24\"\n",
              "     width=\"24px\">\n",
              "    <g>\n",
              "        <path d=\"M19 3H5c-1.1 0-2 .9-2 2v14c0 1.1.9 2 2 2h14c1.1 0 2-.9 2-2V5c0-1.1-.9-2-2-2zM9 17H7v-7h2v7zm4 0h-2V7h2v10zm4 0h-2v-4h2v4z\"/>\n",
              "    </g>\n",
              "</svg>\n",
              "      </button>\n",
              "\n",
              "<style>\n",
              "  .colab-df-quickchart {\n",
              "      --bg-color: #E8F0FE;\n",
              "      --fill-color: #1967D2;\n",
              "      --hover-bg-color: #E2EBFA;\n",
              "      --hover-fill-color: #174EA6;\n",
              "      --disabled-fill-color: #AAA;\n",
              "      --disabled-bg-color: #DDD;\n",
              "  }\n",
              "\n",
              "  [theme=dark] .colab-df-quickchart {\n",
              "      --bg-color: #3B4455;\n",
              "      --fill-color: #D2E3FC;\n",
              "      --hover-bg-color: #434B5C;\n",
              "      --hover-fill-color: #FFFFFF;\n",
              "      --disabled-bg-color: #3B4455;\n",
              "      --disabled-fill-color: #666;\n",
              "  }\n",
              "\n",
              "  .colab-df-quickchart {\n",
              "    background-color: var(--bg-color);\n",
              "    border: none;\n",
              "    border-radius: 50%;\n",
              "    cursor: pointer;\n",
              "    display: none;\n",
              "    fill: var(--fill-color);\n",
              "    height: 32px;\n",
              "    padding: 0;\n",
              "    width: 32px;\n",
              "  }\n",
              "\n",
              "  .colab-df-quickchart:hover {\n",
              "    background-color: var(--hover-bg-color);\n",
              "    box-shadow: 0 1px 2px rgba(60, 64, 67, 0.3), 0 1px 3px 1px rgba(60, 64, 67, 0.15);\n",
              "    fill: var(--button-hover-fill-color);\n",
              "  }\n",
              "\n",
              "  .colab-df-quickchart-complete:disabled,\n",
              "  .colab-df-quickchart-complete:disabled:hover {\n",
              "    background-color: var(--disabled-bg-color);\n",
              "    fill: var(--disabled-fill-color);\n",
              "    box-shadow: none;\n",
              "  }\n",
              "\n",
              "  .colab-df-spinner {\n",
              "    border: 2px solid var(--fill-color);\n",
              "    border-color: transparent;\n",
              "    border-bottom-color: var(--fill-color);\n",
              "    animation:\n",
              "      spin 1s steps(1) infinite;\n",
              "  }\n",
              "\n",
              "  @keyframes spin {\n",
              "    0% {\n",
              "      border-color: transparent;\n",
              "      border-bottom-color: var(--fill-color);\n",
              "      border-left-color: var(--fill-color);\n",
              "    }\n",
              "    20% {\n",
              "      border-color: transparent;\n",
              "      border-left-color: var(--fill-color);\n",
              "      border-top-color: var(--fill-color);\n",
              "    }\n",
              "    30% {\n",
              "      border-color: transparent;\n",
              "      border-left-color: var(--fill-color);\n",
              "      border-top-color: var(--fill-color);\n",
              "      border-right-color: var(--fill-color);\n",
              "    }\n",
              "    40% {\n",
              "      border-color: transparent;\n",
              "      border-right-color: var(--fill-color);\n",
              "      border-top-color: var(--fill-color);\n",
              "    }\n",
              "    60% {\n",
              "      border-color: transparent;\n",
              "      border-right-color: var(--fill-color);\n",
              "    }\n",
              "    80% {\n",
              "      border-color: transparent;\n",
              "      border-right-color: var(--fill-color);\n",
              "      border-bottom-color: var(--fill-color);\n",
              "    }\n",
              "    90% {\n",
              "      border-color: transparent;\n",
              "      border-bottom-color: var(--fill-color);\n",
              "    }\n",
              "  }\n",
              "</style>\n",
              "\n",
              "      <script>\n",
              "        async function quickchart(key) {\n",
              "          const quickchartButtonEl =\n",
              "            document.querySelector('#' + key + ' button');\n",
              "          quickchartButtonEl.disabled = true;  // To prevent multiple clicks.\n",
              "          quickchartButtonEl.classList.add('colab-df-spinner');\n",
              "          try {\n",
              "            const charts = await google.colab.kernel.invokeFunction(\n",
              "                'suggestCharts', [key], {});\n",
              "          } catch (error) {\n",
              "            console.error('Error during call to suggestCharts:', error);\n",
              "          }\n",
              "          quickchartButtonEl.classList.remove('colab-df-spinner');\n",
              "          quickchartButtonEl.classList.add('colab-df-quickchart-complete');\n",
              "        }\n",
              "        (() => {\n",
              "          let quickchartButtonEl =\n",
              "            document.querySelector('#df-01e1afda-d1f5-4494-8a66-99e2ad131ade button');\n",
              "          quickchartButtonEl.style.display =\n",
              "            google.colab.kernel.accessAllowed ? 'block' : 'none';\n",
              "        })();\n",
              "      </script>\n",
              "    </div>\n",
              "\n",
              "    </div>\n",
              "  </div>\n"
            ],
            "application/vnd.google.colaboratory.intrinsic+json": {
              "type": "dataframe",
              "variable_name": "data",
              "summary": "{\n  \"name\": \"data\",\n  \"rows\": 10000,\n  \"fields\": [\n    {\n      \"column\": \"A\",\n      \"properties\": {\n        \"dtype\": \"number\",\n        \"std\": 5793,\n        \"min\": -9998,\n        \"max\": 9999,\n        \"num_unique_values\": 7847,\n        \"samples\": [\n          2073,\n          -3564,\n          3408\n        ],\n        \"semantic_type\": \"\",\n        \"description\": \"\"\n      }\n    },\n    {\n      \"column\": \"B\",\n      \"properties\": {\n        \"dtype\": \"number\",\n        \"std\": 5786,\n        \"min\": -10000,\n        \"max\": 9999,\n        \"num_unique_values\": 7930,\n        \"samples\": [\n          3927,\n          1833,\n          3445\n        ],\n        \"semantic_type\": \"\",\n        \"description\": \"\"\n      }\n    },\n    {\n      \"column\": \"C\",\n      \"properties\": {\n        \"dtype\": \"number\",\n        \"std\": 8278,\n        \"min\": -19764,\n        \"max\": 19929,\n        \"num_unique_values\": 8569,\n        \"samples\": [\n          1129,\n          6361,\n          -2441\n        ],\n        \"semantic_type\": \"\",\n        \"description\": \"\"\n      }\n    }\n  ]\n}"
            }
          },
          "metadata": {},
          "execution_count": 3
        }
      ]
    },
    {
      "cell_type": "code",
      "source": [
        "## Create the target & features vectors\n",
        "X = data.drop('C', axis=1).values\n",
        "y = data[['C']].values"
      ],
      "metadata": {
        "id": "P1q0TyBL0SP1"
      },
      "execution_count": null,
      "outputs": []
    },
    {
      "cell_type": "code",
      "source": [
        "X = torch.tensor(X, dtype=torch.float)\n",
        "y = torch.tensor(y, dtype=torch.float)"
      ],
      "metadata": {
        "id": "f4ebXSKI00Pm"
      },
      "execution_count": null,
      "outputs": []
    },
    {
      "cell_type": "code",
      "source": [
        "# Split the data into train/test\n",
        "from sklearn.model_selection import train_test_split\n",
        "X_train, X_test, y_train, y_test = train_test_split(X, y, test_size=0.2, random_state=42)"
      ],
      "metadata": {
        "id": "KDXnIgsq0-ww"
      },
      "execution_count": null,
      "outputs": []
    },
    {
      "cell_type": "code",
      "source": [
        "X_train.shape, X_test.shape, y_train.shape, y_test.shape"
      ],
      "metadata": {
        "colab": {
          "base_uri": "https://localhost:8080/"
        },
        "id": "ggpkyQRh1iUA",
        "outputId": "5204f4ca-2ae2-4318-a39d-9e174182540c"
      },
      "execution_count": null,
      "outputs": [
        {
          "output_type": "execute_result",
          "data": {
            "text/plain": [
              "(torch.Size([8000, 2]),\n",
              " torch.Size([2000, 2]),\n",
              " torch.Size([8000, 1]),\n",
              " torch.Size([2000, 1]))"
            ]
          },
          "metadata": {},
          "execution_count": 7
        }
      ]
    },
    {
      "cell_type": "code",
      "source": [
        "## Create the model\n",
        "model = nn.Sequential(\n",
        "    nn.Linear(2, 32),\n",
        "    nn.ReLU(),\n",
        "    nn.Linear(32, 16),\n",
        "    nn.ReLU(),\n",
        "    nn.Linear(16, 8),\n",
        "    nn.ReLU(),\n",
        "    nn.Linear(8, 1)\n",
        ")\n",
        "\n",
        "loss_fun = nn.MSELoss()\n",
        "optimizer = torch.optim.Adam(model.parameters(), lr=0.001)"
      ],
      "metadata": {
        "id": "79Zd3Zme1lFJ"
      },
      "execution_count": null,
      "outputs": []
    },
    {
      "cell_type": "code",
      "source": [
        "train_data = TensorDataset(X_train, y_train)\n",
        "test_data = TensorDataset(X_test, y_test)"
      ],
      "metadata": {
        "id": "QXtTaXMj2lGg"
      },
      "execution_count": null,
      "outputs": []
    },
    {
      "cell_type": "code",
      "source": [
        "train_loader = DataLoader(train_data, batch_size=32, shuffle=True, drop_last=True)\n",
        "test_loader = DataLoader(test_data, batch_size=test_data.tensors[0].shape[0])"
      ],
      "metadata": {
        "id": "C7ENKNrI3CO-"
      },
      "execution_count": null,
      "outputs": []
    },
    {
      "cell_type": "code",
      "source": [
        "train_loader.dataset.tensors[0].shape"
      ],
      "metadata": {
        "colab": {
          "base_uri": "https://localhost:8080/"
        },
        "id": "kmFmPzr03LcY",
        "outputId": "b559c13e-9456-486e-a918-f03cea5ede03"
      },
      "execution_count": null,
      "outputs": [
        {
          "output_type": "execute_result",
          "data": {
            "text/plain": [
              "torch.Size([8000, 2])"
            ]
          },
          "metadata": {},
          "execution_count": 11
        }
      ]
    },
    {
      "cell_type": "code",
      "source": [
        "epochs = 200\n",
        "\n",
        "model.train()\n",
        "for epoch in range(epochs):\n",
        "  batch_losses = []\n",
        "  for batch in train_loader:\n",
        "    X_batch, y_batch = batch\n",
        "    preds = model(X_batch)\n",
        "\n",
        "    loss = loss_fun(preds, y_batch)\n",
        "\n",
        "    optimizer.zero_grad()\n",
        "    loss.backward()\n",
        "    optimizer.step()\n",
        "\n",
        "    batch_losses.append(loss.item())\n",
        "  if epoch % 10 == 0:\n",
        "    print(f'Epoch: {epoch}, Loss: {np.mean(batch_losses)}')\n",
        "\n",
        "\n",
        "model.eval()\n",
        "with torch.no_grad():\n",
        "  for batch in test_loader:\n",
        "    X_batch, y_batch = batch\n",
        "    preds = model(X_batch)\n",
        "    loss = loss_fun(preds, y_batch)\n",
        "\n",
        "\n",
        "from sklearn.metrics import mean_absolute_error, accuracy_score\n",
        "print(f'MAE: {mean_absolute_error(preds, y_test)}')\n"
      ],
      "metadata": {
        "colab": {
          "base_uri": "https://localhost:8080/"
        },
        "id": "VqC-OLQH3Nm9",
        "outputId": "3f075a83-1188-4727-de40-bb9950b2c158"
      },
      "execution_count": null,
      "outputs": [
        {
          "output_type": "stream",
          "name": "stdout",
          "text": [
            "Epoch: 0, Loss: 26979197.40603125\n",
            "Epoch: 10, Loss: 307.99179821777346\n",
            "Epoch: 20, Loss: 161.80907023620605\n",
            "Epoch: 30, Loss: 71.6918281211853\n",
            "Epoch: 40, Loss: 171.68207153701783\n",
            "Epoch: 50, Loss: 15.70089572763443\n",
            "Epoch: 60, Loss: 35.4481316614151\n",
            "Epoch: 70, Loss: 149.29318988275529\n",
            "Epoch: 80, Loss: 145.8212443408966\n",
            "Epoch: 90, Loss: 276.83085823822023\n",
            "Epoch: 100, Loss: 52.39116136729717\n",
            "Epoch: 110, Loss: 4.9637132139205935\n",
            "Epoch: 120, Loss: 46.758320457458495\n",
            "Epoch: 130, Loss: 838.1369025220871\n",
            "Epoch: 140, Loss: 210.1647206811905\n",
            "Epoch: 150, Loss: 328.83247338724135\n",
            "Epoch: 160, Loss: 82.4009738368988\n",
            "Epoch: 170, Loss: 503.45634974098203\n",
            "Epoch: 180, Loss: 5.2192321263551715\n",
            "Epoch: 190, Loss: 4.3521024502515795\n",
            "MAE: 18.534379299163817\n"
          ]
        }
      ]
    },
    {
      "cell_type": "code",
      "source": [
        "preds.shape"
      ],
      "metadata": {
        "colab": {
          "base_uri": "https://localhost:8080/"
        },
        "id": "sw5uuadg5DOU",
        "outputId": "350c760e-ae65-468a-a419-34aac3a219a7"
      },
      "execution_count": null,
      "outputs": [
        {
          "output_type": "execute_result",
          "data": {
            "text/plain": [
              "torch.Size([2000, 1])"
            ]
          },
          "metadata": {},
          "execution_count": 13
        }
      ]
    },
    {
      "cell_type": "code",
      "source": [
        "y_test.shape"
      ],
      "metadata": {
        "colab": {
          "base_uri": "https://localhost:8080/"
        },
        "id": "dhg0xVrR5ONL",
        "outputId": "5333e8e5-7664-4cc6-c303-6435222e0b23"
      },
      "execution_count": null,
      "outputs": [
        {
          "output_type": "execute_result",
          "data": {
            "text/plain": [
              "torch.Size([2000, 1])"
            ]
          },
          "metadata": {},
          "execution_count": 14
        }
      ]
    },
    {
      "cell_type": "code",
      "source": [
        "preds[0]"
      ],
      "metadata": {
        "colab": {
          "base_uri": "https://localhost:8080/"
        },
        "id": "kt3g2DEu5P_p",
        "outputId": "0173b550-9108-457f-96f9-4c0190216506"
      },
      "execution_count": null,
      "outputs": [
        {
          "output_type": "execute_result",
          "data": {
            "text/plain": [
              "tensor([10036.5059])"
            ]
          },
          "metadata": {},
          "execution_count": 15
        }
      ]
    },
    {
      "cell_type": "code",
      "source": [
        "y_test[0]"
      ],
      "metadata": {
        "colab": {
          "base_uri": "https://localhost:8080/"
        },
        "id": "Tsew76vL5Rax",
        "outputId": "5b9a582c-8759-4bfc-b964-f6a33063b055"
      },
      "execution_count": null,
      "outputs": [
        {
          "output_type": "execute_result",
          "data": {
            "text/plain": [
              "tensor([10001.])"
            ]
          },
          "metadata": {},
          "execution_count": 16
        }
      ]
    },
    {
      "cell_type": "code",
      "source": [
        "model(torch.tensor([[1, 2]], dtype=torch.float))"
      ],
      "metadata": {
        "colab": {
          "base_uri": "https://localhost:8080/"
        },
        "id": "HPMSvM7I5TDD",
        "outputId": "3f3da036-508a-4f67-bb5a-ebf4f6cca059"
      },
      "execution_count": null,
      "outputs": [
        {
          "output_type": "execute_result",
          "data": {
            "text/plain": [
              "tensor([[3.0610]], grad_fn=<AddmmBackward0>)"
            ]
          },
          "metadata": {},
          "execution_count": 17
        }
      ]
    },
    {
      "cell_type": "code",
      "source": [
        "model(torch.tensor([[1, 2]], dtype=torch.float))"
      ],
      "metadata": {
        "colab": {
          "base_uri": "https://localhost:8080/"
        },
        "id": "9MBaty7ah1rw",
        "outputId": "02dc0dbb-d1e1-4b8b-a18b-71b1da5466c9"
      },
      "execution_count": null,
      "outputs": [
        {
          "output_type": "execute_result",
          "data": {
            "text/plain": [
              "tensor([[3.0610]], grad_fn=<AddmmBackward0>)"
            ]
          },
          "metadata": {},
          "execution_count": 18
        }
      ]
    },
    {
      "cell_type": "code",
      "source": [
        "import torch\n",
        "import torch.nn as nn\n",
        "import matplotlib.pyplot as plt\n",
        "import numpy as np"
      ],
      "metadata": {
        "id": "TbkNALt9kvdY"
      },
      "execution_count": null,
      "outputs": []
    },
    {
      "cell_type": "code",
      "source": [
        "# create data\n",
        "N = 20000\n",
        "\n",
        "# Generate data\n",
        "data = torch.randint(low=-10000, high=10001, size=(N, 2)).float()\n",
        "data"
      ],
      "metadata": {
        "colab": {
          "base_uri": "https://localhost:8080/"
        },
        "id": "NXzPv5Y15jbT",
        "outputId": "d47f8400-97bf-41a6-913a-ba27a5866d78"
      },
      "execution_count": null,
      "outputs": [
        {
          "output_type": "execute_result",
          "data": {
            "text/plain": [
              "tensor([[-6754., -3687.],\n",
              "        [-3759.,  8944.],\n",
              "        [ 3278.,  4545.],\n",
              "        ...,\n",
              "        [ 8419.,  8108.],\n",
              "        [-4922., -8806.],\n",
              "        [ 5401., -6364.]])"
            ]
          },
          "metadata": {},
          "execution_count": 31
        }
      ]
    },
    {
      "cell_type": "code",
      "source": [
        "# labels\n",
        "labels = torch.sum(data, axis=1, keepdim=True)\n",
        "labels"
      ],
      "metadata": {
        "colab": {
          "base_uri": "https://localhost:8080/"
        },
        "id": "trvReFCo5zAl",
        "outputId": "358809a7-a49b-4fbc-8074-75783ef9ff17"
      },
      "execution_count": null,
      "outputs": [
        {
          "output_type": "execute_result",
          "data": {
            "text/plain": [
              "tensor([[-10441.],\n",
              "        [  5185.],\n",
              "        [  7823.],\n",
              "        ...,\n",
              "        [ 16527.],\n",
              "        [-13728.],\n",
              "        [  -963.]])"
            ]
          },
          "metadata": {},
          "execution_count": 32
        }
      ]
    },
    {
      "cell_type": "code",
      "source": [
        "for i in range(10):\n",
        "  print(data[i], labels[i])"
      ],
      "metadata": {
        "colab": {
          "base_uri": "https://localhost:8080/"
        },
        "id": "gEEHu1uo5509",
        "outputId": "7d4ed9db-5953-439e-9257-921efa1b74fe"
      },
      "execution_count": null,
      "outputs": [
        {
          "output_type": "stream",
          "name": "stdout",
          "text": [
            "tensor([-6754., -3687.]) tensor([-10441.])\n",
            "tensor([-3759.,  8944.]) tensor([5185.])\n",
            "tensor([3278., 4545.]) tensor([7823.])\n",
            "tensor([8208., 6713.]) tensor([14921.])\n",
            "tensor([1401., -508.]) tensor([893.])\n",
            "tensor([3413., 2987.]) tensor([6400.])\n",
            "tensor([ 5800., -9543.]) tensor([-3743.])\n",
            "tensor([ 5635., -9580.]) tensor([-3945.])\n",
            "tensor([-830., 7472.]) tensor([6642.])\n",
            "tensor([-6932., -3503.]) tensor([-10435.])\n"
          ]
        }
      ]
    },
    {
      "cell_type": "code",
      "source": [
        "# a function that builds the model\n",
        "def createADDmodel():\n",
        "\n",
        "  ADDclassify = nn.Sequential(\n",
        "      nn.Linear(2, 30), # input layer\n",
        "      nn.ReLU(),        # activation unit\n",
        "      nn.Linear(30, 1), # hidden layer\n",
        "      nn.ReLU(),        # activation unit\n",
        "      nn.Linear(1, 1)\n",
        "  )\n",
        "\n",
        "  # loss function\n",
        "  lossfun = nn.MSELoss()\n",
        "\n",
        "  # optimizer\n",
        "  optimizer = torch.optim.Adam(ADDclassify.parameters(), lr=0.01)\n",
        "\n",
        "  # model output\n",
        "  return ADDclassify, lossfun, optimizer"
      ],
      "metadata": {
        "id": "pwkmGPmx6C1b"
      },
      "execution_count": null,
      "outputs": []
    },
    {
      "cell_type": "code",
      "source": [
        "# a function that trains the model\n",
        "\n",
        "# a fixed number of epochs\n",
        "num_epochs = 10\n",
        "\n",
        "def trainTheModel(ADDmodel, lossfun, optimizer):\n",
        "  # initialize losses\n",
        "  losses = torch.zeros(num_epochs)\n",
        "\n",
        "  # loop over epochs\n",
        "  for epoch in range(num_epochs):\n",
        "    numloss = []\n",
        "    # loop through 'minibatches' of N = 1\n",
        "    for num, ans in zip(data, labels):\n",
        "      # forward pass\n",
        "      yhat = ADDmodel(num)\n",
        "\n",
        "      # compute loss\n",
        "      loss = lossfun(yhat, ans)\n",
        "      numloss.append(loss.item())\n",
        "\n",
        "      # backprop\n",
        "      optimizer.zero_grad()\n",
        "      loss.backward()\n",
        "      optimizer.step()\n",
        "\n",
        "    losses[epoch] = np.mean(numloss)\n",
        "\n",
        "    # final forward pass\n",
        "    with torch.no_grad():\n",
        "      predictions = ADDmodel(data)\n",
        "\n",
        "    # compute the predictions and report accuracy\n",
        "    trainacc = 100*torch.mean( (np.abs(predictions - labels) < 0.1).float())\n",
        "\n",
        "    ## now test with new data\n",
        "    # create brand new test data\n",
        "    TESTdata = torch.randint(low=-10000, high=10001, size=(N, 2)).float()\n",
        "    TESTlabels = torch.sum(TESTdata, axis=1, keepdim=True)\n",
        "\n",
        "    # evaluate the model and compute accuracy\n",
        "    with torch.no_grad():\n",
        "      predictions = ADDmodel(TESTdata)\n",
        "    testacc = 100 * torch.mean( (np.abs(predictions - TESTlabels) < 0.1).float() )\n",
        "\n",
        "    # EOF\n",
        "    return losses, trainacc, testacc, ADDmodel"
      ],
      "metadata": {
        "id": "XNz90_fM60je"
      },
      "execution_count": null,
      "outputs": []
    },
    {
      "cell_type": "code",
      "source": [
        "# test the model once to make sure it runs\n",
        "AddingMachine, lossfun, optimizer = createADDmodel()\n",
        "losses, trainacc, testacc, ADDmodel = trainTheModel(AddingMachine, lossfun, optimizer)"
      ],
      "metadata": {
        "colab": {
          "base_uri": "https://localhost:8080/"
        },
        "id": "p4HXUD6b-pLb",
        "outputId": "e5939f1a-ff98-451a-c6c0-ee7e7e7f8d2a"
      },
      "execution_count": null,
      "outputs": [
        {
          "output_type": "stream",
          "name": "stderr",
          "text": [
            "/tmp/ipython-input-36-1110496874.py:34: DeprecationWarning: __array_wrap__ must accept context and return_scalar arguments (positionally) in the future. (Deprecated NumPy 2.0)\n",
            "  trainacc = 100*torch.mean( (np.abs(predictions - labels) < 0.1).float())\n",
            "/tmp/ipython-input-36-1110496874.py:44: DeprecationWarning: __array_wrap__ must accept context and return_scalar arguments (positionally) in the future. (Deprecated NumPy 2.0)\n",
            "  testacc = 100 * torch.mean( (np.abs(predictions - TESTlabels) < 0.1).float() )\n"
          ]
        }
      ]
    },
    {
      "cell_type": "code",
      "source": [
        "trainacc"
      ],
      "metadata": {
        "colab": {
          "base_uri": "https://localhost:8080/"
        },
        "id": "WBc7L-wx_PDX",
        "outputId": "41aef5db-1d8a-4791-b472-6c0b8ceb8fb9"
      },
      "execution_count": null,
      "outputs": [
        {
          "output_type": "execute_result",
          "data": {
            "text/plain": [
              "tensor(0.0800)"
            ]
          },
          "metadata": {},
          "execution_count": 38
        }
      ]
    },
    {
      "cell_type": "code",
      "source": [
        "testacc"
      ],
      "metadata": {
        "colab": {
          "base_uri": "https://localhost:8080/"
        },
        "id": "WUebl-qY_QQp",
        "outputId": "421facde-86a7-4006-895e-d2938c115d30"
      },
      "execution_count": null,
      "outputs": [
        {
          "output_type": "execute_result",
          "data": {
            "text/plain": [
              "tensor(0.1000)"
            ]
          },
          "metadata": {},
          "execution_count": 39
        }
      ]
    },
    {
      "cell_type": "code",
      "source": [
        "# run the model 10 times to check reproducibility\n",
        "\n",
        "for i in range(10):\n",
        "  AddingMachine, lossfun, optimizer = createADDmodel()\n",
        "  losses, trainacc, testacc, ADDmodel = trainTheModel(AddingMachine, lossfun, optimizer)\n",
        "  print('Model instance %s, final TRAIN/TEST accuracies: %g%%, %g%%'%(i+1, trainacc, testacc))"
      ],
      "metadata": {
        "colab": {
          "base_uri": "https://localhost:8080/"
        },
        "id": "DK7e9g8v_Rl8",
        "outputId": "74685908-079b-4f9a-80b4-1f0c3eb84432"
      },
      "execution_count": null,
      "outputs": [
        {
          "output_type": "stream",
          "name": "stderr",
          "text": [
            "/tmp/ipython-input-36-1110496874.py:34: DeprecationWarning: __array_wrap__ must accept context and return_scalar arguments (positionally) in the future. (Deprecated NumPy 2.0)\n",
            "  trainacc = 100*torch.mean( (np.abs(predictions - labels) < 0.1).float())\n",
            "/tmp/ipython-input-36-1110496874.py:44: DeprecationWarning: __array_wrap__ must accept context and return_scalar arguments (positionally) in the future. (Deprecated NumPy 2.0)\n",
            "  testacc = 100 * torch.mean( (np.abs(predictions - TESTlabels) < 0.1).float() )\n"
          ]
        },
        {
          "output_type": "stream",
          "name": "stdout",
          "text": [
            "Model instance 1, final TRAIN/TEST accuracies: 0%, 0%\n",
            "Model instance 2, final TRAIN/TEST accuracies: 0.035%, 0.025%\n",
            "Model instance 3, final TRAIN/TEST accuracies: 0.04%, 0.02%\n",
            "Model instance 4, final TRAIN/TEST accuracies: 0%, 0.015%\n",
            "Model instance 5, final TRAIN/TEST accuracies: 0.02%, 0.005%\n",
            "Model instance 6, final TRAIN/TEST accuracies: 0.025%, 0.02%\n",
            "Model instance 7, final TRAIN/TEST accuracies: 0%, 0%\n",
            "Model instance 8, final TRAIN/TEST accuracies: 0%, 0%\n",
            "Model instance 9, final TRAIN/TEST accuracies: 0.02%, 0.025%\n",
            "Model instance 10, final TRAIN/TEST accuracies: 0.03%, 0.02%\n"
          ]
        }
      ]
    },
    {
      "cell_type": "code",
      "source": [],
      "metadata": {
        "id": "uMDJDrKw_nW1"
      },
      "execution_count": null,
      "outputs": []
    }
  ]
}